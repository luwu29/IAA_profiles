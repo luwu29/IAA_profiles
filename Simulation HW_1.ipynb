{
 "cells": [
  {
   "cell_type": "code",
   "execution_count": 2,
   "metadata": {},
   "outputs": [],
   "source": [
    "import pandas as pd\n",
    "import numpy as np\n",
    "import matplotlib\n",
    "import matplotlib.pyplot as plt\n",
    "import seaborn as sns"
   ]
  },
  {
   "cell_type": "code",
   "execution_count": 3,
   "metadata": {},
   "outputs": [],
   "source": [
    "np.random.seed(42)"
   ]
  },
  {
   "cell_type": "code",
   "execution_count": 4,
   "metadata": {},
   "outputs": [],
   "source": [
    "df = pd.read_csv(r'C:\\Users\\Lu\\OneDrive - North Carolina State University\\MSA studies\\AA503\\risk\\Analysis_Data.csv')"
   ]
  },
  {
   "cell_type": "code",
   "execution_count": 4,
   "metadata": {},
   "outputs": [
    {
     "data": {
      "text/html": [
       "<div>\n",
       "<style scoped>\n",
       "    .dataframe tbody tr th:only-of-type {\n",
       "        vertical-align: middle;\n",
       "    }\n",
       "\n",
       "    .dataframe tbody tr th {\n",
       "        vertical-align: top;\n",
       "    }\n",
       "\n",
       "    .dataframe thead th {\n",
       "        text-align: right;\n",
       "    }\n",
       "</style>\n",
       "<table border=\"1\" class=\"dataframe\">\n",
       "  <thead>\n",
       "    <tr style=\"text-align: right;\">\n",
       "      <th></th>\n",
       "      <th>Date</th>\n",
       "      <th>Cost_per_Crude_Well_Drilled</th>\n",
       "      <th>Cost_per_Natural_Gass_Well_Drilled</th>\n",
       "      <th>Cost_pe_ Dry_Well_Drilled</th>\n",
       "      <th>return_Crude_Oil</th>\n",
       "      <th>Return_Natural_Gas</th>\n",
       "      <th>Return_Dry_Well</th>\n",
       "    </tr>\n",
       "  </thead>\n",
       "  <tbody>\n",
       "    <tr>\n",
       "      <td>0</td>\n",
       "      <td>1960</td>\n",
       "      <td>52.2</td>\n",
       "      <td>102.7</td>\n",
       "      <td>44.0</td>\n",
       "      <td>.</td>\n",
       "      <td>.</td>\n",
       "      <td>.</td>\n",
       "    </tr>\n",
       "    <tr>\n",
       "      <td>1</td>\n",
       "      <td>1961</td>\n",
       "      <td>51.3</td>\n",
       "      <td>94.7</td>\n",
       "      <td>45.2</td>\n",
       "      <td>-1.72%</td>\n",
       "      <td>-7.79%</td>\n",
       "      <td>2.73%</td>\n",
       "    </tr>\n",
       "    <tr>\n",
       "      <td>2</td>\n",
       "      <td>1962</td>\n",
       "      <td>54.2</td>\n",
       "      <td>97.1</td>\n",
       "      <td>50.8</td>\n",
       "      <td>5.65%</td>\n",
       "      <td>2.53%</td>\n",
       "      <td>12.39%</td>\n",
       "    </tr>\n",
       "    <tr>\n",
       "      <td>3</td>\n",
       "      <td>1963</td>\n",
       "      <td>51.8</td>\n",
       "      <td>92.4</td>\n",
       "      <td>48.2</td>\n",
       "      <td>-4.43%</td>\n",
       "      <td>-4.84%</td>\n",
       "      <td>-5.12%</td>\n",
       "    </tr>\n",
       "    <tr>\n",
       "      <td>4</td>\n",
       "      <td>1964</td>\n",
       "      <td>50.6</td>\n",
       "      <td>104.8</td>\n",
       "      <td>48.5</td>\n",
       "      <td>-2.32%</td>\n",
       "      <td>13.42%</td>\n",
       "      <td>0.62%</td>\n",
       "    </tr>\n",
       "  </tbody>\n",
       "</table>\n",
       "</div>"
      ],
      "text/plain": [
       "   Date  Cost_per_Crude_Well_Drilled  Cost_per_Natural_Gass_Well_Drilled   \\\n",
       "0  1960                         52.2                                102.7   \n",
       "1  1961                         51.3                                 94.7   \n",
       "2  1962                         54.2                                 97.1   \n",
       "3  1963                         51.8                                 92.4   \n",
       "4  1964                         50.6                                104.8   \n",
       "\n",
       "   Cost_pe_ Dry_Well_Drilled  return_Crude_Oil Return_Natural_Gas  \\\n",
       "0                        44.0                .                  .   \n",
       "1                        45.2           -1.72%             -7.79%   \n",
       "2                        50.8            5.65%              2.53%   \n",
       "3                        48.2           -4.43%             -4.84%   \n",
       "4                        48.5           -2.32%             13.42%   \n",
       "\n",
       "  Return_Dry_Well  \n",
       "0               .  \n",
       "1           2.73%  \n",
       "2          12.39%  \n",
       "3          -5.12%  \n",
       "4           0.62%  "
      ]
     },
     "execution_count": 4,
     "metadata": {},
     "output_type": "execute_result"
    }
   ],
   "source": [
    "df.head()"
   ]
  },
  {
   "cell_type": "code",
   "execution_count": 5,
   "metadata": {},
   "outputs": [],
   "source": [
    "df = df[(df['Date'] > 1990) & (df['Date'] < 2007)]"
   ]
  },
  {
   "cell_type": "code",
   "execution_count": 5,
   "metadata": {},
   "outputs": [],
   "source": [
    "#df.to_csv(r'C:\\Users\\Lu\\OneDrive - North Carolina State University\\MSA studies\\AA503\\risk\\pivot.csv')"
   ]
  },
  {
   "cell_type": "code",
   "execution_count": 14,
   "metadata": {},
   "outputs": [],
   "source": [
    "#reread\n",
    "df=pd.read_csv(r'C:\\Users\\Lu\\OneDrive - North Carolina State University\\MSA studies\\AA503\\risk\\pivot_2.csv')"
   ]
  },
  {
   "cell_type": "code",
   "execution_count": 15,
   "metadata": {},
   "outputs": [
    {
     "data": {
      "text/html": [
       "<div>\n",
       "<style scoped>\n",
       "    .dataframe tbody tr th:only-of-type {\n",
       "        vertical-align: middle;\n",
       "    }\n",
       "\n",
       "    .dataframe tbody tr th {\n",
       "        vertical-align: top;\n",
       "    }\n",
       "\n",
       "    .dataframe thead th {\n",
       "        text-align: right;\n",
       "    }\n",
       "</style>\n",
       "<table border=\"1\" class=\"dataframe\">\n",
       "  <thead>\n",
       "    <tr style=\"text-align: right;\">\n",
       "      <th></th>\n",
       "      <th>Date</th>\n",
       "      <th>Type</th>\n",
       "      <th>Cost_per_Drilled</th>\n",
       "      <th>Return</th>\n",
       "    </tr>\n",
       "  </thead>\n",
       "  <tbody>\n",
       "    <tr>\n",
       "      <td>0</td>\n",
       "      <td>1991</td>\n",
       "      <td>Oil</td>\n",
       "      <td>346.9</td>\n",
       "      <td>0.0780</td>\n",
       "    </tr>\n",
       "    <tr>\n",
       "      <td>1</td>\n",
       "      <td>1992</td>\n",
       "      <td>Oil</td>\n",
       "      <td>362.3</td>\n",
       "      <td>0.0444</td>\n",
       "    </tr>\n",
       "    <tr>\n",
       "      <td>2</td>\n",
       "      <td>1993</td>\n",
       "      <td>Oil</td>\n",
       "      <td>356.6</td>\n",
       "      <td>-0.0157</td>\n",
       "    </tr>\n",
       "    <tr>\n",
       "      <td>3</td>\n",
       "      <td>1994</td>\n",
       "      <td>Oil</td>\n",
       "      <td>409.5</td>\n",
       "      <td>0.1483</td>\n",
       "    </tr>\n",
       "    <tr>\n",
       "      <td>4</td>\n",
       "      <td>1995</td>\n",
       "      <td>Oil</td>\n",
       "      <td>415.8</td>\n",
       "      <td>0.0154</td>\n",
       "    </tr>\n",
       "  </tbody>\n",
       "</table>\n",
       "</div>"
      ],
      "text/plain": [
       "   Date Type  Cost_per_Drilled  Return\n",
       "0  1991  Oil             346.9  0.0780\n",
       "1  1992  Oil             362.3  0.0444\n",
       "2  1993  Oil             356.6 -0.0157\n",
       "3  1994  Oil             409.5  0.1483\n",
       "4  1995  Oil             415.8  0.0154"
      ]
     },
     "execution_count": 15,
     "metadata": {},
     "output_type": "execute_result"
    }
   ],
   "source": [
    "df.head()"
   ]
  },
  {
   "cell_type": "markdown",
   "metadata": {},
   "source": [
    "# Normal"
   ]
  },
  {
   "cell_type": "markdown",
   "metadata": {},
   "source": [
    "## From 2006 to 2012 changes were relatively consistent in their distribution. This distribution is discussed as Normal"
   ]
  },
  {
   "cell_type": "code",
   "execution_count": 16,
   "metadata": {},
   "outputs": [
    {
     "data": {
      "text/plain": [
       "(0.1765663539402397, 0.1314875)"
      ]
     },
     "execution_count": 16,
     "metadata": {},
     "output_type": "execute_result"
    }
   ],
   "source": [
    "#get mean and sd of return rate\n",
    "np.std(df['Return']), np.mean(df['Return'])"
   ]
  },
  {
   "cell_type": "code",
   "execution_count": 22,
   "metadata": {},
   "outputs": [
    {
     "data": {
      "text/plain": [
       "963.8020833333336"
      ]
     },
     "execution_count": 22,
     "metadata": {},
     "output_type": "execute_result"
    }
   ],
   "source": [
    "#cost mean\n",
    "np.mean(df['Cost_per_Drilled'])"
   ]
  },
  {
   "cell_type": "code",
   "execution_count": 25,
   "metadata": {},
   "outputs": [
    {
     "data": {
      "text/plain": [
       "[2006, 2007, 2008, 2009, 2010, 2011]"
      ]
     },
     "execution_count": 25,
     "metadata": {},
     "output_type": "execute_result"
    }
   ],
   "source": [
    "[i for i in range(2006,2012)]"
   ]
  },
  {
   "cell_type": "code",
   "execution_count": 17,
   "metadata": {},
   "outputs": [],
   "source": [
    "mu, sigma, cost_t0 = 0.1314875, 0.1765663539402397,963.8020833333336 # mean and standard deviation\n",
    "# dx = np.random.normal(mu, sigma, 10000)\n",
    "# cost_t = cost_t0*(1+dx)\n",
    "\n",
    "#2006-2012\n",
    "def normal_d(mu, sigma, cost_t0):\n",
    "    for i in range(10001):\n",
    "        dx = np.random.normal(mu, sigma, 10000)\n",
    "        Pt = cost_t0*(1 + dx)\n",
    "\n",
    "        for j in range(2006, 2012):\n",
    "            dx = np.random.normal(mu, sigma, 10000)\n",
    "            Pt = Pt*(1 + dx)\n",
    "        return Pt\n",
    "cost_2006_2012=normal_d(mu, sigma, cost_t0)\n",
    "\n"
   ]
  },
  {
   "cell_type": "code",
   "execution_count": 27,
   "metadata": {},
   "outputs": [
    {
     "data": {
      "image/png": "[encoded data removed]",
      "text/plain": [
       "<Figure size 432x288 with 1 Axes>"
      ]
     },
     "metadata": {
      "needs_background": "light"
     },
     "output_type": "display_data"
    }
   ],
   "source": [
    "ax=sns.distplot(cost_2006_2012,  rug=True)\n",
    "\n",
    "  \n",
    "# giving labels to x-axis and y-axis \n",
    "ax.set(xlabel ='Drilling Cost') \n",
    "  \n",
    "# giving title to the plot \n",
    "plt.title('Estimation for 2006-2012 Drilling Cost Under Normal Distribution'); \n",
    "  \n",
    "# function to show plot \n",
    "plt.show() "
   ]
  },
  {
   "cell_type": "code",
   "execution_count": 151,
   "metadata": {},
   "outputs": [
    {
     "data": {
      "image/png": "[encoded data removed]",
      "text/plain": [
       "<Figure size 432x288 with 1 Axes>"
      ]
     },
     "metadata": {
      "needs_background": "light"
     },
     "output_type": "display_data"
    }
   ],
   "source": [
    "import matplotlib.pyplot as plt\n",
    "count, bins, ignored = plt.hist(cost_2006_2012, 30, density=True)\n",
    "plt.plot(bins, 1/(sigma * np.sqrt(2 * np.pi)) *\n",
    "               np.exp( - (bins - mu)**2 / (2 * sigma**2) ),\n",
    "         linewidth=2, color='r')\n",
    "plt.show()"
   ]
  },
  {
   "cell_type": "code",
   "execution_count": 28,
   "metadata": {},
   "outputs": [
    {
     "data": {
      "text/plain": [
       "2292.0514258773"
      ]
     },
     "execution_count": 28,
     "metadata": {},
     "output_type": "execute_result"
    }
   ],
   "source": [
    "cost_2006_2012.mean()"
   ]
  },
  {
   "cell_type": "code",
   "execution_count": 146,
   "metadata": {},
   "outputs": [],
   "source": [
    "## qq plot"
   ]
  },
  {
   "cell_type": "code",
   "execution_count": 29,
   "metadata": {},
   "outputs": [
    {
     "data": {
      "text/plain": [
       "array([1529.24038838, 2319.72244417, 2077.46331875, ..., 2538.92675161,\n",
       "       1845.00263798, 1817.49100456])"
      ]
     },
     "execution_count": 29,
     "metadata": {},
     "output_type": "execute_result"
    }
   ],
   "source": [
    "cost_2006_2012\n"
   ]
  },
  {
   "cell_type": "code",
   "execution_count": 30,
   "metadata": {},
   "outputs": [
    {
     "data": {
      "image/png": "[encoded data removed]",
      "text/plain": [
       "<Figure size 432x288 with 1 Axes>"
      ]
     },
     "metadata": {
      "needs_background": "light"
     },
     "output_type": "display_data"
    }
   ],
   "source": [
    "import statsmodels.api as sm \n",
    "import pylab as py \n",
    "  \n",
    "# np.random generates different random numbers \n",
    "# whenever the code is executed \n",
    "# Note: When you execute the same code  \n",
    "# the graph look different than shown below. \n",
    " \n",
    "\n",
    "sm.qqplot(cost_2006_2012, line ='45') \n",
    "py.show() "
   ]
  },
  {
   "cell_type": "markdown",
   "metadata": {},
   "source": [
    "### triangular"
   ]
  },
  {
   "cell_type": "code",
   "execution_count": 31,
   "metadata": {},
   "outputs": [],
   "source": [
    "#2012-2015 average by 9.17% per year with a maximum of 22% and minimum of 7%.¶\n",
    "t_min1, t_mean1, t_max1=0.07, 0.0917, 0.22\n",
    "cost_t1=cost_2006_2012.mean()\n",
    "def triangular(t_min1, t_mean1, t_max1):\n",
    "    for i in range(10001):\n",
    "        dx = np.random.triangular(t_min1, t_mean1,t_max1, size=10000) \n",
    "        Pt = cost_t1*(1 + dx)\n",
    "        for j in range(2012, 2015):\n",
    "            dx = np.random.triangular(left = t_min1, mode = t_mean1, right = t_max1, size=10000) \n",
    "            Pt = Pt*(1 + dx)\n",
    "        return Pt\n",
    "cost_2012_2015=triangular(t_min1, t_mean1, t_max1)"
   ]
  },
  {
   "cell_type": "code",
   "execution_count": 32,
   "metadata": {},
   "outputs": [
    {
     "data": {
      "image/png": "[encoded data removed]",
      "text/plain": [
       "<Figure size 432x288 with 1 Axes>"
      ]
     },
     "metadata": {
      "needs_background": "light"
     },
     "output_type": "display_data"
    }
   ],
   "source": [
    "ax=sns.distplot(cost_2012_2015,  rug=True)\n",
    "\n",
    "  \n",
    "# giving labels to x-axis and y-axis \n",
    "ax.set(xlabel ='Drilling Cost') \n",
    "  \n",
    "# giving title to the plot \n",
    "plt.title('Estimation for 2012-2015 Drilling Cost Under Triangular Distribution'); \n",
    "  \n",
    "# function to show plot \n",
    "plt.show() "
   ]
  },
  {
   "cell_type": "code",
   "execution_count": 33,
   "metadata": {},
   "outputs": [],
   "source": [
    "#From 2015 to 2019 costs tended to increase on average by 5% per year with a maximum of 6% and minimum of 2%.\n",
    "t_min2, t_mean2, t_max2=0.02, 0.05, 0.06\n",
    "cost_t2=cost_2012_2015.mean()\n",
    "def triangular(t_min2, t_mean2, t_max2):\n",
    "    for i in range(10001):\n",
    "        dx = np.random.triangular(t_min2, t_mean2, t_max2, size=10000) \n",
    "        Pt = cost_t2*(1 + dx)\n",
    "        for j in range(2012, 2015):\n",
    "            dx = np.random.triangular(t_min2, t_mean2, t_max2, size=10000) \n",
    "            Pt = Pt*(1 + dx)\n",
    "        return Pt\n",
    "cost_2015_2019=triangular(t_min2, t_mean2, t_max2)"
   ]
  },
  {
   "cell_type": "code",
   "execution_count": 34,
   "metadata": {},
   "outputs": [
    {
     "data": {
      "image/png": "[encoded data removed]",
      "text/plain": [
       "<Figure size 432x288 with 1 Axes>"
      ]
     },
     "metadata": {
      "needs_background": "light"
     },
     "output_type": "display_data"
    }
   ],
   "source": []
  },
  {
   "cell_type": "code",
   "execution_count": 35,
   "metadata": {},
   "outputs": [],
   "source": [
    "#2020 is forecasted to follow the same increase distribution as from 2015 to 2019.\n",
    "t_min3, t_mean3, t_max3=0.02, 0.05, 0.06\n",
    "cost_t3=cost_2015_2019.mean()\n",
    "def triangular(t_min3, t_mean3, t_max3):\n",
    "    for i in range(10001):\n",
    "        dx = np.random.triangular(t_min3, t_mean3, t_max3, size=10000) \n",
    "        Pt = cost_t3*(1 + dx)\n",
    "    return Pt\n",
    "cost_2020=triangular(t_min3, t_mean3, t_max3)"
   ]
  },
  {
   "cell_type": "code",
   "execution_count": 36,
   "metadata": {},
   "outputs": [
    {
     "data": {
      "image/png": "[encoded data removed]",
      "text/plain": [
       "<Figure size 432x288 with 1 Axes>"
      ]
     },
     "metadata": {
      "needs_background": "light"
     },
     "output_type": "display_data"
    }
   ],
   "source": [
    "ax=sns.distplot(cost_2020,  rug=True)\n",
    "\n",
    "  \n",
    "# giving labels to x-axis and y-axis \n",
    "ax.set(xlabel ='Drilling Cost') \n",
    "  \n",
    "# giving title to the plot \n",
    "plt.title('Estimation for 2020 Drilling Cost Under Triangular Distribution'); \n",
    "  \n",
    "# function to show plot \n",
    "plt.show()"
   ]
  },
  {
   "cell_type": "markdown",
   "metadata": {},
   "source": [
    "# Kernel"
   ]
  },
  {
   "cell_type": "markdown",
   "metadata": {},
   "source": [
    "## The Price Analysis group would also like you to build a kernel density estimate of the distribution of arithmetic changes using the 48 observations described above (1990 – 2006). Use this kernel density to simulate the changes from 2006 to 2012 as well."
   ]
  },
  {
   "cell_type": "code",
   "execution_count": 37,
   "metadata": {},
   "outputs": [],
   "source": [
    "from sklearn.neighbors import KernelDensity\n",
    "from sklearn.model_selection import GridSearchCV\n",
    "from sklearn.model_selection import LeaveOneOut"
   ]
  },
  {
   "cell_type": "code",
   "execution_count": 67,
   "metadata": {},
   "outputs": [
    {
     "data": {
      "text/plain": [
       "0.1314875"
      ]
     },
     "execution_count": 67,
     "metadata": {},
     "output_type": "execute_result"
    }
   ],
   "source": [
    "df['Return'].mean()"
   ]
  },
  {
   "cell_type": "code",
   "execution_count": 38,
   "metadata": {},
   "outputs": [
    {
     "name": "stdout",
     "output_type": "stream",
     "text": [
      "{'bandwidth': 0.09595959595959602}\n"
     ]
    },
    {
     "name": "stderr",
     "output_type": "stream",
     "text": [
      "C:\\Users\\Lu\\Anaconda3\\lib\\site-packages\\sklearn\\model_selection\\_search.py:814: DeprecationWarning: The default of the `iid` parameter will change from True to False in version 0.22 and will be removed in 0.24. This will change numeric results when test-set sizes are unequal.\n",
      "  DeprecationWarning)\n"
     ]
    }
   ],
   "source": [
    "#kernel for 1990-2006\n",
    "\n",
    "\n",
    "#search for bandwidth\n",
    "\n",
    "grid = GridSearchCV(KernelDensity(),\n",
    "                    {'bandwidth': np.linspace(-.5, .5, 100)},\n",
    "                    cv=20) # 20-fold cross-validation\n",
    "grid.fit(df['Return'][:, None])\n",
    "print (grid.best_params_)"
   ]
  },
  {
   "cell_type": "code",
   "execution_count": 39,
   "metadata": {},
   "outputs": [],
   "source": [
    "def kde_sklearn(x, x_grid, bandwidth, **kwargs):\n",
    "    \"\"\"Kernel Density Estimation with Scikit-learn\"\"\"\n",
    "    kde_skl = KernelDensity(bandwidth=bandwidth, **kwargs)\n",
    "    kde_skl.fit(x[:, np.newaxis])\n",
    "    # score_samples() returns the log-likelihood of the samples\n",
    "    log_pdf = kde_skl.score_samples(x_grid[:, np.newaxis])\n",
    "    return np.exp(log_pdf)"
   ]
  },
  {
   "cell_type": "code",
   "execution_count": 40,
   "metadata": {},
   "outputs": [],
   "source": [
    "x, x_grid,bandwidth =df['Return'], np.linspace(-.5, .5, 100),  0.1\n",
    "kernel_1990_2006=kde_sklearn(x, x_grid, bandwidth)"
   ]
  },
  {
   "cell_type": "code",
   "execution_count": 47,
   "metadata": {},
   "outputs": [
    {
     "data": {
      "image/png": "[encoded data removed]",
      "text/plain": [
       "<Figure size 432x288 with 1 Axes>"
      ]
     },
     "metadata": {
      "needs_background": "light"
     },
     "output_type": "display_data"
    }
   ],
   "source": [
    "ax=sns.distplot(kernel_1990_2006,  rug=True, color='sandybrown')\n",
    "\n",
    "  \n",
    "# giving labels to x-axis and y-axis \n",
    "ax.set(xlabel ='Arithmetic Annual Change') \n",
    "  \n",
    "# giving title to the plot \n",
    "plt.title('Kernel Density Estimation for Drilling Cost 1991-2006'); \n",
    "  \n",
    "# function to show plot \n",
    "plt.show()"
   ]
  },
  {
   "cell_type": "code",
   "execution_count": 65,
   "metadata": {},
   "outputs": [
    {
     "data": {
      "image/png": "[encoded data removed]",
      "text/plain": [
       "<Figure size 720x432 with 1 Axes>"
      ]
     },
     "metadata": {
      "needs_background": "light"
     },
     "output_type": "display_data"
    }
   ],
   "source": [
    "fig, ax = plt.subplots(figsize = (10, 6))\n",
    "ax.fill_between(x_grid, kernel_1990_2006); # fill the space between the x dimension and the density curve\n",
    "ax.set_xlim(-.5, .5);\n",
    "ax.set(title = 'KDE for 1990-2006, bandwidth = {}'.format(bandwidth),\n",
    "       ylabel = 'Density',\n",
    "       xlabel = 'Average Change in Cost of Oil, Gas, and Well' );"
   ]
  },
  {
   "cell_type": "markdown",
   "metadata": {},
   "source": [
    "### simulate the changes from 2006 to 2012"
   ]
  },
  {
   "cell_type": "code",
   "execution_count": 53,
   "metadata": {},
   "outputs": [],
   "source": [
    "def kde_sample(x, x_grid, n, bandwidth):\n",
    "    \"\"\"return random sample from KDE\"\"\"\n",
    "    kde_skl = KernelDensity(bandwidth=bandwidth)\n",
    "    kde_skl.fit(x[:, np.newaxis])\n",
    "    sample = kde_skl.sample(n_samples = n, random_state = 42)\n",
    "    return(sample)"
   ]
  },
  {
   "cell_type": "code",
   "execution_count": 117,
   "metadata": {},
   "outputs": [
    {
     "data": {
      "text/plain": [
       "count    48.000000\n",
       "mean      0.131488\n",
       "std       0.178435\n",
       "min      -0.242100\n",
       "25%       0.007625\n",
       "50%       0.135250\n",
       "75%       0.224575\n",
       "max       0.551900\n",
       "Name: Return, dtype: float64"
      ]
     },
     "execution_count": 117,
     "metadata": {},
     "output_type": "execute_result"
    }
   ],
   "source": [
    "df['Return'].describe()"
   ]
  },
  {
   "cell_type": "code",
   "execution_count": 49,
   "metadata": {},
   "outputs": [
    {
     "data": {
      "text/plain": [
       "array([[-1.42906910e-01],\n",
       "       [-1.62680992e-01],\n",
       "       [ 3.01917807e-01],\n",
       "       [ 1.69952717e-01],\n",
       "       [ 3.20581140e-01],\n",
       "       [ 3.67470265e-01],\n",
       "       [ 5.93529939e-02],\n",
       "       [ 5.42620713e-03],\n",
       "       [ 1.08685086e-01],\n",
       "       [-3.38986484e-01],\n",
       "       [ 1.16665640e-01],\n",
       "       [ 2.28891892e-01],\n",
       "       [ 5.08842095e-01],\n",
       "       [ 1.13792628e-01],\n",
       "       [ 2.86104911e-01],\n",
       "       [ 4.78183757e-01],\n",
       "       [ 3.28340036e-01],\n",
       "       [ 9.33506276e-03],\n",
       "       [ 1.79348654e-01],\n",
       "       [ 3.92678053e-01],\n",
       "       [ 6.36345543e-01],\n",
       "       [ 2.60255974e-01],\n",
       "       [ 3.40550870e-01],\n",
       "       [-2.00504776e-01],\n",
       "       [-6.09046605e-02],\n",
       "       [ 9.64745089e-02],\n",
       "       [-2.22107961e-01],\n",
       "       [-6.41873759e-02],\n",
       "       [ 2.28018051e-01],\n",
       "       [-9.62146572e-02],\n",
       "       [ 5.35081552e-01],\n",
       "       [ 3.43824205e-01],\n",
       "       [ 2.78528010e-01],\n",
       "       [-2.48100701e-02],\n",
       "       [ 3.03066009e-01],\n",
       "       [ 7.80995664e-02],\n",
       "       [ 3.55934524e-01],\n",
       "       [ 9.54667716e-02],\n",
       "       [ 2.07905559e-01],\n",
       "       [ 7.40932338e-02],\n",
       "       [-2.26455961e-01],\n",
       "       [ 2.46241270e-01],\n",
       "       [ 2.51300831e-01],\n",
       "       [ 4.45295604e-05],\n",
       "       [ 1.34904773e-01],\n",
       "       [ 4.23704603e-01],\n",
       "       [ 4.74061493e-01],\n",
       "       [-6.81574024e-02],\n",
       "       [ 1.46583186e-01],\n",
       "       [ 3.58039385e-01],\n",
       "       [ 8.91994540e-02],\n",
       "       [ 4.16213248e-02],\n",
       "       [-1.32872669e-01],\n",
       "       [ 4.37698219e-01],\n",
       "       [ 1.11878360e-01],\n",
       "       [ 2.55179326e-01],\n",
       "       [ 1.54945044e-01],\n",
       "       [-3.31951864e-01],\n",
       "       [ 7.28890159e-02],\n",
       "       [ 1.46441004e-01],\n",
       "       [ 2.18748266e-01],\n",
       "       [ 4.50733754e-01],\n",
       "       [ 3.83355018e-01],\n",
       "       [-1.24483123e-01],\n",
       "       [ 4.04980699e-01],\n",
       "       [ 2.28720614e-01],\n",
       "       [ 3.32725178e-01],\n",
       "       [ 4.32777013e-01],\n",
       "       [ 9.09034014e-02],\n",
       "       [ 6.57102740e-02],\n",
       "       [ 6.82173526e-02],\n",
       "       [-2.92092941e-01],\n",
       "       [ 2.06351585e-02],\n",
       "       [ 5.91411488e-01],\n",
       "       [-6.16546177e-02],\n",
       "       [ 3.28328336e-02],\n",
       "       [ 4.93879984e-02],\n",
       "       [ 1.90727400e-01],\n",
       "       [-2.08600074e-01],\n",
       "       [-1.22936136e-01],\n",
       "       [-1.76369281e-02],\n",
       "       [ 4.15483030e-01],\n",
       "       [ 3.04975468e-01],\n",
       "       [ 3.09928991e-01],\n",
       "       [ 2.76749018e-01],\n",
       "       [ 1.30806860e-01],\n",
       "       [ 2.93427885e-01],\n",
       "       [-9.73988889e-02],\n",
       "       [ 5.66068985e-01],\n",
       "       [ 3.63718408e-01],\n",
       "       [-1.95825250e-01],\n",
       "       [ 1.23532480e-02],\n",
       "       [-1.45138731e-01],\n",
       "       [ 1.18616296e-01],\n",
       "       [ 1.21318572e-01],\n",
       "       [ 2.80910208e-01],\n",
       "       [-9.85850169e-02],\n",
       "       [ 1.96940916e-01],\n",
       "       [ 4.29219394e-02],\n",
       "       [-7.29446054e-02],\n",
       "       [ 2.71823918e-01],\n",
       "       [-1.75278190e-01],\n",
       "       [ 1.21650450e-01],\n",
       "       [ 7.28744789e-02],\n",
       "       [ 9.40702341e-02],\n",
       "       [ 3.77003659e-01],\n",
       "       [ 7.92535367e-02],\n",
       "       [-5.33362882e-02],\n",
       "       [ 2.81858935e-01],\n",
       "       [ 2.48083322e-01],\n",
       "       [ 4.63843396e-01],\n",
       "       [ 3.15854663e-01],\n",
       "       [ 3.30100722e-01],\n",
       "       [ 3.17036603e-01],\n",
       "       [-3.10569081e-03],\n",
       "       [ 2.24838899e-02],\n",
       "       [ 1.96759373e-01],\n",
       "       [ 3.96604232e-01],\n",
       "       [ 6.15385807e-01],\n",
       "       [-1.25524210e-01],\n",
       "       [ 2.44980598e-01],\n",
       "       [-2.70049311e-03],\n",
       "       [ 1.68287034e-01],\n",
       "       [-6.48393324e-02],\n",
       "       [ 2.45898916e-01],\n",
       "       [ 1.80979289e-01],\n",
       "       [ 3.62012947e-01],\n",
       "       [ 3.12628209e-02],\n",
       "       [ 1.36093576e-01],\n",
       "       [ 1.73592925e-01],\n",
       "       [ 1.49099959e-01],\n",
       "       [ 2.48423529e-01],\n",
       "       [-1.57455468e-01],\n",
       "       [ 2.16870795e-01],\n",
       "       [-5.10765979e-02],\n",
       "       [ 1.90811937e-01],\n",
       "       [ 3.36106859e-02],\n",
       "       [-1.72705179e-01],\n",
       "       [-1.99079025e-01],\n",
       "       [ 2.27668099e-01],\n",
       "       [ 3.06826857e-01],\n",
       "       [ 8.26136231e-02],\n",
       "       [ 1.31367271e-01],\n",
       "       [ 2.68889127e-01],\n",
       "       [ 4.97554197e-01],\n",
       "       [-9.26868214e-02],\n",
       "       [ 5.01597034e-01],\n",
       "       [ 1.28490688e-02],\n",
       "       [ 1.25197163e-01],\n",
       "       [ 3.84082477e-01],\n",
       "       [-1.72679574e-02],\n",
       "       [ 3.80104136e-01],\n",
       "       [ 1.76378749e-01],\n",
       "       [-7.84925361e-02],\n",
       "       [ 1.53101301e-01],\n",
       "       [ 1.65615120e-01],\n",
       "       [ 1.08589046e-01],\n",
       "       [ 4.27520803e-02],\n",
       "       [ 2.32742064e-01],\n",
       "       [ 3.34329232e-02],\n",
       "       [-2.74127396e-01],\n",
       "       [-4.89788405e-02],\n",
       "       [-6.89818940e-02],\n",
       "       [-6.09258277e-02],\n",
       "       [ 1.81597330e-01],\n",
       "       [ 4.98923710e-02],\n",
       "       [ 2.84027346e-02],\n",
       "       [ 3.21128274e-01],\n",
       "       [ 4.02972585e-02],\n",
       "       [ 1.36900550e-01],\n",
       "       [ 1.78788755e-01],\n",
       "       [ 1.09684986e-01],\n",
       "       [-1.33738548e-01],\n",
       "       [ 3.58638814e-01],\n",
       "       [-1.34893606e-01],\n",
       "       [ 4.83956625e-01],\n",
       "       [-1.58654719e-01],\n",
       "       [ 2.64307790e-01],\n",
       "       [ 2.85379055e-01],\n",
       "       [ 3.46993770e-01],\n",
       "       [ 1.32745048e-01],\n",
       "       [-6.02762723e-02],\n",
       "       [ 2.51786905e-01],\n",
       "       [ 5.70610338e-01],\n",
       "       [ 1.66923788e-01],\n",
       "       [ 4.22510549e-01],\n",
       "       [ 4.23524693e-01],\n",
       "       [ 3.46484639e-01],\n",
       "       [-5.56142156e-02],\n",
       "       [ 8.20302408e-02],\n",
       "       [ 2.69293973e-02],\n",
       "       [-2.85946492e-02],\n",
       "       [ 1.08357919e-01],\n",
       "       [-1.86236158e-01],\n",
       "       [ 3.47434910e-02],\n",
       "       [-9.51586658e-02],\n",
       "       [ 4.34924313e-02],\n",
       "       [-1.85449139e-01],\n",
       "       [ 3.64248746e-01],\n",
       "       [ 1.92737319e-01],\n",
       "       [-5.67779857e-02],\n",
       "       [ 5.36911806e-02],\n",
       "       [ 1.83172147e-01],\n",
       "       [ 2.84059779e-02],\n",
       "       [ 5.51575771e-01],\n",
       "       [-2.62528220e-02],\n",
       "       [ 1.50705847e-01],\n",
       "       [ 3.71862606e-01],\n",
       "       [ 5.81132244e-02],\n",
       "       [ 2.72619726e-01],\n",
       "       [ 2.03154453e-01],\n",
       "       [-3.73256138e-01],\n",
       "       [ 2.70654036e-01],\n",
       "       [ 1.67321418e-01],\n",
       "       [-5.94580089e-03],\n",
       "       [ 1.85500974e-01],\n",
       "       [ 3.27491787e-01],\n",
       "       [ 3.25375858e-01],\n",
       "       [ 2.41493891e-01],\n",
       "       [ 1.97732450e-01],\n",
       "       [ 4.18841989e-01],\n",
       "       [ 1.89617031e-01],\n",
       "       [ 2.07667333e-02],\n",
       "       [-2.17124310e-01],\n",
       "       [ 2.37840098e-01],\n",
       "       [ 2.46213685e-01],\n",
       "       [ 2.90767390e-01],\n",
       "       [ 2.80365462e-01],\n",
       "       [ 6.01259744e-01],\n",
       "       [-1.75671169e-01],\n",
       "       [ 3.30365466e-01],\n",
       "       [-3.31603558e-03],\n",
       "       [ 2.93173479e-01],\n",
       "       [ 5.73730964e-02],\n",
       "       [-8.58632577e-02],\n",
       "       [ 1.02011971e-01],\n",
       "       [ 3.31372380e-01],\n",
       "       [ 8.50274935e-04],\n",
       "       [-1.56331258e-01],\n",
       "       [ 4.21574935e-01],\n",
       "       [ 4.55519392e-03],\n",
       "       [-9.41330004e-02],\n",
       "       [ 3.05080867e-02],\n",
       "       [ 3.39043323e-02],\n",
       "       [ 2.33478885e-01],\n",
       "       [ 2.73369130e-01],\n",
       "       [ 1.80220313e-01],\n",
       "       [ 2.21002819e-01],\n",
       "       [ 2.65416618e-01],\n",
       "       [ 5.41486691e-02],\n",
       "       [ 3.08736112e-01],\n",
       "       [ 7.30274334e-02],\n",
       "       [ 1.82130081e-01],\n",
       "       [ 2.23947635e-01],\n",
       "       [ 3.39913218e-01],\n",
       "       [ 3.26058809e-01],\n",
       "       [ 1.23781090e-01],\n",
       "       [-3.21293739e-01],\n",
       "       [ 1.26600664e-01],\n",
       "       [ 1.09638847e-01],\n",
       "       [ 7.03453492e-01],\n",
       "       [ 7.22004163e-02],\n",
       "       [ 4.03781275e-01],\n",
       "       [-2.45657623e-02],\n",
       "       [ 4.91263543e-01],\n",
       "       [ 3.47229394e-01],\n",
       "       [-1.30790941e-01],\n",
       "       [-3.31375294e-01],\n",
       "       [-2.60113685e-02],\n",
       "       [ 4.56108222e-01],\n",
       "       [ 1.55499357e-01],\n",
       "       [ 2.47422318e-01],\n",
       "       [ 8.56271677e-03],\n",
       "       [ 5.61606389e-02],\n",
       "       [-7.06274638e-02],\n",
       "       [-8.15461031e-02],\n",
       "       [ 2.09500134e-01],\n",
       "       [ 3.98445612e-01],\n",
       "       [-1.40575986e-01],\n",
       "       [ 1.78444710e-01],\n",
       "       [ 5.76252884e-01],\n",
       "       [-1.81468836e-01],\n",
       "       [ 3.26588913e-01],\n",
       "       [-1.41174240e-01],\n",
       "       [ 7.37803153e-02],\n",
       "       [-5.63702905e-02],\n",
       "       [ 6.62786672e-02],\n",
       "       [ 2.88874411e-01],\n",
       "       [ 3.47906892e-01],\n",
       "       [ 1.46185349e-01],\n",
       "       [ 4.01771479e-02],\n",
       "       [ 8.73336745e-02],\n",
       "       [ 4.91313970e-01],\n",
       "       [-2.74369300e-01],\n",
       "       [ 3.96364014e-01],\n",
       "       [-9.64380925e-02],\n",
       "       [-1.61092371e-01],\n",
       "       [ 1.90169636e-01],\n",
       "       [ 6.86968381e-01],\n",
       "       [ 9.19199568e-02],\n",
       "       [-4.70786921e-02],\n",
       "       [-8.34331934e-02],\n",
       "       [-8.09471546e-02],\n",
       "       [ 5.94073185e-02],\n",
       "       [ 1.18574191e-01],\n",
       "       [ 2.48903748e-01],\n",
       "       [ 7.16255109e-02],\n",
       "       [ 1.87191024e-01],\n",
       "       [ 1.88486207e-01],\n",
       "       [ 1.57328514e-01],\n",
       "       [-2.82441133e-02],\n",
       "       [ 1.44949999e-01],\n",
       "       [ 1.09886659e-01],\n",
       "       [ 2.14875130e-01],\n",
       "       [ 2.12137607e-01],\n",
       "       [-1.96764492e-01],\n",
       "       [ 3.37771671e-02],\n",
       "       [ 2.03561938e-01],\n",
       "       [ 3.52669491e-01],\n",
       "       [ 2.06183963e-01],\n",
       "       [ 2.74220910e-01],\n",
       "       [-1.76462984e-01],\n",
       "       [ 4.80853723e-01],\n",
       "       [ 3.77436933e-01],\n",
       "       [ 5.72364535e-02],\n",
       "       [ 1.74108467e-01],\n",
       "       [ 2.39549651e-01],\n",
       "       [ 4.57092599e-01],\n",
       "       [ 1.20660794e-01],\n",
       "       [ 3.83062822e-01],\n",
       "       [-1.76061416e-01],\n",
       "       [-1.43104141e-03],\n",
       "       [ 1.56306096e-01],\n",
       "       [-1.35288630e-01],\n",
       "       [-2.16229854e-03],\n",
       "       [ 7.72464902e-02],\n",
       "       [ 1.80407403e-01],\n",
       "       [-1.94685692e-01],\n",
       "       [ 2.00898914e-01],\n",
       "       [ 1.09958896e-01],\n",
       "       [ 2.18897334e-01],\n",
       "       [ 2.89632728e-01],\n",
       "       [ 4.40885720e-01],\n",
       "       [ 7.39295579e-02],\n",
       "       [ 1.73708838e-01],\n",
       "       [ 4.48728915e-01],\n",
       "       [-1.00262808e-01],\n",
       "       [-8.35848265e-02],\n",
       "       [-1.64672451e-01],\n",
       "       [-9.79113831e-02],\n",
       "       [ 7.82214939e-03],\n",
       "       [ 2.07286788e-03],\n",
       "       [ 4.38134014e-01],\n",
       "       [ 3.11018087e-01],\n",
       "       [ 1.26325903e-01],\n",
       "       [-4.07321549e-02],\n",
       "       [ 1.51452344e-01],\n",
       "       [ 4.51529664e-03],\n",
       "       [ 1.12660063e-02],\n",
       "       [ 1.69505547e-01],\n",
       "       [ 1.96419285e-01],\n",
       "       [-3.68638680e-03],\n",
       "       [-3.53050028e-02],\n",
       "       [ 1.95701881e-01],\n",
       "       [-5.80764642e-02],\n",
       "       [ 2.24602114e-01],\n",
       "       [ 1.11535242e-01],\n",
       "       [-9.69045794e-02],\n",
       "       [-9.85945443e-02],\n",
       "       [ 7.20734787e-02],\n",
       "       [-7.38253115e-02],\n",
       "       [-1.15805110e-01],\n",
       "       [-4.21065573e-02],\n",
       "       [ 8.14219186e-02],\n",
       "       [ 2.96081364e-01],\n",
       "       [ 2.56583538e-01],\n",
       "       [ 8.42664689e-02],\n",
       "       [ 2.47119222e-01],\n",
       "       [ 5.72758894e-01],\n",
       "       [ 3.60765175e-01],\n",
       "       [-4.04846514e-01],\n",
       "       [ 1.66848315e-02],\n",
       "       [-2.52561522e-01],\n",
       "       [ 3.58714113e-01],\n",
       "       [ 3.59731339e-01],\n",
       "       [ 4.31377717e-01],\n",
       "       [ 5.14584554e-01],\n",
       "       [ 4.34151821e-01],\n",
       "       [ 3.25278907e-02],\n",
       "       [ 2.88607400e-01],\n",
       "       [ 1.81803573e-01],\n",
       "       [ 5.20072282e-02],\n",
       "       [-1.49521901e-01],\n",
       "       [ 1.18666618e-01],\n",
       "       [ 7.04318700e-03],\n",
       "       [ 2.08839243e-01],\n",
       "       [-1.88266113e-01],\n",
       "       [ 1.67949434e-01],\n",
       "       [-1.09973200e-01],\n",
       "       [-1.20323039e-01],\n",
       "       [ 3.15904736e-02],\n",
       "       [ 1.57980206e-01],\n",
       "       [ 6.15484945e-02],\n",
       "       [ 3.43054946e-01],\n",
       "       [ 7.66334677e-02],\n",
       "       [ 5.91469407e-01],\n",
       "       [ 1.34776135e-01],\n",
       "       [ 5.77830165e-02],\n",
       "       [ 8.22046889e-02],\n",
       "       [-7.17510009e-02],\n",
       "       [ 1.75183796e-01],\n",
       "       [-1.62562295e-01],\n",
       "       [-9.66230880e-02],\n",
       "       [ 1.35180374e-01],\n",
       "       [-2.70869436e-01],\n",
       "       [ 1.78427264e-02],\n",
       "       [ 3.30132598e-01],\n",
       "       [ 2.15424096e-01],\n",
       "       [ 2.20652272e-01],\n",
       "       [ 1.01772639e-01],\n",
       "       [ 1.35570205e-01],\n",
       "       [ 8.56535013e-02],\n",
       "       [ 2.64067753e-02],\n",
       "       [ 1.68296823e-01],\n",
       "       [-1.13025937e-02],\n",
       "       [ 1.88053252e-01],\n",
       "       [-8.49792519e-02],\n",
       "       [ 4.47138917e-01],\n",
       "       [-5.13344745e-02],\n",
       "       [-2.24380931e-02],\n",
       "       [ 1.94752309e-01],\n",
       "       [-8.33614678e-02],\n",
       "       [ 4.87243346e-01],\n",
       "       [ 9.59431939e-02],\n",
       "       [-1.11454710e-02],\n",
       "       [-7.72032135e-02],\n",
       "       [ 8.76858438e-02],\n",
       "       [ 5.09509475e-01],\n",
       "       [-2.64681235e-01],\n",
       "       [ 3.41363421e-01],\n",
       "       [-9.14838577e-02],\n",
       "       [ 1.41383864e-01],\n",
       "       [-1.01860081e-01],\n",
       "       [-1.21658081e-01],\n",
       "       [ 4.67724111e-01],\n",
       "       [-5.41838630e-02],\n",
       "       [ 1.17443032e-01],\n",
       "       [-3.42301801e-02],\n",
       "       [ 3.09949121e-01],\n",
       "       [ 2.14347070e-01],\n",
       "       [ 7.41257393e-02],\n",
       "       [ 6.11177318e-02],\n",
       "       [ 1.68854616e-01],\n",
       "       [ 2.64873840e-01],\n",
       "       [-2.52230711e-01],\n",
       "       [ 2.66920512e-01],\n",
       "       [ 2.28993073e-01],\n",
       "       [ 1.32977058e-01],\n",
       "       [ 3.55084771e-02],\n",
       "       [-3.33443039e-02],\n",
       "       [-2.14021497e-01],\n",
       "       [ 2.74577768e-01],\n",
       "       [ 2.15348718e-01],\n",
       "       [ 2.36718942e-02],\n",
       "       [ 1.51765021e-01],\n",
       "       [-2.69054624e-01],\n",
       "       [ 3.93067512e-01],\n",
       "       [-1.05197591e-01],\n",
       "       [ 2.49740732e-01],\n",
       "       [ 7.01693918e-02],\n",
       "       [ 1.07779221e-01],\n",
       "       [ 2.85217607e-01],\n",
       "       [-1.95136208e-01],\n",
       "       [ 5.40465091e-01],\n",
       "       [ 5.84902093e-02],\n",
       "       [ 4.63230832e-03],\n",
       "       [ 2.98831515e-01],\n",
       "       [ 2.22111711e-01],\n",
       "       [ 1.46748933e-01],\n",
       "       [-5.70192170e-02],\n",
       "       [-7.72505779e-02],\n",
       "       [-1.82659515e-01],\n",
       "       [ 2.66880393e-02],\n",
       "       [-2.10360623e-01],\n",
       "       [ 1.30242474e-01],\n",
       "       [-9.45343047e-02],\n",
       "       [-2.57103455e-02],\n",
       "       [ 3.08648312e-01],\n",
       "       [-1.08697695e-01],\n",
       "       [ 6.18048386e-01],\n",
       "       [ 7.64179109e-02],\n",
       "       [ 6.06722431e-01],\n",
       "       [ 2.91691851e-01],\n",
       "       [-2.70576760e-01],\n",
       "       [ 2.91978793e-01],\n",
       "       [ 8.76545222e-02],\n",
       "       [ 3.23739659e-01],\n",
       "       [ 1.83698606e-01],\n",
       "       [ 2.27484420e-01],\n",
       "       [ 8.56795182e-02],\n",
       "       [-1.77481319e-01],\n",
       "       [-6.57222853e-02],\n",
       "       [ 3.95629781e-01],\n",
       "       [ 5.70503209e-01],\n",
       "       [ 1.29760949e-01],\n",
       "       [ 1.50389034e-01],\n",
       "       [-1.32558484e-01],\n",
       "       [ 5.30119219e-01],\n",
       "       [-1.41802995e-01],\n",
       "       [-1.09560153e-01],\n",
       "       [ 5.86872074e-01],\n",
       "       [ 4.01169957e-01],\n",
       "       [ 2.33553618e-01],\n",
       "       [ 3.95641697e-02],\n",
       "       [-8.33535773e-03],\n",
       "       [ 3.54999312e-02],\n",
       "       [ 3.05916883e-01],\n",
       "       [ 1.85675291e-01],\n",
       "       [ 1.37565308e-01],\n",
       "       [ 2.99152803e-01],\n",
       "       [ 5.48718592e-02],\n",
       "       [ 3.12483811e-01],\n",
       "       [ 1.94453622e-01],\n",
       "       [ 7.81829356e-02],\n",
       "       [ 1.94485886e-01],\n",
       "       [ 1.01937882e-01],\n",
       "       [ 2.92363042e-02],\n",
       "       [ 3.89179290e-01],\n",
       "       [ 8.20306009e-02],\n",
       "       [ 6.82284096e-03],\n",
       "       [ 4.82147574e-01],\n",
       "       [ 1.87098967e-01],\n",
       "       [ 2.38618679e-01],\n",
       "       [ 2.34602928e-01],\n",
       "       [-2.00682642e-02],\n",
       "       [-1.60565261e-01],\n",
       "       [ 5.03397703e-02],\n",
       "       [ 1.83329777e-01],\n",
       "       [-7.66560982e-02],\n",
       "       [ 2.89872583e-01],\n",
       "       [-3.74015068e-02],\n",
       "       [ 5.99572348e-01],\n",
       "       [ 2.22355110e-01],\n",
       "       [ 2.44285148e-01],\n",
       "       [ 5.57702697e-01],\n",
       "       [-3.36691991e-01],\n",
       "       [-2.64440185e-01],\n",
       "       [ 1.87532120e-01],\n",
       "       [-1.29972527e-01],\n",
       "       [ 1.78293586e-01],\n",
       "       [ 1.16667575e-01],\n",
       "       [ 2.55888567e-01],\n",
       "       [ 1.65190142e-01],\n",
       "       [ 3.18565352e-01],\n",
       "       [ 5.20180071e-01],\n",
       "       [-3.63773740e-03],\n",
       "       [ 2.51493760e-01],\n",
       "       [ 1.71777282e-02],\n",
       "       [-5.59359137e-02],\n",
       "       [ 5.67237460e-01],\n",
       "       [-1.75048342e-01],\n",
       "       [ 2.28974142e-01],\n",
       "       [ 3.46024435e-01],\n",
       "       [ 1.85158165e-01],\n",
       "       [ 1.60359872e-01],\n",
       "       [-1.86408172e-02],\n",
       "       [-6.65290214e-03],\n",
       "       [ 2.60888792e-01],\n",
       "       [-9.03190829e-02],\n",
       "       [ 5.46711138e-02],\n",
       "       [-1.26410172e-01],\n",
       "       [-3.78782394e-02],\n",
       "       [ 7.54316455e-02],\n",
       "       [ 6.20223964e-01],\n",
       "       [-8.77859361e-02],\n",
       "       [-2.75693806e-01],\n",
       "       [ 2.21038000e-01],\n",
       "       [ 2.69362360e-01],\n",
       "       [-1.37020412e-02],\n",
       "       [ 1.91502393e-01],\n",
       "       [ 1.81422114e-01],\n",
       "       [ 1.65636235e-01],\n",
       "       [ 1.30162233e-01],\n",
       "       [ 7.81237953e-02],\n",
       "       [-1.98085649e-02],\n",
       "       [ 1.96532338e-01],\n",
       "       [ 1.45842591e-01],\n",
       "       [ 2.22705884e-01],\n",
       "       [ 2.66804597e-01],\n",
       "       [ 1.90567756e-01],\n",
       "       [ 2.91134855e-01],\n",
       "       [ 2.65537632e-02],\n",
       "       [ 2.59928897e-01],\n",
       "       [-7.03205258e-02],\n",
       "       [ 1.65105329e-01],\n",
       "       [ 1.63960869e-01],\n",
       "       [ 1.40283454e-01],\n",
       "       [ 4.76991422e-01],\n",
       "       [-2.96605399e-01],\n",
       "       [ 2.08740874e-01],\n",
       "       [ 4.44413328e-01],\n",
       "       [ 3.46087973e-01],\n",
       "       [ 5.77557739e-01],\n",
       "       [-3.91143431e-02],\n",
       "       [-1.13111417e-01],\n",
       "       [ 2.09736332e-01],\n",
       "       [-1.24943284e-01],\n",
       "       [-1.83639923e-02],\n",
       "       [-1.82196266e-02],\n",
       "       [-2.57307608e-01],\n",
       "       [ 8.57974929e-02],\n",
       "       [ 1.50805617e-01],\n",
       "       [ 5.37048523e-02],\n",
       "       [ 1.60588180e-01],\n",
       "       [-6.87789396e-02],\n",
       "       [ 2.50721228e-01],\n",
       "       [-1.36941366e-01],\n",
       "       [ 3.02554737e-01],\n",
       "       [ 3.19837252e-01],\n",
       "       [ 2.08579515e-01],\n",
       "       [ 2.89178012e-01],\n",
       "       [ 2.76998748e-01],\n",
       "       [-5.21866261e-02],\n",
       "       [ 1.84105798e-01],\n",
       "       [ 6.41544292e-01],\n",
       "       [-2.27011558e-01],\n",
       "       [ 5.48370400e-02],\n",
       "       [ 4.02820029e-01],\n",
       "       [ 1.53588145e-02],\n",
       "       [ 1.52425029e-01],\n",
       "       [ 2.03737473e-01],\n",
       "       [ 5.56860701e-01],\n",
       "       [ 1.99298995e-02],\n",
       "       [ 1.42850211e-01],\n",
       "       [-2.37816641e-01],\n",
       "       [ 6.17056115e-02],\n",
       "       [-4.68688188e-02],\n",
       "       [ 2.34973305e-01],\n",
       "       [ 3.12562158e-01],\n",
       "       [ 2.68905218e-01],\n",
       "       [ 1.26446647e-01],\n",
       "       [ 2.62225660e-01],\n",
       "       [ 1.95854254e-01],\n",
       "       [ 9.01711299e-02],\n",
       "       [-2.73932827e-01],\n",
       "       [ 3.29827907e-01],\n",
       "       [ 3.00058642e-01],\n",
       "       [ 1.01211247e-01],\n",
       "       [ 1.04387174e-01],\n",
       "       [ 9.44868030e-02],\n",
       "       [ 4.30666028e-02],\n",
       "       [ 2.14163491e-02],\n",
       "       [ 1.92442614e-01],\n",
       "       [ 2.15223031e-01],\n",
       "       [ 1.61759046e-01],\n",
       "       [ 3.32132196e-01],\n",
       "       [ 3.67617799e-01],\n",
       "       [-1.42388982e-02],\n",
       "       [ 3.37087746e-01],\n",
       "       [ 1.72539001e-01],\n",
       "       [-9.92406858e-02],\n",
       "       [ 2.19112647e-01],\n",
       "       [ 5.68191940e-01],\n",
       "       [ 9.40851247e-02],\n",
       "       [ 5.13719157e-02],\n",
       "       [ 2.11577880e-01],\n",
       "       [ 1.63224499e-01],\n",
       "       [ 3.22972762e-01],\n",
       "       [ 4.94845476e-01],\n",
       "       [ 3.91914442e-01],\n",
       "       [ 4.11194971e-01],\n",
       "       [ 1.85899345e-01],\n",
       "       [ 1.69967786e-01],\n",
       "       [ 1.82151480e-01],\n",
       "       [ 7.75958681e-02],\n",
       "       [-4.49686483e-02],\n",
       "       [-1.12099254e-01],\n",
       "       [ 6.10042546e-02],\n",
       "       [ 3.26277748e-01],\n",
       "       [ 2.46863216e-02],\n",
       "       [ 4.71938961e-01],\n",
       "       [ 6.48131587e-02],\n",
       "       [ 3.64587907e-01],\n",
       "       [ 1.23953159e-01],\n",
       "       [ 1.81852890e-01],\n",
       "       [ 2.37372056e-01],\n",
       "       [ 2.56691405e-01],\n",
       "       [ 4.25520438e-01],\n",
       "       [-1.28629476e-01],\n",
       "       [ 4.23414240e-01],\n",
       "       [ 2.73396834e-01],\n",
       "       [ 1.21919539e-01],\n",
       "       [-3.31615450e-02],\n",
       "       [ 2.12121938e-01],\n",
       "       [-2.50540848e-01],\n",
       "       [ 6.10245239e-01],\n",
       "       [ 3.79114667e-01],\n",
       "       [ 1.44157920e-01],\n",
       "       [ 1.90325704e-01],\n",
       "       [ 8.00287530e-02],\n",
       "       [ 1.30143222e-02],\n",
       "       [-4.92549837e-02],\n",
       "       [ 2.30326747e-01],\n",
       "       [ 2.70732743e-01],\n",
       "       [ 1.68521625e-01],\n",
       "       [ 1.97433175e-01],\n",
       "       [ 3.80470840e-02],\n",
       "       [ 5.33272069e-02],\n",
       "       [ 3.76909317e-02],\n",
       "       [ 3.14132569e-01],\n",
       "       [-7.06672331e-02],\n",
       "       [ 3.45237936e-01],\n",
       "       [ 1.32017716e-01],\n",
       "       [ 4.33096173e-02],\n",
       "       [ 2.13689896e-01],\n",
       "       [ 4.14648360e-01],\n",
       "       [ 6.69935322e-01],\n",
       "       [ 3.18952961e-01],\n",
       "       [-8.77343727e-02],\n",
       "       [ 3.21027425e-01],\n",
       "       [ 2.75524969e-02],\n",
       "       [ 3.33793286e-01],\n",
       "       [ 7.46621005e-02],\n",
       "       [ 2.67396299e-01],\n",
       "       [ 9.10833840e-02],\n",
       "       [ 1.05409476e-01],\n",
       "       [ 3.69374870e-01],\n",
       "       [ 2.97777469e-01],\n",
       "       [-2.34143380e-01],\n",
       "       [ 4.03177707e-01],\n",
       "       [ 1.67447980e-01],\n",
       "       [ 4.66970649e-01],\n",
       "       [ 2.28385991e-01],\n",
       "       [-2.19988296e-01],\n",
       "       [-1.66341262e-01],\n",
       "       [ 4.95842724e-01],\n",
       "       [ 3.59410477e-01],\n",
       "       [ 5.41173052e-01],\n",
       "       [-1.13976814e-01],\n",
       "       [ 3.90068331e-01],\n",
       "       [ 2.92693033e-01],\n",
       "       [ 3.84288793e-01],\n",
       "       [ 2.47316431e-01],\n",
       "       [-1.07449531e-01],\n",
       "       [ 1.77301390e-01],\n",
       "       [ 1.30687376e-01],\n",
       "       [ 3.92812768e-01],\n",
       "       [ 3.23291918e-01],\n",
       "       [-1.12964480e-02],\n",
       "       [ 4.51134431e-01],\n",
       "       [-1.67220238e-01],\n",
       "       [-2.01659543e-01],\n",
       "       [-9.84149057e-02],\n",
       "       [ 6.16157672e-02],\n",
       "       [ 2.64756715e-01],\n",
       "       [ 6.82767239e-02],\n",
       "       [ 5.98124010e-01],\n",
       "       [-9.99430756e-02],\n",
       "       [ 4.01507485e-01],\n",
       "       [-1.34203599e-01],\n",
       "       [ 2.67723659e-01],\n",
       "       [ 4.91402644e-01],\n",
       "       [ 3.60313329e-01],\n",
       "       [ 2.26561337e-01],\n",
       "       [-9.79908543e-03],\n",
       "       [ 1.48589683e-01],\n",
       "       [-1.10854690e-01],\n",
       "       [ 5.33961271e-01],\n",
       "       [ 1.43847225e-01],\n",
       "       [ 5.94823990e-01],\n",
       "       [-1.88913867e-01],\n",
       "       [ 1.27869362e-01],\n",
       "       [ 2.27681567e-01],\n",
       "       [-4.77192319e-02],\n",
       "       [ 1.91416900e-01],\n",
       "       [ 3.03262896e-01],\n",
       "       [ 2.93022616e-01],\n",
       "       [ 1.19138944e-02],\n",
       "       [ 2.18541971e-01],\n",
       "       [-1.51901124e-01],\n",
       "       [-1.91423056e-01],\n",
       "       [ 1.17150949e-01],\n",
       "       [-4.31816234e-02],\n",
       "       [ 1.54464086e-01],\n",
       "       [ 4.49715951e-01],\n",
       "       [ 7.38051986e-03],\n",
       "       [ 1.21029165e-01],\n",
       "       [ 7.31345296e-02],\n",
       "       [ 4.21708729e-02],\n",
       "       [-9.01147410e-02],\n",
       "       [ 3.41683821e-01],\n",
       "       [ 2.11395191e-03],\n",
       "       [ 5.32021389e-03],\n",
       "       [ 4.29807638e-01],\n",
       "       [ 1.19978698e-01],\n",
       "       [-3.91077334e-02],\n",
       "       [ 8.87381366e-02],\n",
       "       [ 2.11226542e-01],\n",
       "       [-2.55613242e-01],\n",
       "       [ 1.61177281e-01],\n",
       "       [-1.71448772e-01],\n",
       "       [ 3.73577361e-01],\n",
       "       [ 1.49760363e-02],\n",
       "       [ 5.57451186e-01],\n",
       "       [ 2.15393485e-01],\n",
       "       [ 3.30079505e-01],\n",
       "       [ 2.49979740e-01],\n",
       "       [ 2.01067494e-01],\n",
       "       [-9.62831199e-02],\n",
       "       [-1.72147051e-01],\n",
       "       [ 1.70074889e-02],\n",
       "       [-1.16721544e-01],\n",
       "       [-1.40609618e-01],\n",
       "       [ 3.15454136e-01],\n",
       "       [-2.48563919e-01],\n",
       "       [-1.11975763e-01],\n",
       "       [ 1.70723883e-01],\n",
       "       [ 2.11874592e-01],\n",
       "       [-1.38285663e-02],\n",
       "       [ 9.37973529e-03],\n",
       "       [ 1.95339320e-01],\n",
       "       [ 2.01738878e-01],\n",
       "       [ 1.67632239e-02],\n",
       "       [-4.52272806e-02],\n",
       "       [-9.54469170e-02],\n",
       "       [ 1.48300425e-01],\n",
       "       [ 8.59403284e-02],\n",
       "       [ 2.21121061e-01],\n",
       "       [ 2.96777135e-01],\n",
       "       [-4.45118152e-02],\n",
       "       [ 2.02436986e-01],\n",
       "       [-1.62487173e-01],\n",
       "       [ 3.86179880e-01],\n",
       "       [ 3.76394652e-01],\n",
       "       [ 1.03156808e-01],\n",
       "       [ 4.64179681e-01],\n",
       "       [ 5.95877618e-02],\n",
       "       [-2.26561195e-01],\n",
       "       [ 6.80278163e-02],\n",
       "       [-2.41398862e-02],\n",
       "       [ 8.81943369e-02],\n",
       "       [ 1.63454982e-01],\n",
       "       [ 4.66130604e-01],\n",
       "       [ 1.50067032e-01],\n",
       "       [ 4.38796800e-01],\n",
       "       [ 1.23904326e-01],\n",
       "       [-2.48589706e-02],\n",
       "       [ 2.28791473e-01],\n",
       "       [-1.49930041e-02],\n",
       "       [ 1.91749631e-01],\n",
       "       [ 1.91925954e-01],\n",
       "       [ 1.91527901e-01],\n",
       "       [ 1.70780515e-01],\n",
       "       [ 1.25396474e-01],\n",
       "       [-2.72229780e-01],\n",
       "       [-2.78428362e-01],\n",
       "       [-4.15610321e-02],\n",
       "       [ 2.20923916e-01],\n",
       "       [ 2.92027243e-01],\n",
       "       [ 5.22220377e-02],\n",
       "       [ 1.26479751e-01],\n",
       "       [ 1.05299850e-01],\n",
       "       [-5.91677252e-02],\n",
       "       [ 1.89134617e-02],\n",
       "       [-6.89154175e-02],\n",
       "       [ 2.22947639e-01],\n",
       "       [ 2.53357016e-01],\n",
       "       [ 4.72115700e-01],\n",
       "       [ 7.09647446e-02],\n",
       "       [ 1.90560728e-01],\n",
       "       [-1.06733014e-01],\n",
       "       [ 2.04321668e-01],\n",
       "       [-1.10005413e-01],\n",
       "       [-5.08496635e-03],\n",
       "       [ 7.48635459e-02],\n",
       "       [ 2.43613873e-01],\n",
       "       [ 9.93614879e-02],\n",
       "       [ 4.11483778e-01],\n",
       "       [-4.61888309e-02],\n",
       "       [ 3.31289071e-01],\n",
       "       [ 3.29340356e-01],\n",
       "       [ 1.89873833e-01],\n",
       "       [-1.12966941e-01],\n",
       "       [-3.93039788e-02],\n",
       "       [ 3.28529509e-01],\n",
       "       [ 3.81341874e-01],\n",
       "       [ 2.02962799e-01],\n",
       "       [ 1.65370257e-01],\n",
       "       [ 9.10558024e-02],\n",
       "       [ 2.60006021e-01],\n",
       "       [ 6.26961111e-02],\n",
       "       [-6.89141971e-02],\n",
       "       [ 4.49141767e-01],\n",
       "       [-5.63169166e-02],\n",
       "       [ 3.45883812e-01],\n",
       "       [-2.71108842e-01],\n",
       "       [ 4.41444267e-01],\n",
       "       [ 1.69618445e-01],\n",
       "       [ 1.67847981e-01],\n",
       "       [-2.34458281e-02],\n",
       "       [-2.05764292e-01],\n",
       "       [ 4.22223954e-02],\n",
       "       [ 3.02066833e-01],\n",
       "       [ 1.35592335e-01],\n",
       "       [ 7.06864188e-02],\n",
       "       [ 6.13691145e-01],\n",
       "       [ 4.42584443e-01],\n",
       "       [ 9.30043690e-02],\n",
       "       [ 2.00495908e-01],\n",
       "       [ 1.99898552e-01],\n",
       "       [ 1.67802442e-01],\n",
       "       [ 1.32258671e-01],\n",
       "       [ 6.30316757e-01],\n",
       "       [-9.44381712e-02],\n",
       "       [ 1.95774162e-01],\n",
       "       [ 3.51303610e-01],\n",
       "       [ 2.41870181e-01],\n",
       "       [-1.03497047e-01],\n",
       "       [ 2.52517065e-02],\n",
       "       [ 3.22862360e-01],\n",
       "       [-4.34329107e-03],\n",
       "       [ 1.63426842e-01],\n",
       "       [ 5.63924932e-01],\n",
       "       [ 3.11672986e-01],\n",
       "       [ 2.13683679e-01],\n",
       "       [ 2.26868111e-02],\n",
       "       [ 2.35531633e-01],\n",
       "       [ 1.18989374e-01],\n",
       "       [-1.39437037e-01],\n",
       "       [ 8.72923626e-02],\n",
       "       [ 4.06337260e-01],\n",
       "       [ 1.35365695e-01],\n",
       "       [-8.20402591e-02],\n",
       "       [ 2.42679509e-02],\n",
       "       [ 3.35220463e-01],\n",
       "       [ 3.81852005e-01],\n",
       "       [ 1.07878230e-01],\n",
       "       [ 4.98449712e-02],\n",
       "       [-1.16049336e-01],\n",
       "       [ 6.72062266e-02],\n",
       "       [ 4.36179522e-01],\n",
       "       [ 1.61040799e-01],\n",
       "       [ 3.59392943e-01],\n",
       "       [ 5.39783074e-01],\n",
       "       [-3.26289483e-01],\n",
       "       [ 1.75738390e-01],\n",
       "       [ 2.58463290e-01],\n",
       "       [ 1.05425202e-01],\n",
       "       [-2.84414179e-03],\n",
       "       [ 2.80436531e-01],\n",
       "       [ 9.48880616e-02],\n",
       "       [ 2.61461488e-01],\n",
       "       [ 3.81652235e-01],\n",
       "       [ 5.41381954e-03],\n",
       "       [ 2.48794771e-01],\n",
       "       [ 7.77320452e-02],\n",
       "       [-1.15931418e-01],\n",
       "       [-1.11802263e-01],\n",
       "       [ 3.55727683e-01],\n",
       "       [ 4.21655204e-01],\n",
       "       [ 1.38899570e-01],\n",
       "       [ 9.98060449e-02],\n",
       "       [ 2.17104695e-01],\n",
       "       [ 3.27769047e-01],\n",
       "       [ 3.06538218e-01],\n",
       "       [-1.37446792e-01],\n",
       "       [ 1.71967787e-01],\n",
       "       [ 3.76998475e-01],\n",
       "       [ 1.23462345e-01],\n",
       "       [ 2.72894148e-01],\n",
       "       [ 4.96090936e-02],\n",
       "       [ 2.95108779e-01],\n",
       "       [ 2.08833189e-01],\n",
       "       [ 6.39430393e-02],\n",
       "       [ 9.04082340e-02],\n",
       "       [ 2.98629269e-01],\n",
       "       [ 1.02629634e-01],\n",
       "       [ 7.00587092e-02],\n",
       "       [ 2.64505043e-01],\n",
       "       [ 2.33342301e-01],\n",
       "       [ 2.22496808e-01],\n",
       "       [ 1.91091474e-01],\n",
       "       [-1.73110972e-01],\n",
       "       [ 4.12307693e-03],\n",
       "       [ 6.20543761e-02],\n",
       "       [ 4.35078064e-02],\n",
       "       [ 5.88484457e-03],\n",
       "       [ 1.60970277e-01],\n",
       "       [ 2.21888433e-01],\n",
       "       [ 5.34033684e-01],\n",
       "       [ 2.15724220e-01],\n",
       "       [-3.69454064e-02],\n",
       "       [ 3.33961557e-01],\n",
       "       [ 1.32514671e-01],\n",
       "       [-2.25722353e-01],\n",
       "       [-1.03402026e-01],\n",
       "       [ 1.79040782e-01],\n",
       "       [ 3.03366688e-01],\n",
       "       [-8.11372002e-02],\n",
       "       [-8.41178882e-02]])"
      ]
     },
     "execution_count": 49,
     "metadata": {},
     "output_type": "execute_result"
    }
   ],
   "source": [
    "x, x_grid,bandwidth =df['Return'], np.linspace(-.5, .5, 100),  0.09\n",
    "\n",
    "kde_sample(x, x_grid, 1000, bandwidth)"
   ]
  },
  {
   "cell_type": "code",
   "execution_count": 66,
   "metadata": {},
   "outputs": [
    {
     "data": {
      "image/png": "[encoded data removed]",
      "text/plain": [
       "<Figure size 432x288 with 1 Axes>"
      ]
     },
     "metadata": {
      "needs_background": "light"
     },
     "output_type": "display_data"
    }
   ],
   "source": [
    "sns.distplot(kde_sample(x, x_grid, 1000, bandwidth), color='sandybrown')\n",
    "  \n",
    "# giving labels to x-axis and y-axis \n",
    "ax.set(xlabel ='Arithmetic Annual Change') \n",
    "  \n",
    "# giving title to the plot \n",
    "plt.title('Kernel Density Estimation for Drilling Cost 1991-2006'); \n",
    "  \n",
    "# function to show plot \n",
    "plt.show()"
   ]
  },
  {
   "cell_type": "code",
   "execution_count": 50,
   "metadata": {},
   "outputs": [],
   "source": [
    "cost_t0=963.8020833333336 \n",
    "x, x_grid,bandwidth =df['Return'], np.linspace(-.5, .5, 100),  0.09\n",
    "\n",
    "def simulate_kde(cost_t0, x,x_grid,\n",
    "                bandwidth):\n",
    "        # for kde sampling     \n",
    "        for i in range(10000):\n",
    "    \n",
    "            dx = kde_sample(x, x_grid, n = 10000, bandwidth=bandwidth)\n",
    "            cost_t = cost_t0*(1+dx)\n",
    "     \n",
    "            for j in range(2006, 2012):\n",
    "                dx = kde_sample(x, x_grid, n = 10000, bandwidth=bandwidth)\n",
    "                cost_t =  cost_t*(1+dx)\n",
    "            return cost_t"
   ]
  },
  {
   "cell_type": "code",
   "execution_count": 51,
   "metadata": {},
   "outputs": [],
   "source": [
    "kernel_2006_2012=simulate_kde(cost_t0, x,x_grid,bandwidth)"
   ]
  },
  {
   "cell_type": "code",
   "execution_count": 103,
   "metadata": {},
   "outputs": [
    {
     "data": {
      "text/plain": [
       "10000"
      ]
     },
     "execution_count": 103,
     "metadata": {},
     "output_type": "execute_result"
    }
   ],
   "source": [
    "len(kernel_2006_2012)"
   ]
  },
  {
   "cell_type": "code",
   "execution_count": 52,
   "metadata": {},
   "outputs": [
    {
     "data": {
      "image/png": "[encoded data removed]",
      "text/plain": [
       "<Figure size 432x288 with 1 Axes>"
      ]
     },
     "metadata": {
      "needs_background": "light"
     },
     "output_type": "display_data"
    }
   ],
   "source": [
    "sns.distplot(kernel_2006_2012, color='sandybrown')\n",
    "  \n",
    "# giving labels to x-axis and y-axis \n",
    "ax.set(xlabel ='Drilling Cost') \n",
    "  \n",
    "# giving title to the plot \n",
    "plt.title('Kernel Density Estimation for Drilling Cost 2006-2012'); \n",
    "  \n",
    "# function to show plot \n",
    "plt.show()"
   ]
  },
  {
   "cell_type": "markdown",
   "metadata": {},
   "source": [
    "## keep going with the two triangular ones"
   ]
  },
  {
   "cell_type": "code",
   "execution_count": 57,
   "metadata": {},
   "outputs": [
    {
     "data": {
      "text/plain": [
       "4035.8612208257377"
      ]
     },
     "execution_count": 57,
     "metadata": {},
     "output_type": "execute_result"
    }
   ],
   "source": [
    "kernel_2006_2012.mean()"
   ]
  },
  {
   "cell_type": "code",
   "execution_count": 59,
   "metadata": {},
   "outputs": [],
   "source": [
    "#2012-2015 average by 9.17% per year with a maximum of 22% and minimum of 7%.¶\n",
    "t_min1, t_mean1, t_max1=0.07, 0.0917, 0.22\n",
    "cost_t1=kernel_2006_2012.mean()\n",
    "def triangular(t_min1, t_mean1, t_max1):\n",
    "    for i in range(10001):\n",
    "        dx = np.random.triangular(t_min1, t_mean1, t_max1, size=10000) \n",
    "        Pt = cost_t1*(1 + dx)\n",
    "        for j in range(2012, 2015):\n",
    "            dx = np.random.triangular(t_min1, t_mean1, t_max1, size=10000) \n",
    "            Pt = Pt*(1 + dx)\n",
    "        return Pt\n",
    "cost_2012_2015=triangular(t_min1, t_mean1, t_max1)"
   ]
  },
  {
   "cell_type": "code",
   "execution_count": 60,
   "metadata": {},
   "outputs": [
    {
     "data": {
      "image/png": "[encoded data removed]",
      "text/plain": [
       "<Figure size 432x288 with 1 Axes>"
      ]
     },
     "metadata": {
      "needs_background": "light"
     },
     "output_type": "display_data"
    }
   ],
   "source": [
    "sns.distplot(cost_2012_2015, color='sandybrown')\n",
    "  \n",
    "# giving labels to x-axis and y-axis \n",
    "ax.set(xlabel ='Drilling Cost') \n",
    "  \n",
    "# giving title to the plot \n",
    "plt.title('Estimation for 2012-2015 Drilling Cost Under Triangular Distribution'); \n",
    "  \n",
    "# function to show plot \n",
    "plt.show()"
   ]
  },
  {
   "cell_type": "code",
   "execution_count": 61,
   "metadata": {},
   "outputs": [],
   "source": [
    "#From 2015 to 2019 costs tended to increase on average by 5% per year with a maximum of 6% and minimum of 2%.\n",
    "t_min2, t_mean2, t_max2=0.02, 0.05, 0.06\n",
    "cost_t2=cost_2012_2015.mean()\n",
    "def triangular(t_min2, t_mean2, t_max2):\n",
    "    for i in range(10001):\n",
    "        dx = np.random.triangular(t_min2, t_mean2, t_max2, size=10000) \n",
    "        Pt = cost_t2*(1 + dx)\n",
    "        for j in range(2015, 2019):\n",
    "            dx = np.random.triangular(t_min2, t_mean2, t_max2, size=10000) \n",
    "            Pt = Pt*(1 + dx)\n",
    "        return Pt\n",
    "cost_2015_2019=triangular(t_min2, t_mean2, t_max2)"
   ]
  },
  {
   "cell_type": "code",
   "execution_count": 62,
   "metadata": {},
   "outputs": [
    {
     "data": {
      "image/png": "[encoded data removed]",
      "text/plain": [
       "<Figure size 432x288 with 1 Axes>"
      ]
     },
     "metadata": {
      "needs_background": "light"
     },
     "output_type": "display_data"
    }
   ],
   "source": [
    "\n",
    "sns.distplot(cost_2015_2019, color='sandybrown')\n",
    "  \n",
    "# giving labels to x-axis and y-axis \n",
    "ax.set(xlabel ='Drilling Cost') \n",
    "  \n",
    "# giving title to the plot \n",
    "plt.title('Estimation for 2015-2019 Drilling Cost Under Triangular Distribution'); \n",
    "  \n",
    "# function to show plot \n",
    "plt.show()"
   ]
  },
  {
   "cell_type": "code",
   "execution_count": 63,
   "metadata": {},
   "outputs": [],
   "source": [
    "#2020 is forecasted to follow the same increase distribution as from 2015 to 2019.\n",
    "t_min3, t_mean3, t_max3=0.02, 0.05, 0.06\n",
    "cost_t3=cost_2015_2019.mean()\n",
    "def triangular(t_min3, t_mean3, t_max3):\n",
    "    for i in range(10001):\n",
    "        dx = np.random.triangular(t_min3, t_mean3, t_max3, size=10000) \n",
    "        Pt = cost_t3*(1 + dx)\n",
    "    return Pt\n",
    "cost_2020=triangular(t_min3, t_mean3, t_max3)"
   ]
  },
  {
   "cell_type": "code",
   "execution_count": 64,
   "metadata": {},
   "outputs": [
    {
     "data": {
      "image/png": "[encoded data removed]",
      "text/plain": [
       "<Figure size 432x288 with 1 Axes>"
      ]
     },
     "metadata": {
      "needs_background": "light"
     },
     "output_type": "display_data"
    }
   ],
   "source": [
    "\n",
    "sns.distplot(cost_2020, color='sandybrown')\n",
    "  \n",
    "# giving labels to x-axis and y-axis \n",
    "ax.set(xlabel ='Drilling Cost') \n",
    "  \n",
    "# giving title to the plot \n",
    "plt.title('Estimation for 2020 Drilling Cost Under Triangular Distribution'); \n",
    "  \n",
    "# function to show plot \n",
    "plt.show()"
   ]
  },
  {
   "cell_type": "markdown",
   "metadata": {
    "heading_collapsed": true
   },
   "source": [
    "## Simulate possible future values of 2020 drilling costs under both the assumption of Normality as well as under the kernel density estimate you created (2006 – 2012) as well as the information from 2015 – 2020. Make a recommendation for which one you feel the company should use (HINT: You will run two simulations)."
   ]
  },
  {
   "cell_type": "code",
   "execution_count": 105,
   "metadata": {
    "hidden": true
   },
   "outputs": [],
   "source": [
    "#find mu and sigma of return rate\n",
    "mu, sigma=np.mean(df['Return']), np.std(df['Return'])\n",
    "def normal_return(mu, sigma):\n",
    "    for i in range(10001):\n",
    "        dx = np.random.normal(mu, sigma, 10000)\n",
    "\n",
    "        for j in range(2006, 2019):\n",
    "            dx = np.random.normal(mu, sigma, 10000)\n",
    "        return dx\n",
    "return_2006_2019=normal_return(mu, sigma)\n"
   ]
  },
  {
   "cell_type": "code",
   "execution_count": 106,
   "metadata": {
    "hidden": true
   },
   "outputs": [
    {
     "data": {
      "text/plain": [
       "(0.13084173776714356, 0.17639051444694714, 1287.243262016795)"
      ]
     },
     "execution_count": 106,
     "metadata": {},
     "output_type": "execute_result"
    }
   ],
   "source": [
    "## 2019 normal\n",
    "\n",
    "mu, sigma, cost_t0 = np.mean(return_2006_2019), np.std(return_2006_2019), cost_2015_2019.mean()\n",
    "mu, sigma, cost_t0 "
   ]
  },
  {
   "cell_type": "code",
   "execution_count": 107,
   "metadata": {
    "hidden": true
   },
   "outputs": [],
   "source": [
    "#2020\n",
    "def normal_d(mu, sigma, cost_t0):\n",
    "    for i in range(10001):\n",
    "        dx = np.random.normal(mu, sigma, 10000)\n",
    "        Pt = cost_t0*(1 + dx)\n",
    "        return Pt\n",
    "cost_2020=normal_d(mu, sigma, cost_t0)"
   ]
  },
  {
   "cell_type": "code",
   "execution_count": 113,
   "metadata": {
    "hidden": true
   },
   "outputs": [
    {
     "data": {
      "image/png": "[encoded data removed]",
      "text/plain": [
       "<Figure size 432x288 with 1 Axes>"
      ]
     },
     "metadata": {
      "needs_background": "light"
     },
     "output_type": "display_data"
    }
   ],
   "source": [
    "count, bins, ignored = plt.hist(cost_2020, 100, density=True)\n",
    "plt.plot(bins, 1/(sigma * np.sqrt(2 * np.pi)) *\n",
    "               np.exp( - (bins - mu)**2 / (2 * sigma**2) ),\n",
    "         )\n",
    "plt.show()"
   ]
  },
  {
   "cell_type": "code",
   "execution_count": 126,
   "metadata": {
    "hidden": true
   },
   "outputs": [],
   "source": [
    "## Kernel\n"
   ]
  },
  {
   "cell_type": "code",
   "execution_count": null,
   "metadata": {
    "hidden": true
   },
   "outputs": [],
   "source": []
  }
 ],
 "metadata": {
  "kernelspec": {
   "display_name": "Python 3",
   "language": "python",
   "name": "python3"
  },
  "language_info": {
   "codemirror_mode": {
    "name": "ipython",
    "version": 3
   },
   "file_extension": ".py",
   "mimetype": "text/x-python",
   "name": "python",
   "nbconvert_exporter": "python",
   "pygments_lexer": "ipython3",
   "version": "3.7.4"
  },
  "toc": {
   "base_numbering": 1,
   "nav_menu": {},
   "number_sections": true,
   "sideBar": true,
   "skip_h1_title": false,
   "title_cell": "Table of Contents",
   "title_sidebar": "Contents",
   "toc_cell": false,
   "toc_position": {},
   "toc_section_display": true,
   "toc_window_display": true
  }
 },
 "nbformat": 4,
 "nbformat_minor": 2
}
