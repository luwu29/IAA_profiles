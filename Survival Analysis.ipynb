{
 "cells": [
  {
   "cell_type": "code",
   "execution_count": 104,
   "metadata": {},
   "outputs": [],
   "source": [
    "import matplotlib.pyplot as plt\n",
    "import seaborn as sns\n",
    "import numpy as np"
   ]
  },
  {
   "cell_type": "code",
   "execution_count": 105,
   "metadata": {},
   "outputs": [],
   "source": [
    "import pandas as pd\n",
    "df = pd.read_sas('hurricane.sas7bdat',format='sas7bdat')\n",
    "\n"
   ]
  },
  {
   "cell_type": "code",
   "execution_count": 2,
   "metadata": {},
   "outputs": [
    {
     "data": {
      "text/html": [
       "<div>\n",
       "<style scoped>\n",
       "    .dataframe tbody tr th:only-of-type {\n",
       "        vertical-align: middle;\n",
       "    }\n",
       "\n",
       "    .dataframe tbody tr th {\n",
       "        vertical-align: top;\n",
       "    }\n",
       "\n",
       "    .dataframe thead th {\n",
       "        text-align: right;\n",
       "    }\n",
       "</style>\n",
       "<table border=\"1\" class=\"dataframe\">\n",
       "  <thead>\n",
       "    <tr style=\"text-align: right;\">\n",
       "      <th></th>\n",
       "      <th>backup</th>\n",
       "      <th>age</th>\n",
       "      <th>bridgecrane</th>\n",
       "      <th>servo</th>\n",
       "      <th>gear</th>\n",
       "      <th>trashrack</th>\n",
       "      <th>slope</th>\n",
       "      <th>elevation</th>\n",
       "      <th>h1</th>\n",
       "      <th>h2</th>\n",
       "      <th>...</th>\n",
       "      <th>h43</th>\n",
       "      <th>h44</th>\n",
       "      <th>h45</th>\n",
       "      <th>h46</th>\n",
       "      <th>h47</th>\n",
       "      <th>h48</th>\n",
       "      <th>survive</th>\n",
       "      <th>hour</th>\n",
       "      <th>reason</th>\n",
       "      <th>reason2</th>\n",
       "    </tr>\n",
       "  </thead>\n",
       "  <tbody>\n",
       "    <tr>\n",
       "      <td>0</td>\n",
       "      <td>0.0</td>\n",
       "      <td>6.0</td>\n",
       "      <td>0.0</td>\n",
       "      <td>0.0</td>\n",
       "      <td>0.0</td>\n",
       "      <td>1.0</td>\n",
       "      <td>3.0</td>\n",
       "      <td>2.0</td>\n",
       "      <td>1.0</td>\n",
       "      <td>1.0</td>\n",
       "      <td>...</td>\n",
       "      <td>1.0</td>\n",
       "      <td>1.0</td>\n",
       "      <td>1.0</td>\n",
       "      <td>1.0</td>\n",
       "      <td>1.0</td>\n",
       "      <td>1.0</td>\n",
       "      <td>1.0</td>\n",
       "      <td>48.0</td>\n",
       "      <td>0.0</td>\n",
       "      <td>5.0</td>\n",
       "    </tr>\n",
       "    <tr>\n",
       "      <td>1</td>\n",
       "      <td>0.0</td>\n",
       "      <td>6.0</td>\n",
       "      <td>1.0</td>\n",
       "      <td>0.0</td>\n",
       "      <td>0.0</td>\n",
       "      <td>1.0</td>\n",
       "      <td>7.0</td>\n",
       "      <td>3.0</td>\n",
       "      <td>0.0</td>\n",
       "      <td>0.0</td>\n",
       "      <td>...</td>\n",
       "      <td>1.0</td>\n",
       "      <td>1.0</td>\n",
       "      <td>1.0</td>\n",
       "      <td>1.0</td>\n",
       "      <td>1.0</td>\n",
       "      <td>0.0</td>\n",
       "      <td>1.0</td>\n",
       "      <td>48.0</td>\n",
       "      <td>0.0</td>\n",
       "      <td>5.0</td>\n",
       "    </tr>\n",
       "    <tr>\n",
       "      <td>2</td>\n",
       "      <td>0.0</td>\n",
       "      <td>6.1</td>\n",
       "      <td>1.0</td>\n",
       "      <td>0.0</td>\n",
       "      <td>0.0</td>\n",
       "      <td>1.0</td>\n",
       "      <td>3.0</td>\n",
       "      <td>3.0</td>\n",
       "      <td>0.0</td>\n",
       "      <td>0.0</td>\n",
       "      <td>...</td>\n",
       "      <td>0.0</td>\n",
       "      <td>0.0</td>\n",
       "      <td>0.0</td>\n",
       "      <td>0.0</td>\n",
       "      <td>0.0</td>\n",
       "      <td>0.0</td>\n",
       "      <td>1.0</td>\n",
       "      <td>48.0</td>\n",
       "      <td>0.0</td>\n",
       "      <td>5.0</td>\n",
       "    </tr>\n",
       "    <tr>\n",
       "      <td>3</td>\n",
       "      <td>1.0</td>\n",
       "      <td>6.1</td>\n",
       "      <td>1.0</td>\n",
       "      <td>0.0</td>\n",
       "      <td>0.0</td>\n",
       "      <td>0.0</td>\n",
       "      <td>4.0</td>\n",
       "      <td>3.0</td>\n",
       "      <td>1.0</td>\n",
       "      <td>1.0</td>\n",
       "      <td>...</td>\n",
       "      <td>0.0</td>\n",
       "      <td>0.0</td>\n",
       "      <td>0.0</td>\n",
       "      <td>0.0</td>\n",
       "      <td>0.0</td>\n",
       "      <td>0.0</td>\n",
       "      <td>1.0</td>\n",
       "      <td>48.0</td>\n",
       "      <td>0.0</td>\n",
       "      <td>5.0</td>\n",
       "    </tr>\n",
       "    <tr>\n",
       "      <td>4</td>\n",
       "      <td>0.0</td>\n",
       "      <td>6.2</td>\n",
       "      <td>1.0</td>\n",
       "      <td>1.0</td>\n",
       "      <td>0.0</td>\n",
       "      <td>1.0</td>\n",
       "      <td>3.0</td>\n",
       "      <td>4.0</td>\n",
       "      <td>1.0</td>\n",
       "      <td>1.0</td>\n",
       "      <td>...</td>\n",
       "      <td>0.0</td>\n",
       "      <td>0.0</td>\n",
       "      <td>0.0</td>\n",
       "      <td>0.0</td>\n",
       "      <td>0.0</td>\n",
       "      <td>0.0</td>\n",
       "      <td>1.0</td>\n",
       "      <td>48.0</td>\n",
       "      <td>0.0</td>\n",
       "      <td>5.0</td>\n",
       "    </tr>\n",
       "  </tbody>\n",
       "</table>\n",
       "<p>5 rows × 60 columns</p>\n",
       "</div>"
      ],
      "text/plain": [
       "   backup  age  bridgecrane  servo  gear  trashrack  slope  elevation   h1  \\\n",
       "0     0.0  6.0          0.0    0.0   0.0        1.0    3.0        2.0  1.0   \n",
       "1     0.0  6.0          1.0    0.0   0.0        1.0    7.0        3.0  0.0   \n",
       "2     0.0  6.1          1.0    0.0   0.0        1.0    3.0        3.0  0.0   \n",
       "3     1.0  6.1          1.0    0.0   0.0        0.0    4.0        3.0  1.0   \n",
       "4     0.0  6.2          1.0    1.0   0.0        1.0    3.0        4.0  1.0   \n",
       "\n",
       "    h2  ...  h43  h44  h45  h46  h47  h48  survive  hour  reason  reason2  \n",
       "0  1.0  ...  1.0  1.0  1.0  1.0  1.0  1.0      1.0  48.0     0.0      5.0  \n",
       "1  0.0  ...  1.0  1.0  1.0  1.0  1.0  0.0      1.0  48.0     0.0      5.0  \n",
       "2  0.0  ...  0.0  0.0  0.0  0.0  0.0  0.0      1.0  48.0     0.0      5.0  \n",
       "3  1.0  ...  0.0  0.0  0.0  0.0  0.0  0.0      1.0  48.0     0.0      5.0  \n",
       "4  1.0  ...  0.0  0.0  0.0  0.0  0.0  0.0      1.0  48.0     0.0      5.0  \n",
       "\n",
       "[5 rows x 60 columns]"
      ]
     },
     "execution_count": 2,
     "metadata": {},
     "output_type": "execute_result"
    }
   ],
   "source": [
    "df.head()"
   ]
  },
  {
   "cell_type": "markdown",
   "metadata": {},
   "source": [
    "# EDA"
   ]
  },
  {
   "cell_type": "code",
   "execution_count": 58,
   "metadata": {
    "scrolled": true
   },
   "outputs": [
    {
     "name": "stdout",
     "output_type": "stream",
     "text": [
      "<class 'pandas.core.frame.DataFrame'>\n",
      "RangeIndex: 770 entries, 0 to 769\n",
      "Data columns (total 60 columns):\n",
      "backup         770 non-null float64\n",
      "age            770 non-null float64\n",
      "bridgecrane    770 non-null float64\n",
      "servo          770 non-null float64\n",
      "gear           770 non-null float64\n",
      "trashrack      770 non-null float64\n",
      "slope          770 non-null float64\n",
      "elevation      770 non-null float64\n",
      "h1             770 non-null float64\n",
      "h2             768 non-null float64\n",
      "h3             766 non-null float64\n",
      "h4             764 non-null float64\n",
      "h5             762 non-null float64\n",
      "h6             760 non-null float64\n",
      "h7             758 non-null float64\n",
      "h8             757 non-null float64\n",
      "h9             748 non-null float64\n",
      "h10            743 non-null float64\n",
      "h11            741 non-null float64\n",
      "h12            739 non-null float64\n",
      "h13            736 non-null float64\n",
      "h14            734 non-null float64\n",
      "h15            729 non-null float64\n",
      "h16            726 non-null float64\n",
      "h17            721 non-null float64\n",
      "h18            716 non-null float64\n",
      "h19            712 non-null float64\n",
      "h20            708 non-null float64\n",
      "h21            702 non-null float64\n",
      "h22            697 non-null float64\n",
      "h23            695 non-null float64\n",
      "h24            694 non-null float64\n",
      "h25            684 non-null float64\n",
      "h26            677 non-null float64\n",
      "h27            671 non-null float64\n",
      "h28            666 non-null float64\n",
      "h29            662 non-null float64\n",
      "h30            662 non-null float64\n",
      "h31            659 non-null float64\n",
      "h32            657 non-null float64\n",
      "h33            655 non-null float64\n",
      "h34            653 non-null float64\n",
      "h35            650 non-null float64\n",
      "h36            643 non-null float64\n",
      "h37            639 non-null float64\n",
      "h38            632 non-null float64\n",
      "h39            630 non-null float64\n",
      "h40            626 non-null float64\n",
      "h41            621 non-null float64\n",
      "h42            621 non-null float64\n",
      "h43            618 non-null float64\n",
      "h44            610 non-null float64\n",
      "h45            608 non-null float64\n",
      "h46            604 non-null float64\n",
      "h47            598 non-null float64\n",
      "h48            597 non-null float64\n",
      "survive        770 non-null float64\n",
      "hour           770 non-null float64\n",
      "reason         770 non-null float64\n",
      "reason2        770 non-null float64\n",
      "dtypes: float64(60)\n",
      "memory usage: 361.1 KB\n"
     ]
    }
   ],
   "source": [
    "df.info() #no missing values except for h1-h48"
   ]
  },
  {
   "cell_type": "code",
   "execution_count": 3,
   "metadata": {
    "scrolled": false
   },
   "outputs": [
    {
     "data": {
      "text/html": [
       "<div>\n",
       "<style scoped>\n",
       "    .dataframe tbody tr th:only-of-type {\n",
       "        vertical-align: middle;\n",
       "    }\n",
       "\n",
       "    .dataframe tbody tr th {\n",
       "        vertical-align: top;\n",
       "    }\n",
       "\n",
       "    .dataframe thead th {\n",
       "        text-align: right;\n",
       "    }\n",
       "</style>\n",
       "<table border=\"1\" class=\"dataframe\">\n",
       "  <thead>\n",
       "    <tr style=\"text-align: right;\">\n",
       "      <th></th>\n",
       "      <th>backup</th>\n",
       "      <th>age</th>\n",
       "      <th>bridgecrane</th>\n",
       "      <th>servo</th>\n",
       "      <th>gear</th>\n",
       "      <th>trashrack</th>\n",
       "      <th>slope</th>\n",
       "      <th>elevation</th>\n",
       "      <th>h1</th>\n",
       "      <th>h2</th>\n",
       "      <th>...</th>\n",
       "      <th>h43</th>\n",
       "      <th>h44</th>\n",
       "      <th>h45</th>\n",
       "      <th>h46</th>\n",
       "      <th>h47</th>\n",
       "      <th>h48</th>\n",
       "      <th>survive</th>\n",
       "      <th>hour</th>\n",
       "      <th>reason</th>\n",
       "      <th>reason2</th>\n",
       "    </tr>\n",
       "  </thead>\n",
       "  <tbody>\n",
       "    <tr>\n",
       "      <td>count</td>\n",
       "      <td>770.000000</td>\n",
       "      <td>770.000000</td>\n",
       "      <td>770.000000</td>\n",
       "      <td>770.000000</td>\n",
       "      <td>770.000000</td>\n",
       "      <td>770.000000</td>\n",
       "      <td>770.000000</td>\n",
       "      <td>770.000000</td>\n",
       "      <td>770.000000</td>\n",
       "      <td>768.000000</td>\n",
       "      <td>...</td>\n",
       "      <td>618.000000</td>\n",
       "      <td>610.000000</td>\n",
       "      <td>608.000000</td>\n",
       "      <td>604.000000</td>\n",
       "      <td>598.000000</td>\n",
       "      <td>597.000000</td>\n",
       "      <td>770.000000</td>\n",
       "      <td>770.000000</td>\n",
       "      <td>770.000000</td>\n",
       "      <td>770.000000</td>\n",
       "    </tr>\n",
       "    <tr>\n",
       "      <td>mean</td>\n",
       "      <td>0.493506</td>\n",
       "      <td>7.226753</td>\n",
       "      <td>0.870130</td>\n",
       "      <td>0.596104</td>\n",
       "      <td>0.129870</td>\n",
       "      <td>0.516883</td>\n",
       "      <td>3.149351</td>\n",
       "      <td>3.388312</td>\n",
       "      <td>0.148052</td>\n",
       "      <td>0.278646</td>\n",
       "      <td>...</td>\n",
       "      <td>0.522654</td>\n",
       "      <td>0.524590</td>\n",
       "      <td>0.524671</td>\n",
       "      <td>0.529801</td>\n",
       "      <td>0.541806</td>\n",
       "      <td>0.534338</td>\n",
       "      <td>0.410390</td>\n",
       "      <td>38.520779</td>\n",
       "      <td>1.475325</td>\n",
       "      <td>3.527273</td>\n",
       "    </tr>\n",
       "    <tr>\n",
       "      <td>std</td>\n",
       "      <td>0.500283</td>\n",
       "      <td>1.026241</td>\n",
       "      <td>0.336379</td>\n",
       "      <td>0.490996</td>\n",
       "      <td>0.336379</td>\n",
       "      <td>0.500040</td>\n",
       "      <td>2.998444</td>\n",
       "      <td>0.849458</td>\n",
       "      <td>0.355382</td>\n",
       "      <td>0.448625</td>\n",
       "      <td>...</td>\n",
       "      <td>0.499891</td>\n",
       "      <td>0.499805</td>\n",
       "      <td>0.499802</td>\n",
       "      <td>0.499525</td>\n",
       "      <td>0.498666</td>\n",
       "      <td>0.499238</td>\n",
       "      <td>0.492224</td>\n",
       "      <td>12.891170</td>\n",
       "      <td>1.505098</td>\n",
       "      <td>1.503324</td>\n",
       "    </tr>\n",
       "    <tr>\n",
       "      <td>min</td>\n",
       "      <td>0.000000</td>\n",
       "      <td>5.300000</td>\n",
       "      <td>0.000000</td>\n",
       "      <td>0.000000</td>\n",
       "      <td>0.000000</td>\n",
       "      <td>0.000000</td>\n",
       "      <td>0.000000</td>\n",
       "      <td>2.000000</td>\n",
       "      <td>0.000000</td>\n",
       "      <td>0.000000</td>\n",
       "      <td>...</td>\n",
       "      <td>0.000000</td>\n",
       "      <td>0.000000</td>\n",
       "      <td>0.000000</td>\n",
       "      <td>0.000000</td>\n",
       "      <td>0.000000</td>\n",
       "      <td>0.000000</td>\n",
       "      <td>0.000000</td>\n",
       "      <td>1.000000</td>\n",
       "      <td>0.000000</td>\n",
       "      <td>1.000000</td>\n",
       "    </tr>\n",
       "    <tr>\n",
       "      <td>25%</td>\n",
       "      <td>0.000000</td>\n",
       "      <td>6.500000</td>\n",
       "      <td>1.000000</td>\n",
       "      <td>0.000000</td>\n",
       "      <td>0.000000</td>\n",
       "      <td>0.000000</td>\n",
       "      <td>1.000000</td>\n",
       "      <td>3.000000</td>\n",
       "      <td>0.000000</td>\n",
       "      <td>0.000000</td>\n",
       "      <td>...</td>\n",
       "      <td>0.000000</td>\n",
       "      <td>0.000000</td>\n",
       "      <td>0.000000</td>\n",
       "      <td>0.000000</td>\n",
       "      <td>0.000000</td>\n",
       "      <td>0.000000</td>\n",
       "      <td>0.000000</td>\n",
       "      <td>27.000000</td>\n",
       "      <td>0.000000</td>\n",
       "      <td>2.000000</td>\n",
       "    </tr>\n",
       "    <tr>\n",
       "      <td>50%</td>\n",
       "      <td>0.000000</td>\n",
       "      <td>7.000000</td>\n",
       "      <td>1.000000</td>\n",
       "      <td>1.000000</td>\n",
       "      <td>0.000000</td>\n",
       "      <td>1.000000</td>\n",
       "      <td>2.000000</td>\n",
       "      <td>3.000000</td>\n",
       "      <td>0.000000</td>\n",
       "      <td>0.000000</td>\n",
       "      <td>...</td>\n",
       "      <td>1.000000</td>\n",
       "      <td>1.000000</td>\n",
       "      <td>1.000000</td>\n",
       "      <td>1.000000</td>\n",
       "      <td>1.000000</td>\n",
       "      <td>1.000000</td>\n",
       "      <td>0.000000</td>\n",
       "      <td>45.000000</td>\n",
       "      <td>1.000000</td>\n",
       "      <td>4.000000</td>\n",
       "    </tr>\n",
       "    <tr>\n",
       "      <td>75%</td>\n",
       "      <td>1.000000</td>\n",
       "      <td>7.800000</td>\n",
       "      <td>1.000000</td>\n",
       "      <td>1.000000</td>\n",
       "      <td>0.000000</td>\n",
       "      <td>1.000000</td>\n",
       "      <td>4.000000</td>\n",
       "      <td>4.000000</td>\n",
       "      <td>0.000000</td>\n",
       "      <td>1.000000</td>\n",
       "      <td>...</td>\n",
       "      <td>1.000000</td>\n",
       "      <td>1.000000</td>\n",
       "      <td>1.000000</td>\n",
       "      <td>1.000000</td>\n",
       "      <td>1.000000</td>\n",
       "      <td>1.000000</td>\n",
       "      <td>1.000000</td>\n",
       "      <td>48.000000</td>\n",
       "      <td>3.000000</td>\n",
       "      <td>5.000000</td>\n",
       "    </tr>\n",
       "    <tr>\n",
       "      <td>max</td>\n",
       "      <td>1.000000</td>\n",
       "      <td>10.400000</td>\n",
       "      <td>1.000000</td>\n",
       "      <td>1.000000</td>\n",
       "      <td>1.000000</td>\n",
       "      <td>1.000000</td>\n",
       "      <td>18.000000</td>\n",
       "      <td>6.000000</td>\n",
       "      <td>1.000000</td>\n",
       "      <td>1.000000</td>\n",
       "      <td>...</td>\n",
       "      <td>1.000000</td>\n",
       "      <td>1.000000</td>\n",
       "      <td>1.000000</td>\n",
       "      <td>1.000000</td>\n",
       "      <td>1.000000</td>\n",
       "      <td>1.000000</td>\n",
       "      <td>1.000000</td>\n",
       "      <td>48.000000</td>\n",
       "      <td>4.000000</td>\n",
       "      <td>5.000000</td>\n",
       "    </tr>\n",
       "  </tbody>\n",
       "</table>\n",
       "<p>8 rows × 60 columns</p>\n",
       "</div>"
      ],
      "text/plain": [
       "           backup         age  bridgecrane       servo        gear  \\\n",
       "count  770.000000  770.000000   770.000000  770.000000  770.000000   \n",
       "mean     0.493506    7.226753     0.870130    0.596104    0.129870   \n",
       "std      0.500283    1.026241     0.336379    0.490996    0.336379   \n",
       "min      0.000000    5.300000     0.000000    0.000000    0.000000   \n",
       "25%      0.000000    6.500000     1.000000    0.000000    0.000000   \n",
       "50%      0.000000    7.000000     1.000000    1.000000    0.000000   \n",
       "75%      1.000000    7.800000     1.000000    1.000000    0.000000   \n",
       "max      1.000000   10.400000     1.000000    1.000000    1.000000   \n",
       "\n",
       "        trashrack       slope   elevation          h1          h2  ...  \\\n",
       "count  770.000000  770.000000  770.000000  770.000000  768.000000  ...   \n",
       "mean     0.516883    3.149351    3.388312    0.148052    0.278646  ...   \n",
       "std      0.500040    2.998444    0.849458    0.355382    0.448625  ...   \n",
       "min      0.000000    0.000000    2.000000    0.000000    0.000000  ...   \n",
       "25%      0.000000    1.000000    3.000000    0.000000    0.000000  ...   \n",
       "50%      1.000000    2.000000    3.000000    0.000000    0.000000  ...   \n",
       "75%      1.000000    4.000000    4.000000    0.000000    1.000000  ...   \n",
       "max      1.000000   18.000000    6.000000    1.000000    1.000000  ...   \n",
       "\n",
       "              h43         h44         h45         h46         h47         h48  \\\n",
       "count  618.000000  610.000000  608.000000  604.000000  598.000000  597.000000   \n",
       "mean     0.522654    0.524590    0.524671    0.529801    0.541806    0.534338   \n",
       "std      0.499891    0.499805    0.499802    0.499525    0.498666    0.499238   \n",
       "min      0.000000    0.000000    0.000000    0.000000    0.000000    0.000000   \n",
       "25%      0.000000    0.000000    0.000000    0.000000    0.000000    0.000000   \n",
       "50%      1.000000    1.000000    1.000000    1.000000    1.000000    1.000000   \n",
       "75%      1.000000    1.000000    1.000000    1.000000    1.000000    1.000000   \n",
       "max      1.000000    1.000000    1.000000    1.000000    1.000000    1.000000   \n",
       "\n",
       "          survive        hour      reason     reason2  \n",
       "count  770.000000  770.000000  770.000000  770.000000  \n",
       "mean     0.410390   38.520779    1.475325    3.527273  \n",
       "std      0.492224   12.891170    1.505098    1.503324  \n",
       "min      0.000000    1.000000    0.000000    1.000000  \n",
       "25%      0.000000   27.000000    0.000000    2.000000  \n",
       "50%      0.000000   45.000000    1.000000    4.000000  \n",
       "75%      1.000000   48.000000    3.000000    5.000000  \n",
       "max      1.000000   48.000000    4.000000    5.000000  \n",
       "\n",
       "[8 rows x 60 columns]"
      ]
     },
     "execution_count": 3,
     "metadata": {},
     "output_type": "execute_result"
    }
   ],
   "source": [
    "#numeric variables EDA\n",
    "df.describe()"
   ]
  },
  {
   "cell_type": "code",
   "execution_count": 106,
   "metadata": {},
   "outputs": [
    {
     "data": {
      "text/plain": [
       "count    770.000000\n",
       "mean      38.520779\n",
       "std       12.891170\n",
       "min        1.000000\n",
       "25%       27.000000\n",
       "50%       45.000000\n",
       "75%       48.000000\n",
       "max       48.000000\n",
       "Name: hour, dtype: float64"
      ]
     },
     "metadata": {},
     "output_type": "display_data"
    },
    {
     "data": {
      "text/plain": [
       "0.0    454\n",
       "1.0    316\n",
       "Name: survive, dtype: int64"
      ]
     },
     "metadata": {},
     "output_type": "display_data"
    }
   ],
   "source": [
    "display(df['hour'].describe(),df['survive'].value_counts())#Targets \n"
   ]
  },
  {
   "cell_type": "markdown",
   "metadata": {},
   "source": [
    "<p> Percentage of pumps that survived the hurricane: 41%</p>"
   ]
  },
  {
   "cell_type": "code",
   "execution_count": 116,
   "metadata": {},
   "outputs": [
    {
     "data": {
      "text/html": [
       "<div>\n",
       "<style scoped>\n",
       "    .dataframe tbody tr th:only-of-type {\n",
       "        vertical-align: middle;\n",
       "    }\n",
       "\n",
       "    .dataframe tbody tr th {\n",
       "        vertical-align: top;\n",
       "    }\n",
       "\n",
       "    .dataframe thead th {\n",
       "        text-align: right;\n",
       "    }\n",
       "</style>\n",
       "<table border=\"1\" class=\"dataframe\">\n",
       "  <thead>\n",
       "    <tr style=\"text-align: right;\">\n",
       "      <th></th>\n",
       "      <th>survive</th>\n",
       "    </tr>\n",
       "    <tr>\n",
       "      <th>reason</th>\n",
       "      <th></th>\n",
       "    </tr>\n",
       "  </thead>\n",
       "  <tbody>\n",
       "    <tr>\n",
       "      <td>0.0</td>\n",
       "      <td>0.410390</td>\n",
       "    </tr>\n",
       "    <tr>\n",
       "      <td>1.0</td>\n",
       "      <td>0.149351</td>\n",
       "    </tr>\n",
       "    <tr>\n",
       "      <td>2.0</td>\n",
       "      <td>0.145455</td>\n",
       "    </tr>\n",
       "    <tr>\n",
       "      <td>3.0</td>\n",
       "      <td>0.144156</td>\n",
       "    </tr>\n",
       "    <tr>\n",
       "      <td>4.0</td>\n",
       "      <td>0.150649</td>\n",
       "    </tr>\n",
       "  </tbody>\n",
       "</table>\n",
       "</div>"
      ],
      "text/plain": [
       "         survive\n",
       "reason          \n",
       "0.0     0.410390\n",
       "1.0     0.149351\n",
       "2.0     0.145455\n",
       "3.0     0.144156\n",
       "4.0     0.150649"
      ]
     },
     "execution_count": 116,
     "metadata": {},
     "output_type": "execute_result"
    }
   ],
   "source": [
    "#Percentage of pumps in each type of failure \n",
    "\n",
    "per=pd.DataFrame(df.groupby('reason').survive.count())\n",
    "per.apply(lambda x: x / (x.sum()))\n",
    "          \n",
    "#df.groupby('reason').survive.count().apply(lambda x:100 * x / (x.sum()))"
   ]
  },
  {
   "cell_type": "code",
   "execution_count": 22,
   "metadata": {},
   "outputs": [
    {
     "data": {
      "text/plain": [
       "reason\n",
       "0.0    48.000000\n",
       "1.0    26.443478\n",
       "2.0    41.044643\n",
       "3.0    38.828829\n",
       "4.0    21.939655\n",
       "Name: hour, dtype: float64"
      ]
     },
     "execution_count": 22,
     "metadata": {},
     "output_type": "execute_result"
    }
   ],
   "source": [
    "#and average failure time for each failure type\n",
    "df.groupby('reason').hour.mean()"
   ]
  },
  {
   "cell_type": "code",
   "execution_count": 48,
   "metadata": {},
   "outputs": [],
   "source": [
    "#convert the above to dataframe for anova\n",
    "anova=df.loc[:,('reason', 'hour')]"
   ]
  },
  {
   "cell_type": "code",
   "execution_count": 54,
   "metadata": {},
   "outputs": [],
   "source": [
    "anova=anova.loc[anova['reason']>0,:] #subset to only failed ones \n"
   ]
  },
  {
   "cell_type": "code",
   "execution_count": 55,
   "metadata": {},
   "outputs": [
    {
     "data": {
      "text/plain": [
       "<matplotlib.axes._subplots.AxesSubplot at 0x1a21790550>"
      ]
     },
     "execution_count": 55,
     "metadata": {},
     "output_type": "execute_result"
    },
    {
     "data": {
      "image/png": "[encoded data removed]",
      "text/plain": [
       "<Figure size 432x288 with 1 Axes>"
      ]
     },
     "metadata": {
      "needs_background": "light"
     },
     "output_type": "display_data"
    }
   ],
   "source": [
    "sns.boxplot(x='reason', y='hour', data=anova)\n",
    "\n"
   ]
  },
  {
   "cell_type": "code",
   "execution_count": 56,
   "metadata": {},
   "outputs": [
    {
     "data": {
      "text/html": [
       "<div>\n",
       "<style scoped>\n",
       "    .dataframe tbody tr th:only-of-type {\n",
       "        vertical-align: middle;\n",
       "    }\n",
       "\n",
       "    .dataframe tbody tr th {\n",
       "        vertical-align: top;\n",
       "    }\n",
       "\n",
       "    .dataframe thead th {\n",
       "        text-align: right;\n",
       "    }\n",
       "</style>\n",
       "<table border=\"1\" class=\"dataframe\">\n",
       "  <thead>\n",
       "    <tr style=\"text-align: right;\">\n",
       "      <th></th>\n",
       "      <th>reason</th>\n",
       "      <th>hour</th>\n",
       "    </tr>\n",
       "  </thead>\n",
       "  <tbody>\n",
       "    <tr>\n",
       "      <td>316</td>\n",
       "      <td>1.0</td>\n",
       "      <td>37.0</td>\n",
       "    </tr>\n",
       "    <tr>\n",
       "      <td>317</td>\n",
       "      <td>1.0</td>\n",
       "      <td>33.0</td>\n",
       "    </tr>\n",
       "    <tr>\n",
       "      <td>318</td>\n",
       "      <td>1.0</td>\n",
       "      <td>28.0</td>\n",
       "    </tr>\n",
       "    <tr>\n",
       "      <td>319</td>\n",
       "      <td>1.0</td>\n",
       "      <td>10.0</td>\n",
       "    </tr>\n",
       "    <tr>\n",
       "      <td>320</td>\n",
       "      <td>1.0</td>\n",
       "      <td>26.0</td>\n",
       "    </tr>\n",
       "    <tr>\n",
       "      <td>...</td>\n",
       "      <td>...</td>\n",
       "      <td>...</td>\n",
       "    </tr>\n",
       "    <tr>\n",
       "      <td>765</td>\n",
       "      <td>4.0</td>\n",
       "      <td>26.0</td>\n",
       "    </tr>\n",
       "    <tr>\n",
       "      <td>766</td>\n",
       "      <td>4.0</td>\n",
       "      <td>26.0</td>\n",
       "    </tr>\n",
       "    <tr>\n",
       "      <td>767</td>\n",
       "      <td>4.0</td>\n",
       "      <td>24.0</td>\n",
       "    </tr>\n",
       "    <tr>\n",
       "      <td>768</td>\n",
       "      <td>4.0</td>\n",
       "      <td>26.0</td>\n",
       "    </tr>\n",
       "    <tr>\n",
       "      <td>769</td>\n",
       "      <td>4.0</td>\n",
       "      <td>25.0</td>\n",
       "    </tr>\n",
       "  </tbody>\n",
       "</table>\n",
       "<p>454 rows × 2 columns</p>\n",
       "</div>"
      ],
      "text/plain": [
       "     reason  hour\n",
       "316     1.0  37.0\n",
       "317     1.0  33.0\n",
       "318     1.0  28.0\n",
       "319     1.0  10.0\n",
       "320     1.0  26.0\n",
       "..      ...   ...\n",
       "765     4.0  26.0\n",
       "766     4.0  26.0\n",
       "767     4.0  24.0\n",
       "768     4.0  26.0\n",
       "769     4.0  25.0\n",
       "\n",
       "[454 rows x 2 columns]"
      ]
     },
     "execution_count": 56,
     "metadata": {},
     "output_type": "execute_result"
    }
   ],
   "source": [
    "anova"
   ]
  },
  {
   "cell_type": "code",
   "execution_count": 57,
   "metadata": {},
   "outputs": [],
   "source": [
    "from scipy import stats\n",
    "import statsmodels.formula.api as smf\n"
   ]
  },
  {
   "cell_type": "code",
   "execution_count": 60,
   "metadata": {},
   "outputs": [],
   "source": [
    "model=smf.ols(formula='hour ~ reason', data=anova)"
   ]
  },
  {
   "cell_type": "code",
   "execution_count": 61,
   "metadata": {},
   "outputs": [
    {
     "data": {
      "text/html": [
       "<table class=\"simpletable\">\n",
       "<caption>OLS Regression Results</caption>\n",
       "<tr>\n",
       "  <th>Dep. Variable:</th>          <td>hour</td>       <th>  R-squared:         </th> <td>   0.018</td>\n",
       "</tr>\n",
       "<tr>\n",
       "  <th>Model:</th>                   <td>OLS</td>       <th>  Adj. R-squared:    </th> <td>   0.016</td>\n",
       "</tr>\n",
       "<tr>\n",
       "  <th>Method:</th>             <td>Least Squares</td>  <th>  F-statistic:       </th> <td>   8.494</td>\n",
       "</tr>\n",
       "<tr>\n",
       "  <th>Date:</th>             <td>Sat, 02 Nov 2019</td> <th>  Prob (F-statistic):</th>  <td>0.00374</td>\n",
       "</tr>\n",
       "<tr>\n",
       "  <th>Time:</th>                 <td>12:51:17</td>     <th>  Log-Likelihood:    </th> <td> -1812.9</td>\n",
       "</tr>\n",
       "<tr>\n",
       "  <th>No. Observations:</th>      <td>   454</td>      <th>  AIC:               </th> <td>   3630.</td>\n",
       "</tr>\n",
       "<tr>\n",
       "  <th>Df Residuals:</th>          <td>   452</td>      <th>  BIC:               </th> <td>   3638.</td>\n",
       "</tr>\n",
       "<tr>\n",
       "  <th>Df Model:</th>              <td>     1</td>      <th>                     </th>     <td> </td>   \n",
       "</tr>\n",
       "<tr>\n",
       "  <th>Covariance Type:</th>      <td>nonrobust</td>    <th>                     </th>     <td> </td>   \n",
       "</tr>\n",
       "</table>\n",
       "<table class=\"simpletable\">\n",
       "<tr>\n",
       "      <td></td>         <th>coef</th>     <th>std err</th>      <th>t</th>      <th>P>|t|</th>  <th>[0.025</th>    <th>0.975]</th>  \n",
       "</tr>\n",
       "<tr>\n",
       "  <th>Intercept</th> <td>   35.9205</td> <td>    1.504</td> <td>   23.882</td> <td> 0.000</td> <td>   32.965</td> <td>   38.876</td>\n",
       "</tr>\n",
       "<tr>\n",
       "  <th>reason</th>    <td>   -1.5976</td> <td>    0.548</td> <td>   -2.914</td> <td> 0.004</td> <td>   -2.675</td> <td>   -0.520</td>\n",
       "</tr>\n",
       "</table>\n",
       "<table class=\"simpletable\">\n",
       "<tr>\n",
       "  <th>Omnibus:</th>       <td>54.679</td> <th>  Durbin-Watson:     </th> <td>   1.312</td>\n",
       "</tr>\n",
       "<tr>\n",
       "  <th>Prob(Omnibus):</th> <td> 0.000</td> <th>  Jarque-Bera (JB):  </th> <td>  37.663</td>\n",
       "</tr>\n",
       "<tr>\n",
       "  <th>Skew:</th>          <td>-0.590</td> <th>  Prob(JB):          </th> <td>6.63e-09</td>\n",
       "</tr>\n",
       "<tr>\n",
       "  <th>Kurtosis:</th>      <td> 2.225</td> <th>  Cond. No.          </th> <td>    7.44</td>\n",
       "</tr>\n",
       "</table><br/><br/>Warnings:<br/>[1] Standard Errors assume that the covariance matrix of the errors is correctly specified."
      ],
      "text/plain": [
       "<class 'statsmodels.iolib.summary.Summary'>\n",
       "\"\"\"\n",
       "                            OLS Regression Results                            \n",
       "==============================================================================\n",
       "Dep. Variable:                   hour   R-squared:                       0.018\n",
       "Model:                            OLS   Adj. R-squared:                  0.016\n",
       "Method:                 Least Squares   F-statistic:                     8.494\n",
       "Date:                Sat, 02 Nov 2019   Prob (F-statistic):            0.00374\n",
       "Time:                        12:51:17   Log-Likelihood:                -1812.9\n",
       "No. Observations:                 454   AIC:                             3630.\n",
       "Df Residuals:                     452   BIC:                             3638.\n",
       "Df Model:                           1                                         \n",
       "Covariance Type:            nonrobust                                         \n",
       "==============================================================================\n",
       "                 coef    std err          t      P>|t|      [0.025      0.975]\n",
       "------------------------------------------------------------------------------\n",
       "Intercept     35.9205      1.504     23.882      0.000      32.965      38.876\n",
       "reason        -1.5976      0.548     -2.914      0.004      -2.675      -0.520\n",
       "==============================================================================\n",
       "Omnibus:                       54.679   Durbin-Watson:                   1.312\n",
       "Prob(Omnibus):                  0.000   Jarque-Bera (JB):               37.663\n",
       "Skew:                          -0.590   Prob(JB):                     6.63e-09\n",
       "Kurtosis:                       2.225   Cond. No.                         7.44\n",
       "==============================================================================\n",
       "\n",
       "Warnings:\n",
       "[1] Standard Errors assume that the covariance matrix of the errors is correctly specified.\n",
       "\"\"\""
      ]
     },
     "execution_count": 61,
     "metadata": {},
     "output_type": "execute_result"
    }
   ],
   "source": [
    "result=model.fit()\n",
    "result.summary()  #F: 8.494, p: 0.003"
   ]
  },
  {
   "cell_type": "markdown",
   "metadata": {},
   "source": [
    "# plot survival prob"
   ]
  },
  {
   "cell_type": "code",
   "execution_count": 11,
   "metadata": {},
   "outputs": [],
   "source": [
    "#pip install lifelines"
   ]
  },
  {
   "cell_type": "code",
   "execution_count": 64,
   "metadata": {},
   "outputs": [],
   "source": [
    "from lifelines import KaplanMeierFitter\n"
   ]
  },
  {
   "cell_type": "code",
   "execution_count": 65,
   "metadata": {},
   "outputs": [],
   "source": [
    "## create a kmf object\n",
    "kmf = KaplanMeierFitter() \n"
   ]
  },
  {
   "cell_type": "code",
   "execution_count": 6,
   "metadata": {},
   "outputs": [],
   "source": [
    "df.loc[:,('hour','survive')].tail(50)\n",
    "\n",
    "\n",
    "#might need to reverse code survive\n",
    "df['survive']=(df['survive']==0).astype(int)"
   ]
  },
  {
   "cell_type": "code",
   "execution_count": 7,
   "metadata": {},
   "outputs": [],
   "source": [
    "#opitional\n",
    "durations = np.array(df['hour'])\n",
    "event_observed = np.array(df['survive'])\n",
    "\n"
   ]
  },
  {
   "cell_type": "code",
   "execution_count": 168,
   "metadata": {},
   "outputs": [
    {
     "data": {
      "text/plain": [
       "Text(0, 0.5, 'Probability')"
      ]
     },
     "execution_count": 168,
     "metadata": {},
     "output_type": "execute_result"
    },
    {
     "data": {
      "image/png": "[encoded data removed]",
      "text/plain": [
       "<Figure size 432x288 with 1 Axes>"
      ]
     },
     "metadata": {
      "needs_background": "light"
     },
     "output_type": "display_data"
    }
   ],
   "source": [
    "## Fit the data into the model\n",
    "kmf.fit(durations,event_observed,label='All pumps')\n",
    "\n",
    "## Create an estimate\n",
    "kmf.plot() ## ci_show is meant for Confidence interval, since our data set is too tiny, thus i am not showing it.\n",
    "plt.title('Survival probability across time for all pumps')\n",
    "plt.xlabel('Hour')\n",
    "plt.ylabel('Probability')"
   ]
  },
  {
   "cell_type": "code",
   "execution_count": 8,
   "metadata": {},
   "outputs": [],
   "source": [
    "#plot between groups\n",
    "## four reasons are compared. \n",
    "groups= df['reason']   \n",
    "i1 = (groups == 1)      ## group i1 , having the pandas series  for the 1st cohort\n",
    "i2 = (groups == 2)     ## group i2 , having the pandas series  for the 2nd cohort\n",
    "i3 = (groups == 3)      ## group i1 , having the pandas series  for the 1st cohort\n",
    "i4 = (groups == 4) \n",
    "\n",
    "\n"
   ]
  },
  {
   "cell_type": "code",
   "execution_count": 183,
   "metadata": {},
   "outputs": [
    {
     "data": {
      "text/plain": [
       "Text(0, 0.5, 'Probability')"
      ]
     },
     "execution_count": 183,
     "metadata": {},
     "output_type": "execute_result"
    },
    {
     "data": {
      "image/png": "[encoded data removed]",
      "text/plain": [
       "<Figure size 432x288 with 1 Axes>"
      ]
     },
     "metadata": {
      "needs_background": "light"
     },
     "output_type": "display_data"
    }
   ],
   "source": [
    "kmf.fit(durations[i1], event_observed[i1], label='Flood failure')\n",
    "a1=kmf.plot()\n",
    "\n",
    "kmf.fit(durations[i2], event_observed[i2], label='Motor failure')\n",
    "a2=kmf.plot(ax=a1)\n",
    "\n",
    "kmf.fit(durations[i3], event_observed[i3], label='Surge failure')\n",
    "a3=kmf.plot(ax=a2)\n",
    "\n",
    "kmf.fit(durations[i4], event_observed[i4], label='Jammed failure')\n",
    "a4=kmf.plot(ax=a3)\n",
    "\n",
    "\n",
    "plt.title('Survival probability across time for pumps broken down by failure type')\n",
    "plt.xlabel('Hour')\n",
    "plt.ylabel('Probability')"
   ]
  },
  {
   "cell_type": "markdown",
   "metadata": {},
   "source": [
    "# plot hazard probability "
   ]
  },
  {
   "cell_type": "code",
   "execution_count": 12,
   "metadata": {},
   "outputs": [],
   "source": [
    "from lifelines import CoxPHFitter"
   ]
  },
  {
   "cell_type": "code",
   "execution_count": 13,
   "metadata": {},
   "outputs": [],
   "source": [
    "\n",
    "from lifelines import NelsonAalenFitter"
   ]
  },
  {
   "cell_type": "code",
   "execution_count": 96,
   "metadata": {},
   "outputs": [
    {
     "data": {
      "text/plain": [
       "<lifelines.NelsonAalenFitter: fitted with 770 total observations, 316 right-censored observations>"
      ]
     },
     "execution_count": 96,
     "metadata": {},
     "output_type": "execute_result"
    }
   ],
   "source": [
    "# durations = np.array(df['hour'])\n",
    "# event_observed = np.array(df['survive'])\n",
    "\n",
    "naf = NelsonAalenFitter()\n",
    "\n",
    "naf.fit(durations,event_observed=event_observed)"
   ]
  },
  {
   "cell_type": "code",
   "execution_count": 41,
   "metadata": {
    "scrolled": true
   },
   "outputs": [
    {
     "name": "stdout",
     "output_type": "stream",
     "text": [
      "          NA_estimate\n",
      "timeline             \n",
      "0.0          0.000000\n",
      "1.0          0.001299\n",
      "2.0          0.003901\n",
      "3.0          0.006510\n",
      "4.0          0.011749\n"
     ]
    },
    {
     "data": {
      "text/plain": [
       "<matplotlib.axes._subplots.AxesSubplot at 0x2a5b2952c08>"
      ]
     },
     "execution_count": 41,
     "metadata": {},
     "output_type": "execute_result"
    },
    {
     "data": {
      "image/png": "[encoded data removed]",
      "text/plain": [
       "<Figure size 432x288 with 1 Axes>"
      ]
     },
     "metadata": {
      "needs_background": "light"
     },
     "output_type": "display_data"
    }
   ],
   "source": [
    "print(naf.cumulative_hazard_.head())  #cumulative hazard prob.....?\n",
    "naf.plot() "
   ]
  },
  {
   "cell_type": "markdown",
   "metadata": {},
   "source": [
    "## 'Conditional failure probabilities across time for all pumps "
   ]
  },
  {
   "cell_type": "code",
   "execution_count": 98,
   "metadata": {},
   "outputs": [
    {
     "data": {
      "text/plain": [
       "Text(0, 0.5, 'Conditional failure probabilities')"
      ]
     },
     "execution_count": 98,
     "metadata": {},
     "output_type": "execute_result"
    },
    {
     "data": {
      "image/png": "[encoded data removed]",
      "text/plain": [
       "<Figure size 432x288 with 1 Axes>"
      ]
     },
     "metadata": {
      "needs_background": "light"
     },
     "output_type": "display_data"
    }
   ],
   "source": [
    "bandwidth = 3.\n",
    "\n",
    "ax = naf.plot_hazard(bandwidth=bandwidth) #conditional probability ?\n",
    "plt.title('Conditional failure probabilities across time for all pumps')\n",
    "plt.xlabel('Hour')\n",
    "plt.ylabel('Conditional failure probabilities')"
   ]
  },
  {
   "cell_type": "code",
   "execution_count": null,
   "metadata": {},
   "outputs": [],
   "source": []
  },
  {
   "cell_type": "code",
   "execution_count": 178,
   "metadata": {},
   "outputs": [],
   "source": [
    "#plot broken down by pipes"
   ]
  },
  {
   "cell_type": "code",
   "execution_count": 56,
   "metadata": {},
   "outputs": [],
   "source": [
    "naf.fit(durations[i3], event_observed[i3], label='Surge failure')\n",
    "#caculate Conditional failure probabilities\n",
    "cumu=pd.DataFrame(naf.cumulative_hazard_)\n",
    "cumu=cumu.diff().fillna(0)\n",
    "a3=cumu.plot()t(ax=a2)"
   ]
  },
  {
   "cell_type": "markdown",
   "metadata": {},
   "source": [
    "##  Conditional failure probabilities across time for pumps broken down by failure type"
   ]
  },
  {
   "cell_type": "code",
   "execution_count": 95,
   "metadata": {},
   "outputs": [
    {
     "data": {
      "text/plain": [
       "Text(0, 0.5, 'Conditional failure probabilities')"
      ]
     },
     "execution_count": 95,
     "metadata": {},
     "output_type": "execute_result"
    },
    {
     "data": {
      "image/png": "[encoded data removed]",
      "text/plain": [
       "<Figure size 432x288 with 1 Axes>"
      ]
     },
     "metadata": {
      "needs_background": "light"
     },
     "output_type": "display_data"
    }
   ],
   "source": [
    "bandwidth = 4.\n",
    "naf.fit(durations[i1], event_observed[i1], label='Flood failure')\n",
    "a1 = naf.plot_hazard(bandwidth=bandwidth)\n",
    "naf.fit(durations[i2], event_observed[i2], label='Motor failure')\n",
    "a2= naf.plot_hazard(ax=a1,bandwidth=bandwidth)\n",
    "naf.fit(durations[i3], event_observed[i3], label='Surge failure')\n",
    "a3= naf.plot_hazard(ax=a2, bandwidth=bandwidth)\n",
    "naf.fit(durations[i4], event_observed[i4], label='Jammed failure')\n",
    "a4= naf.plot_hazard(ax=a3, bandwidth=bandwidth)\n",
    "\n",
    "\n",
    "plt.title('Conditional failure probabilities across time for pumps broken down by failure type')\n",
    "plt.xlabel('Hour')\n",
    "plt.ylabel('Conditional failure probabilities')"
   ]
  },
  {
   "cell_type": "markdown",
   "metadata": {},
   "source": [
    "## Cumulative hazard function across time for pumps broken down by failure type"
   ]
  },
  {
   "cell_type": "code",
   "execution_count": 69,
   "metadata": {},
   "outputs": [
    {
     "data": {
      "text/plain": [
       "Text(0, 0.5, 'Cumulative hazard')"
      ]
     },
     "execution_count": 69,
     "metadata": {},
     "output_type": "execute_result"
    },
    {
     "data": {
      "image/png": "[encoded data removed]",
      "text/plain": [
       "<Figure size 432x288 with 1 Axes>"
      ]
     },
     "metadata": {
      "needs_background": "light"
     },
     "output_type": "display_data"
    }
   ],
   "source": [
    "naf.fit(durations[i1], event_observed[i1], label='Flood failure')\n",
    "a1=naf.plot()\n",
    "naf.fit(durations[i2], event_observed[i2], label='Motor failure')\n",
    "a2=naf.plot(ax=a1)\n",
    "\n",
    "naf.fit(durations[i3], event_observed[i3], label='Surge failure')\n",
    "a3=naf.plot(ax=a2)\n",
    "\n",
    "naf.fit(durations[i4], event_observed[i4], label='Jammed failure')\n",
    "a4=naf.plot(ax=a3)\n",
    "\n",
    "\n",
    "\n",
    "plt.title('Cumulative hazard function across time for pumps broken down by failure type')\n",
    "plt.xlabel('Hour')\n",
    "plt.ylabel('Cumulative hazard')"
   ]
  },
  {
   "cell_type": "markdown",
   "metadata": {},
   "source": [
    "# Statistical test on survival probabilities across time"
   ]
  },
  {
   "cell_type": "code",
   "execution_count": 187,
   "metadata": {},
   "outputs": [],
   "source": [
    "from lifelines.statistics import multivariate_logrank_test\n",
    "\n"
   ]
  },
  {
   "cell_type": "code",
   "execution_count": 291,
   "metadata": {},
   "outputs": [],
   "source": [
    "level_map = {1: 'Water-based', 3: 'Water-based',\n",
    "             2: 'Mechanical', 4: 'Mechanical', \n",
    "             0: 'Not failed'}\n",
    "\n",
    "df['new_levels'] = df['reason'].apply(lambda x: level_map[x])"
   ]
  },
  {
   "cell_type": "code",
   "execution_count": 293,
   "metadata": {},
   "outputs": [
    {
     "data": {
      "text/html": [
       "<div>\n",
       "<style scoped>\n",
       "    .dataframe tbody tr th:only-of-type {\n",
       "        vertical-align: middle;\n",
       "    }\n",
       "\n",
       "    .dataframe tbody tr th {\n",
       "        vertical-align: top;\n",
       "    }\n",
       "\n",
       "    .dataframe thead th {\n",
       "        text-align: right;\n",
       "    }\n",
       "</style>\n",
       "<table border=\"1\" class=\"dataframe\">\n",
       "  <thead>\n",
       "    <tr style=\"text-align: right;\">\n",
       "      <th></th>\n",
       "      <th>backup</th>\n",
       "      <th>age</th>\n",
       "      <th>bridgecrane</th>\n",
       "      <th>servo</th>\n",
       "      <th>gear</th>\n",
       "      <th>trashrack</th>\n",
       "      <th>slope</th>\n",
       "      <th>elevation</th>\n",
       "      <th>h1</th>\n",
       "      <th>h2</th>\n",
       "      <th>...</th>\n",
       "      <th>h44</th>\n",
       "      <th>h45</th>\n",
       "      <th>h46</th>\n",
       "      <th>h47</th>\n",
       "      <th>h48</th>\n",
       "      <th>survive</th>\n",
       "      <th>hour</th>\n",
       "      <th>reason</th>\n",
       "      <th>reason2</th>\n",
       "      <th>new_levels</th>\n",
       "    </tr>\n",
       "  </thead>\n",
       "  <tbody>\n",
       "    <tr>\n",
       "      <td>0</td>\n",
       "      <td>0.0</td>\n",
       "      <td>6.0</td>\n",
       "      <td>0.0</td>\n",
       "      <td>0.0</td>\n",
       "      <td>0.0</td>\n",
       "      <td>1.0</td>\n",
       "      <td>3.0</td>\n",
       "      <td>2.0</td>\n",
       "      <td>1.0</td>\n",
       "      <td>1.0</td>\n",
       "      <td>...</td>\n",
       "      <td>1.0</td>\n",
       "      <td>1.0</td>\n",
       "      <td>1.0</td>\n",
       "      <td>1.0</td>\n",
       "      <td>1.0</td>\n",
       "      <td>0</td>\n",
       "      <td>48.0</td>\n",
       "      <td>0.0</td>\n",
       "      <td>5.0</td>\n",
       "      <td>Not failed</td>\n",
       "    </tr>\n",
       "    <tr>\n",
       "      <td>1</td>\n",
       "      <td>0.0</td>\n",
       "      <td>6.0</td>\n",
       "      <td>1.0</td>\n",
       "      <td>0.0</td>\n",
       "      <td>0.0</td>\n",
       "      <td>1.0</td>\n",
       "      <td>7.0</td>\n",
       "      <td>3.0</td>\n",
       "      <td>0.0</td>\n",
       "      <td>0.0</td>\n",
       "      <td>...</td>\n",
       "      <td>1.0</td>\n",
       "      <td>1.0</td>\n",
       "      <td>1.0</td>\n",
       "      <td>1.0</td>\n",
       "      <td>0.0</td>\n",
       "      <td>0</td>\n",
       "      <td>48.0</td>\n",
       "      <td>0.0</td>\n",
       "      <td>5.0</td>\n",
       "      <td>Not failed</td>\n",
       "    </tr>\n",
       "    <tr>\n",
       "      <td>2</td>\n",
       "      <td>0.0</td>\n",
       "      <td>6.1</td>\n",
       "      <td>1.0</td>\n",
       "      <td>0.0</td>\n",
       "      <td>0.0</td>\n",
       "      <td>1.0</td>\n",
       "      <td>3.0</td>\n",
       "      <td>3.0</td>\n",
       "      <td>0.0</td>\n",
       "      <td>0.0</td>\n",
       "      <td>...</td>\n",
       "      <td>0.0</td>\n",
       "      <td>0.0</td>\n",
       "      <td>0.0</td>\n",
       "      <td>0.0</td>\n",
       "      <td>0.0</td>\n",
       "      <td>0</td>\n",
       "      <td>48.0</td>\n",
       "      <td>0.0</td>\n",
       "      <td>5.0</td>\n",
       "      <td>Not failed</td>\n",
       "    </tr>\n",
       "    <tr>\n",
       "      <td>3</td>\n",
       "      <td>1.0</td>\n",
       "      <td>6.1</td>\n",
       "      <td>1.0</td>\n",
       "      <td>0.0</td>\n",
       "      <td>0.0</td>\n",
       "      <td>0.0</td>\n",
       "      <td>4.0</td>\n",
       "      <td>3.0</td>\n",
       "      <td>1.0</td>\n",
       "      <td>1.0</td>\n",
       "      <td>...</td>\n",
       "      <td>0.0</td>\n",
       "      <td>0.0</td>\n",
       "      <td>0.0</td>\n",
       "      <td>0.0</td>\n",
       "      <td>0.0</td>\n",
       "      <td>0</td>\n",
       "      <td>48.0</td>\n",
       "      <td>0.0</td>\n",
       "      <td>5.0</td>\n",
       "      <td>Not failed</td>\n",
       "    </tr>\n",
       "    <tr>\n",
       "      <td>4</td>\n",
       "      <td>0.0</td>\n",
       "      <td>6.2</td>\n",
       "      <td>1.0</td>\n",
       "      <td>1.0</td>\n",
       "      <td>0.0</td>\n",
       "      <td>1.0</td>\n",
       "      <td>3.0</td>\n",
       "      <td>4.0</td>\n",
       "      <td>1.0</td>\n",
       "      <td>1.0</td>\n",
       "      <td>...</td>\n",
       "      <td>0.0</td>\n",
       "      <td>0.0</td>\n",
       "      <td>0.0</td>\n",
       "      <td>0.0</td>\n",
       "      <td>0.0</td>\n",
       "      <td>0</td>\n",
       "      <td>48.0</td>\n",
       "      <td>0.0</td>\n",
       "      <td>5.0</td>\n",
       "      <td>Not failed</td>\n",
       "    </tr>\n",
       "  </tbody>\n",
       "</table>\n",
       "<p>5 rows × 61 columns</p>\n",
       "</div>"
      ],
      "text/plain": [
       "   backup  age  bridgecrane  servo  gear  trashrack  slope  elevation   h1  \\\n",
       "0     0.0  6.0          0.0    0.0   0.0        1.0    3.0        2.0  1.0   \n",
       "1     0.0  6.0          1.0    0.0   0.0        1.0    7.0        3.0  0.0   \n",
       "2     0.0  6.1          1.0    0.0   0.0        1.0    3.0        3.0  0.0   \n",
       "3     1.0  6.1          1.0    0.0   0.0        0.0    4.0        3.0  1.0   \n",
       "4     0.0  6.2          1.0    1.0   0.0        1.0    3.0        4.0  1.0   \n",
       "\n",
       "    h2  ...  h44  h45  h46  h47  h48  survive  hour  reason  reason2  \\\n",
       "0  1.0  ...  1.0  1.0  1.0  1.0  1.0        0  48.0     0.0      5.0   \n",
       "1  0.0  ...  1.0  1.0  1.0  1.0  0.0        0  48.0     0.0      5.0   \n",
       "2  0.0  ...  0.0  0.0  0.0  0.0  0.0        0  48.0     0.0      5.0   \n",
       "3  1.0  ...  0.0  0.0  0.0  0.0  0.0        0  48.0     0.0      5.0   \n",
       "4  1.0  ...  0.0  0.0  0.0  0.0  0.0        0  48.0     0.0      5.0   \n",
       "\n",
       "   new_levels  \n",
       "0  Not failed  \n",
       "1  Not failed  \n",
       "2  Not failed  \n",
       "3  Not failed  \n",
       "4  Not failed  \n",
       "\n",
       "[5 rows x 61 columns]"
      ]
     },
     "execution_count": 293,
     "metadata": {},
     "output_type": "execute_result"
    }
   ],
   "source": [
    "\n",
    "del df['failuregroups'],df['failure groups']\n",
    "df.head()"
   ]
  },
  {
   "cell_type": "code",
   "execution_count": 294,
   "metadata": {},
   "outputs": [
    {
     "name": "stdout",
     "output_type": "stream",
     "text": [
      "<lifelines.StatisticalResult>\n",
      "               t_0 = -1\n",
      " null_distribution = chi squared\n",
      "degrees_of_freedom = 2\n",
      "\n",
      "---\n",
      " test_statistic      p  -log2(p)\n",
      "         798.18 <0.005    575.76\n"
     ]
    }
   ],
   "source": [
    "\n",
    "\n",
    "results = multivariate_logrank_test(df['hour'], df['new_levels'], df['survive'])\n",
    "results.print_summary()"
   ]
  },
  {
   "cell_type": "code",
   "execution_count": 102,
   "metadata": {},
   "outputs": [
    {
     "data": {
      "text/plain": [
       "[3, 4]"
      ]
     },
     "execution_count": 102,
     "metadata": {},
     "output_type": "execute_result"
    }
   ],
   "source": [
    "a=[1, 2, 3, 4] \n",
    "[i for i in a if i >2]"
   ]
  },
  {
   "cell_type": "code",
   "execution_count": null,
   "metadata": {},
   "outputs": [],
   "source": []
  }
 ],
 "metadata": {
  "kernelspec": {
   "display_name": "Python 3",
   "language": "python",
   "name": "python3"
  },
  "language_info": {
   "codemirror_mode": {
    "name": "ipython",
    "version": 3
   },
   "file_extension": ".py",
   "mimetype": "text/x-python",
   "name": "python",
   "nbconvert_exporter": "python",
   "pygments_lexer": "ipython3",
   "version": "3.7.4"
  },
  "toc": {
   "base_numbering": 1,
   "nav_menu": {},
   "number_sections": true,
   "sideBar": true,
   "skip_h1_title": false,
   "title_cell": "Table of Contents",
   "title_sidebar": "Contents",
   "toc_cell": false,
   "toc_position": {
    "height": "calc(100% - 180px)",
    "left": "10px",
    "top": "150px",
    "width": "165px"
   },
   "toc_section_display": true,
   "toc_window_display": true
  }
 },
 "nbformat": 4,
 "nbformat_minor": 2
}
