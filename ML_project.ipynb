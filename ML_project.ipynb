{
 "cells": [
  {
   "cell_type": "markdown",
   "metadata": {},
   "source": [
    "# import packages and files"
   ]
  },
  {
   "cell_type": "code",
   "execution_count": 1,
   "metadata": {},
   "outputs": [],
   "source": [
    "import pandas as pd\n",
    "import numpy as np\n",
    "import seaborn as sns"
   ]
  },
  {
   "cell_type": "code",
   "execution_count": 2,
   "metadata": {},
   "outputs": [],
   "source": [
    "train=pd.read_csv('MLProject_train.csv')"
   ]
  },
  {
   "cell_type": "code",
   "execution_count": 3,
   "metadata": {},
   "outputs": [],
   "source": [
    "test=pd.read_csv('MLProject_test.csv')"
   ]
  },
  {
   "cell_type": "code",
   "execution_count": 5,
   "metadata": {},
   "outputs": [
    {
     "name": "stdout",
     "output_type": "stream",
     "text": [
      "<class 'pandas.core.frame.DataFrame'>\n",
      "RangeIndex: 483087 entries, 0 to 483086\n",
      "Columns: 150 entries, A1 to target2\n",
      "dtypes: float64(135), int64(15)\n",
      "memory usage: 552.8 MB\n",
      "<class 'pandas.core.frame.DataFrame'>\n",
      "RangeIndex: 115299 entries, 0 to 115298\n",
      "Columns: 150 entries, A1 to target2\n",
      "dtypes: float64(136), int64(14)\n",
      "memory usage: 131.9 MB\n"
     ]
    },
    {
     "data": {
      "text/plain": [
       "(None, None)"
      ]
     },
     "execution_count": 5,
     "metadata": {},
     "output_type": "execute_result"
    }
   ],
   "source": [
    "train.info(),test.info() #all variables are either float or int"
   ]
  },
  {
   "cell_type": "code",
   "execution_count": 8,
   "metadata": {},
   "outputs": [
    {
     "data": {
      "text/plain": [
       "count    483087.000000\n",
       "mean          3.030347\n",
       "std           1.419200\n",
       "min           1.000000\n",
       "25%           2.000000\n",
       "50%           3.000000\n",
       "75%           4.000000\n",
       "max           5.000000\n",
       "Name: Z2, dtype: float64"
      ]
     },
     "execution_count": 8,
     "metadata": {},
     "output_type": "execute_result"
    }
   ],
   "source": [
    "#inspect the categorical Z2\n",
    "train['Z2'].describe()   #it's float in python"
   ]
  },
  {
   "cell_type": "code",
   "execution_count": 12,
   "metadata": {},
   "outputs": [
    {
     "data": {
      "text/html": [
       "<div>\n",
       "<style scoped>\n",
       "    .dataframe tbody tr th:only-of-type {\n",
       "        vertical-align: middle;\n",
       "    }\n",
       "\n",
       "    .dataframe tbody tr th {\n",
       "        vertical-align: top;\n",
       "    }\n",
       "\n",
       "    .dataframe thead th {\n",
       "        text-align: right;\n",
       "    }\n",
       "</style>\n",
       "<table border=\"1\" class=\"dataframe\">\n",
       "  <thead>\n",
       "    <tr style=\"text-align: right;\">\n",
       "      <th></th>\n",
       "      <th>target1</th>\n",
       "      <th>target2</th>\n",
       "    </tr>\n",
       "  </thead>\n",
       "  <tbody>\n",
       "    <tr>\n",
       "      <td>0</td>\n",
       "      <td>0</td>\n",
       "      <td>0</td>\n",
       "    </tr>\n",
       "    <tr>\n",
       "      <td>1</td>\n",
       "      <td>0</td>\n",
       "      <td>0</td>\n",
       "    </tr>\n",
       "    <tr>\n",
       "      <td>2</td>\n",
       "      <td>0</td>\n",
       "      <td>1</td>\n",
       "    </tr>\n",
       "    <tr>\n",
       "      <td>3</td>\n",
       "      <td>0</td>\n",
       "      <td>0</td>\n",
       "    </tr>\n",
       "    <tr>\n",
       "      <td>4</td>\n",
       "      <td>0</td>\n",
       "      <td>0</td>\n",
       "    </tr>\n",
       "    <tr>\n",
       "      <td>...</td>\n",
       "      <td>...</td>\n",
       "      <td>...</td>\n",
       "    </tr>\n",
       "    <tr>\n",
       "      <td>483082</td>\n",
       "      <td>0</td>\n",
       "      <td>1</td>\n",
       "    </tr>\n",
       "    <tr>\n",
       "      <td>483083</td>\n",
       "      <td>0</td>\n",
       "      <td>0</td>\n",
       "    </tr>\n",
       "    <tr>\n",
       "      <td>483084</td>\n",
       "      <td>0</td>\n",
       "      <td>1</td>\n",
       "    </tr>\n",
       "    <tr>\n",
       "      <td>483085</td>\n",
       "      <td>0</td>\n",
       "      <td>0</td>\n",
       "    </tr>\n",
       "    <tr>\n",
       "      <td>483086</td>\n",
       "      <td>0</td>\n",
       "      <td>0</td>\n",
       "    </tr>\n",
       "  </tbody>\n",
       "</table>\n",
       "<p>483087 rows × 2 columns</p>\n",
       "</div>"
      ],
      "text/plain": [
       "        target1  target2\n",
       "0             0        0\n",
       "1             0        0\n",
       "2             0        1\n",
       "3             0        0\n",
       "4             0        0\n",
       "...         ...      ...\n",
       "483082        0        1\n",
       "483083        0        0\n",
       "483084        0        1\n",
       "483085        0        0\n",
       "483086        0        0\n",
       "\n",
       "[483087 rows x 2 columns]"
      ]
     },
     "execution_count": 12,
     "metadata": {},
     "output_type": "execute_result"
    }
   ],
   "source": [
    "train.iloc[:,-2:]"
   ]
  },
  {
   "cell_type": "code",
   "execution_count": 15,
   "metadata": {},
   "outputs": [
    {
     "data": {
      "text/plain": [
       "<matplotlib.axes._subplots.AxesSubplot at 0x1bc80e6f088>"
      ]
     },
     "execution_count": 15,
     "metadata": {},
     "output_type": "execute_result"
    },
    {
     "data": {
      "image/png": "[encoded data removed]",
      "text/plain": [
       "<Figure size 432x288 with 1 Axes>"
      ]
     },
     "metadata": {
      "needs_background": "light"
     },
     "output_type": "display_data"
    }
   ],
   "source": [
    "sns.distplot(train['target1']),\n",
    "sns.distplot(train['target2'])"
   ]
  },
  {
   "cell_type": "markdown",
   "metadata": {},
   "source": [
    "# Prep the data"
   ]
  },
  {
   "cell_type": "markdown",
   "metadata": {},
   "source": [
    "## save targets to labels"
   ]
  },
  {
   "cell_type": "code",
   "execution_count": 6,
   "metadata": {},
   "outputs": [],
   "source": [
    "# Labels are the values we want to predict\n",
    "labels = train.loc[:,'target1': 'target2']\n",
    "\n",
    "labels_test=test.loc[:,'target1': 'target2']"
   ]
  },
  {
   "cell_type": "code",
   "execution_count": 69,
   "metadata": {},
   "outputs": [
    {
     "data": {
      "text/html": [
       "<div>\n",
       "<style scoped>\n",
       "    .dataframe tbody tr th:only-of-type {\n",
       "        vertical-align: middle;\n",
       "    }\n",
       "\n",
       "    .dataframe tbody tr th {\n",
       "        vertical-align: top;\n",
       "    }\n",
       "\n",
       "    .dataframe thead th {\n",
       "        text-align: right;\n",
       "    }\n",
       "</style>\n",
       "<table border=\"1\" class=\"dataframe\">\n",
       "  <thead>\n",
       "    <tr style=\"text-align: right;\">\n",
       "      <th></th>\n",
       "      <th>target1</th>\n",
       "      <th>target2</th>\n",
       "    </tr>\n",
       "  </thead>\n",
       "  <tbody>\n",
       "    <tr>\n",
       "      <td>0</td>\n",
       "      <td>0</td>\n",
       "      <td>0</td>\n",
       "    </tr>\n",
       "    <tr>\n",
       "      <td>1</td>\n",
       "      <td>0</td>\n",
       "      <td>0</td>\n",
       "    </tr>\n",
       "    <tr>\n",
       "      <td>2</td>\n",
       "      <td>0</td>\n",
       "      <td>1</td>\n",
       "    </tr>\n",
       "    <tr>\n",
       "      <td>3</td>\n",
       "      <td>0</td>\n",
       "      <td>0</td>\n",
       "    </tr>\n",
       "    <tr>\n",
       "      <td>4</td>\n",
       "      <td>0</td>\n",
       "      <td>0</td>\n",
       "    </tr>\n",
       "    <tr>\n",
       "      <td>...</td>\n",
       "      <td>...</td>\n",
       "      <td>...</td>\n",
       "    </tr>\n",
       "    <tr>\n",
       "      <td>483082</td>\n",
       "      <td>0</td>\n",
       "      <td>1</td>\n",
       "    </tr>\n",
       "    <tr>\n",
       "      <td>483083</td>\n",
       "      <td>0</td>\n",
       "      <td>0</td>\n",
       "    </tr>\n",
       "    <tr>\n",
       "      <td>483084</td>\n",
       "      <td>0</td>\n",
       "      <td>1</td>\n",
       "    </tr>\n",
       "    <tr>\n",
       "      <td>483085</td>\n",
       "      <td>0</td>\n",
       "      <td>0</td>\n",
       "    </tr>\n",
       "    <tr>\n",
       "      <td>483086</td>\n",
       "      <td>0</td>\n",
       "      <td>0</td>\n",
       "    </tr>\n",
       "  </tbody>\n",
       "</table>\n",
       "<p>483087 rows × 2 columns</p>\n",
       "</div>"
      ],
      "text/plain": [
       "        target1  target2\n",
       "0             0        0\n",
       "1             0        0\n",
       "2             0        1\n",
       "3             0        0\n",
       "4             0        0\n",
       "...         ...      ...\n",
       "483082        0        1\n",
       "483083        0        0\n",
       "483084        0        1\n",
       "483085        0        0\n",
       "483086        0        0\n",
       "\n",
       "[483087 rows x 2 columns]"
      ]
     },
     "execution_count": 69,
     "metadata": {},
     "output_type": "execute_result"
    }
   ],
   "source": [
    "labels"
   ]
  },
  {
   "cell_type": "code",
   "execution_count": null,
   "metadata": {},
   "outputs": [],
   "source": []
  },
  {
   "cell_type": "markdown",
   "metadata": {},
   "source": [
    "## Remove target from train"
   ]
  },
  {
   "cell_type": "code",
   "execution_count": 7,
   "metadata": {},
   "outputs": [
    {
     "data": {
      "text/plain": [
       "(483087, 148)"
      ]
     },
     "execution_count": 7,
     "metadata": {},
     "output_type": "execute_result"
    }
   ],
   "source": [
    "#remove target variable from the dataset\n",
    "\n",
    "train= train.drop(['target1', 'target2'], axis = 1)\n",
    "test=test.drop(['target1', 'target2'], axis = 1)\n",
    "train.shape"
   ]
  },
  {
   "cell_type": "code",
   "execution_count": 53,
   "metadata": {},
   "outputs": [],
   "source": [
    "# Saving column names for later use\n",
    "train_list = list(train.columns)\n",
    "# Convert to numpy array\n",
    "train_list_array = np.array(train_list)"
   ]
  },
  {
   "cell_type": "markdown",
   "metadata": {},
   "source": [
    "# Data Cleaning"
   ]
  },
  {
   "cell_type": "markdown",
   "metadata": {},
   "source": [
    "## Impute missing values"
   ]
  },
  {
   "cell_type": "code",
   "execution_count": 23,
   "metadata": {},
   "outputs": [],
   "source": [
    "#check for missing values\n",
    "def missing_df(df):\n",
    "    missing_df=pd.DataFrame(df.apply(lambda x:sum(x.isnull())/len(df)))\n",
    "    missing_df.columns=['pct_missing']\n",
    "    missing_df=missing_df.sort_values(by='pct_missing', ascending=False)\n",
    "    return missing_df"
   ]
  },
  {
   "cell_type": "code",
   "execution_count": 26,
   "metadata": {},
   "outputs": [],
   "source": [
    "missing=missing_df(train)"
   ]
  },
  {
   "cell_type": "code",
   "execution_count": 27,
   "metadata": {},
   "outputs": [
    {
     "data": {
      "text/html": [
       "<div>\n",
       "<style scoped>\n",
       "    .dataframe tbody tr th:only-of-type {\n",
       "        vertical-align: middle;\n",
       "    }\n",
       "\n",
       "    .dataframe tbody tr th {\n",
       "        vertical-align: top;\n",
       "    }\n",
       "\n",
       "    .dataframe thead th {\n",
       "        text-align: right;\n",
       "    }\n",
       "</style>\n",
       "<table border=\"1\" class=\"dataframe\">\n",
       "  <thead>\n",
       "    <tr style=\"text-align: right;\">\n",
       "      <th></th>\n",
       "      <th>pct_missing</th>\n",
       "    </tr>\n",
       "  </thead>\n",
       "  <tbody>\n",
       "    <tr>\n",
       "      <td>X6</td>\n",
       "      <td>0.000807</td>\n",
       "    </tr>\n",
       "    <tr>\n",
       "      <td>T6</td>\n",
       "      <td>0.000807</td>\n",
       "    </tr>\n",
       "    <tr>\n",
       "      <td>L6</td>\n",
       "      <td>0.000807</td>\n",
       "    </tr>\n",
       "    <tr>\n",
       "      <td>N6</td>\n",
       "      <td>0.000807</td>\n",
       "    </tr>\n",
       "    <tr>\n",
       "      <td>M6</td>\n",
       "      <td>0.000807</td>\n",
       "    </tr>\n",
       "    <tr>\n",
       "      <td>U6</td>\n",
       "      <td>0.000807</td>\n",
       "    </tr>\n",
       "    <tr>\n",
       "      <td>V6</td>\n",
       "      <td>0.000807</td>\n",
       "    </tr>\n",
       "    <tr>\n",
       "      <td>W6</td>\n",
       "      <td>0.000807</td>\n",
       "    </tr>\n",
       "    <tr>\n",
       "      <td>Z4</td>\n",
       "      <td>0.000000</td>\n",
       "    </tr>\n",
       "    <tr>\n",
       "      <td>T4</td>\n",
       "      <td>0.000000</td>\n",
       "    </tr>\n",
       "    <tr>\n",
       "      <td>U4</td>\n",
       "      <td>0.000000</td>\n",
       "    </tr>\n",
       "    <tr>\n",
       "      <td>V4</td>\n",
       "      <td>0.000000</td>\n",
       "    </tr>\n",
       "    <tr>\n",
       "      <td>W4</td>\n",
       "      <td>0.000000</td>\n",
       "    </tr>\n",
       "    <tr>\n",
       "      <td>X4</td>\n",
       "      <td>0.000000</td>\n",
       "    </tr>\n",
       "    <tr>\n",
       "      <td>Y4</td>\n",
       "      <td>0.000000</td>\n",
       "    </tr>\n",
       "    <tr>\n",
       "      <td>A5</td>\n",
       "      <td>0.000000</td>\n",
       "    </tr>\n",
       "    <tr>\n",
       "      <td>F5</td>\n",
       "      <td>0.000000</td>\n",
       "    </tr>\n",
       "    <tr>\n",
       "      <td>B5</td>\n",
       "      <td>0.000000</td>\n",
       "    </tr>\n",
       "    <tr>\n",
       "      <td>R4</td>\n",
       "      <td>0.000000</td>\n",
       "    </tr>\n",
       "    <tr>\n",
       "      <td>C5</td>\n",
       "      <td>0.000000</td>\n",
       "    </tr>\n",
       "  </tbody>\n",
       "</table>\n",
       "</div>"
      ],
      "text/plain": [
       "    pct_missing\n",
       "X6     0.000807\n",
       "T6     0.000807\n",
       "L6     0.000807\n",
       "N6     0.000807\n",
       "M6     0.000807\n",
       "U6     0.000807\n",
       "V6     0.000807\n",
       "W6     0.000807\n",
       "Z4     0.000000\n",
       "T4     0.000000\n",
       "U4     0.000000\n",
       "V4     0.000000\n",
       "W4     0.000000\n",
       "X4     0.000000\n",
       "Y4     0.000000\n",
       "A5     0.000000\n",
       "F5     0.000000\n",
       "B5     0.000000\n",
       "R4     0.000000\n",
       "C5     0.000000"
      ]
     },
     "execution_count": 27,
     "metadata": {},
     "output_type": "execute_result"
    }
   ],
   "source": [
    "missing.head(20)"
   ]
  },
  {
   "cell_type": "code",
   "execution_count": 29,
   "metadata": {},
   "outputs": [
    {
     "data": {
      "text/plain": [
       "8"
      ]
     },
     "execution_count": 29,
     "metadata": {},
     "output_type": "execute_result"
    }
   ],
   "source": [
    "sum(missing['pct_missing']!=0) #eight variables have missing values"
   ]
  },
  {
   "cell_type": "code",
   "execution_count": 33,
   "metadata": {},
   "outputs": [],
   "source": [
    "#impute for missing values\n",
    "#investigate the eight missing values first\n",
    "col_missing=missing.loc[missing['pct_missing']!=0,:]\n",
    "#col_missing=missing.columns(missing['pct_missing']!=0)"
   ]
  },
  {
   "cell_type": "code",
   "execution_count": 35,
   "metadata": {},
   "outputs": [],
   "source": [
    "col_missing=col_missing.index"
   ]
  },
  {
   "cell_type": "code",
   "execution_count": 36,
   "metadata": {},
   "outputs": [
    {
     "data": {
      "text/plain": [
       "Index(['X6', 'T6', 'L6', 'N6', 'M6', 'U6', 'V6', 'W6'], dtype='object')"
      ]
     },
     "execution_count": 36,
     "metadata": {},
     "output_type": "execute_result"
    }
   ],
   "source": [
    "col_missing"
   ]
  },
  {
   "cell_type": "code",
   "execution_count": 37,
   "metadata": {},
   "outputs": [],
   "source": [
    "#select those variables from training\n",
    "train_missing=train.loc[:,col_missing]"
   ]
  },
  {
   "cell_type": "code",
   "execution_count": 38,
   "metadata": {},
   "outputs": [
    {
     "data": {
      "text/html": [
       "<div>\n",
       "<style scoped>\n",
       "    .dataframe tbody tr th:only-of-type {\n",
       "        vertical-align: middle;\n",
       "    }\n",
       "\n",
       "    .dataframe tbody tr th {\n",
       "        vertical-align: top;\n",
       "    }\n",
       "\n",
       "    .dataframe thead th {\n",
       "        text-align: right;\n",
       "    }\n",
       "</style>\n",
       "<table border=\"1\" class=\"dataframe\">\n",
       "  <thead>\n",
       "    <tr style=\"text-align: right;\">\n",
       "      <th></th>\n",
       "      <th>X6</th>\n",
       "      <th>T6</th>\n",
       "      <th>L6</th>\n",
       "      <th>N6</th>\n",
       "      <th>M6</th>\n",
       "      <th>U6</th>\n",
       "      <th>V6</th>\n",
       "      <th>W6</th>\n",
       "    </tr>\n",
       "  </thead>\n",
       "  <tbody>\n",
       "    <tr>\n",
       "      <td>count</td>\n",
       "      <td>482697.000000</td>\n",
       "      <td>482697.000000</td>\n",
       "      <td>482697.000000</td>\n",
       "      <td>482697.000000</td>\n",
       "      <td>482697.000000</td>\n",
       "      <td>482697.000000</td>\n",
       "      <td>482697.000000</td>\n",
       "      <td>482697.000000</td>\n",
       "    </tr>\n",
       "    <tr>\n",
       "      <td>mean</td>\n",
       "      <td>0.080901</td>\n",
       "      <td>0.091058</td>\n",
       "      <td>0.143021</td>\n",
       "      <td>0.145081</td>\n",
       "      <td>0.147141</td>\n",
       "      <td>0.145260</td>\n",
       "      <td>0.150237</td>\n",
       "      <td>0.147749</td>\n",
       "    </tr>\n",
       "    <tr>\n",
       "      <td>std</td>\n",
       "      <td>0.034916</td>\n",
       "      <td>0.042545</td>\n",
       "      <td>0.040677</td>\n",
       "      <td>0.040592</td>\n",
       "      <td>0.042429</td>\n",
       "      <td>0.037008</td>\n",
       "      <td>0.038462</td>\n",
       "      <td>0.036941</td>\n",
       "    </tr>\n",
       "    <tr>\n",
       "      <td>min</td>\n",
       "      <td>-0.025900</td>\n",
       "      <td>-0.041500</td>\n",
       "      <td>0.073900</td>\n",
       "      <td>0.082200</td>\n",
       "      <td>0.074900</td>\n",
       "      <td>0.083500</td>\n",
       "      <td>0.084600</td>\n",
       "      <td>0.086700</td>\n",
       "    </tr>\n",
       "    <tr>\n",
       "      <td>25%</td>\n",
       "      <td>0.058200</td>\n",
       "      <td>0.063200</td>\n",
       "      <td>0.116700</td>\n",
       "      <td>0.118600</td>\n",
       "      <td>0.119600</td>\n",
       "      <td>0.120800</td>\n",
       "      <td>0.125400</td>\n",
       "      <td>0.123700</td>\n",
       "    </tr>\n",
       "    <tr>\n",
       "      <td>50%</td>\n",
       "      <td>0.081800</td>\n",
       "      <td>0.091400</td>\n",
       "      <td>0.133000</td>\n",
       "      <td>0.134800</td>\n",
       "      <td>0.136700</td>\n",
       "      <td>0.136400</td>\n",
       "      <td>0.140100</td>\n",
       "      <td>0.138400</td>\n",
       "    </tr>\n",
       "    <tr>\n",
       "      <td>75%</td>\n",
       "      <td>0.103000</td>\n",
       "      <td>0.118200</td>\n",
       "      <td>0.157700</td>\n",
       "      <td>0.158400</td>\n",
       "      <td>0.160600</td>\n",
       "      <td>0.159200</td>\n",
       "      <td>0.161600</td>\n",
       "      <td>0.160000</td>\n",
       "    </tr>\n",
       "    <tr>\n",
       "      <td>max</td>\n",
       "      <td>0.212600</td>\n",
       "      <td>0.294700</td>\n",
       "      <td>0.337900</td>\n",
       "      <td>0.407400</td>\n",
       "      <td>0.477000</td>\n",
       "      <td>0.321000</td>\n",
       "      <td>0.433700</td>\n",
       "      <td>0.377300</td>\n",
       "    </tr>\n",
       "  </tbody>\n",
       "</table>\n",
       "</div>"
      ],
      "text/plain": [
       "                  X6             T6             L6             N6  \\\n",
       "count  482697.000000  482697.000000  482697.000000  482697.000000   \n",
       "mean        0.080901       0.091058       0.143021       0.145081   \n",
       "std         0.034916       0.042545       0.040677       0.040592   \n",
       "min        -0.025900      -0.041500       0.073900       0.082200   \n",
       "25%         0.058200       0.063200       0.116700       0.118600   \n",
       "50%         0.081800       0.091400       0.133000       0.134800   \n",
       "75%         0.103000       0.118200       0.157700       0.158400   \n",
       "max         0.212600       0.294700       0.337900       0.407400   \n",
       "\n",
       "                  M6             U6             V6             W6  \n",
       "count  482697.000000  482697.000000  482697.000000  482697.000000  \n",
       "mean        0.147141       0.145260       0.150237       0.147749  \n",
       "std         0.042429       0.037008       0.038462       0.036941  \n",
       "min         0.074900       0.083500       0.084600       0.086700  \n",
       "25%         0.119600       0.120800       0.125400       0.123700  \n",
       "50%         0.136700       0.136400       0.140100       0.138400  \n",
       "75%         0.160600       0.159200       0.161600       0.160000  \n",
       "max         0.477000       0.321000       0.433700       0.377300  "
      ]
     },
     "execution_count": 38,
     "metadata": {},
     "output_type": "execute_result"
    }
   ],
   "source": [
    "train_missing.describe() #nothing out of ordinary, could impute with mean..."
   ]
  },
  {
   "cell_type": "code",
   "execution_count": 43,
   "metadata": {},
   "outputs": [],
   "source": [
    "#impute missing variables in train with mean\n",
    "train_nomissing=train.apply(lambda x: x.fillna(x.mean()))"
   ]
  },
  {
   "cell_type": "code",
   "execution_count": 44,
   "metadata": {},
   "outputs": [
    {
     "name": "stdout",
     "output_type": "stream",
     "text": [
      "<class 'pandas.core.frame.DataFrame'>\n",
      "RangeIndex: 483087 entries, 0 to 483086\n",
      "Columns: 148 entries, A1 to X6\n",
      "dtypes: float64(135), int64(13)\n",
      "memory usage: 545.5 MB\n"
     ]
    }
   ],
   "source": [
    "train_nomissing.info()"
   ]
  },
  {
   "cell_type": "code",
   "execution_count": 45,
   "metadata": {},
   "outputs": [
    {
     "name": "stdout",
     "output_type": "stream",
     "text": [
      "<class 'pandas.core.frame.DataFrame'>\n",
      "RangeIndex: 483087 entries, 0 to 483086\n",
      "Data columns (total 8 columns):\n",
      "X6    483087 non-null float64\n",
      "T6    483087 non-null float64\n",
      "L6    483087 non-null float64\n",
      "N6    483087 non-null float64\n",
      "M6    483087 non-null float64\n",
      "U6    483087 non-null float64\n",
      "V6    483087 non-null float64\n",
      "W6    483087 non-null float64\n",
      "dtypes: float64(8)\n",
      "memory usage: 29.5 MB\n"
     ]
    }
   ],
   "source": [
    "train_nomissing.loc[:,col_missing].info()  #confirm that missing values are being imputed. "
   ]
  },
  {
   "cell_type": "code",
   "execution_count": 46,
   "metadata": {},
   "outputs": [],
   "source": [
    "#=missing_df(train_nomissing)"
   ]
  },
  {
   "cell_type": "code",
   "execution_count": 47,
   "metadata": {},
   "outputs": [
    {
     "data": {
      "text/plain": [
       "0"
      ]
     },
     "execution_count": 47,
     "metadata": {},
     "output_type": "execute_result"
    }
   ],
   "source": [
    "#sum(missing['pct_missing']!=0)"
   ]
  },
  {
   "cell_type": "markdown",
   "metadata": {},
   "source": [
    "## Feature scaling"
   ]
  },
  {
   "cell_type": "code",
   "execution_count": 48,
   "metadata": {},
   "outputs": [],
   "source": [
    "from sklearn.preprocessing import StandardScaler\n"
   ]
  },
  {
   "cell_type": "code",
   "execution_count": 49,
   "metadata": {},
   "outputs": [],
   "source": [
    "scaler = StandardScaler() #scale to ensure models are properly trained. \n",
    "scaled_train = scaler.fit_transform(train_nomissing)\n"
   ]
  },
  {
   "cell_type": "code",
   "execution_count": 54,
   "metadata": {},
   "outputs": [],
   "source": [
    "scaled_train=pd.DataFrame(scaled_train) #from array to dataframe\n",
    "scaled_train.columns=train_list  #put back column names"
   ]
  },
  {
   "cell_type": "code",
   "execution_count": 55,
   "metadata": {},
   "outputs": [
    {
     "data": {
      "text/html": [
       "<div>\n",
       "<style scoped>\n",
       "    .dataframe tbody tr th:only-of-type {\n",
       "        vertical-align: middle;\n",
       "    }\n",
       "\n",
       "    .dataframe tbody tr th {\n",
       "        vertical-align: top;\n",
       "    }\n",
       "\n",
       "    .dataframe thead th {\n",
       "        text-align: right;\n",
       "    }\n",
       "</style>\n",
       "<table border=\"1\" class=\"dataframe\">\n",
       "  <thead>\n",
       "    <tr style=\"text-align: right;\">\n",
       "      <th></th>\n",
       "      <th>A1</th>\n",
       "      <th>B1</th>\n",
       "      <th>C1</th>\n",
       "      <th>D1</th>\n",
       "      <th>E1</th>\n",
       "      <th>F1</th>\n",
       "      <th>G1</th>\n",
       "      <th>H1</th>\n",
       "      <th>I1</th>\n",
       "      <th>J1</th>\n",
       "      <th>...</th>\n",
       "      <th>N6</th>\n",
       "      <th>P6</th>\n",
       "      <th>Q6</th>\n",
       "      <th>R6</th>\n",
       "      <th>S6</th>\n",
       "      <th>T6</th>\n",
       "      <th>U6</th>\n",
       "      <th>V6</th>\n",
       "      <th>W6</th>\n",
       "      <th>X6</th>\n",
       "    </tr>\n",
       "  </thead>\n",
       "  <tbody>\n",
       "    <tr>\n",
       "      <td>0</td>\n",
       "      <td>-0.066579</td>\n",
       "      <td>-0.934318</td>\n",
       "      <td>-0.469450</td>\n",
       "      <td>-0.506597</td>\n",
       "      <td>-0.133234</td>\n",
       "      <td>0.070210</td>\n",
       "      <td>-0.013717</td>\n",
       "      <td>-0.109775</td>\n",
       "      <td>-0.950130</td>\n",
       "      <td>0.783375</td>\n",
       "      <td>...</td>\n",
       "      <td>-0.835023</td>\n",
       "      <td>-0.916355</td>\n",
       "      <td>-0.643895</td>\n",
       "      <td>-0.627935</td>\n",
       "      <td>-0.766902</td>\n",
       "      <td>0.487725</td>\n",
       "      <td>-0.745009</td>\n",
       "      <td>-0.963339</td>\n",
       "      <td>-0.876038</td>\n",
       "      <td>0.249252</td>\n",
       "    </tr>\n",
       "    <tr>\n",
       "      <td>1</td>\n",
       "      <td>0.666044</td>\n",
       "      <td>-0.765331</td>\n",
       "      <td>-0.047211</td>\n",
       "      <td>-0.170278</td>\n",
       "      <td>0.405617</td>\n",
       "      <td>0.048964</td>\n",
       "      <td>-0.132080</td>\n",
       "      <td>-0.187295</td>\n",
       "      <td>1.461399</td>\n",
       "      <td>-0.743244</td>\n",
       "      <td>...</td>\n",
       "      <td>0.301141</td>\n",
       "      <td>0.276562</td>\n",
       "      <td>-0.010507</td>\n",
       "      <td>0.070777</td>\n",
       "      <td>-0.068686</td>\n",
       "      <td>0.974465</td>\n",
       "      <td>0.363311</td>\n",
       "      <td>0.220123</td>\n",
       "      <td>0.296575</td>\n",
       "      <td>0.896785</td>\n",
       "    </tr>\n",
       "    <tr>\n",
       "      <td>2</td>\n",
       "      <td>-0.702470</td>\n",
       "      <td>-1.016280</td>\n",
       "      <td>-0.072957</td>\n",
       "      <td>-0.173203</td>\n",
       "      <td>0.328610</td>\n",
       "      <td>-0.023910</td>\n",
       "      <td>-0.022903</td>\n",
       "      <td>-0.032251</td>\n",
       "      <td>-0.827062</td>\n",
       "      <td>0.864728</td>\n",
       "      <td>...</td>\n",
       "      <td>-0.260779</td>\n",
       "      <td>-0.350174</td>\n",
       "      <td>-0.235418</td>\n",
       "      <td>-0.367725</td>\n",
       "      <td>-0.287302</td>\n",
       "      <td>0.948599</td>\n",
       "      <td>-0.455765</td>\n",
       "      <td>-0.320888</td>\n",
       "      <td>-0.393994</td>\n",
       "      <td>0.722009</td>\n",
       "    </tr>\n",
       "    <tr>\n",
       "      <td>3</td>\n",
       "      <td>-0.511930</td>\n",
       "      <td>-0.785557</td>\n",
       "      <td>0.385326</td>\n",
       "      <td>0.584245</td>\n",
       "      <td>-0.086259</td>\n",
       "      <td>-0.036840</td>\n",
       "      <td>0.022922</td>\n",
       "      <td>-0.118640</td>\n",
       "      <td>1.260840</td>\n",
       "      <td>-0.886362</td>\n",
       "      <td>...</td>\n",
       "      <td>0.192700</td>\n",
       "      <td>0.767050</td>\n",
       "      <td>0.350012</td>\n",
       "      <td>0.878713</td>\n",
       "      <td>0.502427</td>\n",
       "      <td>0.210260</td>\n",
       "      <td>0.106505</td>\n",
       "      <td>0.053658</td>\n",
       "      <td>0.079926</td>\n",
       "      <td>0.140374</td>\n",
       "    </tr>\n",
       "    <tr>\n",
       "      <td>4</td>\n",
       "      <td>-0.685550</td>\n",
       "      <td>-1.017819</td>\n",
       "      <td>-0.139897</td>\n",
       "      <td>-0.290183</td>\n",
       "      <td>0.417981</td>\n",
       "      <td>-0.032922</td>\n",
       "      <td>-0.084394</td>\n",
       "      <td>-0.037241</td>\n",
       "      <td>1.420166</td>\n",
       "      <td>-1.081221</td>\n",
       "      <td>...</td>\n",
       "      <td>-0.263244</td>\n",
       "      <td>-0.335035</td>\n",
       "      <td>-0.131231</td>\n",
       "      <td>-0.293838</td>\n",
       "      <td>-0.287302</td>\n",
       "      <td>-0.276479</td>\n",
       "      <td>-0.685538</td>\n",
       "      <td>-0.175231</td>\n",
       "      <td>-0.434616</td>\n",
       "      <td>-0.475643</td>\n",
       "    </tr>\n",
       "  </tbody>\n",
       "</table>\n",
       "<p>5 rows × 148 columns</p>\n",
       "</div>"
      ],
      "text/plain": [
       "         A1        B1        C1        D1        E1        F1        G1  \\\n",
       "0 -0.066579 -0.934318 -0.469450 -0.506597 -0.133234  0.070210 -0.013717   \n",
       "1  0.666044 -0.765331 -0.047211 -0.170278  0.405617  0.048964 -0.132080   \n",
       "2 -0.702470 -1.016280 -0.072957 -0.173203  0.328610 -0.023910 -0.022903   \n",
       "3 -0.511930 -0.785557  0.385326  0.584245 -0.086259 -0.036840  0.022922   \n",
       "4 -0.685550 -1.017819 -0.139897 -0.290183  0.417981 -0.032922 -0.084394   \n",
       "\n",
       "         H1        I1        J1  ...        N6        P6        Q6        R6  \\\n",
       "0 -0.109775 -0.950130  0.783375  ... -0.835023 -0.916355 -0.643895 -0.627935   \n",
       "1 -0.187295  1.461399 -0.743244  ...  0.301141  0.276562 -0.010507  0.070777   \n",
       "2 -0.032251 -0.827062  0.864728  ... -0.260779 -0.350174 -0.235418 -0.367725   \n",
       "3 -0.118640  1.260840 -0.886362  ...  0.192700  0.767050  0.350012  0.878713   \n",
       "4 -0.037241  1.420166 -1.081221  ... -0.263244 -0.335035 -0.131231 -0.293838   \n",
       "\n",
       "         S6        T6        U6        V6        W6        X6  \n",
       "0 -0.766902  0.487725 -0.745009 -0.963339 -0.876038  0.249252  \n",
       "1 -0.068686  0.974465  0.363311  0.220123  0.296575  0.896785  \n",
       "2 -0.287302  0.948599 -0.455765 -0.320888 -0.393994  0.722009  \n",
       "3  0.502427  0.210260  0.106505  0.053658  0.079926  0.140374  \n",
       "4 -0.287302 -0.276479 -0.685538 -0.175231 -0.434616 -0.475643  \n",
       "\n",
       "[5 rows x 148 columns]"
      ]
     },
     "execution_count": 55,
     "metadata": {},
     "output_type": "execute_result"
    }
   ],
   "source": [
    "scaled_train.head()"
   ]
  },
  {
   "cell_type": "markdown",
   "metadata": {},
   "source": [
    "# Establish a baseline model"
   ]
  },
  {
   "cell_type": "code",
   "execution_count": 57,
   "metadata": {},
   "outputs": [],
   "source": [
    "# The baseline model is the logistic regression\n",
    "from sklearn.linear_model import LogisticRegression"
   ]
  },
  {
   "cell_type": "code",
   "execution_count": 73,
   "metadata": {},
   "outputs": [
    {
     "name": "stderr",
     "output_type": "stream",
     "text": [
      "C:\\Users\\Lu\\Anaconda3\\lib\\site-packages\\sklearn\\linear_model\\logistic.py:947: ConvergenceWarning: lbfgs failed to converge. Increase the number of iterations.\n",
      "  \"of iterations.\", ConvergenceWarning)\n"
     ]
    },
    {
     "data": {
      "text/plain": [
       "LogisticRegression(C=1.0, class_weight=None, dual=False, fit_intercept=True,\n",
       "                   intercept_scaling=1, l1_ratio=None, max_iter=100,\n",
       "                   multi_class='warn', n_jobs=None, penalty='l2',\n",
       "                   random_state=None, solver='lbfgs', tol=0.0001, verbose=0,\n",
       "                   warm_start=False)"
      ]
     },
     "execution_count": 73,
     "metadata": {},
     "output_type": "execute_result"
    }
   ],
   "source": [
    "log_reg = LogisticRegression(solver='lbfgs')\n",
    "log_reg.fit(scaled_train, labels.iloc[:,0]) #use target1"
   ]
  },
  {
   "cell_type": "code",
   "execution_count": 82,
   "metadata": {},
   "outputs": [
    {
     "data": {
      "text/plain": [
       "0.5735839804599484"
      ]
     },
     "execution_count": 82,
     "metadata": {},
     "output_type": "execute_result"
    }
   ],
   "source": [
    "from sklearn.metrics import roc_auc_score\n",
    "\n",
    "\n",
    "logreg_predictions1 = log_reg.predict(scaled_train)\n",
    "log_roc1 = roc_auc_score(labels.iloc[:,0], logreg_predictions1)\n",
    "log_roc1  #baseline roc on target1\n"
   ]
  },
  {
   "cell_type": "code",
   "execution_count": 83,
   "metadata": {},
   "outputs": [
    {
     "name": "stderr",
     "output_type": "stream",
     "text": [
      "C:\\Users\\Lu\\Anaconda3\\lib\\site-packages\\sklearn\\linear_model\\logistic.py:947: ConvergenceWarning: lbfgs failed to converge. Increase the number of iterations.\n",
      "  \"of iterations.\", ConvergenceWarning)\n"
     ]
    },
    {
     "data": {
      "text/plain": [
       "0.6011926309633976"
      ]
     },
     "execution_count": 83,
     "metadata": {},
     "output_type": "execute_result"
    }
   ],
   "source": [
    "log_reg.fit(scaled_train, labels.iloc[:,1]) #predict target2\n",
    "logreg_predictions2 = log_reg.predict(scaled_train)\n",
    "\n",
    "log_roc2 = roc_auc_score(labels.iloc[:,1], logreg_predictions2)\n",
    "log_roc2 #baseline roc on target2"
   ]
  },
  {
   "cell_type": "markdown",
   "metadata": {},
   "source": [
    "# Gradient boosting"
   ]
  },
  {
   "cell_type": "code",
   "execution_count": 84,
   "metadata": {},
   "outputs": [
    {
     "ename": "NameError",
     "evalue": "name 'X' is not defined",
     "output_type": "error",
     "traceback": [
      "\u001b[1;31m---------------------------------------------------------------------------\u001b[0m",
      "\u001b[1;31mNameError\u001b[0m                                 Traceback (most recent call last)",
      "\u001b[1;32m<ipython-input-84-30dd2cb8bc77>\u001b[0m in \u001b[0;36m<module>\u001b[1;34m\u001b[0m\n\u001b[0;32m      1\u001b[0m \u001b[1;32mfrom\u001b[0m \u001b[0msklearn\u001b[0m\u001b[1;33m.\u001b[0m\u001b[0mtree\u001b[0m \u001b[1;32mimport\u001b[0m \u001b[0mDecisionTreeRegressor\u001b[0m\u001b[1;33m\u001b[0m\u001b[1;33m\u001b[0m\u001b[0m\n\u001b[0;32m      2\u001b[0m \u001b[0mtree_reg1\u001b[0m \u001b[1;33m=\u001b[0m \u001b[0mDecisionTreeRegressor\u001b[0m\u001b[1;33m(\u001b[0m\u001b[0mmax_depth\u001b[0m\u001b[1;33m=\u001b[0m\u001b[1;36m2\u001b[0m\u001b[1;33m)\u001b[0m\u001b[1;33m\u001b[0m\u001b[1;33m\u001b[0m\u001b[0m\n\u001b[1;32m----> 3\u001b[1;33m \u001b[0mtree_reg1\u001b[0m\u001b[1;33m.\u001b[0m\u001b[0mfit\u001b[0m\u001b[1;33m(\u001b[0m\u001b[0mX\u001b[0m\u001b[1;33m,\u001b[0m \u001b[0my\u001b[0m\u001b[1;33m)\u001b[0m\u001b[1;33m\u001b[0m\u001b[1;33m\u001b[0m\u001b[0m\n\u001b[0m",
      "\u001b[1;31mNameError\u001b[0m: name 'X' is not defined"
     ]
    }
   ],
   "source": [
    "from sklearn.tree import DecisionTreeRegressor\n",
    "tree_reg1 = DecisionTreeRegressor(max_depth=2)\n",
    "tree_reg1.fit(X, y)"
   ]
  },
  {
   "cell_type": "markdown",
   "metadata": {},
   "source": [
    "# XGboost \n",
    "https://xgboost.readthedocs.io/en/latest/tutorials/index.html"
   ]
  },
  {
   "cell_type": "code",
   "execution_count": 9,
   "metadata": {},
   "outputs": [],
   "source": [
    "#conda install -c anaconda py-xgboost\n",
    "import xgboost as xgb"
   ]
  },
  {
   "cell_type": "markdown",
   "metadata": {},
   "source": [
    "## Cross-validation in XGBoost"
   ]
  },
  {
   "cell_type": "code",
   "execution_count": 16,
   "metadata": {},
   "outputs": [],
   "source": [
    "train_dmatrix = xgb.DMatrix(train,\n",
    "label=labels.iloc[:,0])\n",
    "params={\"objective\":\"binary:logistic\",\"max_depth\":4}\n",
    "cv_results = xgb.cv(dtrain=train_dmatrix, params=params, nfold=4,\n",
    "num_boost_round=10, metrics=\"auc\", as_pandas=True)  #measuring AUC\n",
    "#print(\"Accuracy: %f\" %((1-cv_results[\"test-error-mean\"]).iloc[-1]))"
   ]
  },
  {
   "cell_type": "code",
   "execution_count": 18,
   "metadata": {},
   "outputs": [
    {
     "data": {
      "text/plain": [
       "0.8230641750000001"
      ]
     },
     "execution_count": 18,
     "metadata": {},
     "output_type": "execute_result"
    }
   ],
   "source": [
    "cv_results['test-auc-mean'].mean()"
   ]
  },
  {
   "cell_type": "markdown",
   "metadata": {},
   "source": [
    "### fine tune the model\n",
    "\n",
    "Eta and overfitting: https://mlexplained.com/2018/01/29/learning-rate-tuning-in-deep-learning-a-practical-guide/\n"
   ]
  },
  {
   "cell_type": "code",
   "execution_count": null,
   "metadata": {},
   "outputs": [],
   "source": []
  }
 ],
 "metadata": {
  "kernelspec": {
   "display_name": "Python 3",
   "language": "python",
   "name": "python3"
  },
  "language_info": {
   "codemirror_mode": {
    "name": "ipython",
    "version": 3
   },
   "file_extension": ".py",
   "mimetype": "text/x-python",
   "name": "python",
   "nbconvert_exporter": "python",
   "pygments_lexer": "ipython3",
   "version": "3.7.4"
  },
  "toc": {
   "base_numbering": 1,
   "nav_menu": {},
   "number_sections": true,
   "sideBar": true,
   "skip_h1_title": false,
   "title_cell": "Table of Contents",
   "title_sidebar": "Contents",
   "toc_cell": false,
   "toc_position": {},
   "toc_section_display": true,
   "toc_window_display": true
  }
 },
 "nbformat": 4,
 "nbformat_minor": 2
}
