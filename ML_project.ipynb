{
 "cells": [
  {
   "cell_type": "markdown",
   "metadata": {},
   "source": [
    "# import packages and files"
   ]
  },
  {
   "cell_type": "code",
   "execution_count": 63,
   "metadata": {},
   "outputs": [],
   "source": [
    "import pandas as pd\n",
    "import numpy as np\n",
    "import seaborn as sns\n",
    "from matplotlib import pyplot"
   ]
  },
  {
   "cell_type": "code",
   "execution_count": 4,
   "metadata": {},
   "outputs": [],
   "source": [
    "train=pd.read_csv(r'C:\\Users\\Lu\\OneDrive - North Carolina State University\\MSA studies\\AA502\\Machine Learning\\project\\MLProject_train.csv')"
   ]
  },
  {
   "cell_type": "code",
   "execution_count": 19,
   "metadata": {},
   "outputs": [],
   "source": [
    "valid=pd.read_csv(r'C:\\Users\\Lu\\OneDrive - North Carolina State University\\MSA studies\\AA502\\Machine Learning\\project\\MLProject_valid.csv')"
   ]
  },
  {
   "cell_type": "code",
   "execution_count": 7,
   "metadata": {},
   "outputs": [
    {
     "name": "stdout",
     "output_type": "stream",
     "text": [
      "<class 'pandas.core.frame.DataFrame'>\n",
      "RangeIndex: 483087 entries, 0 to 483086\n",
      "Columns: 150 entries, A1 to target2\n",
      "dtypes: float64(135), int64(15)\n",
      "memory usage: 552.8 MB\n",
      "<class 'pandas.core.frame.DataFrame'>\n",
      "RangeIndex: 60000 entries, 0 to 59999\n",
      "Columns: 150 entries, A1 to target2\n",
      "dtypes: float64(133), int64(17)\n",
      "memory usage: 68.7 MB\n"
     ]
    },
    {
     "data": {
      "text/plain": [
       "(None, None)"
      ]
     },
     "execution_count": 7,
     "metadata": {},
     "output_type": "execute_result"
    }
   ],
   "source": [
    "train.info(),valid.info() #all variables are either float or int"
   ]
  },
  {
   "cell_type": "code",
   "execution_count": 8,
   "metadata": {},
   "outputs": [
    {
     "data": {
      "text/plain": [
       "count    483087.000000\n",
       "mean          3.030347\n",
       "std           1.419200\n",
       "min           1.000000\n",
       "25%           2.000000\n",
       "50%           3.000000\n",
       "75%           4.000000\n",
       "max           5.000000\n",
       "Name: Z2, dtype: float64"
      ]
     },
     "execution_count": 8,
     "metadata": {},
     "output_type": "execute_result"
    }
   ],
   "source": [
    "#inspect the categorical Z2\n",
    "train['Z2'].describe()   #it's float in python"
   ]
  },
  {
   "cell_type": "code",
   "execution_count": 12,
   "metadata": {},
   "outputs": [
    {
     "data": {
      "text/html": [
       "<div>\n",
       "<style scoped>\n",
       "    .dataframe tbody tr th:only-of-type {\n",
       "        vertical-align: middle;\n",
       "    }\n",
       "\n",
       "    .dataframe tbody tr th {\n",
       "        vertical-align: top;\n",
       "    }\n",
       "\n",
       "    .dataframe thead th {\n",
       "        text-align: right;\n",
       "    }\n",
       "</style>\n",
       "<table border=\"1\" class=\"dataframe\">\n",
       "  <thead>\n",
       "    <tr style=\"text-align: right;\">\n",
       "      <th></th>\n",
       "      <th>target1</th>\n",
       "      <th>target2</th>\n",
       "    </tr>\n",
       "  </thead>\n",
       "  <tbody>\n",
       "    <tr>\n",
       "      <td>0</td>\n",
       "      <td>0</td>\n",
       "      <td>0</td>\n",
       "    </tr>\n",
       "    <tr>\n",
       "      <td>1</td>\n",
       "      <td>0</td>\n",
       "      <td>0</td>\n",
       "    </tr>\n",
       "    <tr>\n",
       "      <td>2</td>\n",
       "      <td>0</td>\n",
       "      <td>1</td>\n",
       "    </tr>\n",
       "    <tr>\n",
       "      <td>3</td>\n",
       "      <td>0</td>\n",
       "      <td>0</td>\n",
       "    </tr>\n",
       "    <tr>\n",
       "      <td>4</td>\n",
       "      <td>0</td>\n",
       "      <td>0</td>\n",
       "    </tr>\n",
       "    <tr>\n",
       "      <td>...</td>\n",
       "      <td>...</td>\n",
       "      <td>...</td>\n",
       "    </tr>\n",
       "    <tr>\n",
       "      <td>483082</td>\n",
       "      <td>0</td>\n",
       "      <td>1</td>\n",
       "    </tr>\n",
       "    <tr>\n",
       "      <td>483083</td>\n",
       "      <td>0</td>\n",
       "      <td>0</td>\n",
       "    </tr>\n",
       "    <tr>\n",
       "      <td>483084</td>\n",
       "      <td>0</td>\n",
       "      <td>1</td>\n",
       "    </tr>\n",
       "    <tr>\n",
       "      <td>483085</td>\n",
       "      <td>0</td>\n",
       "      <td>0</td>\n",
       "    </tr>\n",
       "    <tr>\n",
       "      <td>483086</td>\n",
       "      <td>0</td>\n",
       "      <td>0</td>\n",
       "    </tr>\n",
       "  </tbody>\n",
       "</table>\n",
       "<p>483087 rows × 2 columns</p>\n",
       "</div>"
      ],
      "text/plain": [
       "        target1  target2\n",
       "0             0        0\n",
       "1             0        0\n",
       "2             0        1\n",
       "3             0        0\n",
       "4             0        0\n",
       "...         ...      ...\n",
       "483082        0        1\n",
       "483083        0        0\n",
       "483084        0        1\n",
       "483085        0        0\n",
       "483086        0        0\n",
       "\n",
       "[483087 rows x 2 columns]"
      ]
     },
     "execution_count": 12,
     "metadata": {},
     "output_type": "execute_result"
    }
   ],
   "source": [
    "train.iloc[:,-2:]"
   ]
  },
  {
   "cell_type": "markdown",
   "metadata": {},
   "source": [
    "# Prep the data"
   ]
  },
  {
   "cell_type": "markdown",
   "metadata": {},
   "source": [
    "## save targets to labels"
   ]
  },
  {
   "cell_type": "code",
   "execution_count": 8,
   "metadata": {},
   "outputs": [],
   "source": [
    "# Labels are the values we want to predict\n",
    "labels = train.loc[:,'target1': 'target2']\n",
    "\n"
   ]
  },
  {
   "cell_type": "code",
   "execution_count": 9,
   "metadata": {},
   "outputs": [
    {
     "data": {
      "text/html": [
       "<div>\n",
       "<style scoped>\n",
       "    .dataframe tbody tr th:only-of-type {\n",
       "        vertical-align: middle;\n",
       "    }\n",
       "\n",
       "    .dataframe tbody tr th {\n",
       "        vertical-align: top;\n",
       "    }\n",
       "\n",
       "    .dataframe thead th {\n",
       "        text-align: right;\n",
       "    }\n",
       "</style>\n",
       "<table border=\"1\" class=\"dataframe\">\n",
       "  <thead>\n",
       "    <tr style=\"text-align: right;\">\n",
       "      <th></th>\n",
       "      <th>target1</th>\n",
       "      <th>target2</th>\n",
       "    </tr>\n",
       "  </thead>\n",
       "  <tbody>\n",
       "    <tr>\n",
       "      <td>0</td>\n",
       "      <td>0</td>\n",
       "      <td>0</td>\n",
       "    </tr>\n",
       "    <tr>\n",
       "      <td>1</td>\n",
       "      <td>0</td>\n",
       "      <td>0</td>\n",
       "    </tr>\n",
       "    <tr>\n",
       "      <td>2</td>\n",
       "      <td>0</td>\n",
       "      <td>1</td>\n",
       "    </tr>\n",
       "    <tr>\n",
       "      <td>3</td>\n",
       "      <td>0</td>\n",
       "      <td>0</td>\n",
       "    </tr>\n",
       "    <tr>\n",
       "      <td>4</td>\n",
       "      <td>0</td>\n",
       "      <td>0</td>\n",
       "    </tr>\n",
       "    <tr>\n",
       "      <td>...</td>\n",
       "      <td>...</td>\n",
       "      <td>...</td>\n",
       "    </tr>\n",
       "    <tr>\n",
       "      <td>483082</td>\n",
       "      <td>0</td>\n",
       "      <td>1</td>\n",
       "    </tr>\n",
       "    <tr>\n",
       "      <td>483083</td>\n",
       "      <td>0</td>\n",
       "      <td>0</td>\n",
       "    </tr>\n",
       "    <tr>\n",
       "      <td>483084</td>\n",
       "      <td>0</td>\n",
       "      <td>1</td>\n",
       "    </tr>\n",
       "    <tr>\n",
       "      <td>483085</td>\n",
       "      <td>0</td>\n",
       "      <td>0</td>\n",
       "    </tr>\n",
       "    <tr>\n",
       "      <td>483086</td>\n",
       "      <td>0</td>\n",
       "      <td>0</td>\n",
       "    </tr>\n",
       "  </tbody>\n",
       "</table>\n",
       "<p>483087 rows × 2 columns</p>\n",
       "</div>"
      ],
      "text/plain": [
       "        target1  target2\n",
       "0             0        0\n",
       "1             0        0\n",
       "2             0        1\n",
       "3             0        0\n",
       "4             0        0\n",
       "...         ...      ...\n",
       "483082        0        1\n",
       "483083        0        0\n",
       "483084        0        1\n",
       "483085        0        0\n",
       "483086        0        0\n",
       "\n",
       "[483087 rows x 2 columns]"
      ]
     },
     "execution_count": 9,
     "metadata": {},
     "output_type": "execute_result"
    }
   ],
   "source": [
    "labels"
   ]
  },
  {
   "cell_type": "code",
   "execution_count": null,
   "metadata": {},
   "outputs": [],
   "source": []
  },
  {
   "cell_type": "markdown",
   "metadata": {},
   "source": [
    "## Remove target from train"
   ]
  },
  {
   "cell_type": "code",
   "execution_count": 24,
   "metadata": {},
   "outputs": [
    {
     "data": {
      "text/plain": [
       "(483087, 148)"
      ]
     },
     "execution_count": 24,
     "metadata": {},
     "output_type": "execute_result"
    }
   ],
   "source": [
    "#remove target variable from the dataset\n",
    "\n",
    "train= train.drop(['target1', 'target2'], axis = 1)\n",
    "\n",
    "train.shape"
   ]
  },
  {
   "cell_type": "code",
   "execution_count": 53,
   "metadata": {},
   "outputs": [],
   "source": [
    "# Saving column names for later use\n",
    "train_list = list(train.columns)\n",
    "# Convert to numpy array\n",
    "train_list_array = np.array(train_list)"
   ]
  },
  {
   "cell_type": "markdown",
   "metadata": {},
   "source": [
    "## Remove target from valid"
   ]
  },
  {
   "cell_type": "code",
   "execution_count": 20,
   "metadata": {},
   "outputs": [],
   "source": [
    "labels_valid=valid.loc[:,'target1': 'target2']"
   ]
  },
  {
   "cell_type": "code",
   "execution_count": 21,
   "metadata": {},
   "outputs": [
    {
     "data": {
      "text/plain": [
       "(60000, 148)"
      ]
     },
     "execution_count": 21,
     "metadata": {},
     "output_type": "execute_result"
    }
   ],
   "source": [
    "valid= valid.drop(['target1', 'target2'], axis = 1)\n",
    "valid.shape"
   ]
  },
  {
   "cell_type": "code",
   "execution_count": 22,
   "metadata": {},
   "outputs": [],
   "source": [
    "# Saving column names for later use\n",
    "valid_list = list(valid.columns)\n",
    "# Convert to numpy array\n",
    "valid_list_array = np.array(valid_list)"
   ]
  },
  {
   "cell_type": "markdown",
   "metadata": {},
   "source": [
    "# Data Cleaning"
   ]
  },
  {
   "cell_type": "markdown",
   "metadata": {},
   "source": [
    "## Impute missing values for training"
   ]
  },
  {
   "cell_type": "code",
   "execution_count": 27,
   "metadata": {},
   "outputs": [],
   "source": [
    "#check for missing values\n",
    "def missing_df(df):\n",
    "    missing_df=pd.DataFrame(df.apply(lambda x:sum(x.isnull())/len(df)))\n",
    "    missing_df.columns=['pct_missing']\n",
    "    missing_df=missing_df.sort_values(by='pct_missing', ascending=False)\n",
    "    return missing_df"
   ]
  },
  {
   "cell_type": "code",
   "execution_count": 26,
   "metadata": {},
   "outputs": [],
   "source": [
    "missing=missing_df(train)"
   ]
  },
  {
   "cell_type": "code",
   "execution_count": 27,
   "metadata": {},
   "outputs": [
    {
     "data": {
      "text/html": [
       "<div>\n",
       "<style scoped>\n",
       "    .dataframe tbody tr th:only-of-type {\n",
       "        vertical-align: middle;\n",
       "    }\n",
       "\n",
       "    .dataframe tbody tr th {\n",
       "        vertical-align: top;\n",
       "    }\n",
       "\n",
       "    .dataframe thead th {\n",
       "        text-align: right;\n",
       "    }\n",
       "</style>\n",
       "<table border=\"1\" class=\"dataframe\">\n",
       "  <thead>\n",
       "    <tr style=\"text-align: right;\">\n",
       "      <th></th>\n",
       "      <th>pct_missing</th>\n",
       "    </tr>\n",
       "  </thead>\n",
       "  <tbody>\n",
       "    <tr>\n",
       "      <td>X6</td>\n",
       "      <td>0.000807</td>\n",
       "    </tr>\n",
       "    <tr>\n",
       "      <td>T6</td>\n",
       "      <td>0.000807</td>\n",
       "    </tr>\n",
       "    <tr>\n",
       "      <td>L6</td>\n",
       "      <td>0.000807</td>\n",
       "    </tr>\n",
       "    <tr>\n",
       "      <td>N6</td>\n",
       "      <td>0.000807</td>\n",
       "    </tr>\n",
       "    <tr>\n",
       "      <td>M6</td>\n",
       "      <td>0.000807</td>\n",
       "    </tr>\n",
       "    <tr>\n",
       "      <td>U6</td>\n",
       "      <td>0.000807</td>\n",
       "    </tr>\n",
       "    <tr>\n",
       "      <td>V6</td>\n",
       "      <td>0.000807</td>\n",
       "    </tr>\n",
       "    <tr>\n",
       "      <td>W6</td>\n",
       "      <td>0.000807</td>\n",
       "    </tr>\n",
       "    <tr>\n",
       "      <td>Z4</td>\n",
       "      <td>0.000000</td>\n",
       "    </tr>\n",
       "    <tr>\n",
       "      <td>T4</td>\n",
       "      <td>0.000000</td>\n",
       "    </tr>\n",
       "    <tr>\n",
       "      <td>U4</td>\n",
       "      <td>0.000000</td>\n",
       "    </tr>\n",
       "    <tr>\n",
       "      <td>V4</td>\n",
       "      <td>0.000000</td>\n",
       "    </tr>\n",
       "    <tr>\n",
       "      <td>W4</td>\n",
       "      <td>0.000000</td>\n",
       "    </tr>\n",
       "    <tr>\n",
       "      <td>X4</td>\n",
       "      <td>0.000000</td>\n",
       "    </tr>\n",
       "    <tr>\n",
       "      <td>Y4</td>\n",
       "      <td>0.000000</td>\n",
       "    </tr>\n",
       "    <tr>\n",
       "      <td>A5</td>\n",
       "      <td>0.000000</td>\n",
       "    </tr>\n",
       "    <tr>\n",
       "      <td>F5</td>\n",
       "      <td>0.000000</td>\n",
       "    </tr>\n",
       "    <tr>\n",
       "      <td>B5</td>\n",
       "      <td>0.000000</td>\n",
       "    </tr>\n",
       "    <tr>\n",
       "      <td>R4</td>\n",
       "      <td>0.000000</td>\n",
       "    </tr>\n",
       "    <tr>\n",
       "      <td>C5</td>\n",
       "      <td>0.000000</td>\n",
       "    </tr>\n",
       "  </tbody>\n",
       "</table>\n",
       "</div>"
      ],
      "text/plain": [
       "    pct_missing\n",
       "X6     0.000807\n",
       "T6     0.000807\n",
       "L6     0.000807\n",
       "N6     0.000807\n",
       "M6     0.000807\n",
       "U6     0.000807\n",
       "V6     0.000807\n",
       "W6     0.000807\n",
       "Z4     0.000000\n",
       "T4     0.000000\n",
       "U4     0.000000\n",
       "V4     0.000000\n",
       "W4     0.000000\n",
       "X4     0.000000\n",
       "Y4     0.000000\n",
       "A5     0.000000\n",
       "F5     0.000000\n",
       "B5     0.000000\n",
       "R4     0.000000\n",
       "C5     0.000000"
      ]
     },
     "execution_count": 27,
     "metadata": {},
     "output_type": "execute_result"
    }
   ],
   "source": [
    "missing.head(20)"
   ]
  },
  {
   "cell_type": "code",
   "execution_count": 29,
   "metadata": {},
   "outputs": [
    {
     "data": {
      "text/plain": [
       "8"
      ]
     },
     "execution_count": 29,
     "metadata": {},
     "output_type": "execute_result"
    }
   ],
   "source": [
    "sum(missing['pct_missing']!=0) #eight variables have missing values"
   ]
  },
  {
   "cell_type": "code",
   "execution_count": 32,
   "metadata": {},
   "outputs": [],
   "source": [
    "#impute for missing values\n",
    "#investigate the eight missing values first\n",
    "col_missing=missing.loc[missing['pct_missing']!=0,:]\n",
    "#col_missing=missing.columns(missing['pct_missing']!=0)"
   ]
  },
  {
   "cell_type": "code",
   "execution_count": 33,
   "metadata": {},
   "outputs": [],
   "source": [
    "col_missing=col_missing.index"
   ]
  },
  {
   "cell_type": "code",
   "execution_count": 34,
   "metadata": {},
   "outputs": [
    {
     "data": {
      "text/plain": [
       "Index([], dtype='object')"
      ]
     },
     "execution_count": 34,
     "metadata": {},
     "output_type": "execute_result"
    }
   ],
   "source": [
    "col_missing"
   ]
  },
  {
   "cell_type": "code",
   "execution_count": 35,
   "metadata": {},
   "outputs": [],
   "source": [
    "#select those variables from training\n",
    "train_missing=train.loc[:,col_missing]"
   ]
  },
  {
   "cell_type": "code",
   "execution_count": 38,
   "metadata": {},
   "outputs": [
    {
     "data": {
      "text/html": [
       "<div>\n",
       "<style scoped>\n",
       "    .dataframe tbody tr th:only-of-type {\n",
       "        vertical-align: middle;\n",
       "    }\n",
       "\n",
       "    .dataframe tbody tr th {\n",
       "        vertical-align: top;\n",
       "    }\n",
       "\n",
       "    .dataframe thead th {\n",
       "        text-align: right;\n",
       "    }\n",
       "</style>\n",
       "<table border=\"1\" class=\"dataframe\">\n",
       "  <thead>\n",
       "    <tr style=\"text-align: right;\">\n",
       "      <th></th>\n",
       "      <th>X6</th>\n",
       "      <th>T6</th>\n",
       "      <th>L6</th>\n",
       "      <th>N6</th>\n",
       "      <th>M6</th>\n",
       "      <th>U6</th>\n",
       "      <th>V6</th>\n",
       "      <th>W6</th>\n",
       "    </tr>\n",
       "  </thead>\n",
       "  <tbody>\n",
       "    <tr>\n",
       "      <td>count</td>\n",
       "      <td>482697.000000</td>\n",
       "      <td>482697.000000</td>\n",
       "      <td>482697.000000</td>\n",
       "      <td>482697.000000</td>\n",
       "      <td>482697.000000</td>\n",
       "      <td>482697.000000</td>\n",
       "      <td>482697.000000</td>\n",
       "      <td>482697.000000</td>\n",
       "    </tr>\n",
       "    <tr>\n",
       "      <td>mean</td>\n",
       "      <td>0.080901</td>\n",
       "      <td>0.091058</td>\n",
       "      <td>0.143021</td>\n",
       "      <td>0.145081</td>\n",
       "      <td>0.147141</td>\n",
       "      <td>0.145260</td>\n",
       "      <td>0.150237</td>\n",
       "      <td>0.147749</td>\n",
       "    </tr>\n",
       "    <tr>\n",
       "      <td>std</td>\n",
       "      <td>0.034916</td>\n",
       "      <td>0.042545</td>\n",
       "      <td>0.040677</td>\n",
       "      <td>0.040592</td>\n",
       "      <td>0.042429</td>\n",
       "      <td>0.037008</td>\n",
       "      <td>0.038462</td>\n",
       "      <td>0.036941</td>\n",
       "    </tr>\n",
       "    <tr>\n",
       "      <td>min</td>\n",
       "      <td>-0.025900</td>\n",
       "      <td>-0.041500</td>\n",
       "      <td>0.073900</td>\n",
       "      <td>0.082200</td>\n",
       "      <td>0.074900</td>\n",
       "      <td>0.083500</td>\n",
       "      <td>0.084600</td>\n",
       "      <td>0.086700</td>\n",
       "    </tr>\n",
       "    <tr>\n",
       "      <td>25%</td>\n",
       "      <td>0.058200</td>\n",
       "      <td>0.063200</td>\n",
       "      <td>0.116700</td>\n",
       "      <td>0.118600</td>\n",
       "      <td>0.119600</td>\n",
       "      <td>0.120800</td>\n",
       "      <td>0.125400</td>\n",
       "      <td>0.123700</td>\n",
       "    </tr>\n",
       "    <tr>\n",
       "      <td>50%</td>\n",
       "      <td>0.081800</td>\n",
       "      <td>0.091400</td>\n",
       "      <td>0.133000</td>\n",
       "      <td>0.134800</td>\n",
       "      <td>0.136700</td>\n",
       "      <td>0.136400</td>\n",
       "      <td>0.140100</td>\n",
       "      <td>0.138400</td>\n",
       "    </tr>\n",
       "    <tr>\n",
       "      <td>75%</td>\n",
       "      <td>0.103000</td>\n",
       "      <td>0.118200</td>\n",
       "      <td>0.157700</td>\n",
       "      <td>0.158400</td>\n",
       "      <td>0.160600</td>\n",
       "      <td>0.159200</td>\n",
       "      <td>0.161600</td>\n",
       "      <td>0.160000</td>\n",
       "    </tr>\n",
       "    <tr>\n",
       "      <td>max</td>\n",
       "      <td>0.212600</td>\n",
       "      <td>0.294700</td>\n",
       "      <td>0.337900</td>\n",
       "      <td>0.407400</td>\n",
       "      <td>0.477000</td>\n",
       "      <td>0.321000</td>\n",
       "      <td>0.433700</td>\n",
       "      <td>0.377300</td>\n",
       "    </tr>\n",
       "  </tbody>\n",
       "</table>\n",
       "</div>"
      ],
      "text/plain": [
       "                  X6             T6             L6             N6  \\\n",
       "count  482697.000000  482697.000000  482697.000000  482697.000000   \n",
       "mean        0.080901       0.091058       0.143021       0.145081   \n",
       "std         0.034916       0.042545       0.040677       0.040592   \n",
       "min        -0.025900      -0.041500       0.073900       0.082200   \n",
       "25%         0.058200       0.063200       0.116700       0.118600   \n",
       "50%         0.081800       0.091400       0.133000       0.134800   \n",
       "75%         0.103000       0.118200       0.157700       0.158400   \n",
       "max         0.212600       0.294700       0.337900       0.407400   \n",
       "\n",
       "                  M6             U6             V6             W6  \n",
       "count  482697.000000  482697.000000  482697.000000  482697.000000  \n",
       "mean        0.147141       0.145260       0.150237       0.147749  \n",
       "std         0.042429       0.037008       0.038462       0.036941  \n",
       "min         0.074900       0.083500       0.084600       0.086700  \n",
       "25%         0.119600       0.120800       0.125400       0.123700  \n",
       "50%         0.136700       0.136400       0.140100       0.138400  \n",
       "75%         0.160600       0.159200       0.161600       0.160000  \n",
       "max         0.477000       0.321000       0.433700       0.377300  "
      ]
     },
     "execution_count": 38,
     "metadata": {},
     "output_type": "execute_result"
    }
   ],
   "source": [
    "train_missing.describe() #nothing out of ordinary, could impute with mean..."
   ]
  },
  {
   "cell_type": "code",
   "execution_count": 36,
   "metadata": {},
   "outputs": [],
   "source": [
    "#impute missing variables in train with mean\n",
    "train_nomissing=train.apply(lambda x: x.fillna(x.mean()))"
   ]
  },
  {
   "cell_type": "code",
   "execution_count": 44,
   "metadata": {},
   "outputs": [
    {
     "name": "stdout",
     "output_type": "stream",
     "text": [
      "<class 'pandas.core.frame.DataFrame'>\n",
      "RangeIndex: 483087 entries, 0 to 483086\n",
      "Columns: 148 entries, A1 to X6\n",
      "dtypes: float64(135), int64(13)\n",
      "memory usage: 545.5 MB\n"
     ]
    }
   ],
   "source": [
    "train_nomissing.info()"
   ]
  },
  {
   "cell_type": "code",
   "execution_count": 45,
   "metadata": {},
   "outputs": [
    {
     "name": "stdout",
     "output_type": "stream",
     "text": [
      "<class 'pandas.core.frame.DataFrame'>\n",
      "RangeIndex: 483087 entries, 0 to 483086\n",
      "Data columns (total 8 columns):\n",
      "X6    483087 non-null float64\n",
      "T6    483087 non-null float64\n",
      "L6    483087 non-null float64\n",
      "N6    483087 non-null float64\n",
      "M6    483087 non-null float64\n",
      "U6    483087 non-null float64\n",
      "V6    483087 non-null float64\n",
      "W6    483087 non-null float64\n",
      "dtypes: float64(8)\n",
      "memory usage: 29.5 MB\n"
     ]
    }
   ],
   "source": [
    "train_nomissing.loc[:,col_missing].info()  #confirm that missing values are being imputed. "
   ]
  },
  {
   "cell_type": "code",
   "execution_count": 46,
   "metadata": {},
   "outputs": [],
   "source": [
    "#=missing_df(train_nomissing)"
   ]
  },
  {
   "cell_type": "code",
   "execution_count": 47,
   "metadata": {},
   "outputs": [
    {
     "data": {
      "text/plain": [
       "0"
      ]
     },
     "execution_count": 47,
     "metadata": {},
     "output_type": "execute_result"
    }
   ],
   "source": [
    "#sum(missing['pct_missing']!=0)"
   ]
  },
  {
   "cell_type": "markdown",
   "metadata": {},
   "source": [
    "## impute missing values for valid"
   ]
  },
  {
   "cell_type": "code",
   "execution_count": 28,
   "metadata": {},
   "outputs": [],
   "source": [
    "missing=missing_df(valid)"
   ]
  },
  {
   "cell_type": "code",
   "execution_count": 29,
   "metadata": {},
   "outputs": [
    {
     "data": {
      "text/html": [
       "<div>\n",
       "<style scoped>\n",
       "    .dataframe tbody tr th:only-of-type {\n",
       "        vertical-align: middle;\n",
       "    }\n",
       "\n",
       "    .dataframe tbody tr th {\n",
       "        vertical-align: top;\n",
       "    }\n",
       "\n",
       "    .dataframe thead th {\n",
       "        text-align: right;\n",
       "    }\n",
       "</style>\n",
       "<table border=\"1\" class=\"dataframe\">\n",
       "  <thead>\n",
       "    <tr style=\"text-align: right;\">\n",
       "      <th></th>\n",
       "      <th>pct_missing</th>\n",
       "    </tr>\n",
       "  </thead>\n",
       "  <tbody>\n",
       "    <tr>\n",
       "      <td>A1</td>\n",
       "      <td>0.0</td>\n",
       "    </tr>\n",
       "    <tr>\n",
       "      <td>T4</td>\n",
       "      <td>0.0</td>\n",
       "    </tr>\n",
       "    <tr>\n",
       "      <td>V4</td>\n",
       "      <td>0.0</td>\n",
       "    </tr>\n",
       "    <tr>\n",
       "      <td>W4</td>\n",
       "      <td>0.0</td>\n",
       "    </tr>\n",
       "    <tr>\n",
       "      <td>X4</td>\n",
       "      <td>0.0</td>\n",
       "    </tr>\n",
       "    <tr>\n",
       "      <td>...</td>\n",
       "      <td>...</td>\n",
       "    </tr>\n",
       "    <tr>\n",
       "      <td>Z2</td>\n",
       "      <td>0.0</td>\n",
       "    </tr>\n",
       "    <tr>\n",
       "      <td>A3</td>\n",
       "      <td>0.0</td>\n",
       "    </tr>\n",
       "    <tr>\n",
       "      <td>B3</td>\n",
       "      <td>0.0</td>\n",
       "    </tr>\n",
       "    <tr>\n",
       "      <td>C3</td>\n",
       "      <td>0.0</td>\n",
       "    </tr>\n",
       "    <tr>\n",
       "      <td>X6</td>\n",
       "      <td>0.0</td>\n",
       "    </tr>\n",
       "  </tbody>\n",
       "</table>\n",
       "<p>148 rows × 1 columns</p>\n",
       "</div>"
      ],
      "text/plain": [
       "    pct_missing\n",
       "A1          0.0\n",
       "T4          0.0\n",
       "V4          0.0\n",
       "W4          0.0\n",
       "X4          0.0\n",
       "..          ...\n",
       "Z2          0.0\n",
       "A3          0.0\n",
       "B3          0.0\n",
       "C3          0.0\n",
       "X6          0.0\n",
       "\n",
       "[148 rows x 1 columns]"
      ]
     },
     "execution_count": 29,
     "metadata": {},
     "output_type": "execute_result"
    }
   ],
   "source": [
    "missing\n",
    " #non-missing good!"
   ]
  },
  {
   "cell_type": "markdown",
   "metadata": {},
   "source": [
    "## Feature scaling"
   ]
  },
  {
   "cell_type": "code",
   "execution_count": 30,
   "metadata": {},
   "outputs": [],
   "source": [
    "from sklearn.preprocessing import StandardScaler\n"
   ]
  },
  {
   "cell_type": "code",
   "execution_count": 37,
   "metadata": {},
   "outputs": [],
   "source": [
    "scaler = StandardScaler() #scale to ensure models are properly trained. \n",
    "scaled_train = scaler.fit_transform(train_nomissing)\n"
   ]
  },
  {
   "cell_type": "code",
   "execution_count": 38,
   "metadata": {},
   "outputs": [],
   "source": [
    "scaled_valid = scaler.fit_transform(valid)"
   ]
  },
  {
   "cell_type": "code",
   "execution_count": 54,
   "metadata": {},
   "outputs": [],
   "source": [
    "scaled_train=pd.DataFrame(scaled_train) #from array to dataframe\n",
    "scaled_train.columns=train_list  #put back column names"
   ]
  },
  {
   "cell_type": "code",
   "execution_count": 55,
   "metadata": {},
   "outputs": [
    {
     "data": {
      "text/html": [
       "<div>\n",
       "<style scoped>\n",
       "    .dataframe tbody tr th:only-of-type {\n",
       "        vertical-align: middle;\n",
       "    }\n",
       "\n",
       "    .dataframe tbody tr th {\n",
       "        vertical-align: top;\n",
       "    }\n",
       "\n",
       "    .dataframe thead th {\n",
       "        text-align: right;\n",
       "    }\n",
       "</style>\n",
       "<table border=\"1\" class=\"dataframe\">\n",
       "  <thead>\n",
       "    <tr style=\"text-align: right;\">\n",
       "      <th></th>\n",
       "      <th>A1</th>\n",
       "      <th>B1</th>\n",
       "      <th>C1</th>\n",
       "      <th>D1</th>\n",
       "      <th>E1</th>\n",
       "      <th>F1</th>\n",
       "      <th>G1</th>\n",
       "      <th>H1</th>\n",
       "      <th>I1</th>\n",
       "      <th>J1</th>\n",
       "      <th>...</th>\n",
       "      <th>N6</th>\n",
       "      <th>P6</th>\n",
       "      <th>Q6</th>\n",
       "      <th>R6</th>\n",
       "      <th>S6</th>\n",
       "      <th>T6</th>\n",
       "      <th>U6</th>\n",
       "      <th>V6</th>\n",
       "      <th>W6</th>\n",
       "      <th>X6</th>\n",
       "    </tr>\n",
       "  </thead>\n",
       "  <tbody>\n",
       "    <tr>\n",
       "      <td>0</td>\n",
       "      <td>-0.066579</td>\n",
       "      <td>-0.934318</td>\n",
       "      <td>-0.469450</td>\n",
       "      <td>-0.506597</td>\n",
       "      <td>-0.133234</td>\n",
       "      <td>0.070210</td>\n",
       "      <td>-0.013717</td>\n",
       "      <td>-0.109775</td>\n",
       "      <td>-0.950130</td>\n",
       "      <td>0.783375</td>\n",
       "      <td>...</td>\n",
       "      <td>-0.835023</td>\n",
       "      <td>-0.916355</td>\n",
       "      <td>-0.643895</td>\n",
       "      <td>-0.627935</td>\n",
       "      <td>-0.766902</td>\n",
       "      <td>0.487725</td>\n",
       "      <td>-0.745009</td>\n",
       "      <td>-0.963339</td>\n",
       "      <td>-0.876038</td>\n",
       "      <td>0.249252</td>\n",
       "    </tr>\n",
       "    <tr>\n",
       "      <td>1</td>\n",
       "      <td>0.666044</td>\n",
       "      <td>-0.765331</td>\n",
       "      <td>-0.047211</td>\n",
       "      <td>-0.170278</td>\n",
       "      <td>0.405617</td>\n",
       "      <td>0.048964</td>\n",
       "      <td>-0.132080</td>\n",
       "      <td>-0.187295</td>\n",
       "      <td>1.461399</td>\n",
       "      <td>-0.743244</td>\n",
       "      <td>...</td>\n",
       "      <td>0.301141</td>\n",
       "      <td>0.276562</td>\n",
       "      <td>-0.010507</td>\n",
       "      <td>0.070777</td>\n",
       "      <td>-0.068686</td>\n",
       "      <td>0.974465</td>\n",
       "      <td>0.363311</td>\n",
       "      <td>0.220123</td>\n",
       "      <td>0.296575</td>\n",
       "      <td>0.896785</td>\n",
       "    </tr>\n",
       "    <tr>\n",
       "      <td>2</td>\n",
       "      <td>-0.702470</td>\n",
       "      <td>-1.016280</td>\n",
       "      <td>-0.072957</td>\n",
       "      <td>-0.173203</td>\n",
       "      <td>0.328610</td>\n",
       "      <td>-0.023910</td>\n",
       "      <td>-0.022903</td>\n",
       "      <td>-0.032251</td>\n",
       "      <td>-0.827062</td>\n",
       "      <td>0.864728</td>\n",
       "      <td>...</td>\n",
       "      <td>-0.260779</td>\n",
       "      <td>-0.350174</td>\n",
       "      <td>-0.235418</td>\n",
       "      <td>-0.367725</td>\n",
       "      <td>-0.287302</td>\n",
       "      <td>0.948599</td>\n",
       "      <td>-0.455765</td>\n",
       "      <td>-0.320888</td>\n",
       "      <td>-0.393994</td>\n",
       "      <td>0.722009</td>\n",
       "    </tr>\n",
       "    <tr>\n",
       "      <td>3</td>\n",
       "      <td>-0.511930</td>\n",
       "      <td>-0.785557</td>\n",
       "      <td>0.385326</td>\n",
       "      <td>0.584245</td>\n",
       "      <td>-0.086259</td>\n",
       "      <td>-0.036840</td>\n",
       "      <td>0.022922</td>\n",
       "      <td>-0.118640</td>\n",
       "      <td>1.260840</td>\n",
       "      <td>-0.886362</td>\n",
       "      <td>...</td>\n",
       "      <td>0.192700</td>\n",
       "      <td>0.767050</td>\n",
       "      <td>0.350012</td>\n",
       "      <td>0.878713</td>\n",
       "      <td>0.502427</td>\n",
       "      <td>0.210260</td>\n",
       "      <td>0.106505</td>\n",
       "      <td>0.053658</td>\n",
       "      <td>0.079926</td>\n",
       "      <td>0.140374</td>\n",
       "    </tr>\n",
       "    <tr>\n",
       "      <td>4</td>\n",
       "      <td>-0.685550</td>\n",
       "      <td>-1.017819</td>\n",
       "      <td>-0.139897</td>\n",
       "      <td>-0.290183</td>\n",
       "      <td>0.417981</td>\n",
       "      <td>-0.032922</td>\n",
       "      <td>-0.084394</td>\n",
       "      <td>-0.037241</td>\n",
       "      <td>1.420166</td>\n",
       "      <td>-1.081221</td>\n",
       "      <td>...</td>\n",
       "      <td>-0.263244</td>\n",
       "      <td>-0.335035</td>\n",
       "      <td>-0.131231</td>\n",
       "      <td>-0.293838</td>\n",
       "      <td>-0.287302</td>\n",
       "      <td>-0.276479</td>\n",
       "      <td>-0.685538</td>\n",
       "      <td>-0.175231</td>\n",
       "      <td>-0.434616</td>\n",
       "      <td>-0.475643</td>\n",
       "    </tr>\n",
       "  </tbody>\n",
       "</table>\n",
       "<p>5 rows × 148 columns</p>\n",
       "</div>"
      ],
      "text/plain": [
       "         A1        B1        C1        D1        E1        F1        G1  \\\n",
       "0 -0.066579 -0.934318 -0.469450 -0.506597 -0.133234  0.070210 -0.013717   \n",
       "1  0.666044 -0.765331 -0.047211 -0.170278  0.405617  0.048964 -0.132080   \n",
       "2 -0.702470 -1.016280 -0.072957 -0.173203  0.328610 -0.023910 -0.022903   \n",
       "3 -0.511930 -0.785557  0.385326  0.584245 -0.086259 -0.036840  0.022922   \n",
       "4 -0.685550 -1.017819 -0.139897 -0.290183  0.417981 -0.032922 -0.084394   \n",
       "\n",
       "         H1        I1        J1  ...        N6        P6        Q6        R6  \\\n",
       "0 -0.109775 -0.950130  0.783375  ... -0.835023 -0.916355 -0.643895 -0.627935   \n",
       "1 -0.187295  1.461399 -0.743244  ...  0.301141  0.276562 -0.010507  0.070777   \n",
       "2 -0.032251 -0.827062  0.864728  ... -0.260779 -0.350174 -0.235418 -0.367725   \n",
       "3 -0.118640  1.260840 -0.886362  ...  0.192700  0.767050  0.350012  0.878713   \n",
       "4 -0.037241  1.420166 -1.081221  ... -0.263244 -0.335035 -0.131231 -0.293838   \n",
       "\n",
       "         S6        T6        U6        V6        W6        X6  \n",
       "0 -0.766902  0.487725 -0.745009 -0.963339 -0.876038  0.249252  \n",
       "1 -0.068686  0.974465  0.363311  0.220123  0.296575  0.896785  \n",
       "2 -0.287302  0.948599 -0.455765 -0.320888 -0.393994  0.722009  \n",
       "3  0.502427  0.210260  0.106505  0.053658  0.079926  0.140374  \n",
       "4 -0.287302 -0.276479 -0.685538 -0.175231 -0.434616 -0.475643  \n",
       "\n",
       "[5 rows x 148 columns]"
      ]
     },
     "execution_count": 55,
     "metadata": {},
     "output_type": "execute_result"
    }
   ],
   "source": [
    "scaled_train.head()"
   ]
  },
  {
   "cell_type": "markdown",
   "metadata": {},
   "source": [
    "# Establish a baseline model"
   ]
  },
  {
   "cell_type": "code",
   "execution_count": 44,
   "metadata": {},
   "outputs": [],
   "source": [
    "# The baseline model is the logistic regression\n",
    "from sklearn.linear_model import LogisticRegression"
   ]
  },
  {
   "cell_type": "code",
   "execution_count": 45,
   "metadata": {},
   "outputs": [
    {
     "name": "stderr",
     "output_type": "stream",
     "text": [
      "C:\\Users\\Lu\\Anaconda3\\lib\\site-packages\\sklearn\\linear_model\\logistic.py:947: ConvergenceWarning: lbfgs failed to converge. Increase the number of iterations.\n",
      "  \"of iterations.\", ConvergenceWarning)\n"
     ]
    },
    {
     "data": {
      "text/plain": [
       "LogisticRegression(C=1.0, class_weight=None, dual=False, fit_intercept=True,\n",
       "                   intercept_scaling=1, l1_ratio=None, max_iter=100,\n",
       "                   multi_class='warn', n_jobs=None, penalty='l2',\n",
       "                   random_state=None, solver='lbfgs', tol=0.0001, verbose=0,\n",
       "                   warm_start=False)"
      ]
     },
     "execution_count": 45,
     "metadata": {},
     "output_type": "execute_result"
    }
   ],
   "source": [
    "log_reg = LogisticRegression(solver='lbfgs')\n"
   ]
  },
  {
   "cell_type": "code",
   "execution_count": 86,
   "metadata": {},
   "outputs": [
    {
     "name": "stderr",
     "output_type": "stream",
     "text": [
      "C:\\Users\\Lu\\Anaconda3\\lib\\site-packages\\sklearn\\linear_model\\logistic.py:947: ConvergenceWarning: lbfgs failed to converge. Increase the number of iterations.\n",
      "  \"of iterations.\", ConvergenceWarning)\n"
     ]
    },
    {
     "data": {
      "text/plain": [
       "0.48263769511105"
      ]
     },
     "execution_count": 86,
     "metadata": {},
     "output_type": "execute_result"
    }
   ],
   "source": [
    " from sklearn.metrics import precision_score\n",
    "\n",
    "log_reg.fit(scaled_train, labels.iloc[:,0]) #use target1\n",
    "logreg_predictions1 = log_reg.predict(scaled_valid)\n",
    "log_acc1 = precision_score(labels_valid.iloc[:,0], logreg_predictions1)\n",
    "log_acc1  #baseline accuracy on target1\n"
   ]
  },
  {
   "cell_type": "code",
   "execution_count": 87,
   "metadata": {},
   "outputs": [
    {
     "name": "stderr",
     "output_type": "stream",
     "text": [
      "C:\\Users\\Lu\\Anaconda3\\lib\\site-packages\\sklearn\\linear_model\\logistic.py:947: ConvergenceWarning: lbfgs failed to converge. Increase the number of iterations.\n",
      "  \"of iterations.\", ConvergenceWarning)\n"
     ]
    },
    {
     "data": {
      "text/plain": [
       "0.4188333903523777"
      ]
     },
     "execution_count": 87,
     "metadata": {},
     "output_type": "execute_result"
    }
   ],
   "source": [
    "log_reg2 = LogisticRegression(solver='lbfgs')\n",
    "log_reg2.fit(scaled_train, labels.iloc[:,1]) #predict target2\n",
    "logreg_predictions1 = log_reg2.predict(scaled_valid)\n",
    "log_acc2 = precision_score(labels_valid.iloc[:,1], logreg_predictions1)\n",
    "log_acc2 #baseline roc on target2"
   ]
  },
  {
   "cell_type": "markdown",
   "metadata": {},
   "source": [
    "# Gradient boosting"
   ]
  },
  {
   "cell_type": "code",
   "execution_count": 84,
   "metadata": {},
   "outputs": [
    {
     "ename": "NameError",
     "evalue": "name 'X' is not defined",
     "output_type": "error",
     "traceback": [
      "\u001b[1;31m---------------------------------------------------------------------------\u001b[0m",
      "\u001b[1;31mNameError\u001b[0m                                 Traceback (most recent call last)",
      "\u001b[1;32m<ipython-input-84-30dd2cb8bc77>\u001b[0m in \u001b[0;36m<module>\u001b[1;34m\u001b[0m\n\u001b[0;32m      1\u001b[0m \u001b[1;32mfrom\u001b[0m \u001b[0msklearn\u001b[0m\u001b[1;33m.\u001b[0m\u001b[0mtree\u001b[0m \u001b[1;32mimport\u001b[0m \u001b[0mDecisionTreeRegressor\u001b[0m\u001b[1;33m\u001b[0m\u001b[1;33m\u001b[0m\u001b[0m\n\u001b[0;32m      2\u001b[0m \u001b[0mtree_reg1\u001b[0m \u001b[1;33m=\u001b[0m \u001b[0mDecisionTreeRegressor\u001b[0m\u001b[1;33m(\u001b[0m\u001b[0mmax_depth\u001b[0m\u001b[1;33m=\u001b[0m\u001b[1;36m2\u001b[0m\u001b[1;33m)\u001b[0m\u001b[1;33m\u001b[0m\u001b[1;33m\u001b[0m\u001b[0m\n\u001b[1;32m----> 3\u001b[1;33m \u001b[0mtree_reg1\u001b[0m\u001b[1;33m.\u001b[0m\u001b[0mfit\u001b[0m\u001b[1;33m(\u001b[0m\u001b[0mX\u001b[0m\u001b[1;33m,\u001b[0m \u001b[0my\u001b[0m\u001b[1;33m)\u001b[0m\u001b[1;33m\u001b[0m\u001b[1;33m\u001b[0m\u001b[0m\n\u001b[0m",
      "\u001b[1;31mNameError\u001b[0m: name 'X' is not defined"
     ]
    }
   ],
   "source": [
    "from sklearn.tree import DecisionTreeRegressor\n",
    "tree_reg1 = DecisionTreeRegressor(max_depth=2)\n",
    "tree_reg1.fit(X, y)"
   ]
  },
  {
   "cell_type": "markdown",
   "metadata": {},
   "source": [
    "# XGboost \n",
    "https://xgboost.readthedocs.io/en/latest/tutorials/index.html"
   ]
  },
  {
   "cell_type": "code",
   "execution_count": 73,
   "metadata": {},
   "outputs": [],
   "source": [
    "#conda install -c anaconda py-xgboost\n",
    "import xgboost as xgb"
   ]
  },
  {
   "cell_type": "code",
   "execution_count": 12,
   "metadata": {},
   "outputs": [],
   "source": [
    "target1=labels.iloc[:,0]\n",
    "target2=labels.iloc[:,1]"
   ]
  },
  {
   "cell_type": "code",
   "execution_count": 41,
   "metadata": {},
   "outputs": [],
   "source": [
    "valid_target1=labels_valid.iloc[:,0]\n",
    "valid_target2=labels_valid.iloc[:,1]"
   ]
  },
  {
   "cell_type": "code",
   "execution_count": 90,
   "metadata": {
    "scrolled": true
   },
   "outputs": [
    {
     "ename": "XGBoostError",
     "evalue": "[18:07:05] src/learner.cc:180: XGBoost version not compiled with GPU support.",
     "output_type": "error",
     "traceback": [
      "\u001b[1;31m---------------------------------------------------------------------------\u001b[0m",
      "\u001b[1;31mXGBoostError\u001b[0m                              Traceback (most recent call last)",
      "\u001b[1;32m<ipython-input-90-3b409f0d7592>\u001b[0m in \u001b[0;36m<module>\u001b[1;34m\u001b[0m\n\u001b[0;32m      2\u001b[0m \u001b[1;31m# model2 = xgb.XGBClassifier(n_estimators=100, max_depth=4, learning_rate=0.1, subsample=0.8)\u001b[0m\u001b[1;33m\u001b[0m\u001b[1;33m\u001b[0m\u001b[1;33m\u001b[0m\u001b[0m\n\u001b[0;32m      3\u001b[0m \u001b[1;33m\u001b[0m\u001b[0m\n\u001b[1;32m----> 4\u001b[1;33m \u001b[0mtrain_model1\u001b[0m \u001b[1;33m=\u001b[0m \u001b[0mmodel1\u001b[0m\u001b[1;33m.\u001b[0m\u001b[0mfit\u001b[0m\u001b[1;33m(\u001b[0m\u001b[0mscaled_train\u001b[0m\u001b[1;33m,\u001b[0m \u001b[0mtarget1\u001b[0m\u001b[1;33m)\u001b[0m\u001b[1;33m\u001b[0m\u001b[1;33m\u001b[0m\u001b[0m\n\u001b[0m\u001b[0;32m      5\u001b[0m \u001b[1;31m# train_model2 = model2.fit(train, target1, early_stopping_rounds=10)  # should I used scaled_train here?\u001b[0m\u001b[1;33m\u001b[0m\u001b[1;33m\u001b[0m\u001b[1;33m\u001b[0m\u001b[0m\n",
      "\u001b[1;32m~\\Anaconda3\\lib\\site-packages\\xgboost\\sklearn.py\u001b[0m in \u001b[0;36mfit\u001b[1;34m(self, X, y, sample_weight, eval_set, eval_metric, early_stopping_rounds, verbose, xgb_model, sample_weight_eval_set, callbacks)\u001b[0m\n\u001b[0;32m    730\u001b[0m                               \u001b[0mevals_result\u001b[0m\u001b[1;33m=\u001b[0m\u001b[0mevals_result\u001b[0m\u001b[1;33m,\u001b[0m \u001b[0mobj\u001b[0m\u001b[1;33m=\u001b[0m\u001b[0mobj\u001b[0m\u001b[1;33m,\u001b[0m \u001b[0mfeval\u001b[0m\u001b[1;33m=\u001b[0m\u001b[0mfeval\u001b[0m\u001b[1;33m,\u001b[0m\u001b[1;33m\u001b[0m\u001b[1;33m\u001b[0m\u001b[0m\n\u001b[0;32m    731\u001b[0m                               \u001b[0mverbose_eval\u001b[0m\u001b[1;33m=\u001b[0m\u001b[0mverbose\u001b[0m\u001b[1;33m,\u001b[0m \u001b[0mxgb_model\u001b[0m\u001b[1;33m=\u001b[0m\u001b[0mxgb_model\u001b[0m\u001b[1;33m,\u001b[0m\u001b[1;33m\u001b[0m\u001b[1;33m\u001b[0m\u001b[0m\n\u001b[1;32m--> 732\u001b[1;33m                               callbacks=callbacks)\n\u001b[0m\u001b[0;32m    733\u001b[0m \u001b[1;33m\u001b[0m\u001b[0m\n\u001b[0;32m    734\u001b[0m         \u001b[0mself\u001b[0m\u001b[1;33m.\u001b[0m\u001b[0mobjective\u001b[0m \u001b[1;33m=\u001b[0m \u001b[0mxgb_options\u001b[0m\u001b[1;33m[\u001b[0m\u001b[1;34m\"objective\"\u001b[0m\u001b[1;33m]\u001b[0m\u001b[1;33m\u001b[0m\u001b[1;33m\u001b[0m\u001b[0m\n",
      "\u001b[1;32m~\\Anaconda3\\lib\\site-packages\\xgboost\\training.py\u001b[0m in \u001b[0;36mtrain\u001b[1;34m(params, dtrain, num_boost_round, evals, obj, feval, maximize, early_stopping_rounds, evals_result, verbose_eval, xgb_model, callbacks, learning_rates)\u001b[0m\n\u001b[0;32m    214\u001b[0m                            \u001b[0mevals\u001b[0m\u001b[1;33m=\u001b[0m\u001b[0mevals\u001b[0m\u001b[1;33m,\u001b[0m\u001b[1;33m\u001b[0m\u001b[1;33m\u001b[0m\u001b[0m\n\u001b[0;32m    215\u001b[0m                            \u001b[0mobj\u001b[0m\u001b[1;33m=\u001b[0m\u001b[0mobj\u001b[0m\u001b[1;33m,\u001b[0m \u001b[0mfeval\u001b[0m\u001b[1;33m=\u001b[0m\u001b[0mfeval\u001b[0m\u001b[1;33m,\u001b[0m\u001b[1;33m\u001b[0m\u001b[1;33m\u001b[0m\u001b[0m\n\u001b[1;32m--> 216\u001b[1;33m                            xgb_model=xgb_model, callbacks=callbacks)\n\u001b[0m\u001b[0;32m    217\u001b[0m \u001b[1;33m\u001b[0m\u001b[0m\n\u001b[0;32m    218\u001b[0m \u001b[1;33m\u001b[0m\u001b[0m\n",
      "\u001b[1;32m~\\Anaconda3\\lib\\site-packages\\xgboost\\training.py\u001b[0m in \u001b[0;36m_train_internal\u001b[1;34m(params, dtrain, num_boost_round, evals, obj, feval, xgb_model, callbacks)\u001b[0m\n\u001b[0;32m     72\u001b[0m         \u001b[1;31m# Skip the first update if it is a recovery step.\u001b[0m\u001b[1;33m\u001b[0m\u001b[1;33m\u001b[0m\u001b[1;33m\u001b[0m\u001b[0m\n\u001b[0;32m     73\u001b[0m         \u001b[1;32mif\u001b[0m \u001b[0mversion\u001b[0m \u001b[1;33m%\u001b[0m \u001b[1;36m2\u001b[0m \u001b[1;33m==\u001b[0m \u001b[1;36m0\u001b[0m\u001b[1;33m:\u001b[0m\u001b[1;33m\u001b[0m\u001b[1;33m\u001b[0m\u001b[0m\n\u001b[1;32m---> 74\u001b[1;33m             \u001b[0mbst\u001b[0m\u001b[1;33m.\u001b[0m\u001b[0mupdate\u001b[0m\u001b[1;33m(\u001b[0m\u001b[0mdtrain\u001b[0m\u001b[1;33m,\u001b[0m \u001b[0mi\u001b[0m\u001b[1;33m,\u001b[0m \u001b[0mobj\u001b[0m\u001b[1;33m)\u001b[0m\u001b[1;33m\u001b[0m\u001b[1;33m\u001b[0m\u001b[0m\n\u001b[0m\u001b[0;32m     75\u001b[0m             \u001b[0mbst\u001b[0m\u001b[1;33m.\u001b[0m\u001b[0msave_rabit_checkpoint\u001b[0m\u001b[1;33m(\u001b[0m\u001b[1;33m)\u001b[0m\u001b[1;33m\u001b[0m\u001b[1;33m\u001b[0m\u001b[0m\n\u001b[0;32m     76\u001b[0m             \u001b[0mversion\u001b[0m \u001b[1;33m+=\u001b[0m \u001b[1;36m1\u001b[0m\u001b[1;33m\u001b[0m\u001b[1;33m\u001b[0m\u001b[0m\n",
      "\u001b[1;32m~\\Anaconda3\\lib\\site-packages\\xgboost\\core.py\u001b[0m in \u001b[0;36mupdate\u001b[1;34m(self, dtrain, iteration, fobj)\u001b[0m\n\u001b[0;32m   1107\u001b[0m         \u001b[1;32mif\u001b[0m \u001b[0mfobj\u001b[0m \u001b[1;32mis\u001b[0m \u001b[1;32mNone\u001b[0m\u001b[1;33m:\u001b[0m\u001b[1;33m\u001b[0m\u001b[1;33m\u001b[0m\u001b[0m\n\u001b[0;32m   1108\u001b[0m             _check_call(_LIB.XGBoosterUpdateOneIter(self.handle, ctypes.c_int(iteration),\n\u001b[1;32m-> 1109\u001b[1;33m                                                     dtrain.handle))\n\u001b[0m\u001b[0;32m   1110\u001b[0m         \u001b[1;32melse\u001b[0m\u001b[1;33m:\u001b[0m\u001b[1;33m\u001b[0m\u001b[1;33m\u001b[0m\u001b[0m\n\u001b[0;32m   1111\u001b[0m             \u001b[0mpred\u001b[0m \u001b[1;33m=\u001b[0m \u001b[0mself\u001b[0m\u001b[1;33m.\u001b[0m\u001b[0mpredict\u001b[0m\u001b[1;33m(\u001b[0m\u001b[0mdtrain\u001b[0m\u001b[1;33m)\u001b[0m\u001b[1;33m\u001b[0m\u001b[1;33m\u001b[0m\u001b[0m\n",
      "\u001b[1;32m~\\Anaconda3\\lib\\site-packages\\xgboost\\core.py\u001b[0m in \u001b[0;36m_check_call\u001b[1;34m(ret)\u001b[0m\n\u001b[0;32m    174\u001b[0m     \"\"\"\n\u001b[0;32m    175\u001b[0m     \u001b[1;32mif\u001b[0m \u001b[0mret\u001b[0m \u001b[1;33m!=\u001b[0m \u001b[1;36m0\u001b[0m\u001b[1;33m:\u001b[0m\u001b[1;33m\u001b[0m\u001b[1;33m\u001b[0m\u001b[0m\n\u001b[1;32m--> 176\u001b[1;33m         \u001b[1;32mraise\u001b[0m \u001b[0mXGBoostError\u001b[0m\u001b[1;33m(\u001b[0m\u001b[0mpy_str\u001b[0m\u001b[1;33m(\u001b[0m\u001b[0m_LIB\u001b[0m\u001b[1;33m.\u001b[0m\u001b[0mXGBGetLastError\u001b[0m\u001b[1;33m(\u001b[0m\u001b[1;33m)\u001b[0m\u001b[1;33m)\u001b[0m\u001b[1;33m)\u001b[0m\u001b[1;33m\u001b[0m\u001b[1;33m\u001b[0m\u001b[0m\n\u001b[0m\u001b[0;32m    177\u001b[0m \u001b[1;33m\u001b[0m\u001b[0m\n\u001b[0;32m    178\u001b[0m \u001b[1;33m\u001b[0m\u001b[0m\n",
      "\u001b[1;31mXGBoostError\u001b[0m: [18:07:05] src/learner.cc:180: XGBoost version not compiled with GPU support."
     ]
    }
   ],
   "source": [
    "model1 = xgb.XGBClassifier()\n",
    "# model2 = xgb.XGBClassifier(n_estimators=100, max_depth=4, learning_rate=0.1, subsample=0.8)\n",
    "\n",
    "train_model1 = model1.fit(scaled_train, target1)\n",
    "# train_model2 = model2.fit(train, target1, early_stopping_rounds=10)  # should I used scaled_train here?"
   ]
  },
  {
   "cell_type": "markdown",
   "metadata": {},
   "source": [
    "## plot log_loss"
   ]
  },
  {
   "cell_type": "code",
   "execution_count": 61,
   "metadata": {},
   "outputs": [
    {
     "name": "stdout",
     "output_type": "stream",
     "text": [
      "[0]\tvalidation_0-error:0.155367\tvalidation_0-logloss:0.640392\tvalidation_1-error:0.2237\tvalidation_1-logloss:0.650212\n",
      "[1]\tvalidation_0-error:0.152614\tvalidation_0-logloss:0.596738\tvalidation_1-error:0.222183\tvalidation_1-logloss:0.615781\n",
      "[2]\tvalidation_0-error:0.147216\tvalidation_0-logloss:0.561399\tvalidation_1-error:0.222183\tvalidation_1-logloss:0.587604\n",
      "[3]\tvalidation_0-error:0.147216\tvalidation_0-logloss:0.529945\tvalidation_1-error:0.222183\tvalidation_1-logloss:0.565166\n",
      "[4]\tvalidation_0-error:0.147216\tvalidation_0-logloss:0.506128\tvalidation_1-error:0.222183\tvalidation_1-logloss:0.546894\n",
      "[5]\tvalidation_0-error:0.147216\tvalidation_0-logloss:0.48312\tvalidation_1-error:0.222183\tvalidation_1-logloss:0.531586\n",
      "[6]\tvalidation_0-error:0.147185\tvalidation_0-logloss:0.465173\tvalidation_1-error:0.221867\tvalidation_1-logloss:0.518698\n",
      "[7]\tvalidation_0-error:0.146953\tvalidation_0-logloss:0.449283\tvalidation_1-error:0.22195\tvalidation_1-logloss:0.507911\n",
      "[8]\tvalidation_0-error:0.146953\tvalidation_0-logloss:0.435068\tvalidation_1-error:0.22195\tvalidation_1-logloss:0.499443\n",
      "[9]\tvalidation_0-error:0.146905\tvalidation_0-logloss:0.423727\tvalidation_1-error:0.22195\tvalidation_1-logloss:0.493092\n",
      "[10]\tvalidation_0-error:0.147152\tvalidation_0-logloss:0.412652\tvalidation_1-error:0.222983\tvalidation_1-logloss:0.486836\n",
      "[11]\tvalidation_0-error:0.147075\tvalidation_0-logloss:0.403873\tvalidation_1-error:0.223067\tvalidation_1-logloss:0.482376\n",
      "[12]\tvalidation_0-error:0.147065\tvalidation_0-logloss:0.396124\tvalidation_1-error:0.22275\tvalidation_1-logloss:0.479166\n",
      "[13]\tvalidation_0-error:0.146907\tvalidation_0-logloss:0.389151\tvalidation_1-error:0.223067\tvalidation_1-logloss:0.475764\n",
      "[14]\tvalidation_0-error:0.146965\tvalidation_0-logloss:0.382993\tvalidation_1-error:0.222983\tvalidation_1-logloss:0.473923\n",
      "[15]\tvalidation_0-error:0.146984\tvalidation_0-logloss:0.378253\tvalidation_1-error:0.22275\tvalidation_1-logloss:0.472368\n",
      "[16]\tvalidation_0-error:0.146984\tvalidation_0-logloss:0.373058\tvalidation_1-error:0.22275\tvalidation_1-logloss:0.471479\n",
      "[17]\tvalidation_0-error:0.147007\tvalidation_0-logloss:0.369057\tvalidation_1-error:0.22275\tvalidation_1-logloss:0.470107\n",
      "[18]\tvalidation_0-error:0.147417\tvalidation_0-logloss:0.365638\tvalidation_1-error:0.226167\tvalidation_1-logloss:0.469556\n",
      "[19]\tvalidation_0-error:0.146388\tvalidation_0-logloss:0.362445\tvalidation_1-error:0.224483\tvalidation_1-logloss:0.468665\n",
      "[20]\tvalidation_0-error:0.146214\tvalidation_0-logloss:0.359399\tvalidation_1-error:0.225183\tvalidation_1-logloss:0.468298\n",
      "[21]\tvalidation_0-error:0.146094\tvalidation_0-logloss:0.357033\tvalidation_1-error:0.22275\tvalidation_1-logloss:0.468309\n",
      "[22]\tvalidation_0-error:0.14609\tvalidation_0-logloss:0.354509\tvalidation_1-error:0.222817\tvalidation_1-logloss:0.467158\n",
      "[23]\tvalidation_0-error:0.146083\tvalidation_0-logloss:0.35282\tvalidation_1-error:0.222817\tvalidation_1-logloss:0.466866\n",
      "[24]\tvalidation_0-error:0.146009\tvalidation_0-logloss:0.350653\tvalidation_1-error:0.223283\tvalidation_1-logloss:0.467092\n",
      "[25]\tvalidation_0-error:0.146015\tvalidation_0-logloss:0.349102\tvalidation_1-error:0.2235\tvalidation_1-logloss:0.467432\n",
      "[26]\tvalidation_0-error:0.146054\tvalidation_0-logloss:0.347521\tvalidation_1-error:0.223533\tvalidation_1-logloss:0.467789\n",
      "[27]\tvalidation_0-error:0.146052\tvalidation_0-logloss:0.34637\tvalidation_1-error:0.223533\tvalidation_1-logloss:0.468012\n",
      "[28]\tvalidation_0-error:0.145924\tvalidation_0-logloss:0.344984\tvalidation_1-error:0.223117\tvalidation_1-logloss:0.468502\n",
      "[29]\tvalidation_0-error:0.145669\tvalidation_0-logloss:0.34371\tvalidation_1-error:0.2228\tvalidation_1-logloss:0.468994\n",
      "[30]\tvalidation_0-error:0.145378\tvalidation_0-logloss:0.342658\tvalidation_1-error:0.22255\tvalidation_1-logloss:0.469082\n",
      "[31]\tvalidation_0-error:0.145351\tvalidation_0-logloss:0.341625\tvalidation_1-error:0.22255\tvalidation_1-logloss:0.469728\n",
      "[32]\tvalidation_0-error:0.145229\tvalidation_0-logloss:0.340779\tvalidation_1-error:0.2225\tvalidation_1-logloss:0.470187\n",
      "[33]\tvalidation_0-error:0.145082\tvalidation_0-logloss:0.340044\tvalidation_1-error:0.222667\tvalidation_1-logloss:0.470983\n",
      "[34]\tvalidation_0-error:0.144986\tvalidation_0-logloss:0.339269\tvalidation_1-error:0.222283\tvalidation_1-logloss:0.471642\n",
      "[35]\tvalidation_0-error:0.144833\tvalidation_0-logloss:0.338462\tvalidation_1-error:0.222167\tvalidation_1-logloss:0.471952\n",
      "[36]\tvalidation_0-error:0.14505\tvalidation_0-logloss:0.337796\tvalidation_1-error:0.222317\tvalidation_1-logloss:0.472291\n",
      "[37]\tvalidation_0-error:0.14497\tvalidation_0-logloss:0.337138\tvalidation_1-error:0.221917\tvalidation_1-logloss:0.472826\n",
      "[38]\tvalidation_0-error:0.144906\tvalidation_0-logloss:0.336504\tvalidation_1-error:0.22205\tvalidation_1-logloss:0.473129\n",
      "[39]\tvalidation_0-error:0.145042\tvalidation_0-logloss:0.336011\tvalidation_1-error:0.2216\tvalidation_1-logloss:0.473504\n",
      "[40]\tvalidation_0-error:0.14503\tvalidation_0-logloss:0.335494\tvalidation_1-error:0.221767\tvalidation_1-logloss:0.473948\n",
      "[41]\tvalidation_0-error:0.144904\tvalidation_0-logloss:0.334951\tvalidation_1-error:0.221717\tvalidation_1-logloss:0.474107\n",
      "[42]\tvalidation_0-error:0.144856\tvalidation_0-logloss:0.33434\tvalidation_1-error:0.2216\tvalidation_1-logloss:0.474274\n",
      "[43]\tvalidation_0-error:0.144924\tvalidation_0-logloss:0.333754\tvalidation_1-error:0.221583\tvalidation_1-logloss:0.474682\n",
      "[44]\tvalidation_0-error:0.144763\tvalidation_0-logloss:0.333273\tvalidation_1-error:0.222417\tvalidation_1-logloss:0.475085\n",
      "[45]\tvalidation_0-error:0.144817\tvalidation_0-logloss:0.332893\tvalidation_1-error:0.222183\tvalidation_1-logloss:0.475189\n",
      "[46]\tvalidation_0-error:0.144771\tvalidation_0-logloss:0.332456\tvalidation_1-error:0.2223\tvalidation_1-logloss:0.475671\n",
      "[47]\tvalidation_0-error:0.144518\tvalidation_0-logloss:0.332065\tvalidation_1-error:0.222317\tvalidation_1-logloss:0.475997\n",
      "[48]\tvalidation_0-error:0.144537\tvalidation_0-logloss:0.331745\tvalidation_1-error:0.222267\tvalidation_1-logloss:0.476199\n",
      "[49]\tvalidation_0-error:0.144436\tvalidation_0-logloss:0.331392\tvalidation_1-error:0.22245\tvalidation_1-logloss:0.476274\n",
      "[50]\tvalidation_0-error:0.144285\tvalidation_0-logloss:0.330943\tvalidation_1-error:0.2228\tvalidation_1-logloss:0.476707\n",
      "[51]\tvalidation_0-error:0.144078\tvalidation_0-logloss:0.330643\tvalidation_1-error:0.222217\tvalidation_1-logloss:0.47705\n",
      "[52]\tvalidation_0-error:0.14409\tvalidation_0-logloss:0.330369\tvalidation_1-error:0.222067\tvalidation_1-logloss:0.476639\n",
      "[53]\tvalidation_0-error:0.144235\tvalidation_0-logloss:0.330045\tvalidation_1-error:0.221817\tvalidation_1-logloss:0.476745\n",
      "[54]\tvalidation_0-error:0.144191\tvalidation_0-logloss:0.329648\tvalidation_1-error:0.2217\tvalidation_1-logloss:0.477112\n",
      "[55]\tvalidation_0-error:0.143914\tvalidation_0-logloss:0.329296\tvalidation_1-error:0.22145\tvalidation_1-logloss:0.47723\n",
      "[56]\tvalidation_0-error:0.143918\tvalidation_0-logloss:0.328996\tvalidation_1-error:0.221583\tvalidation_1-logloss:0.477309\n",
      "[57]\tvalidation_0-error:0.143769\tvalidation_0-logloss:0.328604\tvalidation_1-error:0.221267\tvalidation_1-logloss:0.476131\n",
      "[58]\tvalidation_0-error:0.143674\tvalidation_0-logloss:0.328378\tvalidation_1-error:0.221767\tvalidation_1-logloss:0.475339\n",
      "[59]\tvalidation_0-error:0.143483\tvalidation_0-logloss:0.328059\tvalidation_1-error:0.219533\tvalidation_1-logloss:0.4742\n",
      "[60]\tvalidation_0-error:0.143575\tvalidation_0-logloss:0.32785\tvalidation_1-error:0.219233\tvalidation_1-logloss:0.474065\n",
      "[61]\tvalidation_0-error:0.143264\tvalidation_0-logloss:0.32747\tvalidation_1-error:0.219\tvalidation_1-logloss:0.473855\n",
      "[62]\tvalidation_0-error:0.143014\tvalidation_0-logloss:0.32723\tvalidation_1-error:0.218417\tvalidation_1-logloss:0.472752\n",
      "[63]\tvalidation_0-error:0.143078\tvalidation_0-logloss:0.326916\tvalidation_1-error:0.218333\tvalidation_1-logloss:0.472571\n",
      "[64]\tvalidation_0-error:0.143123\tvalidation_0-logloss:0.326522\tvalidation_1-error:0.218683\tvalidation_1-logloss:0.472929\n",
      "[65]\tvalidation_0-error:0.143192\tvalidation_0-logloss:0.326275\tvalidation_1-error:0.218967\tvalidation_1-logloss:0.472645\n",
      "[66]\tvalidation_0-error:0.143119\tvalidation_0-logloss:0.325995\tvalidation_1-error:0.218667\tvalidation_1-logloss:0.472634\n",
      "[67]\tvalidation_0-error:0.142931\tvalidation_0-logloss:0.32579\tvalidation_1-error:0.218583\tvalidation_1-logloss:0.472704\n",
      "[68]\tvalidation_0-error:0.142763\tvalidation_0-logloss:0.325368\tvalidation_1-error:0.217783\tvalidation_1-logloss:0.472805\n"
     ]
    },
    {
     "name": "stdout",
     "output_type": "stream",
     "text": [
      "[69]\tvalidation_0-error:0.14279\tvalidation_0-logloss:0.325084\tvalidation_1-error:0.2182\tvalidation_1-logloss:0.472776\n",
      "[70]\tvalidation_0-error:0.142732\tvalidation_0-logloss:0.324857\tvalidation_1-error:0.2185\tvalidation_1-logloss:0.472338\n",
      "[71]\tvalidation_0-error:0.14237\tvalidation_0-logloss:0.324579\tvalidation_1-error:0.218567\tvalidation_1-logloss:0.472314\n",
      "[72]\tvalidation_0-error:0.14225\tvalidation_0-logloss:0.324395\tvalidation_1-error:0.218983\tvalidation_1-logloss:0.472412\n",
      "[73]\tvalidation_0-error:0.142148\tvalidation_0-logloss:0.324076\tvalidation_1-error:0.219367\tvalidation_1-logloss:0.472552\n",
      "[74]\tvalidation_0-error:0.141896\tvalidation_0-logloss:0.323927\tvalidation_1-error:0.219667\tvalidation_1-logloss:0.471928\n",
      "[75]\tvalidation_0-error:0.142049\tvalidation_0-logloss:0.32375\tvalidation_1-error:0.2192\tvalidation_1-logloss:0.471724\n",
      "[76]\tvalidation_0-error:0.142003\tvalidation_0-logloss:0.323432\tvalidation_1-error:0.219017\tvalidation_1-logloss:0.471752\n",
      "[77]\tvalidation_0-error:0.141985\tvalidation_0-logloss:0.323289\tvalidation_1-error:0.219017\tvalidation_1-logloss:0.471888\n",
      "[78]\tvalidation_0-error:0.141925\tvalidation_0-logloss:0.323174\tvalidation_1-error:0.21915\tvalidation_1-logloss:0.471944\n",
      "[79]\tvalidation_0-error:0.141815\tvalidation_0-logloss:0.322983\tvalidation_1-error:0.218667\tvalidation_1-logloss:0.471685\n",
      "[80]\tvalidation_0-error:0.141695\tvalidation_0-logloss:0.322771\tvalidation_1-error:0.2187\tvalidation_1-logloss:0.47185\n",
      "[81]\tvalidation_0-error:0.141691\tvalidation_0-logloss:0.32267\tvalidation_1-error:0.218767\tvalidation_1-logloss:0.471813\n",
      "[82]\tvalidation_0-error:0.141652\tvalidation_0-logloss:0.322485\tvalidation_1-error:0.218733\tvalidation_1-logloss:0.472365\n",
      "[83]\tvalidation_0-error:0.141463\tvalidation_0-logloss:0.322299\tvalidation_1-error:0.218467\tvalidation_1-logloss:0.47228\n",
      "[84]\tvalidation_0-error:0.141517\tvalidation_0-logloss:0.322048\tvalidation_1-error:0.21835\tvalidation_1-logloss:0.471691\n",
      "[85]\tvalidation_0-error:0.141347\tvalidation_0-logloss:0.321915\tvalidation_1-error:0.21825\tvalidation_1-logloss:0.471676\n",
      "[86]\tvalidation_0-error:0.14113\tvalidation_0-logloss:0.32168\tvalidation_1-error:0.2182\tvalidation_1-logloss:0.471779\n",
      "[87]\tvalidation_0-error:0.14108\tvalidation_0-logloss:0.321459\tvalidation_1-error:0.21875\tvalidation_1-logloss:0.471771\n",
      "[88]\tvalidation_0-error:0.141103\tvalidation_0-logloss:0.321234\tvalidation_1-error:0.218567\tvalidation_1-logloss:0.471859\n",
      "[89]\tvalidation_0-error:0.141109\tvalidation_0-logloss:0.321155\tvalidation_1-error:0.218633\tvalidation_1-logloss:0.471919\n",
      "[90]\tvalidation_0-error:0.140999\tvalidation_0-logloss:0.320933\tvalidation_1-error:0.21875\tvalidation_1-logloss:0.472086\n",
      "[91]\tvalidation_0-error:0.140722\tvalidation_0-logloss:0.3207\tvalidation_1-error:0.218217\tvalidation_1-logloss:0.472127\n",
      "[92]\tvalidation_0-error:0.140573\tvalidation_0-logloss:0.320503\tvalidation_1-error:0.21795\tvalidation_1-logloss:0.472145\n",
      "[93]\tvalidation_0-error:0.140579\tvalidation_0-logloss:0.320283\tvalidation_1-error:0.21815\tvalidation_1-logloss:0.471935\n",
      "[94]\tvalidation_0-error:0.14059\tvalidation_0-logloss:0.320175\tvalidation_1-error:0.21795\tvalidation_1-logloss:0.471808\n",
      "[95]\tvalidation_0-error:0.140544\tvalidation_0-logloss:0.320056\tvalidation_1-error:0.218117\tvalidation_1-logloss:0.471828\n",
      "[96]\tvalidation_0-error:0.140544\tvalidation_0-logloss:0.319868\tvalidation_1-error:0.218117\tvalidation_1-logloss:0.471514\n",
      "[97]\tvalidation_0-error:0.140399\tvalidation_0-logloss:0.319731\tvalidation_1-error:0.218267\tvalidation_1-logloss:0.471714\n",
      "[98]\tvalidation_0-error:0.140327\tvalidation_0-logloss:0.319563\tvalidation_1-error:0.218267\tvalidation_1-logloss:0.47167\n",
      "[99]\tvalidation_0-error:0.140103\tvalidation_0-logloss:0.319362\tvalidation_1-error:0.218333\tvalidation_1-logloss:0.471752\n"
     ]
    }
   ],
   "source": [
    "aeval_set = [(scaled_train,target1), (scaled_valid, valid_target1)]\n",
    "train_model3=model1.fit(scaled_train, target1, eval_metric=[\"error\", \"logloss\"], eval_set=eval_set, verbose=True)\n",
    "# model.fit(X_train, y_train, eval_metric=[\"error\", \"logloss\"], eval_set=eval_set, verbose=True)\n",
    "\n",
    "results =model1.evals_result()  #retrieve model details for plots"
   ]
  },
  {
   "cell_type": "code",
   "execution_count": 66,
   "metadata": {},
   "outputs": [
    {
     "data": {
      "image/png": "[encoded data removed]",
      "text/plain": [
       "<Figure size 432x288 with 1 Axes>"
      ]
     },
     "metadata": {
      "needs_background": "light"
     },
     "output_type": "display_data"
    },
    {
     "data": {
      "image/png": "[encoded data removed]",
      "text/plain": [
       "<Figure size 432x288 with 1 Axes>"
      ]
     },
     "metadata": {
      "needs_background": "light"
     },
     "output_type": "display_data"
    }
   ],
   "source": [
    "# retrieve performance metrics\n",
    "results = train_model3.evals_result()\n",
    "epochs = len(results['validation_0']['error'])\n",
    "x_axis = range(0, epochs)\n",
    "# plot log loss\n",
    "fig, ax = pyplot.subplots()\n",
    "ax.plot(x_axis, results['validation_0']['logloss'], label='Train')\n",
    "ax.plot(x_axis, results['validation_1']['logloss'], label='Test')\n",
    "ax.legend()\n",
    "pyplot.ylabel('Log Loss')\n",
    "pyplot.title('XGBoost Log Loss')\n",
    "pyplot.show()\n",
    "# plot classification error\n",
    "fig, ax = pyplot.subplots()\n",
    "ax.plot(x_axis, results['validation_0']['error'], label='Train')\n",
    "ax.plot(x_axis, results['validation_1']['error'], label='Test')\n",
    "ax.legend()\n",
    "pyplot.ylabel('Classification Error')\n",
    "pyplot.title('XGBoost Classification Error')\n",
    "pyplot.show()\n",
    "\n",
    "# it looks like there is an opportunity to stop the learning early, perhaps somewhere around epoch 20.\n",
    "# a similar story for classification error, where error appears to go back up at around epoch 40."
   ]
  },
  {
   "cell_type": "code",
   "execution_count": 91,
   "metadata": {},
   "outputs": [],
   "source": [
    "#from sklearn.metrics import classification_report\n",
    "\n",
    "#pred1 = train_model1.predict(scaled_valid)\n",
    "#pred2 = train_model2.predict(valid)\n",
    "\n"
   ]
  },
  {
   "cell_type": "code",
   "execution_count": 47,
   "metadata": {},
   "outputs": [],
   "source": [
    "pred3 = train_model3.predict(scaled_valid)"
   ]
  },
  {
   "cell_type": "code",
   "execution_count": 85,
   "metadata": {},
   "outputs": [
    {
     "name": "stdout",
     "output_type": "stream",
     "text": [
      "Accuracy for model 1: 77.68\n",
      "Precision for model2: 55.12\n",
      "Accuracy for model 2: 77.36\n",
      "Precision for model2: 61.68\n",
      "Accuracy for model 3: 78.17\n",
      "Precision for model2: 61.68\n"
     ]
    }
   ],
   "source": [
    "# sklearn.metrics import accuracy_score\n",
    "\n",
    "print(\"Accuracy for model 1: %.2f\" % (accuracy_score(valid_target1, pred1) * 100))\n",
    "print(\"Precision for model2: %.2f\" % (precision_score(valid_target1, pred2) * 100))\n",
    "print(\"Accuracy for model 2: %.2f\" % (accuracy_score(valid_target1, pred2) * 100))\n",
    "print(\"Precision for model2: %.2f\" % (precision_score(valid_target1, pred3) * 100))\n",
    "print(\"Accuracy for model 3: %.2f\" % (accuracy_score(valid_target1, pred3) * 100))\n",
    "print(\"Precision for model2: %.2f\" % (precision_score(valid_target1, pred3) * 100))\n"
   ]
  },
  {
   "cell_type": "markdown",
   "metadata": {},
   "source": [
    "## param tuning"
   ]
  },
  {
   "cell_type": "code",
   "execution_count": 77,
   "metadata": {},
   "outputs": [],
   "source": [
    "\n",
    "model4 = xgb.XGBClassifier(verbosity, \n",
    "                      scale_pos_weight=1,\n",
    "                      learning_rate=0.01,  \n",
    "                      colsample_bytree = 0.4,\n",
    "                      subsample = 0.5,\n",
    "                      objective='binary:logistic', \n",
    "                      n_estimators=40, #get the number from above train_model3\n",
    "                      reg_alpha = 0.3,\n",
    "                      max_depth=4, \n",
    "                      gamma=10 #the larger the gamma the more conservative the model is)"
   ]
  },
  {
   "cell_type": "code",
   "execution_count": 78,
   "metadata": {
    "scrolled": true
   },
   "outputs": [
    {
     "name": "stdout",
     "output_type": "stream",
     "text": [
      "[0]\tvalidation_0-error:0.150271\tvalidation_0-logloss:0.688635\tvalidation_1-error:0.240933\tvalidation_1-logloss:0.688576\n",
      "[1]\tvalidation_0-error:0.149859\tvalidation_0-logloss:0.682653\tvalidation_1-error:0.240467\tvalidation_1-logloss:0.68423\n",
      "[2]\tvalidation_0-error:0.150045\tvalidation_0-logloss:0.67691\tvalidation_1-error:0.23915\tvalidation_1-logloss:0.680048\n",
      "[3]\tvalidation_0-error:0.150128\tvalidation_0-logloss:0.671196\tvalidation_1-error:0.239333\tvalidation_1-logloss:0.675678\n",
      "[4]\tvalidation_0-error:0.149366\tvalidation_0-logloss:0.666308\tvalidation_1-error:0.225267\tvalidation_1-logloss:0.671392\n",
      "[5]\tvalidation_0-error:0.149679\tvalidation_0-logloss:0.661518\tvalidation_1-error:0.236017\tvalidation_1-logloss:0.66753\n",
      "[6]\tvalidation_0-error:0.149673\tvalidation_0-logloss:0.655686\tvalidation_1-error:0.236033\tvalidation_1-logloss:0.663651\n",
      "[7]\tvalidation_0-error:0.149778\tvalidation_0-logloss:0.65154\tvalidation_1-error:0.23585\tvalidation_1-logloss:0.659595\n",
      "[8]\tvalidation_0-error:0.149805\tvalidation_0-logloss:0.647049\tvalidation_1-error:0.235767\tvalidation_1-logloss:0.655778\n",
      "[9]\tvalidation_0-error:0.149302\tvalidation_0-logloss:0.641674\tvalidation_1-error:0.228067\tvalidation_1-logloss:0.651904\n",
      "[10]\tvalidation_0-error:0.147992\tvalidation_0-logloss:0.636762\tvalidation_1-error:0.230133\tvalidation_1-logloss:0.648256\n",
      "[11]\tvalidation_0-error:0.147742\tvalidation_0-logloss:0.632807\tvalidation_1-error:0.235917\tvalidation_1-logloss:0.644585\n",
      "[12]\tvalidation_0-error:0.147588\tvalidation_0-logloss:0.628586\tvalidation_1-error:0.235933\tvalidation_1-logloss:0.641185\n",
      "[13]\tvalidation_0-error:0.147646\tvalidation_0-logloss:0.624149\tvalidation_1-error:0.233267\tvalidation_1-logloss:0.637817\n",
      "[14]\tvalidation_0-error:0.148118\tvalidation_0-logloss:0.619403\tvalidation_1-error:0.23595\tvalidation_1-logloss:0.634614\n",
      "[15]\tvalidation_0-error:0.148267\tvalidation_0-logloss:0.615591\tvalidation_1-error:0.236017\tvalidation_1-logloss:0.631366\n",
      "[16]\tvalidation_0-error:0.14792\tvalidation_0-logloss:0.611655\tvalidation_1-error:0.232567\tvalidation_1-logloss:0.627977\n",
      "[17]\tvalidation_0-error:0.147853\tvalidation_0-logloss:0.607556\tvalidation_1-error:0.23245\tvalidation_1-logloss:0.624989\n",
      "[18]\tvalidation_0-error:0.147953\tvalidation_0-logloss:0.603812\tvalidation_1-error:0.2322\tvalidation_1-logloss:0.621996\n",
      "[19]\tvalidation_0-error:0.14775\tvalidation_0-logloss:0.599201\tvalidation_1-error:0.2292\tvalidation_1-logloss:0.618886\n",
      "[20]\tvalidation_0-error:0.147754\tvalidation_0-logloss:0.596022\tvalidation_1-error:0.230617\tvalidation_1-logloss:0.616025\n",
      "[21]\tvalidation_0-error:0.147321\tvalidation_0-logloss:0.592075\tvalidation_1-error:0.228983\tvalidation_1-logloss:0.612991\n",
      "[22]\tvalidation_0-error:0.147046\tvalidation_0-logloss:0.588369\tvalidation_1-error:0.229367\tvalidation_1-logloss:0.610301\n",
      "[23]\tvalidation_0-error:0.146992\tvalidation_0-logloss:0.584638\tvalidation_1-error:0.22885\tvalidation_1-logloss:0.607411\n",
      "[24]\tvalidation_0-error:0.147282\tvalidation_0-logloss:0.580823\tvalidation_1-error:0.2301\tvalidation_1-logloss:0.60474\n",
      "[25]\tvalidation_0-error:0.147021\tvalidation_0-logloss:0.577634\tvalidation_1-error:0.228683\tvalidation_1-logloss:0.601936\n",
      "[26]\tvalidation_0-error:0.146998\tvalidation_0-logloss:0.574014\tvalidation_1-error:0.227367\tvalidation_1-logloss:0.599221\n",
      "[27]\tvalidation_0-error:0.147007\tvalidation_0-logloss:0.570566\tvalidation_1-error:0.227417\tvalidation_1-logloss:0.596786\n",
      "[28]\tvalidation_0-error:0.146589\tvalidation_0-logloss:0.567537\tvalidation_1-error:0.228217\tvalidation_1-logloss:0.594207\n",
      "[29]\tvalidation_0-error:0.146514\tvalidation_0-logloss:0.563655\tvalidation_1-error:0.227517\tvalidation_1-logloss:0.591535\n",
      "[30]\tvalidation_0-error:0.146564\tvalidation_0-logloss:0.560634\tvalidation_1-error:0.22795\tvalidation_1-logloss:0.589049\n",
      "[31]\tvalidation_0-error:0.14658\tvalidation_0-logloss:0.557542\tvalidation_1-error:0.2273\tvalidation_1-logloss:0.586861\n",
      "[32]\tvalidation_0-error:0.14664\tvalidation_0-logloss:0.554051\tvalidation_1-error:0.227133\tvalidation_1-logloss:0.584462\n",
      "[33]\tvalidation_0-error:0.146669\tvalidation_0-logloss:0.551353\tvalidation_1-error:0.22745\tvalidation_1-logloss:0.582219\n",
      "[34]\tvalidation_0-error:0.146553\tvalidation_0-logloss:0.548148\tvalidation_1-error:0.2275\tvalidation_1-logloss:0.579945\n",
      "[35]\tvalidation_0-error:0.146431\tvalidation_0-logloss:0.545048\tvalidation_1-error:0.227233\tvalidation_1-logloss:0.577868\n",
      "[36]\tvalidation_0-error:0.146481\tvalidation_0-logloss:0.542379\tvalidation_1-error:0.2272\tvalidation_1-logloss:0.575611\n",
      "[37]\tvalidation_0-error:0.146448\tvalidation_0-logloss:0.539452\tvalidation_1-error:0.22705\tvalidation_1-logloss:0.573517\n",
      "[38]\tvalidation_0-error:0.146431\tvalidation_0-logloss:0.53625\tvalidation_1-error:0.2265\tvalidation_1-logloss:0.57125\n",
      "[39]\tvalidation_0-error:0.146328\tvalidation_0-logloss:0.533687\tvalidation_1-error:0.227117\tvalidation_1-logloss:0.569104\n"
     ]
    }
   ],
   "source": [
    "train_model4=model4.fit(scaled_train, target1, eval_metric=[\"error\", \"logloss\"], eval_set=eval_set, verbose=True)\n",
    "# model.fit(X_train, y_train, eval_metric=[\"error\", \"logloss\"], eval_set=eval_set, verbose=True)\n",
    "\n",
    "results =model4.evals_result()"
   ]
  },
  {
   "cell_type": "code",
   "execution_count": 79,
   "metadata": {},
   "outputs": [
    {
     "data": {
      "image/png": "[encoded data removed]",
      "text/plain": [
       "<Figure size 432x288 with 1 Axes>"
      ]
     },
     "metadata": {
      "needs_background": "light"
     },
     "output_type": "display_data"
    },
    {
     "data": {
      "image/png": "[encoded data removed]",
      "text/plain": [
       "<Figure size 432x288 with 1 Axes>"
      ]
     },
     "metadata": {
      "needs_background": "light"
     },
     "output_type": "display_data"
    }
   ],
   "source": [
    "# retrieve performance metrics\n",
    "epochs = len(results['validation_0']['error'])\n",
    "x_axis = range(0, epochs)\n",
    "# plot log loss\n",
    "fig, ax = pyplot.subplots()\n",
    "ax.plot(x_axis, results['validation_0']['logloss'], label='Train')\n",
    "ax.plot(x_axis, results['validation_1']['logloss'], label='Test')\n",
    "ax.legend()\n",
    "pyplot.ylabel('Log Loss')\n",
    "pyplot.title('XGBoost Log Loss')\n",
    "pyplot.show()\n",
    "# plot classification error\n",
    "fig, ax = pyplot.subplots()\n",
    "ax.plot(x_axis, results['validation_0']['error'], label='Train')\n",
    "ax.plot(x_axis, results['validation_1']['error'], label='Test')\n",
    "ax.legend()\n",
    "pyplot.ylabel('Classification Error')\n",
    "pyplot.title('XGBoost Classification Error')\n",
    "pyplot.show()"
   ]
  },
  {
   "cell_type": "code",
   "execution_count": 81,
   "metadata": {},
   "outputs": [
    {
     "name": "stdout",
     "output_type": "stream",
     "text": [
      "Accuracy for model4: 77.29\n"
     ]
    }
   ],
   "source": [
    "#accuracy\n",
    "pred4 = train_model4.predict(scaled_valid)\n",
    "print(\"Accuracy for model4: %.2f\" % (accuracy_score(valid_target1, pred4) * 100))"
   ]
  },
  {
   "cell_type": "code",
   "execution_count": 82,
   "metadata": {},
   "outputs": [
    {
     "name": "stdout",
     "output_type": "stream",
     "text": [
      "Precision for model4: 69.53\n"
     ]
    }
   ],
   "source": [
    "from sklearn.metrics import precision_score\n",
    "\n",
    "print(\"Precision for model4: %.2f\" % (precision_score(valid_target1, pred4) * 100))"
   ]
  },
  {
   "cell_type": "code",
   "execution_count": 64,
   "metadata": {},
   "outputs": [
    {
     "ename": "NameError",
     "evalue": "name 'forest_reg' is not defined",
     "output_type": "error",
     "traceback": [
      "\u001b[1;31m---------------------------------------------------------------------------\u001b[0m",
      "\u001b[1;31mNameError\u001b[0m                                 Traceback (most recent call last)",
      "\u001b[1;32m<ipython-input-64-bf2e96aaebcd>\u001b[0m in \u001b[0;36m<module>\u001b[1;34m\u001b[0m\n\u001b[0;32m     11\u001b[0m \u001b[1;33m\u001b[0m\u001b[0m\n\u001b[0;32m     12\u001b[0m \u001b[1;33m\u001b[0m\u001b[0m\n\u001b[1;32m---> 13\u001b[1;33m grid_search = GridSearchCV(forest_reg, param_grid, cv=5,\n\u001b[0m\u001b[0;32m     14\u001b[0m scoring='neg_mean_squared_error')\n\u001b[0;32m     15\u001b[0m \u001b[1;33m\u001b[0m\u001b[0m\n",
      "\u001b[1;31mNameError\u001b[0m: name 'forest_reg' is not defined"
     ]
    }
   ],
   "source": [
    "from sklearn.model_selection import GridSearchCV\n",
    "\n",
    "param_test = {\n",
    " 'max_depth':6\n",
    " 'min_child_weight':11\n",
    "}\n",
    "gsearch = GridSearchCV(estimator = xgb.XGBClassifier( learning_rate=0.1, n_estimators=100, max_depth=5,\n",
    " min_child_weight=2, gamma=0, subsample=0.8, colsample_bytree=0.8,\n",
    " objective= 'binary:logistic', nthread=4, scale_pos_weight=1,seed=27), \n",
    "param_grid = param_test, scoring='precision',n_jobs=4,iid=False, cv=5)\n",
    "\n",
    "\n",
    "# grid_search = GridSearchCV(forest_reg, param_grid, cv=5,\n",
    "# scoring='neg_mean_squared_error')\n",
    "\n",
    "# gsearch.best_params_\n"
   ]
  },
  {
   "cell_type": "code",
   "execution_count": 103,
   "metadata": {},
   "outputs": [],
   "source": [
    "# from sklearn.model_selection import StratifiedKFold\n",
    "# from xgboost import XGBClassifier\n",
    "# from sklearn.model_selection import RandomizedSearchCV, GridSearchCV\n",
    "params = {\n",
    "        'min_child_weight': [5],\n",
    "        'gamma': [1],\n",
    "        'subsample': [0.5],\n",
    "        'colsample_bytree': [0.6],\n",
    "        'max_depth':[4]\n",
    "        }\n",
    "\n",
    "xgb =XGBClassifier(learning_rate=0.02, n_estimators=200, objective='binary:logistic',\n",
    "                    silent=True, nthread=1)\n",
    "folds = 3\n",
    "param_comb = 5\n",
    "\n",
    "skf = StratifiedKFold(n_splits=folds, shuffle = True, random_state = 1001)\n",
    "\n",
    "random_search = RandomizedSearchCV(xgb, param_distributions=params, n_iter=param_comb, scoring='precision', n_jobs=4, cv=skf.split(scaled_train, target1), verbose=3, random_state=1001 )"
   ]
  },
  {
   "cell_type": "code",
   "execution_count": null,
   "metadata": {},
   "outputs": [
    {
     "name": "stderr",
     "output_type": "stream",
     "text": [
      "C:\\Users\\Lu\\Anaconda3\\lib\\site-packages\\sklearn\\model_selection\\_search.py:266: UserWarning: The total space of parameters 1 is smaller than n_iter=5. Running 1 iterations. For exhaustive searches, use GridSearchCV.\n",
      "  % (grid_size, self.n_iter, grid_size), UserWarning)\n",
      "[Parallel(n_jobs=4)]: Using backend LokyBackend with 4 concurrent workers.\n"
     ]
    },
    {
     "name": "stdout",
     "output_type": "stream",
     "text": [
      "Fitting 3 folds for each of 1 candidates, totalling 3 fits\n"
     ]
    }
   ],
   "source": [
    "random_search.fit(scaled_train, target1)"
   ]
  },
  {
   "cell_type": "code",
   "execution_count": null,
   "metadata": {},
   "outputs": [],
   "source": []
  },
  {
   "cell_type": "code",
   "execution_count": null,
   "metadata": {},
   "outputs": [],
   "source": []
  },
  {
   "cell_type": "code",
   "execution_count": 65,
   "metadata": {},
   "outputs": [],
   "source": [
    "# train_model4 = gsearch.fit(scaled_train, target1)\n",
    "# pred4 = train_model4.predict(scaled_valid)\n",
    "# print(\"Accuracy for model 4: %.2f\" % (accuracy_score(valid_target1, pred4) * 100))"
   ]
  },
  {
   "cell_type": "code",
   "execution_count": null,
   "metadata": {},
   "outputs": [],
   "source": []
  },
  {
   "cell_type": "markdown",
   "metadata": {},
   "source": [
    "## Cross-validation in XGBoost (not sure how it works....)"
   ]
  },
  {
   "cell_type": "code",
   "execution_count": 16,
   "metadata": {},
   "outputs": [],
   "source": [
    "train_dmatrix = xgb.DMatrix(train, label=labels.iloc[:,0])\n",
    "params={\"objective\":\"binary:logistic\",\"max_depth\":4}\n",
    "cv_results = xgb.cv(dtrain=train_dmatrix, params=params, nfold=4,\n",
    "num_boost_round=10, metrics=\"auc\", as_pandas=True)  #measuring AUC\n",
    "#print(\"Accuracy: %f\" %((1-cv_results[\"test-error-mean\"]).iloc[-1]))"
   ]
  },
  {
   "cell_type": "code",
   "execution_count": 18,
   "metadata": {},
   "outputs": [
    {
     "data": {
      "text/plain": [
       "0.8230641750000001"
      ]
     },
     "execution_count": 18,
     "metadata": {},
     "output_type": "execute_result"
    }
   ],
   "source": [
    "cv_results['test-auc-mean'].mean()"
   ]
  },
  {
   "cell_type": "markdown",
   "metadata": {},
   "source": [
    "### fine tune the model\n",
    "\n",
    "Eta and overfitting: https://mlexplained.com/2018/01/29/learning-rate-tuning-in-deep-learning-a-practical-guide/\n"
   ]
  },
  {
   "cell_type": "code",
   "execution_count": null,
   "metadata": {},
   "outputs": [],
   "source": []
  }
 ],
 "metadata": {
  "kernelspec": {
   "display_name": "Python 3",
   "language": "python",
   "name": "python3"
  },
  "language_info": {
   "codemirror_mode": {
    "name": "ipython",
    "version": 3
   },
   "file_extension": ".py",
   "mimetype": "text/x-python",
   "name": "python",
   "nbconvert_exporter": "python",
   "pygments_lexer": "ipython3",
   "version": "3.7.4"
  },
  "toc": {
   "base_numbering": 1,
   "nav_menu": {},
   "number_sections": true,
   "sideBar": true,
   "skip_h1_title": false,
   "title_cell": "Table of Contents",
   "title_sidebar": "Contents",
   "toc_cell": false,
   "toc_position": {
    "height": "calc(100% - 180px)",
    "left": "10px",
    "top": "150px",
    "width": "218.333px"
   },
   "toc_section_display": true,
   "toc_window_display": true
  }
 },
 "nbformat": 4,
 "nbformat_minor": 2
}
