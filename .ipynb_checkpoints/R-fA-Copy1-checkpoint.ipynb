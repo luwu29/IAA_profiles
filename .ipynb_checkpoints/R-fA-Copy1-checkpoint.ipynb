{
 "cells": [
  {
   "cell_type": "code",
   "execution_count": 1,
   "metadata": {
    "scrolled": true
   },
   "outputs": [
    {
     "name": "stderr",
     "output_type": "stream",
     "text": [
      "Installing package into 'C:/Users/Lu/Documents/R/win-library/3.6'\n",
      "(as 'lib' is unspecified)\n",
      "also installing the dependencies 'gtools', 'gdata'\n",
      "\n"
     ]
    },
    {
     "name": "stdout",
     "output_type": "stream",
     "text": [
      "package 'gtools' successfully unpacked and MD5 sums checked\n",
      "package 'gdata' successfully unpacked and MD5 sums checked\n",
      "package 'gmodels' successfully unpacked and MD5 sums checked\n",
      "\n",
      "The downloaded binary packages are in\n",
      "\tC:\\Users\\Lu\\AppData\\Local\\Temp\\RtmpayQevG\\downloaded_packages\n"
     ]
    },
    {
     "name": "stderr",
     "output_type": "stream",
     "text": [
      "Installing package into 'C:/Users/Lu/Documents/R/win-library/3.6'\n",
      "(as 'lib' is unspecified)\n"
     ]
    },
    {
     "name": "stdout",
     "output_type": "stream",
     "text": [
      "package 'vcd' successfully unpacked and MD5 sums checked\n",
      "\n",
      "The downloaded binary packages are in\n",
      "\tC:\\Users\\Lu\\AppData\\Local\\Temp\\RtmpayQevG\\downloaded_packages\n"
     ]
    },
    {
     "name": "stderr",
     "output_type": "stream",
     "text": [
      "Installing package into 'C:/Users/Lu/Documents/R/win-library/3.6'\n",
      "(as 'lib' is unspecified)\n",
      "also installing the dependencies 'bit', 'bit64', 'blob', 'DBI', 'proto', 'RSQLite', 'chron', 'sqldf', 'gsubfn'\n",
      "\n"
     ]
    },
    {
     "name": "stdout",
     "output_type": "stream",
     "text": [
      "package 'bit' successfully unpacked and MD5 sums checked\n",
      "package 'bit64' successfully unpacked and MD5 sums checked\n",
      "package 'blob' successfully unpacked and MD5 sums checked\n",
      "package 'DBI' successfully unpacked and MD5 sums checked\n",
      "package 'proto' successfully unpacked and MD5 sums checked\n",
      "package 'RSQLite' successfully unpacked and MD5 sums checked\n",
      "package 'chron' successfully unpacked and MD5 sums checked\n",
      "package 'sqldf' successfully unpacked and MD5 sums checked\n",
      "package 'gsubfn' successfully unpacked and MD5 sums checked\n",
      "package 'smbinning' successfully unpacked and MD5 sums checked\n",
      "\n",
      "The downloaded binary packages are in\n",
      "\tC:\\Users\\Lu\\AppData\\Local\\Temp\\RtmpayQevG\\downloaded_packages\n"
     ]
    },
    {
     "name": "stderr",
     "output_type": "stream",
     "text": [
      "Installing package into 'C:/Users/Lu/Documents/R/win-library/3.6'\n",
      "(as 'lib' is unspecified)\n"
     ]
    },
    {
     "name": "stdout",
     "output_type": "stream",
     "text": [
      "package 'dplyr' successfully unpacked and MD5 sums checked\n",
      "\n",
      "The downloaded binary packages are in\n",
      "\tC:\\Users\\Lu\\AppData\\Local\\Temp\\RtmpayQevG\\downloaded_packages\n"
     ]
    },
    {
     "name": "stderr",
     "output_type": "stream",
     "text": [
      "Warning message:\n",
      "\"package 'gmodels' was built under R version 3.6.2\"Warning message:\n",
      "\"package 'vcd' was built under R version 3.6.2\"Loading required package: grid\n",
      "Warning message:\n",
      "\"package 'smbinning' was built under R version 3.6.2\"Loading required package: sqldf\n",
      "Warning message:\n",
      "\"package 'sqldf' was built under R version 3.6.2\"Loading required package: gsubfn\n",
      "Warning message:\n",
      "\"package 'gsubfn' was built under R version 3.6.2\"Loading required package: proto\n",
      "Warning message:\n",
      "\"package 'proto' was built under R version 3.6.2\"Loading required package: RSQLite\n",
      "Warning message:\n",
      "\"package 'RSQLite' was built under R version 3.6.2\"Loading required package: partykit\n",
      "Loading required package: libcoin\n",
      "Loading required package: mvtnorm\n",
      "Loading required package: Formula\n",
      "Warning message:\n",
      "\"package 'dplyr' was built under R version 3.6.2\"\n",
      "Attaching package: 'dplyr'\n",
      "\n",
      "The following objects are masked from 'package:stats':\n",
      "\n",
      "    filter, lag\n",
      "\n",
      "The following objects are masked from 'package:base':\n",
      "\n",
      "    intersect, setdiff, setequal, union\n",
      "\n"
     ]
    }
   ],
   "source": [
    "install.packages(\"gmodels\")\n",
    "install.packages(\"vcd\")\n",
    "install.packages(\"smbinning\")\n",
    "install.packages(\"dplyr\")\n",
    "\n",
    "library(gmodels)\n",
    "library(vcd)\n",
    "library(smbinning)\n",
    "library(dplyr)\n"
   ]
  },
  {
   "cell_type": "code",
   "execution_count": 5,
   "metadata": {},
   "outputs": [],
   "source": [
    "setwd('C:/Users/Lu/OneDrive - North Carolina State University/MSA studies/AA503/financial analysis/HW1')"
   ]
  },
  {
   "cell_type": "code",
   "execution_count": 39,
   "metadata": {},
   "outputs": [],
   "source": [
    "ac<-read.csv(file='ac_sel.csv')"
   ]
  },
  {
   "cell_type": "code",
   "execution_count": 40,
   "metadata": {},
   "outputs": [],
   "source": [
    "rj<-read.csv(file='rj_sel.csv')"
   ]
  },
  {
   "cell_type": "code",
   "execution_count": 44,
   "metadata": {},
   "outputs": [
    {
     "data": {
      "text/html": [
       "<table>\n",
       "<thead><tr><th scope=col>CHILDREN</th><th scope=col>PERS_H</th><th scope=col>TMADD</th><th scope=col>TMJOB1</th><th scope=col>TEL</th><th scope=col>NMBLOAN</th><th scope=col>FINLOAN</th><th scope=col>INCOME</th><th scope=col>EC_CARD</th><th scope=col>BUREAU</th><th scope=col>...</th><th scope=col>REGN</th><th scope=col>DIV</th><th scope=col>CASH</th><th scope=col>PRODUCT</th><th scope=col>RESID</th><th scope=col>PROF</th><th scope=col>CAR</th><th scope=col>CARDS</th><th scope=col>GB</th><th scope=col>X_freq_</th></tr></thead>\n",
       "<tbody>\n",
       "\t<tr><td>0               </td><td>2               </td><td>  3             </td><td>999             </td><td>2               </td><td>0               </td><td>0               </td><td>1000            </td><td>1               </td><td>1               </td><td>...             </td><td>2               </td><td>1               </td><td>1300            </td><td>Furniture,Carpet</td><td>Lease           </td><td>Others          </td><td>Car             </td><td>Cheque card     </td><td>0               </td><td>30              </td></tr>\n",
       "\t<tr><td>1               </td><td>2               </td><td> 60             </td><td>999             </td><td>2               </td><td>2               </td><td>0               </td><td>2900            </td><td>0               </td><td>1               </td><td>...             </td><td>2               </td><td>1               </td><td> 900            </td><td>Furniture,Carpet</td><td>Owner           </td><td>Others          </td><td>Car             </td><td>no credit cards </td><td>0               </td><td>30              </td></tr>\n",
       "\t<tr><td>0               </td><td>1               </td><td> 72             </td><td>999             </td><td>2               </td><td>2               </td><td>0               </td><td>2300            </td><td>0               </td><td>1               </td><td>...             </td><td>0               </td><td>0               </td><td>1100            </td><td>Radio, TV, Hifi </td><td>Lease           </td><td>Others          </td><td>Without Vehicle </td><td>no credit cards </td><td>0               </td><td>30              </td></tr>\n",
       "\t<tr><td>0               </td><td>2               </td><td> 96             </td><td>999             </td><td>2               </td><td>2               </td><td>1               </td><td>4000            </td><td>0               </td><td>3               </td><td>...             </td><td>0               </td><td>0               </td><td>7000            </td><td>Furniture,Carpet</td><td>Lease           </td><td>Civil Service, M</td><td>Car             </td><td>no credit cards </td><td>0               </td><td>30              </td></tr>\n",
       "\t<tr><td>0               </td><td>1               </td><td>120             </td><td>999             </td><td>2               </td><td>0               </td><td>0               </td><td>   0            </td><td>1               </td><td>1               </td><td>...             </td><td>0               </td><td>0               </td><td>1200            </td><td>Furniture,Carpet</td><td>Lease           </td><td>Others          </td><td>Car             </td><td>Cheque card     </td><td>0               </td><td>30              </td></tr>\n",
       "\t<tr><td>0               </td><td>1               </td><td>144             </td><td>999             </td><td>2               </td><td>2               </td><td>1               </td><td>2200            </td><td>0               </td><td>3               </td><td>...             </td><td>4               </td><td>1               </td><td>4000            </td><td>Furniture,Carpet</td><td>Lease           </td><td>Pensioner       </td><td>Without Vehicle </td><td>no credit cards </td><td>0               </td><td>30              </td></tr>\n",
       "</tbody>\n",
       "</table>\n"
      ],
      "text/latex": [
       "\\begin{tabular}{r|llllllllllllllllllllll}\n",
       " CHILDREN & PERS\\_H & TMADD & TMJOB1 & TEL & NMBLOAN & FINLOAN & INCOME & EC\\_CARD & BUREAU & ... & REGN & DIV & CASH & PRODUCT & RESID & PROF & CAR & CARDS & GB & X\\_freq\\_\\\\\n",
       "\\hline\n",
       "\t 0                & 2                &   3              & 999              & 2                & 0                & 0                & 1000             & 1                & 1                & ...              & 2                & 1                & 1300             & Furniture,Carpet & Lease            & Others           & Car              & Cheque card      & 0                & 30              \\\\\n",
       "\t 1                & 2                &  60              & 999              & 2                & 2                & 0                & 2900             & 0                & 1                & ...              & 2                & 1                &  900             & Furniture,Carpet & Owner            & Others           & Car              & no credit cards  & 0                & 30              \\\\\n",
       "\t 0                & 1                &  72              & 999              & 2                & 2                & 0                & 2300             & 0                & 1                & ...              & 0                & 0                & 1100             & Radio, TV, Hifi  & Lease            & Others           & Without Vehicle  & no credit cards  & 0                & 30              \\\\\n",
       "\t 0                & 2                &  96              & 999              & 2                & 2                & 1                & 4000             & 0                & 3                & ...              & 0                & 0                & 7000             & Furniture,Carpet & Lease            & Civil Service, M & Car              & no credit cards  & 0                & 30              \\\\\n",
       "\t 0                & 1                & 120              & 999              & 2                & 0                & 0                &    0             & 1                & 1                & ...              & 0                & 0                & 1200             & Furniture,Carpet & Lease            & Others           & Car              & Cheque card      & 0                & 30              \\\\\n",
       "\t 0                & 1                & 144              & 999              & 2                & 2                & 1                & 2200             & 0                & 3                & ...              & 4                & 1                & 4000             & Furniture,Carpet & Lease            & Pensioner        & Without Vehicle  & no credit cards  & 0                & 30              \\\\\n",
       "\\end{tabular}\n"
      ],
      "text/markdown": [
       "\n",
       "| CHILDREN | PERS_H | TMADD | TMJOB1 | TEL | NMBLOAN | FINLOAN | INCOME | EC_CARD | BUREAU | ... | REGN | DIV | CASH | PRODUCT | RESID | PROF | CAR | CARDS | GB | X_freq_ |\n",
       "|---|---|---|---|---|---|---|---|---|---|---|---|---|---|---|---|---|---|---|---|---|\n",
       "| 0                | 2                |   3              | 999              | 2                | 0                | 0                | 1000             | 1                | 1                | ...              | 2                | 1                | 1300             | Furniture,Carpet | Lease            | Others           | Car              | Cheque card      | 0                | 30               |\n",
       "| 1                | 2                |  60              | 999              | 2                | 2                | 0                | 2900             | 0                | 1                | ...              | 2                | 1                |  900             | Furniture,Carpet | Owner            | Others           | Car              | no credit cards  | 0                | 30               |\n",
       "| 0                | 1                |  72              | 999              | 2                | 2                | 0                | 2300             | 0                | 1                | ...              | 0                | 0                | 1100             | Radio, TV, Hifi  | Lease            | Others           | Without Vehicle  | no credit cards  | 0                | 30               |\n",
       "| 0                | 2                |  96              | 999              | 2                | 2                | 1                | 4000             | 0                | 3                | ...              | 0                | 0                | 7000             | Furniture,Carpet | Lease            | Civil Service, M | Car              | no credit cards  | 0                | 30               |\n",
       "| 0                | 1                | 120              | 999              | 2                | 0                | 0                |    0             | 1                | 1                | ...              | 0                | 0                | 1200             | Furniture,Carpet | Lease            | Others           | Car              | Cheque card      | 0                | 30               |\n",
       "| 0                | 1                | 144              | 999              | 2                | 2                | 1                | 2200             | 0                | 3                | ...              | 4                | 1                | 4000             | Furniture,Carpet | Lease            | Pensioner        | Without Vehicle  | no credit cards  | 0                | 30               |\n",
       "\n"
      ],
      "text/plain": [
       "  CHILDREN PERS_H TMADD TMJOB1 TEL NMBLOAN FINLOAN INCOME EC_CARD BUREAU ...\n",
       "1 0        2        3   999    2   0       0       1000   1       1      ...\n",
       "2 1        2       60   999    2   2       0       2900   0       1      ...\n",
       "3 0        1       72   999    2   2       0       2300   0       1      ...\n",
       "4 0        2       96   999    2   2       1       4000   0       3      ...\n",
       "5 0        1      120   999    2   0       0          0   1       1      ...\n",
       "6 0        1      144   999    2   2       1       2200   0       3      ...\n",
       "  REGN DIV CASH PRODUCT          RESID PROF             CAR            \n",
       "1 2    1   1300 Furniture,Carpet Lease Others           Car            \n",
       "2 2    1    900 Furniture,Carpet Owner Others           Car            \n",
       "3 0    0   1100 Radio, TV, Hifi  Lease Others           Without Vehicle\n",
       "4 0    0   7000 Furniture,Carpet Lease Civil Service, M Car            \n",
       "5 0    0   1200 Furniture,Carpet Lease Others           Car            \n",
       "6 4    1   4000 Furniture,Carpet Lease Pensioner        Without Vehicle\n",
       "  CARDS           GB X_freq_\n",
       "1 Cheque card     0  30     \n",
       "2 no credit cards 0  30     \n",
       "3 no credit cards 0  30     \n",
       "4 no credit cards 0  30     \n",
       "5 Cheque card     0  30     \n",
       "6 no credit cards 0  30     "
      ]
     },
     "metadata": {},
     "output_type": "display_data"
    }
   ],
   "source": [
    "head(ac)"
   ]
  },
  {
   "cell_type": "code",
   "execution_count": 43,
   "metadata": {},
   "outputs": [
    {
     "ename": "ERROR",
     "evalue": "Error in eval(substitute(select), nl, parent.frame()): object 'X' not found\n",
     "output_type": "error",
     "traceback": [
      "Error in eval(substitute(select), nl, parent.frame()): object 'X' not found\nTraceback:\n",
      "1. subset(ac, select = -c(X))",
      "2. subset.data.frame(ac, select = -c(X))",
      "3. eval(substitute(select), nl, parent.frame())",
      "4. eval(substitute(select), nl, parent.frame())"
     ]
    }
   ],
   "source": [
    "#drop X\n",
    "ac = subset(ac, select = -c(X) )"
   ]
  },
  {
   "cell_type": "code",
   "execution_count": 45,
   "metadata": {},
   "outputs": [
    {
     "data": {
      "text/html": [
       "<table>\n",
       "<thead><tr><th scope=col>CHILDREN</th><th scope=col>PERS_H</th><th scope=col>TMADD</th><th scope=col>TMJOB1</th><th scope=col>TEL</th><th scope=col>NMBLOAN</th><th scope=col>FINLOAN</th><th scope=col>INCOME</th><th scope=col>EC_CARD</th><th scope=col>BUREAU</th><th scope=col>...</th><th scope=col>REGN</th><th scope=col>DIV</th><th scope=col>CASH</th><th scope=col>PRODUCT</th><th scope=col>RESID</th><th scope=col>PROF</th><th scope=col>CAR</th><th scope=col>CARDS</th><th scope=col>GB</th><th scope=col>X_freq_</th></tr></thead>\n",
       "<tbody>\n",
       "\t<tr><td>0               </td><td>2               </td><td>  3             </td><td>999             </td><td>2               </td><td>0               </td><td>0               </td><td>1000            </td><td>1               </td><td>1               </td><td>...             </td><td>2               </td><td>1               </td><td>1300            </td><td>Furniture,Carpet</td><td>Lease           </td><td>Others          </td><td>Car             </td><td>Cheque card     </td><td>0               </td><td>30              </td></tr>\n",
       "\t<tr><td>1               </td><td>2               </td><td> 60             </td><td>999             </td><td>2               </td><td>2               </td><td>0               </td><td>2900            </td><td>0               </td><td>1               </td><td>...             </td><td>2               </td><td>1               </td><td> 900            </td><td>Furniture,Carpet</td><td>Owner           </td><td>Others          </td><td>Car             </td><td>no credit cards </td><td>0               </td><td>30              </td></tr>\n",
       "\t<tr><td>0               </td><td>1               </td><td> 72             </td><td>999             </td><td>2               </td><td>2               </td><td>0               </td><td>2300            </td><td>0               </td><td>1               </td><td>...             </td><td>0               </td><td>0               </td><td>1100            </td><td>Radio, TV, Hifi </td><td>Lease           </td><td>Others          </td><td>Without Vehicle </td><td>no credit cards </td><td>0               </td><td>30              </td></tr>\n",
       "\t<tr><td>0               </td><td>2               </td><td> 96             </td><td>999             </td><td>2               </td><td>2               </td><td>1               </td><td>4000            </td><td>0               </td><td>3               </td><td>...             </td><td>0               </td><td>0               </td><td>7000            </td><td>Furniture,Carpet</td><td>Lease           </td><td>Civil Service, M</td><td>Car             </td><td>no credit cards </td><td>0               </td><td>30              </td></tr>\n",
       "\t<tr><td>0               </td><td>1               </td><td>120             </td><td>999             </td><td>2               </td><td>0               </td><td>0               </td><td>   0            </td><td>1               </td><td>1               </td><td>...             </td><td>0               </td><td>0               </td><td>1200            </td><td>Furniture,Carpet</td><td>Lease           </td><td>Others          </td><td>Car             </td><td>Cheque card     </td><td>0               </td><td>30              </td></tr>\n",
       "\t<tr><td>0               </td><td>1               </td><td>144             </td><td>999             </td><td>2               </td><td>2               </td><td>1               </td><td>2200            </td><td>0               </td><td>3               </td><td>...             </td><td>4               </td><td>1               </td><td>4000            </td><td>Furniture,Carpet</td><td>Lease           </td><td>Pensioner       </td><td>Without Vehicle </td><td>no credit cards </td><td>0               </td><td>30              </td></tr>\n",
       "</tbody>\n",
       "</table>\n"
      ],
      "text/latex": [
       "\\begin{tabular}{r|llllllllllllllllllllll}\n",
       " CHILDREN & PERS\\_H & TMADD & TMJOB1 & TEL & NMBLOAN & FINLOAN & INCOME & EC\\_CARD & BUREAU & ... & REGN & DIV & CASH & PRODUCT & RESID & PROF & CAR & CARDS & GB & X\\_freq\\_\\\\\n",
       "\\hline\n",
       "\t 0                & 2                &   3              & 999              & 2                & 0                & 0                & 1000             & 1                & 1                & ...              & 2                & 1                & 1300             & Furniture,Carpet & Lease            & Others           & Car              & Cheque card      & 0                & 30              \\\\\n",
       "\t 1                & 2                &  60              & 999              & 2                & 2                & 0                & 2900             & 0                & 1                & ...              & 2                & 1                &  900             & Furniture,Carpet & Owner            & Others           & Car              & no credit cards  & 0                & 30              \\\\\n",
       "\t 0                & 1                &  72              & 999              & 2                & 2                & 0                & 2300             & 0                & 1                & ...              & 0                & 0                & 1100             & Radio, TV, Hifi  & Lease            & Others           & Without Vehicle  & no credit cards  & 0                & 30              \\\\\n",
       "\t 0                & 2                &  96              & 999              & 2                & 2                & 1                & 4000             & 0                & 3                & ...              & 0                & 0                & 7000             & Furniture,Carpet & Lease            & Civil Service, M & Car              & no credit cards  & 0                & 30              \\\\\n",
       "\t 0                & 1                & 120              & 999              & 2                & 0                & 0                &    0             & 1                & 1                & ...              & 0                & 0                & 1200             & Furniture,Carpet & Lease            & Others           & Car              & Cheque card      & 0                & 30              \\\\\n",
       "\t 0                & 1                & 144              & 999              & 2                & 2                & 1                & 2200             & 0                & 3                & ...              & 4                & 1                & 4000             & Furniture,Carpet & Lease            & Pensioner        & Without Vehicle  & no credit cards  & 0                & 30              \\\\\n",
       "\\end{tabular}\n"
      ],
      "text/markdown": [
       "\n",
       "| CHILDREN | PERS_H | TMADD | TMJOB1 | TEL | NMBLOAN | FINLOAN | INCOME | EC_CARD | BUREAU | ... | REGN | DIV | CASH | PRODUCT | RESID | PROF | CAR | CARDS | GB | X_freq_ |\n",
       "|---|---|---|---|---|---|---|---|---|---|---|---|---|---|---|---|---|---|---|---|---|\n",
       "| 0                | 2                |   3              | 999              | 2                | 0                | 0                | 1000             | 1                | 1                | ...              | 2                | 1                | 1300             | Furniture,Carpet | Lease            | Others           | Car              | Cheque card      | 0                | 30               |\n",
       "| 1                | 2                |  60              | 999              | 2                | 2                | 0                | 2900             | 0                | 1                | ...              | 2                | 1                |  900             | Furniture,Carpet | Owner            | Others           | Car              | no credit cards  | 0                | 30               |\n",
       "| 0                | 1                |  72              | 999              | 2                | 2                | 0                | 2300             | 0                | 1                | ...              | 0                | 0                | 1100             | Radio, TV, Hifi  | Lease            | Others           | Without Vehicle  | no credit cards  | 0                | 30               |\n",
       "| 0                | 2                |  96              | 999              | 2                | 2                | 1                | 4000             | 0                | 3                | ...              | 0                | 0                | 7000             | Furniture,Carpet | Lease            | Civil Service, M | Car              | no credit cards  | 0                | 30               |\n",
       "| 0                | 1                | 120              | 999              | 2                | 0                | 0                |    0             | 1                | 1                | ...              | 0                | 0                | 1200             | Furniture,Carpet | Lease            | Others           | Car              | Cheque card      | 0                | 30               |\n",
       "| 0                | 1                | 144              | 999              | 2                | 2                | 1                | 2200             | 0                | 3                | ...              | 4                | 1                | 4000             | Furniture,Carpet | Lease            | Pensioner        | Without Vehicle  | no credit cards  | 0                | 30               |\n",
       "\n"
      ],
      "text/plain": [
       "  CHILDREN PERS_H TMADD TMJOB1 TEL NMBLOAN FINLOAN INCOME EC_CARD BUREAU ...\n",
       "1 0        2        3   999    2   0       0       1000   1       1      ...\n",
       "2 1        2       60   999    2   2       0       2900   0       1      ...\n",
       "3 0        1       72   999    2   2       0       2300   0       1      ...\n",
       "4 0        2       96   999    2   2       1       4000   0       3      ...\n",
       "5 0        1      120   999    2   0       0          0   1       1      ...\n",
       "6 0        1      144   999    2   2       1       2200   0       3      ...\n",
       "  REGN DIV CASH PRODUCT          RESID PROF             CAR            \n",
       "1 2    1   1300 Furniture,Carpet Lease Others           Car            \n",
       "2 2    1    900 Furniture,Carpet Owner Others           Car            \n",
       "3 0    0   1100 Radio, TV, Hifi  Lease Others           Without Vehicle\n",
       "4 0    0   7000 Furniture,Carpet Lease Civil Service, M Car            \n",
       "5 0    0   1200 Furniture,Carpet Lease Others           Car            \n",
       "6 4    1   4000 Furniture,Carpet Lease Pensioner        Without Vehicle\n",
       "  CARDS           GB X_freq_\n",
       "1 Cheque card     0  30     \n",
       "2 no credit cards 0  30     \n",
       "3 no credit cards 0  30     \n",
       "4 no credit cards 0  30     \n",
       "5 Cheque card     0  30     \n",
       "6 no credit cards 0  30     "
      ]
     },
     "metadata": {},
     "output_type": "display_data"
    }
   ],
   "source": [
    "head(ac)"
   ]
  },
  {
   "cell_type": "code",
   "execution_count": 46,
   "metadata": {},
   "outputs": [
    {
     "data": {
      "text/plain": [
       "    CHILDREN           PERS_H           TMADD           TMJOB1      \n",
       " Min.   : 0.0000   Min.   : 1.000   Min.   :  0.0   Min.   :  0.00  \n",
       " 1st Qu.: 0.0000   1st Qu.: 1.000   1st Qu.: 21.0   1st Qu.: 18.00  \n",
       " Median : 0.0000   Median : 2.000   Median : 60.0   Median : 39.00  \n",
       " Mean   : 0.8197   Mean   : 2.359   Mean   :119.3   Mean   : 79.43  \n",
       " 3rd Qu.: 1.0000   3rd Qu.: 3.000   3rd Qu.:168.0   3rd Qu.: 96.00  \n",
       " Max.   :23.0000   Max.   :25.000   Max.   :999.0   Max.   :999.00  \n",
       "                                                                    \n",
       "      TEL           NMBLOAN          FINLOAN          INCOME      \n",
       " Min.   :0.000   Min.   :0.0000   Min.   :0.000   Min.   :     0  \n",
       " 1st Qu.:2.000   1st Qu.:0.0000   1st Qu.:0.000   1st Qu.:  1000  \n",
       " Median :2.000   Median :0.0000   Median :0.000   Median :  2100  \n",
       " Mean   :1.815   Mean   :0.5807   Mean   :0.477   Mean   :  1997  \n",
       " 3rd Qu.:2.000   3rd Qu.:2.0000   3rd Qu.:1.000   3rd Qu.:  2700  \n",
       " Max.   :2.000   Max.   :2.0000   Max.   :1.000   Max.   :100000  \n",
       "                                                                  \n",
       "    EC_CARD           BUREAU         LOCATION          LOANS      \n",
       " Min.   :0.0000   Min.   :1.000   Min.   :0.0000   Min.   :0.000  \n",
       " 1st Qu.:0.0000   1st Qu.:1.000   1st Qu.:1.0000   1st Qu.:0.000  \n",
       " Median :0.0000   Median :1.000   Median :1.0000   Median :1.000  \n",
       " Mean   :0.2583   Mean   :1.683   Mean   :0.9983   Mean   :1.008  \n",
       " 3rd Qu.:1.0000   3rd Qu.:3.000   3rd Qu.:1.0000   3rd Qu.:2.000  \n",
       " Max.   :1.0000   Max.   :3.000   Max.   :1.0000   Max.   :9.000  \n",
       "                                                                  \n",
       "      REGN            DIV              CASH                    PRODUCT    \n",
       " Min.   :0.000   Min.   :0.0000   Min.   :     0                   :  12  \n",
       " 1st Qu.:0.000   1st Qu.:0.0000   1st Qu.:   900   Cars            : 206  \n",
       " Median :4.000   Median :1.0000   Median :  1400   Dept. Store,Mail: 399  \n",
       " Mean   :3.294   Mean   :0.7363   Mean   :  2497   Furniture,Carpet: 884  \n",
       " 3rd Qu.:5.000   3rd Qu.:1.0000   3rd Qu.:  2500   Leisure         :  66  \n",
       " Max.   :9.000   Max.   :1.0000   Max.   :100000   Others          :   1  \n",
       "                                                   Radio, TV, Hifi :1432  \n",
       "     RESID                    PROF                    CAR      \n",
       " Lease  :2340   Others          :2174   Car             :2303  \n",
       " missing: 535   Civil Service, M: 257   Car and Motor bi:  17  \n",
       " Owner  : 125   Food,Building,Ca: 232   Without Vehicle : 680  \n",
       "                Pensioner       : 136                          \n",
       "                Self-employed pe:  67                          \n",
       "                Military Service:  41                          \n",
       "                (Other)         :  93                          \n",
       "              CARDS            GB         X_freq_    \n",
       " American Express:   2   Min.   :0.0   Min.   : 1.0  \n",
       " Cheque card     : 776   1st Qu.:0.0   1st Qu.: 1.0  \n",
       " Mastercard/Euroc:  67   Median :0.5   Median :15.5  \n",
       " no credit cards :2139   Mean   :0.5   Mean   :15.5  \n",
       " Other credit car:  10   3rd Qu.:1.0   3rd Qu.:30.0  \n",
       " VISA mybank     :   3   Max.   :1.0   Max.   :30.0  \n",
       " VISA Others     :   3                               "
      ]
     },
     "metadata": {},
     "output_type": "display_data"
    }
   ],
   "source": [
    "summary(ac)"
   ]
  },
  {
   "cell_type": "code",
   "execution_count": 47,
   "metadata": {},
   "outputs": [
    {
     "data": {
      "text/plain": [
       "\n",
       "   0    1 \n",
       "1500 1500 "
      ]
     },
     "metadata": {},
     "output_type": "display_data"
    }
   ],
   "source": [
    "#understand target variable\n",
    "table(ac$GB)  #0 is good"
   ]
  },
  {
   "cell_type": "code",
   "execution_count": 48,
   "metadata": {},
   "outputs": [],
   "source": [
    "# Setting Categorical Variables as Factors #\n",
    "ac$PRODUCT <- as.factor(ac$PRODUCT)\n",
    "ac$RESID <- as.factor(ac$RESID )\n",
    "ac$CAR<- as.factor(ac$CAR)\n",
    "ac$CARDS<- as.factor(ac$CARDS)"
   ]
  },
  {
   "cell_type": "code",
   "execution_count": 49,
   "metadata": {},
   "outputs": [
    {
     "data": {
      "text/html": [
       "<ol class=list-inline>\n",
       "\t<li>'CHILDREN'</li>\n",
       "\t<li>'PERS_H'</li>\n",
       "\t<li>'TMADD'</li>\n",
       "\t<li>'TMJOB1'</li>\n",
       "\t<li>'TEL'</li>\n",
       "\t<li>'NMBLOAN'</li>\n",
       "\t<li>'FINLOAN'</li>\n",
       "\t<li>'INCOME'</li>\n",
       "\t<li>'EC_CARD'</li>\n",
       "\t<li>'BUREAU'</li>\n",
       "\t<li>'LOCATION'</li>\n",
       "\t<li>'LOANS'</li>\n",
       "\t<li>'REGN'</li>\n",
       "\t<li>'DIV'</li>\n",
       "\t<li>'CASH'</li>\n",
       "\t<li>'PRODUCT'</li>\n",
       "\t<li>'RESID'</li>\n",
       "\t<li>'PROF'</li>\n",
       "\t<li>'CAR'</li>\n",
       "\t<li>'CARDS'</li>\n",
       "\t<li>'GB'</li>\n",
       "\t<li>'X_freq_'</li>\n",
       "</ol>\n"
      ],
      "text/latex": [
       "\\begin{enumerate*}\n",
       "\\item 'CHILDREN'\n",
       "\\item 'PERS\\_H'\n",
       "\\item 'TMADD'\n",
       "\\item 'TMJOB1'\n",
       "\\item 'TEL'\n",
       "\\item 'NMBLOAN'\n",
       "\\item 'FINLOAN'\n",
       "\\item 'INCOME'\n",
       "\\item 'EC\\_CARD'\n",
       "\\item 'BUREAU'\n",
       "\\item 'LOCATION'\n",
       "\\item 'LOANS'\n",
       "\\item 'REGN'\n",
       "\\item 'DIV'\n",
       "\\item 'CASH'\n",
       "\\item 'PRODUCT'\n",
       "\\item 'RESID'\n",
       "\\item 'PROF'\n",
       "\\item 'CAR'\n",
       "\\item 'CARDS'\n",
       "\\item 'GB'\n",
       "\\item 'X\\_freq\\_'\n",
       "\\end{enumerate*}\n"
      ],
      "text/markdown": [
       "1. 'CHILDREN'\n",
       "2. 'PERS_H'\n",
       "3. 'TMADD'\n",
       "4. 'TMJOB1'\n",
       "5. 'TEL'\n",
       "6. 'NMBLOAN'\n",
       "7. 'FINLOAN'\n",
       "8. 'INCOME'\n",
       "9. 'EC_CARD'\n",
       "10. 'BUREAU'\n",
       "11. 'LOCATION'\n",
       "12. 'LOANS'\n",
       "13. 'REGN'\n",
       "14. 'DIV'\n",
       "15. 'CASH'\n",
       "16. 'PRODUCT'\n",
       "17. 'RESID'\n",
       "18. 'PROF'\n",
       "19. 'CAR'\n",
       "20. 'CARDS'\n",
       "21. 'GB'\n",
       "22. 'X_freq_'\n",
       "\n",
       "\n"
      ],
      "text/plain": [
       " [1] \"CHILDREN\" \"PERS_H\"   \"TMADD\"    \"TMJOB1\"   \"TEL\"      \"NMBLOAN\" \n",
       " [7] \"FINLOAN\"  \"INCOME\"   \"EC_CARD\"  \"BUREAU\"   \"LOCATION\" \"LOANS\"   \n",
       "[13] \"REGN\"     \"DIV\"      \"CASH\"     \"PRODUCT\"  \"RESID\"    \"PROF\"    \n",
       "[19] \"CAR\"      \"CARDS\"    \"GB\"       \"X_freq_\" "
      ]
     },
     "metadata": {},
     "output_type": "display_data"
    }
   ],
   "source": [
    "colnames(ac)"
   ]
  },
  {
   "cell_type": "markdown",
   "metadata": {},
   "source": [
    "## # Create Training and Validation #"
   ]
  },
  {
   "cell_type": "code",
   "execution_count": 50,
   "metadata": {},
   "outputs": [
    {
     "data": {
      "text/plain": [
       "\n",
       "   0    1 \n",
       "1122 1128 "
      ]
     },
     "metadata": {},
     "output_type": "display_data"
    },
    {
     "data": {
      "text/plain": [
       "\n",
       "  0   1 \n",
       "378 372 "
      ]
     },
     "metadata": {},
     "output_type": "display_data"
    }
   ],
   "source": [
    "\n",
    "set.seed(12345)\n",
    "train_id <- sample(seq_len(nrow(ac)), size = floor(0.75*nrow(ac)))\n",
    "\n",
    "train <- ac[train_id, ]\n",
    "test <- ac[-train_id, ]\n",
    "\n",
    "table(train$GB)\n",
    "table(test$GB)\n"
   ]
  },
  {
   "cell_type": "markdown",
   "metadata": {},
   "source": [
    "## Binning of Continuous Variables #"
   ]
  },
  {
   "cell_type": "code",
   "execution_count": 51,
   "metadata": {},
   "outputs": [
    {
     "data": {
      "text/html": [
       "<table>\n",
       "<thead><tr><th scope=col>Cutpoint</th><th scope=col>CntRec</th><th scope=col>CntGood</th><th scope=col>CntBad</th><th scope=col>CntCumRec</th><th scope=col>CntCumGood</th><th scope=col>CntCumBad</th><th scope=col>PctRec</th><th scope=col>GoodRate</th><th scope=col>BadRate</th><th scope=col>Odds</th><th scope=col>LnOdds</th><th scope=col>WoE</th><th scope=col>IV</th></tr></thead>\n",
       "<tbody>\n",
       "\t<tr><td><span style=white-space:pre-wrap>&lt;= 0   </span></td><td>1187                                              </td><td> 645                                              </td><td> 542                                              </td><td>1187                                              </td><td> 645                                              </td><td> 542                                              </td><td>0.5276                                            </td><td>0.5434                                            </td><td>0.4566                                            </td><td>1.1900                                            </td><td> 0.1740                                           </td><td> 0.1687                                           </td><td>0.0150                                            </td></tr>\n",
       "\t<tr><td><span style=white-space:pre-wrap>&lt;= 2   </span></td><td> 904                                              </td><td> 400                                              </td><td> 504                                              </td><td>2091                                              </td><td>1045                                              </td><td>1046                                              </td><td>0.4018                                            </td><td>0.4425                                            </td><td>0.5575                                            </td><td>0.7937                                            </td><td>-0.2311                                           </td><td>-0.2364                                           </td><td>0.0224                                            </td></tr>\n",
       "\t<tr><td><span style=white-space:pre-wrap>&gt; 2    </span></td><td> 159                                              </td><td><span style=white-space:pre-wrap>  83</span>      </td><td><span style=white-space:pre-wrap>  76</span>      </td><td>2250                                              </td><td>1128                                              </td><td>1122                                              </td><td>0.0707                                            </td><td>0.5220                                            </td><td>0.4780                                            </td><td>1.0921                                            </td><td> 0.0881                                           </td><td> 0.0828                                           </td><td>0.0005                                            </td></tr>\n",
       "\t<tr><td>Missing</td><td>   0   </td><td>   0   </td><td>   0   </td><td>2250   </td><td>1128   </td><td>1122   </td><td>0.0000 </td><td>   NaN </td><td>   NaN </td><td>   NaN </td><td>    NaN</td><td>    NaN</td><td>   NaN </td></tr>\n",
       "\t<tr><td>Total  </td><td>2250   </td><td>1128   </td><td>1122   </td><td>  NA   </td><td>  NA   </td><td>  NA   </td><td>1.0000 </td><td>0.5013 </td><td>0.4987 </td><td>1.0053 </td><td> 0.0053</td><td> 0.0000</td><td>0.0379 </td></tr>\n",
       "</tbody>\n",
       "</table>\n"
      ],
      "text/latex": [
       "\\begin{tabular}{r|llllllllllllll}\n",
       " Cutpoint & CntRec & CntGood & CntBad & CntCumRec & CntCumGood & CntCumBad & PctRec & GoodRate & BadRate & Odds & LnOdds & WoE & IV\\\\\n",
       "\\hline\n",
       "\t <= 0    & 1187    &  645    &  542    & 1187    &  645    &  542    & 0.5276  & 0.5434  & 0.4566  & 1.1900  &  0.1740 &  0.1687 & 0.0150 \\\\\n",
       "\t <= 2    &  904    &  400    &  504    & 2091    & 1045    & 1046    & 0.4018  & 0.4425  & 0.5575  & 0.7937  & -0.2311 & -0.2364 & 0.0224 \\\\\n",
       "\t > 2     &  159    &   83    &   76    & 2250    & 1128    & 1122    & 0.0707  & 0.5220  & 0.4780  & 1.0921  &  0.0881 &  0.0828 & 0.0005 \\\\\n",
       "\t Missing &    0    &    0    &    0    & 2250    & 1128    & 1122    & 0.0000  &    NaN  &    NaN  &    NaN  &     NaN &     NaN &    NaN \\\\\n",
       "\t Total   & 2250    & 1128    & 1122    &   NA    &   NA    &   NA    & 1.0000  & 0.5013  & 0.4987  & 1.0053  &  0.0053 &  0.0000 & 0.0379 \\\\\n",
       "\\end{tabular}\n"
      ],
      "text/markdown": [
       "\n",
       "| Cutpoint | CntRec | CntGood | CntBad | CntCumRec | CntCumGood | CntCumBad | PctRec | GoodRate | BadRate | Odds | LnOdds | WoE | IV |\n",
       "|---|---|---|---|---|---|---|---|---|---|---|---|---|---|\n",
       "| <= 0    | 1187    |  645    |  542    | 1187    |  645    |  542    | 0.5276  | 0.5434  | 0.4566  | 1.1900  |  0.1740 |  0.1687 | 0.0150  |\n",
       "| <= 2    |  904    |  400    |  504    | 2091    | 1045    | 1046    | 0.4018  | 0.4425  | 0.5575  | 0.7937  | -0.2311 | -0.2364 | 0.0224  |\n",
       "| > 2     |  159    |   83    |   76    | 2250    | 1128    | 1122    | 0.0707  | 0.5220  | 0.4780  | 1.0921  |  0.0881 |  0.0828 | 0.0005  |\n",
       "| Missing |    0    |    0    |    0    | 2250    | 1128    | 1122    | 0.0000  |    NaN  |    NaN  |    NaN  |     NaN |     NaN |    NaN  |\n",
       "| Total   | 2250    | 1128    | 1122    |   NA    |   NA    |   NA    | 1.0000  | 0.5013  | 0.4987  | 1.0053  |  0.0053 |  0.0000 | 0.0379  |\n",
       "\n"
      ],
      "text/plain": [
       "  Cutpoint CntRec CntGood CntBad CntCumRec CntCumGood CntCumBad PctRec GoodRate\n",
       "1 <= 0     1187    645     542   1187       645        542      0.5276 0.5434  \n",
       "2 <= 2      904    400     504   2091      1045       1046      0.4018 0.4425  \n",
       "3 > 2       159     83      76   2250      1128       1122      0.0707 0.5220  \n",
       "4 Missing     0      0       0   2250      1128       1122      0.0000    NaN  \n",
       "5 Total    2250   1128    1122     NA        NA         NA      1.0000 0.5013  \n",
       "  BadRate Odds   LnOdds  WoE     IV    \n",
       "1 0.4566  1.1900  0.1740  0.1687 0.0150\n",
       "2 0.5575  0.7937 -0.2311 -0.2364 0.0224\n",
       "3 0.4780  1.0921  0.0881  0.0828 0.0005\n",
       "4    NaN     NaN     NaN     NaN    NaN\n",
       "5 0.4987  1.0053  0.0053  0.0000 0.0379"
      ]
     },
     "metadata": {},
     "output_type": "display_data"
    },
    {
     "data": {
      "text/html": [
       "<ol class=list-inline>\n",
       "\t<li>0</li>\n",
       "\t<li>2</li>\n",
       "</ol>\n"
      ],
      "text/latex": [
       "\\begin{enumerate*}\n",
       "\\item 0\n",
       "\\item 2\n",
       "\\end{enumerate*}\n"
      ],
      "text/markdown": [
       "1. 0\n",
       "2. 2\n",
       "\n",
       "\n"
      ],
      "text/plain": [
       "[1] 0 2"
      ]
     },
     "metadata": {},
     "output_type": "display_data"
    },
    {
     "data": {
      "text/html": [
       "0.0379"
      ],
      "text/latex": [
       "0.0379"
      ],
      "text/markdown": [
       "0.0379"
      ],
      "text/plain": [
       "[1] 0.0379"
      ]
     },
     "metadata": {},
     "output_type": "display_data"
    },
    {
     "data": {
      "image/png": "[encoded data removed]",
      "text/plain": [
       "Plot with title \"Percentage of Cases\""
      ]
     },
     "metadata": {},
     "output_type": "display_data"
    },
    {
     "data": {
      "image/png": "[encoded data removed]",
      "text/plain": [
       "Plot with title \"Good Rate (%)\""
      ]
     },
     "metadata": {},
     "output_type": "display_data"
    },
    {
     "data": {
      "image/png": "[encoded data removed]",
      "text/plain": [
       "Plot with title \"Bad Rate (%)\""
      ]
     },
     "metadata": {},
     "output_type": "display_data"
    },
    {
     "data": {
      "image/png": "[encoded data removed]",
      "text/plain": [
       "Plot with title \"Weight of Evidence\""
      ]
     },
     "metadata": {},
     "output_type": "display_data"
    }
   ],
   "source": [
    "# Binning of Continuous Variables #\n",
    "result <- smbinning(df = train, y = \"GB\", x = \"CHILDREN\")\n",
    "result$ivtable\n",
    "result$cut\n",
    "result$iv\n",
    "\n",
    "smbinning.plot(result,option=\"dist\",sub=\"CHILDREN\")\n",
    "smbinning.plot(result,option=\"goodrate\",sub=\"CHILDREN\")\n",
    "smbinning.plot(result,option=\"badrate\",sub=\"CHILDREN\")\n",
    "smbinning.plot(result,option=\"WoE\",sub=\"CHILDREN\")\n",
    "\n"
   ]
  },
  {
   "cell_type": "code",
   "execution_count": 57,
   "metadata": {},
   "outputs": [],
   "source": [
    "num_names <- names(train)[sapply(train, is.numeric)] # Gathering the names of numeric variables in data #\n",
    "\n"
   ]
  },
  {
   "cell_type": "code",
   "execution_count": 58,
   "metadata": {},
   "outputs": [
    {
     "data": {
      "text/html": [
       "<ol class=list-inline>\n",
       "\t<li>'CHILDREN'</li>\n",
       "\t<li>'PERS_H'</li>\n",
       "\t<li>'TMADD'</li>\n",
       "\t<li>'TMJOB1'</li>\n",
       "\t<li>'TEL'</li>\n",
       "\t<li>'NMBLOAN'</li>\n",
       "\t<li>'FINLOAN'</li>\n",
       "\t<li>'INCOME'</li>\n",
       "\t<li>'EC_CARD'</li>\n",
       "\t<li>'BUREAU'</li>\n",
       "\t<li>'LOCATION'</li>\n",
       "\t<li>'LOANS'</li>\n",
       "\t<li>'REGN'</li>\n",
       "\t<li>'DIV'</li>\n",
       "\t<li>'CASH'</li>\n",
       "\t<li>'GB'</li>\n",
       "\t<li>'X_freq_'</li>\n",
       "</ol>\n"
      ],
      "text/latex": [
       "\\begin{enumerate*}\n",
       "\\item 'CHILDREN'\n",
       "\\item 'PERS\\_H'\n",
       "\\item 'TMADD'\n",
       "\\item 'TMJOB1'\n",
       "\\item 'TEL'\n",
       "\\item 'NMBLOAN'\n",
       "\\item 'FINLOAN'\n",
       "\\item 'INCOME'\n",
       "\\item 'EC\\_CARD'\n",
       "\\item 'BUREAU'\n",
       "\\item 'LOCATION'\n",
       "\\item 'LOANS'\n",
       "\\item 'REGN'\n",
       "\\item 'DIV'\n",
       "\\item 'CASH'\n",
       "\\item 'GB'\n",
       "\\item 'X\\_freq\\_'\n",
       "\\end{enumerate*}\n"
      ],
      "text/markdown": [
       "1. 'CHILDREN'\n",
       "2. 'PERS_H'\n",
       "3. 'TMADD'\n",
       "4. 'TMJOB1'\n",
       "5. 'TEL'\n",
       "6. 'NMBLOAN'\n",
       "7. 'FINLOAN'\n",
       "8. 'INCOME'\n",
       "9. 'EC_CARD'\n",
       "10. 'BUREAU'\n",
       "11. 'LOCATION'\n",
       "12. 'LOANS'\n",
       "13. 'REGN'\n",
       "14. 'DIV'\n",
       "15. 'CASH'\n",
       "16. 'GB'\n",
       "17. 'X_freq_'\n",
       "\n",
       "\n"
      ],
      "text/plain": [
       " [1] \"CHILDREN\" \"PERS_H\"   \"TMADD\"    \"TMJOB1\"   \"TEL\"      \"NMBLOAN\" \n",
       " [7] \"FINLOAN\"  \"INCOME\"   \"EC_CARD\"  \"BUREAU\"   \"LOCATION\" \"LOANS\"   \n",
       "[13] \"REGN\"     \"DIV\"      \"CASH\"     \"GB\"       \"X_freq_\" "
      ]
     },
     "metadata": {},
     "output_type": "display_data"
    }
   ],
   "source": [
    "num_names"
   ]
  },
  {
   "cell_type": "code",
   "execution_count": 62,
   "metadata": {},
   "outputs": [
    {
     "data": {
      "text/html": [
       "<table>\n",
       "<thead><tr><th scope=col>Cutpoint</th><th scope=col>CntRec</th><th scope=col>CntGood</th><th scope=col>CntBad</th><th scope=col>CntCumRec</th><th scope=col>CntCumGood</th><th scope=col>CntCumBad</th><th scope=col>PctRec</th><th scope=col>GoodRate</th><th scope=col>BadRate</th><th scope=col>Odds</th><th scope=col>LnOdds</th><th scope=col>WoE</th><th scope=col>IV</th></tr></thead>\n",
       "<tbody>\n",
       "\t<tr><td><span style=white-space:pre-wrap>&lt;= 0   </span></td><td> 536                                              </td><td> 192                                              </td><td> 344                                              </td><td> 536                                              </td><td> 192                                              </td><td> 344                                              </td><td>0.2382                                            </td><td>0.3582                                            </td><td>0.6418                                            </td><td>0.5581                                            </td><td>-0.5831                                           </td><td>-0.5885                                           </td><td>0.0803                                            </td></tr>\n",
       "\t<tr><td>&lt;= 2500</td><td>1032      </td><td> 619      </td><td> 413      </td><td>1568      </td><td> 811      </td><td> 757      </td><td>0.4587    </td><td>0.5998    </td><td>0.4002    </td><td>1.4988    </td><td> 0.4047   </td><td> 0.3993   </td><td>0.0721    </td></tr>\n",
       "\t<tr><td>&gt; 2500 </td><td> 682      </td><td> 317      </td><td> 365      </td><td>2250      </td><td>1128      </td><td>1122      </td><td>0.3031    </td><td>0.4648    </td><td>0.5352    </td><td>0.8685    </td><td>-0.1410   </td><td>-0.1463   </td><td>0.0065    </td></tr>\n",
       "\t<tr><td>Missing</td><td>   0   </td><td>   0   </td><td>   0   </td><td>2250   </td><td>1128   </td><td>1122   </td><td>0.0000 </td><td>   NaN </td><td>   NaN </td><td>   NaN </td><td>    NaN</td><td>    NaN</td><td>   NaN </td></tr>\n",
       "\t<tr><td>Total  </td><td>2250   </td><td>1128   </td><td>1122   </td><td>  NA   </td><td>  NA   </td><td>  NA   </td><td>1.0000 </td><td>0.5013 </td><td>0.4987 </td><td>1.0053 </td><td> 0.0053</td><td> 0.0000</td><td>0.1589 </td></tr>\n",
       "</tbody>\n",
       "</table>\n"
      ],
      "text/latex": [
       "\\begin{tabular}{r|llllllllllllll}\n",
       " Cutpoint & CntRec & CntGood & CntBad & CntCumRec & CntCumGood & CntCumBad & PctRec & GoodRate & BadRate & Odds & LnOdds & WoE & IV\\\\\n",
       "\\hline\n",
       "\t <= 0    &  536    &  192    &  344    &  536    &  192    &  344    & 0.2382  & 0.3582  & 0.6418  & 0.5581  & -0.5831 & -0.5885 & 0.0803 \\\\\n",
       "\t <= 2500 & 1032    &  619    &  413    & 1568    &  811    &  757    & 0.4587  & 0.5998  & 0.4002  & 1.4988  &  0.4047 &  0.3993 & 0.0721 \\\\\n",
       "\t > 2500  &  682    &  317    &  365    & 2250    & 1128    & 1122    & 0.3031  & 0.4648  & 0.5352  & 0.8685  & -0.1410 & -0.1463 & 0.0065 \\\\\n",
       "\t Missing &    0    &    0    &    0    & 2250    & 1128    & 1122    & 0.0000  &    NaN  &    NaN  &    NaN  &     NaN &     NaN &    NaN \\\\\n",
       "\t Total   & 2250    & 1128    & 1122    &   NA    &   NA    &   NA    & 1.0000  & 0.5013  & 0.4987  & 1.0053  &  0.0053 &  0.0000 & 0.1589 \\\\\n",
       "\\end{tabular}\n"
      ],
      "text/markdown": [
       "\n",
       "| Cutpoint | CntRec | CntGood | CntBad | CntCumRec | CntCumGood | CntCumBad | PctRec | GoodRate | BadRate | Odds | LnOdds | WoE | IV |\n",
       "|---|---|---|---|---|---|---|---|---|---|---|---|---|---|\n",
       "| <= 0    |  536    |  192    |  344    |  536    |  192    |  344    | 0.2382  | 0.3582  | 0.6418  | 0.5581  | -0.5831 | -0.5885 | 0.0803  |\n",
       "| <= 2500 | 1032    |  619    |  413    | 1568    |  811    |  757    | 0.4587  | 0.5998  | 0.4002  | 1.4988  |  0.4047 |  0.3993 | 0.0721  |\n",
       "| > 2500  |  682    |  317    |  365    | 2250    | 1128    | 1122    | 0.3031  | 0.4648  | 0.5352  | 0.8685  | -0.1410 | -0.1463 | 0.0065  |\n",
       "| Missing |    0    |    0    |    0    | 2250    | 1128    | 1122    | 0.0000  |    NaN  |    NaN  |    NaN  |     NaN |     NaN |    NaN  |\n",
       "| Total   | 2250    | 1128    | 1122    |   NA    |   NA    |   NA    | 1.0000  | 0.5013  | 0.4987  | 1.0053  |  0.0053 |  0.0000 | 0.1589  |\n",
       "\n"
      ],
      "text/plain": [
       "  Cutpoint CntRec CntGood CntBad CntCumRec CntCumGood CntCumBad PctRec GoodRate\n",
       "1 <= 0      536    192     344    536       192        344      0.2382 0.3582  \n",
       "2 <= 2500  1032    619     413   1568       811        757      0.4587 0.5998  \n",
       "3 > 2500    682    317     365   2250      1128       1122      0.3031 0.4648  \n",
       "4 Missing     0      0       0   2250      1128       1122      0.0000    NaN  \n",
       "5 Total    2250   1128    1122     NA        NA         NA      1.0000 0.5013  \n",
       "  BadRate Odds   LnOdds  WoE     IV    \n",
       "1 0.6418  0.5581 -0.5831 -0.5885 0.0803\n",
       "2 0.4002  1.4988  0.4047  0.3993 0.0721\n",
       "3 0.5352  0.8685 -0.1410 -0.1463 0.0065\n",
       "4    NaN     NaN     NaN     NaN    NaN\n",
       "5 0.4987  1.0053  0.0053  0.0000 0.1589"
      ]
     },
     "metadata": {},
     "output_type": "display_data"
    }
   ],
   "source": [
    "result_all <- list() # Creating empty list to store all results #\n",
    "\n",
    "for(i in 1:length(num_names)){\n",
    "  result_all[[num_names[i]]] <- smbinning(df = train, y = \"GB\", x = num_names[i])\n",
    "}\n",
    "\n",
    "result_all$INCOME$ivtable #Able to pull all information within list by variable name #\n"
   ]
  },
  {
   "cell_type": "markdown",
   "metadata": {},
   "source": [
    "##  Binning of Factor Variables #"
   ]
  },
  {
   "cell_type": "code",
   "execution_count": 53,
   "metadata": {},
   "outputs": [
    {
     "data": {
      "text/plain": [
       "    CHILDREN          PERS_H           TMADD         TMJOB1      \n",
       " Min.   :0.0000   Min.   : 1.000   Min.   :  0   Min.   :  0.00  \n",
       " 1st Qu.:0.0000   1st Qu.: 1.000   1st Qu.: 21   1st Qu.: 18.00  \n",
       " Median :0.0000   Median : 2.000   Median : 60   Median : 39.00  \n",
       " Mean   :0.8196   Mean   : 2.365   Mean   :119   Mean   : 80.01  \n",
       " 3rd Qu.:1.0000   3rd Qu.: 3.000   3rd Qu.:168   3rd Qu.: 96.00  \n",
       " Max.   :8.0000   Max.   :10.000   Max.   :999   Max.   :999.00  \n",
       "                                                                 \n",
       "      TEL           NMBLOAN          FINLOAN           INCOME     \n",
       " Min.   :0.000   Min.   :0.0000   Min.   :0.0000   Min.   :    0  \n",
       " 1st Qu.:2.000   1st Qu.:0.0000   1st Qu.:0.0000   1st Qu.: 1000  \n",
       " Median :2.000   Median :0.0000   Median :0.0000   Median : 2100  \n",
       " Mean   :1.815   Mean   :0.5796   Mean   :0.4693   Mean   : 1969  \n",
       " 3rd Qu.:2.000   3rd Qu.:2.0000   3rd Qu.:1.0000   3rd Qu.: 2700  \n",
       " Max.   :2.000   Max.   :2.0000   Max.   :1.0000   Max.   :10000  \n",
       "                                                                  \n",
       "    EC_CARD         BUREAU         LOCATION          LOANS           REGN      \n",
       " Min.   :0.00   Min.   :1.000   Min.   :0.0000   Min.   :0.00   Min.   :0.000  \n",
       " 1st Qu.:0.00   1st Qu.:1.000   1st Qu.:1.0000   1st Qu.:0.00   1st Qu.:0.000  \n",
       " Median :0.00   Median :1.000   Median :1.0000   Median :1.00   Median :3.000  \n",
       " Mean   :0.26   Mean   :1.692   Mean   :0.9982   Mean   :1.02   Mean   :3.277  \n",
       " 3rd Qu.:1.00   3rd Qu.:3.000   3rd Qu.:1.0000   3rd Qu.:2.00   3rd Qu.:5.000  \n",
       " Max.   :1.00   Max.   :3.000   Max.   :1.0000   Max.   :9.00   Max.   :9.000  \n",
       "                                                                               \n",
       "      DIV              CASH                    PRODUCT         RESID     \n",
       " Min.   :0.0000   Min.   :     0                   :   8   Lease  :1755  \n",
       " 1st Qu.:0.0000   1st Qu.:   900   Cars            : 156   missing: 403  \n",
       " Median :1.0000   Median :  1400   Dept. Store,Mail: 299   Owner  :  92  \n",
       " Mean   :0.7356   Mean   :  2509   Furniture,Carpet: 661                 \n",
       " 3rd Qu.:1.0000   3rd Qu.:  2500   Leisure         :  51                 \n",
       " Max.   :1.0000   Max.   :100000   Others          :   1                 \n",
       "                                   Radio, TV, Hifi :1074                 \n",
       "               PROF                    CAR                    CARDS     \n",
       " Others          :1624   Car             :1731   American Express:   1  \n",
       " Civil Service, M: 193   Car and Motor bi:  15   Cheque card     : 585  \n",
       " Food,Building,Ca: 170   Without Vehicle : 504   Mastercard/Euroc:  52  \n",
       " Pensioner       : 106                           no credit cards :1601  \n",
       " Self-employed pe:  55                           Other credit car:   8  \n",
       " State,Steel Ind,:  35                           VISA mybank     :   2  \n",
       " (Other)         :  67                           VISA Others     :   1  \n",
       "       GB            X_freq_     \n",
       " Min.   :0.0000   Min.   : 1.00  \n",
       " 1st Qu.:0.0000   1st Qu.: 1.00  \n",
       " Median :1.0000   Median : 1.00  \n",
       " Mean   :0.5013   Mean   :15.46  \n",
       " 3rd Qu.:1.0000   3rd Qu.:30.00  \n",
       " Max.   :1.0000   Max.   :30.00  \n",
       "                                 "
      ]
     },
     "metadata": {},
     "output_type": "display_data"
    }
   ],
   "source": [
    "summary(train)"
   ]
  },
  {
   "cell_type": "code",
   "execution_count": 54,
   "metadata": {},
   "outputs": [],
   "source": [
    "\n",
    "result <- smbinning.factor(df = train, y = \"GB\", x = \"CARDS\")\n"
   ]
  },
  {
   "cell_type": "code",
   "execution_count": 55,
   "metadata": {},
   "outputs": [
    {
     "data": {
      "text/html": [
       "<table>\n",
       "<thead><tr><th scope=col>Cutpoint</th><th scope=col>CntRec</th><th scope=col>CntGood</th><th scope=col>CntBad</th><th scope=col>CntCumRec</th><th scope=col>CntCumGood</th><th scope=col>CntCumBad</th><th scope=col>PctRec</th><th scope=col>GoodRate</th><th scope=col>BadRate</th><th scope=col>Odds</th><th scope=col>LnOdds</th><th scope=col>WoE</th><th scope=col>IV</th></tr></thead>\n",
       "<tbody>\n",
       "\t<tr><td>= 'American Express'</td><td>   1                </td><td>   0                </td><td>   1                </td><td>   1                </td><td>   0                </td><td>   1                </td><td>0.0004              </td><td>0.0000              </td><td>1.0000              </td><td>0.0000              </td><td>   -Inf             </td><td>   -Inf             </td><td>   Inf              </td></tr>\n",
       "\t<tr><td>= 'Cheque card'     </td><td> 585                </td><td> 211                </td><td> 374                </td><td> 586                </td><td> 211                </td><td> 375                </td><td>0.2600              </td><td>0.3607              </td><td>0.6393              </td><td>0.5642              </td><td>-0.5724             </td><td>-0.5777             </td><td>0.0845              </td></tr>\n",
       "\t<tr><td>= 'Mastercard/Euroc'</td><td>  52                </td><td>  16                </td><td>  36                </td><td> 638                </td><td> 227                </td><td> 411                </td><td>0.0231              </td><td>0.3077              </td><td>0.6923              </td><td>0.4444              </td><td>-0.8109             </td><td>-0.8163             </td><td>0.0146              </td></tr>\n",
       "\t<tr><td>= 'no credit cards' </td><td>1601                </td><td> 895                </td><td> 706                </td><td>2239                </td><td>1122                </td><td>1117                </td><td>0.7116              </td><td>0.5590              </td><td>0.4410              </td><td>1.2677              </td><td> 0.2372             </td><td> 0.2319             </td><td>0.0381              </td></tr>\n",
       "\t<tr><td>= 'Other credit car'</td><td>   8                </td><td>   4                </td><td>   4                </td><td>2247                </td><td>1126                </td><td>1121                </td><td>0.0036              </td><td>0.5000              </td><td>0.5000              </td><td>1.0000              </td><td> 0.0000             </td><td>-0.0053             </td><td>0.0000              </td></tr>\n",
       "\t<tr><td>= 'VISA mybank'     </td><td>   2                </td><td>   1                </td><td>   1                </td><td>2249                </td><td>1127                </td><td>1122                </td><td>0.0009              </td><td>0.5000              </td><td>0.5000              </td><td>1.0000              </td><td> 0.0000             </td><td>-0.0053             </td><td>0.0000              </td></tr>\n",
       "\t<tr><td>= 'VISA Others'     </td><td>   1                </td><td>   1                </td><td>   0                </td><td>2250                </td><td>1128                </td><td>1122                </td><td>0.0004              </td><td>1.0000              </td><td>0.0000              </td><td>   Inf              </td><td>    Inf             </td><td>    Inf             </td><td>   Inf              </td></tr>\n",
       "\t<tr><td>Missing             </td><td>   0                </td><td>   0                </td><td>   0                </td><td>2250                </td><td>1128                </td><td>1122                </td><td>0.0000              </td><td>   NaN              </td><td>   NaN              </td><td>   NaN              </td><td>    NaN             </td><td>    NaN             </td><td>   NaN              </td></tr>\n",
       "\t<tr><td>Total               </td><td>2250                </td><td>1128                </td><td>1122                </td><td>  NA                </td><td>  NA                </td><td>  NA                </td><td>1.0000              </td><td>0.5013              </td><td>0.4987              </td><td>1.0053              </td><td> 0.0053             </td><td> 0.0000             </td><td>0.1372              </td></tr>\n",
       "</tbody>\n",
       "</table>\n"
      ],
      "text/latex": [
       "\\begin{tabular}{r|llllllllllllll}\n",
       " Cutpoint & CntRec & CntGood & CntBad & CntCumRec & CntCumGood & CntCumBad & PctRec & GoodRate & BadRate & Odds & LnOdds & WoE & IV\\\\\n",
       "\\hline\n",
       "\t = 'American Express' &    1                 &    0                 &    1                 &    1                 &    0                 &    1                 & 0.0004               & 0.0000               & 1.0000               & 0.0000               &    -Inf              &    -Inf              &    Inf              \\\\\n",
       "\t = 'Cheque card'      &  585                 &  211                 &  374                 &  586                 &  211                 &  375                 & 0.2600               & 0.3607               & 0.6393               & 0.5642               & -0.5724              & -0.5777              & 0.0845              \\\\\n",
       "\t = 'Mastercard/Euroc' &   52                 &   16                 &   36                 &  638                 &  227                 &  411                 & 0.0231               & 0.3077               & 0.6923               & 0.4444               & -0.8109              & -0.8163              & 0.0146              \\\\\n",
       "\t = 'no credit cards'  & 1601                 &  895                 &  706                 & 2239                 & 1122                 & 1117                 & 0.7116               & 0.5590               & 0.4410               & 1.2677               &  0.2372              &  0.2319              & 0.0381              \\\\\n",
       "\t = 'Other credit car' &    8                 &    4                 &    4                 & 2247                 & 1126                 & 1121                 & 0.0036               & 0.5000               & 0.5000               & 1.0000               &  0.0000              & -0.0053              & 0.0000              \\\\\n",
       "\t = 'VISA mybank'      &    2                 &    1                 &    1                 & 2249                 & 1127                 & 1122                 & 0.0009               & 0.5000               & 0.5000               & 1.0000               &  0.0000              & -0.0053              & 0.0000              \\\\\n",
       "\t = 'VISA Others'      &    1                 &    1                 &    0                 & 2250                 & 1128                 & 1122                 & 0.0004               & 1.0000               & 0.0000               &    Inf               &     Inf              &     Inf              &    Inf              \\\\\n",
       "\t Missing              &    0                 &    0                 &    0                 & 2250                 & 1128                 & 1122                 & 0.0000               &    NaN               &    NaN               &    NaN               &     NaN              &     NaN              &    NaN              \\\\\n",
       "\t Total                & 2250                 & 1128                 & 1122                 &   NA                 &   NA                 &   NA                 & 1.0000               & 0.5013               & 0.4987               & 1.0053               &  0.0053              &  0.0000              & 0.1372              \\\\\n",
       "\\end{tabular}\n"
      ],
      "text/markdown": [
       "\n",
       "| Cutpoint | CntRec | CntGood | CntBad | CntCumRec | CntCumGood | CntCumBad | PctRec | GoodRate | BadRate | Odds | LnOdds | WoE | IV |\n",
       "|---|---|---|---|---|---|---|---|---|---|---|---|---|---|\n",
       "| = 'American Express' |    1                 |    0                 |    1                 |    1                 |    0                 |    1                 | 0.0004               | 0.0000               | 1.0000               | 0.0000               |    -Inf              |    -Inf              |    Inf               |\n",
       "| = 'Cheque card'      |  585                 |  211                 |  374                 |  586                 |  211                 |  375                 | 0.2600               | 0.3607               | 0.6393               | 0.5642               | -0.5724              | -0.5777              | 0.0845               |\n",
       "| = 'Mastercard/Euroc' |   52                 |   16                 |   36                 |  638                 |  227                 |  411                 | 0.0231               | 0.3077               | 0.6923               | 0.4444               | -0.8109              | -0.8163              | 0.0146               |\n",
       "| = 'no credit cards'  | 1601                 |  895                 |  706                 | 2239                 | 1122                 | 1117                 | 0.7116               | 0.5590               | 0.4410               | 1.2677               |  0.2372              |  0.2319              | 0.0381               |\n",
       "| = 'Other credit car' |    8                 |    4                 |    4                 | 2247                 | 1126                 | 1121                 | 0.0036               | 0.5000               | 0.5000               | 1.0000               |  0.0000              | -0.0053              | 0.0000               |\n",
       "| = 'VISA mybank'      |    2                 |    1                 |    1                 | 2249                 | 1127                 | 1122                 | 0.0009               | 0.5000               | 0.5000               | 1.0000               |  0.0000              | -0.0053              | 0.0000               |\n",
       "| = 'VISA Others'      |    1                 |    1                 |    0                 | 2250                 | 1128                 | 1122                 | 0.0004               | 1.0000               | 0.0000               |    Inf               |     Inf              |     Inf              |    Inf               |\n",
       "| Missing              |    0                 |    0                 |    0                 | 2250                 | 1128                 | 1122                 | 0.0000               |    NaN               |    NaN               |    NaN               |     NaN              |     NaN              |    NaN               |\n",
       "| Total                | 2250                 | 1128                 | 1122                 |   NA                 |   NA                 |   NA                 | 1.0000               | 0.5013               | 0.4987               | 1.0053               |  0.0053              |  0.0000              | 0.1372               |\n",
       "\n"
      ],
      "text/plain": [
       "  Cutpoint             CntRec CntGood CntBad CntCumRec CntCumGood CntCumBad\n",
       "1 = 'American Express'    1      0       1      1         0          1     \n",
       "2 = 'Cheque card'       585    211     374    586       211        375     \n",
       "3 = 'Mastercard/Euroc'   52     16      36    638       227        411     \n",
       "4 = 'no credit cards'  1601    895     706   2239      1122       1117     \n",
       "5 = 'Other credit car'    8      4       4   2247      1126       1121     \n",
       "6 = 'VISA mybank'         2      1       1   2249      1127       1122     \n",
       "7 = 'VISA Others'         1      1       0   2250      1128       1122     \n",
       "8 Missing                 0      0       0   2250      1128       1122     \n",
       "9 Total                2250   1128    1122     NA        NA         NA     \n",
       "  PctRec GoodRate BadRate Odds   LnOdds  WoE     IV    \n",
       "1 0.0004 0.0000   1.0000  0.0000    -Inf    -Inf    Inf\n",
       "2 0.2600 0.3607   0.6393  0.5642 -0.5724 -0.5777 0.0845\n",
       "3 0.0231 0.3077   0.6923  0.4444 -0.8109 -0.8163 0.0146\n",
       "4 0.7116 0.5590   0.4410  1.2677  0.2372  0.2319 0.0381\n",
       "5 0.0036 0.5000   0.5000  1.0000  0.0000 -0.0053 0.0000\n",
       "6 0.0009 0.5000   0.5000  1.0000  0.0000 -0.0053 0.0000\n",
       "7 0.0004 1.0000   0.0000     Inf     Inf     Inf    Inf\n",
       "8 0.0000    NaN      NaN     NaN     NaN     NaN    NaN\n",
       "9 1.0000 0.5013   0.4987  1.0053  0.0053  0.0000 0.1372"
      ]
     },
     "metadata": {},
     "output_type": "display_data"
    },
    {
     "data": {
      "text/html": [
       "<ol class=list-inline>\n",
       "\t<li>'American Express'</li>\n",
       "\t<li>'Cheque card'</li>\n",
       "\t<li>'Mastercard/Euroc'</li>\n",
       "\t<li>'no credit cards'</li>\n",
       "\t<li>'Other credit car'</li>\n",
       "\t<li>'VISA mybank'</li>\n",
       "\t<li>'VISA Others'</li>\n",
       "</ol>\n"
      ],
      "text/latex": [
       "\\begin{enumerate*}\n",
       "\\item 'American Express'\n",
       "\\item 'Cheque card'\n",
       "\\item 'Mastercard/Euroc'\n",
       "\\item 'no credit cards'\n",
       "\\item 'Other credit car'\n",
       "\\item 'VISA mybank'\n",
       "\\item 'VISA Others'\n",
       "\\end{enumerate*}\n"
      ],
      "text/markdown": [
       "1. 'American Express'\n",
       "2. 'Cheque card'\n",
       "3. 'Mastercard/Euroc'\n",
       "4. 'no credit cards'\n",
       "5. 'Other credit car'\n",
       "6. 'VISA mybank'\n",
       "7. 'VISA Others'\n",
       "\n",
       "\n"
      ],
      "text/plain": [
       "[1] \"American Express\" \"Cheque card\"      \"Mastercard/Euroc\" \"no credit cards\" \n",
       "[5] \"Other credit car\" \"VISA mybank\"      \"VISA Others\"     "
      ]
     },
     "metadata": {},
     "output_type": "display_data"
    },
    {
     "data": {
      "text/html": [
       "0.1372"
      ],
      "text/latex": [
       "0.1372"
      ],
      "text/markdown": [
       "0.1372"
      ],
      "text/plain": [
       "[1] 0.1372"
      ]
     },
     "metadata": {},
     "output_type": "display_data"
    }
   ],
   "source": [
    "result$ivtable\n",
    "result$cut\n",
    "result$iv"
   ]
  },
  {
   "cell_type": "code",
   "execution_count": 56,
   "metadata": {},
   "outputs": [
    {
     "ename": "ERROR",
     "evalue": "Error in eval(expr, envir, enclos): object 'results' not found\n",
     "output_type": "error",
     "traceback": [
      "Error in eval(expr, envir, enclos): object 'results' not found\nTraceback:\n"
     ]
    }
   ],
   "source": [
    "results"
   ]
  },
  {
   "cell_type": "markdown",
   "metadata": {},
   "source": [
    "##  Information Value for Each Variable "
   ]
  },
  {
   "cell_type": "code",
   "execution_count": 63,
   "metadata": {
    "scrolled": true
   },
   "outputs": [
    {
     "name": "stdout",
     "output_type": "stream",
     "text": [
      " \n",
      "  |--------------------------------------------------| 100%\n",
      " \n"
     ]
    },
    {
     "data": {
      "text/html": [
       "<table>\n",
       "<thead><tr><th></th><th scope=col>Char</th><th scope=col>IV</th><th scope=col>Process</th></tr></thead>\n",
       "<tbody>\n",
       "\t<tr><th scope=row>4</th><td>TMJOB1               </td><td>0.2144               </td><td>Numeric binning OK   </td></tr>\n",
       "\t<tr><th scope=row>8</th><td>INCOME               </td><td>0.1589               </td><td>Numeric binning OK   </td></tr>\n",
       "\t<tr><th scope=row>20</th><td>CARDS                </td><td>0.1372               </td><td>Factor binning OK    </td></tr>\n",
       "\t<tr><th scope=row>2</th><td>PERS_H               </td><td>0.1303               </td><td>Numeric binning OK   </td></tr>\n",
       "\t<tr><th scope=row>1</th><td>CHILDREN             </td><td>0.0379               </td><td>Numeric binning OK   </td></tr>\n",
       "\t<tr><th scope=row>19</th><td>CAR                  </td><td>0.0323               </td><td>Factor binning OK    </td></tr>\n",
       "\t<tr><th scope=row>3</th><td>TMADD                </td><td>0.0199               </td><td>Numeric binning OK   </td></tr>\n",
       "\t<tr><th scope=row>17</th><td>RESID                </td><td>0.0070               </td><td>Factor binning OK    </td></tr>\n",
       "\t<tr><th scope=row>5</th><td><span style=white-space:pre-wrap>TEL     </span>                </td><td><span style=white-space:pre-wrap>    NA</span>                  </td><td><span style=white-space:pre-wrap>Uniques values &lt; 5   </span></td></tr>\n",
       "\t<tr><th scope=row>6</th><td>NMBLOAN                                                         </td><td><span style=white-space:pre-wrap>    NA</span>                  </td><td><span style=white-space:pre-wrap>Uniques values &lt; 5   </span></td></tr>\n",
       "\t<tr><th scope=row>7</th><td>FINLOAN                                                         </td><td><span style=white-space:pre-wrap>    NA</span>                  </td><td><span style=white-space:pre-wrap>Uniques values &lt; 5   </span></td></tr>\n",
       "\t<tr><th scope=row>9</th><td>EC_CARD                                                         </td><td><span style=white-space:pre-wrap>    NA</span>                  </td><td><span style=white-space:pre-wrap>Uniques values &lt; 5   </span></td></tr>\n",
       "\t<tr><th scope=row>10</th><td><span style=white-space:pre-wrap>BUREAU  </span>                </td><td><span style=white-space:pre-wrap>    NA</span>                  </td><td><span style=white-space:pre-wrap>Uniques values &lt; 5   </span></td></tr>\n",
       "\t<tr><th scope=row>11</th><td>LOCATION                                                        </td><td><span style=white-space:pre-wrap>    NA</span>                  </td><td><span style=white-space:pre-wrap>Uniques values &lt; 5   </span></td></tr>\n",
       "\t<tr><th scope=row>12</th><td>LOANS                </td><td>    NA               </td><td>No significant splits</td></tr>\n",
       "\t<tr><th scope=row>13</th><td>REGN                 </td><td>    NA               </td><td>No significant splits</td></tr>\n",
       "\t<tr><th scope=row>14</th><td><span style=white-space:pre-wrap>DIV     </span>                </td><td><span style=white-space:pre-wrap>    NA</span>                  </td><td><span style=white-space:pre-wrap>Uniques values &lt; 5   </span></td></tr>\n",
       "\t<tr><th scope=row>15</th><td>CASH                 </td><td>    NA               </td><td>No significant splits</td></tr>\n",
       "\t<tr><th scope=row>16</th><td>PRODUCT              </td><td>    NA               </td><td>Values contain comma </td></tr>\n",
       "\t<tr><th scope=row>18</th><td>PROF                 </td><td>    NA               </td><td>Values contain comma </td></tr>\n",
       "\t<tr><th scope=row>21</th><td>X_freq_                                                         </td><td><span style=white-space:pre-wrap>    NA</span>                  </td><td><span style=white-space:pre-wrap>Uniques values &lt; 5   </span></td></tr>\n",
       "</tbody>\n",
       "</table>\n"
      ],
      "text/latex": [
       "\\begin{tabular}{r|lll}\n",
       "  & Char & IV & Process\\\\\n",
       "\\hline\n",
       "\t4 & TMJOB1                & 0.2144                & Numeric binning OK   \\\\\n",
       "\t8 & INCOME                & 0.1589                & Numeric binning OK   \\\\\n",
       "\t20 & CARDS                 & 0.1372                & Factor binning OK    \\\\\n",
       "\t2 & PERS\\_H              & 0.1303                & Numeric binning OK   \\\\\n",
       "\t1 & CHILDREN              & 0.0379                & Numeric binning OK   \\\\\n",
       "\t19 & CAR                   & 0.0323                & Factor binning OK    \\\\\n",
       "\t3 & TMADD                 & 0.0199                & Numeric binning OK   \\\\\n",
       "\t17 & RESID                 & 0.0070                & Factor binning OK    \\\\\n",
       "\t5 & TEL                   &     NA                & Uniques values < 5   \\\\\n",
       "\t6 & NMBLOAN               &     NA                & Uniques values < 5   \\\\\n",
       "\t7 & FINLOAN               &     NA                & Uniques values < 5   \\\\\n",
       "\t9 & EC\\_CARD             &     NA                & Uniques values < 5   \\\\\n",
       "\t10 & BUREAU                &     NA                & Uniques values < 5   \\\\\n",
       "\t11 & LOCATION              &     NA                & Uniques values < 5   \\\\\n",
       "\t12 & LOANS                 &     NA                & No significant splits\\\\\n",
       "\t13 & REGN                  &     NA                & No significant splits\\\\\n",
       "\t14 & DIV                   &     NA                & Uniques values < 5   \\\\\n",
       "\t15 & CASH                  &     NA                & No significant splits\\\\\n",
       "\t16 & PRODUCT               &     NA                & Values contain comma \\\\\n",
       "\t18 & PROF                  &     NA                & Values contain comma \\\\\n",
       "\t21 & X\\_freq\\_           &     NA                & Uniques values < 5   \\\\\n",
       "\\end{tabular}\n"
      ],
      "text/markdown": [
       "\n",
       "| <!--/--> | Char | IV | Process |\n",
       "|---|---|---|---|\n",
       "| 4 | TMJOB1                | 0.2144                | Numeric binning OK    |\n",
       "| 8 | INCOME                | 0.1589                | Numeric binning OK    |\n",
       "| 20 | CARDS                 | 0.1372                | Factor binning OK     |\n",
       "| 2 | PERS_H                | 0.1303                | Numeric binning OK    |\n",
       "| 1 | CHILDREN              | 0.0379                | Numeric binning OK    |\n",
       "| 19 | CAR                   | 0.0323                | Factor binning OK     |\n",
       "| 3 | TMADD                 | 0.0199                | Numeric binning OK    |\n",
       "| 17 | RESID                 | 0.0070                | Factor binning OK     |\n",
       "| 5 | TEL                   |     NA                | Uniques values < 5    |\n",
       "| 6 | NMBLOAN               |     NA                | Uniques values < 5    |\n",
       "| 7 | FINLOAN               |     NA                | Uniques values < 5    |\n",
       "| 9 | EC_CARD               |     NA                | Uniques values < 5    |\n",
       "| 10 | BUREAU                |     NA                | Uniques values < 5    |\n",
       "| 11 | LOCATION              |     NA                | Uniques values < 5    |\n",
       "| 12 | LOANS                 |     NA                | No significant splits |\n",
       "| 13 | REGN                  |     NA                | No significant splits |\n",
       "| 14 | DIV                   |     NA                | Uniques values < 5    |\n",
       "| 15 | CASH                  |     NA                | No significant splits |\n",
       "| 16 | PRODUCT               |     NA                | Values contain comma  |\n",
       "| 18 | PROF                  |     NA                | Values contain comma  |\n",
       "| 21 | X_freq_               |     NA                | Uniques values < 5    |\n",
       "\n"
      ],
      "text/plain": [
       "   Char     IV     Process              \n",
       "4  TMJOB1   0.2144 Numeric binning OK   \n",
       "8  INCOME   0.1589 Numeric binning OK   \n",
       "20 CARDS    0.1372 Factor binning OK    \n",
       "2  PERS_H   0.1303 Numeric binning OK   \n",
       "1  CHILDREN 0.0379 Numeric binning OK   \n",
       "19 CAR      0.0323 Factor binning OK    \n",
       "3  TMADD    0.0199 Numeric binning OK   \n",
       "17 RESID    0.0070 Factor binning OK    \n",
       "5  TEL          NA Uniques values < 5   \n",
       "6  NMBLOAN      NA Uniques values < 5   \n",
       "7  FINLOAN      NA Uniques values < 5   \n",
       "9  EC_CARD      NA Uniques values < 5   \n",
       "10 BUREAU       NA Uniques values < 5   \n",
       "11 LOCATION     NA Uniques values < 5   \n",
       "12 LOANS        NA No significant splits\n",
       "13 REGN         NA No significant splits\n",
       "14 DIV          NA Uniques values < 5   \n",
       "15 CASH         NA No significant splits\n",
       "16 PRODUCT      NA Values contain comma \n",
       "18 PROF         NA Values contain comma \n",
       "21 X_freq_      NA Uniques values < 5   "
      ]
     },
     "metadata": {},
     "output_type": "display_data"
    },
    {
     "data": {
      "image/png": "[encoded data removed]",
      "text/plain": [
       "Plot with title \"Information Value\""
      ]
     },
     "metadata": {},
     "output_type": "display_data"
    }
   ],
   "source": [
    "\n",
    "iv_summary <- smbinning.sumiv(df = train, y = \"GB\")\n",
    "\n",
    "smbinning.sumiv.plot(iv_summary)\n",
    "iv_summary"
   ]
  },
  {
   "cell_type": "markdown",
   "metadata": {},
   "source": [
    "### option 2"
   ]
  },
  {
   "cell_type": "code",
   "execution_count": 64,
   "metadata": {},
   "outputs": [
    {
     "name": "stderr",
     "output_type": "stream",
     "text": [
      "Warning message in if (check_res == \"Uniques values < 5\") {:\n",
      "\"the condition has length > 1 and only the first element will be used\"Warning message in if (check_res == \"No significant splits\") {:\n",
      "\"the condition has length > 1 and only the first element will be used\"Warning message in if (check_res == \"Uniques values < 5\") {:\n",
      "\"the condition has length > 1 and only the first element will be used\"Warning message in if (check_res == \"No significant splits\") {:\n",
      "\"the condition has length > 1 and only the first element will be used\"Warning message in if (check_res == \"Uniques values < 5\") {:\n",
      "\"the condition has length > 1 and only the first element will be used\"Warning message in if (check_res == \"No significant splits\") {:\n",
      "\"the condition has length > 1 and only the first element will be used\"Warning message in if (check_res == \"Uniques values < 5\") {:\n",
      "\"the condition has length > 1 and only the first element will be used\"Warning message in if (check_res == \"No significant splits\") {:\n",
      "\"the condition has length > 1 and only the first element will be used\"Warning message in if (check_res == \"Uniques values < 5\") {:\n",
      "\"the condition has length > 1 and only the first element will be used\"Warning message in if (check_res == \"No significant splits\") {:\n",
      "\"the condition has length > 1 and only the first element will be used\""
     ]
    }
   ],
   "source": [
    "result_all_sig <- list() # Creating empty list to store all results #\n",
    "\n",
    "for(i in 1:length(num_names)){\n",
    "  check_res <- smbinning(df = train, y = \"GB\", x = num_names[i])\n",
    "  \n",
    "  if(check_res == \"Uniques values < 5\") {\n",
    "    next\n",
    "  }\n",
    "  else if(check_res == \"No significant splits\") {\n",
    "    next\n",
    "  }\n",
    "  else if(check_res$iv < 0.1) {\n",
    "    next\n",
    "  }\n",
    "  else {\n",
    "    result_all_sig[[num_names[i]]] <- check_res\n",
    "  }\n",
    "}\n",
    "\n",
    "# Generating Variables of Bins and WOE Values #\n",
    "for(i in 1:length(result_all_sig)) {\n",
    "  train <- smbinning.gen(df = train, ivout = result_all_sig[[i]], chrname = paste(result_all_sig[[i]]$x, \"_bin\", sep = \"\"))\n",
    "}\n",
    "\n",
    "for (j in 1:length(result_all_sig)) {\n",
    "  for (i in 1:nrow(train)) {\n",
    "    bin_name <- paste(result_all_sig[[j]]$x, \"_bin\", sep = \"\")\n",
    "    bin <- substr(train[[bin_name]][i], 2, 2)\n",
    "    \n",
    "    woe_name <- paste(result_all_sig[[j]]$x, \"_WOE\", sep = \"\")\n",
    "    \n",
    "    if(bin == 0) {\n",
    "      bin <- dim(result_all_sig[[j]]$ivtable)[1] - 1\n",
    "      train[[woe_name]][i] <- result_all_sig[[j]]$ivtable[bin, \"WoE\"]\n",
    "    } else {\n",
    "      train[[woe_name]][i] <- result_all_sig[[j]]$ivtable[bin, \"WoE\"]\n",
    "    }\n",
    "  }\n",
    "}"
   ]
  },
  {
   "cell_type": "code",
   "execution_count": 65,
   "metadata": {},
   "outputs": [
    {
     "data": {
      "text/plain": [
       "$PERS_H\n",
       "$PERS_H$ivtable\n",
       "  Cutpoint CntRec CntGood CntBad CntCumRec CntCumGood CntCumBad PctRec GoodRate\n",
       "1     <= 1    823     507    316       823        507       316 0.3658   0.6160\n",
       "2     <= 4   1283     547    736      2106       1054      1052 0.5702   0.4263\n",
       "3      > 4    144      74     70      2250       1128      1122 0.0640   0.5139\n",
       "4  Missing      0       0      0      2250       1128      1122 0.0000      NaN\n",
       "5    Total   2250    1128   1122        NA         NA        NA 1.0000   0.5013\n",
       "  BadRate   Odds  LnOdds     WoE     IV\n",
       "1  0.3840 1.6044  0.4728  0.4674 0.0784\n",
       "2  0.5737 0.7432 -0.2968 -0.3021 0.0517\n",
       "3  0.4861 1.0571  0.0556  0.0502 0.0002\n",
       "4     NaN    NaN     NaN     NaN    NaN\n",
       "5  0.4987 1.0053  0.0053  0.0000 0.1303\n",
       "\n",
       "$PERS_H$iv\n",
       "[1] 0.1303\n",
       "\n",
       "$PERS_H$ctree\n",
       "\n",
       "Model formula:\n",
       "GB ~ PERS_H\n",
       "\n",
       "Fitted party:\n",
       "[1] root\n",
       "|   [2] PERS_H <= 1: 0.616 (n = 823, err = 194.7)\n",
       "|   [3] PERS_H > 1\n",
       "|   |   [4] PERS_H <= 4: 0.426 (n = 1283, err = 313.8)\n",
       "|   |   [5] PERS_H > 4: 0.514 (n = 144, err = 36.0)\n",
       "\n",
       "Number of inner nodes:    2\n",
       "Number of terminal nodes: 3\n",
       "\n",
       "$PERS_H$bands\n",
       "[1]  1  1  4 10\n",
       "\n",
       "$PERS_H$x\n",
       "[1] \"PERS_H\"\n",
       "\n",
       "$PERS_H$col_id\n",
       "[1] 2\n",
       "\n",
       "$PERS_H$cuts\n",
       "[1] 1 4\n",
       "\n",
       "\n",
       "$TMJOB1\n",
       "$TMJOB1$ivtable\n",
       "  Cutpoint CntRec CntGood CntBad CntCumRec CntCumGood CntCumBad PctRec GoodRate\n",
       "1    <= 15    512     327    185       512        327       185 0.2276   0.6387\n",
       "2   <= 144   1395     709    686      1907       1036       871 0.6200   0.5082\n",
       "3    > 144    343      92    251      2250       1128      1122 0.1524   0.2682\n",
       "4  Missing      0       0      0      2250       1128      1122 0.0000      NaN\n",
       "5    Total   2250    1128   1122        NA         NA        NA 1.0000   0.5013\n",
       "  BadRate   Odds  LnOdds     WoE     IV\n",
       "1  0.3613 1.7676  0.5696  0.5643 0.0705\n",
       "2  0.4918 1.0335  0.0330  0.0276 0.0005\n",
       "3  0.7318 0.3665 -1.0037 -1.0090 0.1434\n",
       "4     NaN    NaN     NaN     NaN    NaN\n",
       "5  0.4987 1.0053  0.0053  0.0000 0.2144\n",
       "\n",
       "$TMJOB1$iv\n",
       "[1] 0.2144\n",
       "\n",
       "$TMJOB1$ctree\n",
       "\n",
       "Model formula:\n",
       "GB ~ TMJOB1\n",
       "\n",
       "Fitted party:\n",
       "[1] root\n",
       "|   [2] TMJOB1 <= 144\n",
       "|   |   [3] TMJOB1 <= 15: 0.639 (n = 512, err = 118.2)\n",
       "|   |   [4] TMJOB1 > 15: 0.508 (n = 1395, err = 348.7)\n",
       "|   [5] TMJOB1 > 144: 0.268 (n = 343, err = 67.3)\n",
       "\n",
       "Number of inner nodes:    2\n",
       "Number of terminal nodes: 3\n",
       "\n",
       "$TMJOB1$bands\n",
       "[1]   0  15 144 999\n",
       "\n",
       "$TMJOB1$x\n",
       "[1] \"TMJOB1\"\n",
       "\n",
       "$TMJOB1$col_id\n",
       "[1] 4\n",
       "\n",
       "$TMJOB1$cuts\n",
       "[1]  15 144\n",
       "\n",
       "\n",
       "$INCOME\n",
       "$INCOME$ivtable\n",
       "  Cutpoint CntRec CntGood CntBad CntCumRec CntCumGood CntCumBad PctRec GoodRate\n",
       "1     <= 0    536     192    344       536        192       344 0.2382   0.3582\n",
       "2  <= 2500   1032     619    413      1568        811       757 0.4587   0.5998\n",
       "3   > 2500    682     317    365      2250       1128      1122 0.3031   0.4648\n",
       "4  Missing      0       0      0      2250       1128      1122 0.0000      NaN\n",
       "5    Total   2250    1128   1122        NA         NA        NA 1.0000   0.5013\n",
       "  BadRate   Odds  LnOdds     WoE     IV\n",
       "1  0.6418 0.5581 -0.5831 -0.5885 0.0803\n",
       "2  0.4002 1.4988  0.4047  0.3993 0.0721\n",
       "3  0.5352 0.8685 -0.1410 -0.1463 0.0065\n",
       "4     NaN    NaN     NaN     NaN    NaN\n",
       "5  0.4987 1.0053  0.0053  0.0000 0.1589\n",
       "\n",
       "$INCOME$iv\n",
       "[1] 0.1589\n",
       "\n",
       "$INCOME$ctree\n",
       "\n",
       "Model formula:\n",
       "GB ~ INCOME\n",
       "\n",
       "Fitted party:\n",
       "[1] root\n",
       "|   [2] INCOME <= 0: 0.358 (n = 536, err = 123.2)\n",
       "|   [3] INCOME > 0\n",
       "|   |   [4] INCOME <= 2500: 0.600 (n = 1032, err = 247.7)\n",
       "|   |   [5] INCOME > 2500: 0.465 (n = 682, err = 169.7)\n",
       "\n",
       "Number of inner nodes:    2\n",
       "Number of terminal nodes: 3\n",
       "\n",
       "$INCOME$bands\n",
       "[1]     0     0  2500 10000\n",
       "\n",
       "$INCOME$x\n",
       "[1] \"INCOME\"\n",
       "\n",
       "$INCOME$col_id\n",
       "[1] 8\n",
       "\n",
       "$INCOME$cuts\n",
       "[1]    0 2500\n",
       "\n"
      ]
     },
     "metadata": {},
     "output_type": "display_data"
    }
   ],
   "source": [
    "result_all_sig"
   ]
  },
  {
   "cell_type": "markdown",
   "metadata": {},
   "source": [
    "# Create scorecard"
   ]
  },
  {
   "cell_type": "code",
   "execution_count": 66,
   "metadata": {},
   "outputs": [
    {
     "data": {
      "text/html": [
       "<table>\n",
       "<thead><tr><th></th><th scope=col>CHILDREN</th><th scope=col>PERS_H</th><th scope=col>TMADD</th><th scope=col>TMJOB1</th><th scope=col>TEL</th><th scope=col>NMBLOAN</th><th scope=col>FINLOAN</th><th scope=col>INCOME</th><th scope=col>EC_CARD</th><th scope=col>BUREAU</th><th scope=col>...</th><th scope=col>CAR</th><th scope=col>CARDS</th><th scope=col>GB</th><th scope=col>X_freq_</th><th scope=col>PERS_H_bin</th><th scope=col>TMJOB1_bin</th><th scope=col>INCOME_bin</th><th scope=col>PERS_H_WOE</th><th scope=col>TMJOB1_WOE</th><th scope=col>INCOME_WOE</th></tr></thead>\n",
       "<tbody>\n",
       "\t<tr><th scope=row>2190</th><td>2                                                      </td><td>4                                                      </td><td> 48                                                    </td><td> 36                                                    </td><td>2                                                      </td><td>0                                                      </td><td>1                                                      </td><td><span style=white-space:pre-wrap>   0</span>           </td><td>1                                                      </td><td>1                                                      </td><td>...                                                    </td><td><span style=white-space:pre-wrap>Car            </span></td><td><span style=white-space:pre-wrap>Cheque card    </span></td><td>1                                                      </td><td> 1                                                     </td><td>02 &lt;= 4                                             </td><td>02 &lt;= 144                                           </td><td><span style=white-space:pre-wrap>01 &lt;= 0   </span>  </td><td>-0.3021                                                </td><td> 0.0276                                                </td><td>-0.5885                                                </td></tr>\n",
       "\t<tr><th scope=row>51</th><td>3                                                      </td><td>5                                                      </td><td>264                                                    </td><td>336                                                    </td><td>2                                                      </td><td>0                                                      </td><td>1                                                      </td><td><span style=white-space:pre-wrap>   0</span>           </td><td>1                                                      </td><td>1                                                      </td><td>...                                                    </td><td><span style=white-space:pre-wrap>Car            </span></td><td><span style=white-space:pre-wrap>Cheque card    </span></td><td>0                                                      </td><td>30                                                     </td><td>03 &gt; 4                                              </td><td>03 &gt; 144                                            </td><td><span style=white-space:pre-wrap>01 &lt;= 0   </span>  </td><td> 0.0502                                                </td><td>-1.0090                                                </td><td>-0.5885                                                </td></tr>\n",
       "\t<tr><th scope=row>720</th><td>0              </td><td>1              </td><td>336            </td><td> 54            </td><td>2              </td><td>0              </td><td>0              </td><td>1900           </td><td>0              </td><td>3              </td><td>...            </td><td>Without Vehicle</td><td>no credit cards</td><td>0              </td><td>30             </td><td>01 &lt;= 1     </td><td>02 &lt;= 144   </td><td>02 &lt;= 2500  </td><td> 0.4674        </td><td> 0.0276        </td><td> 0.3993        </td></tr>\n",
       "\t<tr><th scope=row>730</th><td>0                                                      </td><td>1                                                      </td><td><span style=white-space:pre-wrap>  9</span>            </td><td> 48                                                    </td><td>2                                                      </td><td>0                                                      </td><td>1                                                      </td><td><span style=white-space:pre-wrap>   0</span>           </td><td>1                                                      </td><td>1                                                      </td><td>...                                                    </td><td><span style=white-space:pre-wrap>Car            </span></td><td><span style=white-space:pre-wrap>Cheque card    </span></td><td>0                                                      </td><td>30                                                     </td><td>01 &lt;= 1                                             </td><td>02 &lt;= 144                                           </td><td><span style=white-space:pre-wrap>01 &lt;= 0   </span>  </td><td> 0.4674                                                </td><td> 0.0276                                                </td><td>-0.5885                                                </td></tr>\n",
       "\t<tr><th scope=row>1244</th><td>0                                                      </td><td>1                                                      </td><td>288                                                    </td><td> 18                                                    </td><td>2                                                      </td><td>0                                                      </td><td>0                                                      </td><td>2600                                                   </td><td>0                                                      </td><td>3                                                      </td><td>...                                                    </td><td><span style=white-space:pre-wrap>Car            </span></td><td>no credit cards                                        </td><td>0                                                      </td><td>30                                                     </td><td>01 &lt;= 1                                             </td><td>02 &lt;= 144                                           </td><td>03 &gt; 2500                                           </td><td> 0.4674                                                </td><td> 0.0276                                                </td><td>-0.1463                                                </td></tr>\n",
       "\t<tr><th scope=row>2712</th><td>1                                                      </td><td>3                                                      </td><td>144                                                    </td><td> 12                                                    </td><td>2                                                      </td><td>0                                                      </td><td>0                                                      </td><td>2100                                                   </td><td>0                                                      </td><td>3                                                      </td><td>...                                                    </td><td><span style=white-space:pre-wrap>Car            </span></td><td>no credit cards                                        </td><td>1                                                      </td><td> 1                                                     </td><td>02 &lt;= 4                                             </td><td>01 &lt;= 15                                            </td><td>02 &lt;= 2500                                          </td><td>-0.3021                                                </td><td> 0.5643                                                </td><td> 0.3993                                                </td></tr>\n",
       "</tbody>\n",
       "</table>\n"
      ],
      "text/latex": [
       "\\begin{tabular}{r|llllllllllllllllllllllllllll}\n",
       "  & CHILDREN & PERS\\_H & TMADD & TMJOB1 & TEL & NMBLOAN & FINLOAN & INCOME & EC\\_CARD & BUREAU & ... & CAR & CARDS & GB & X\\_freq\\_ & PERS\\_H\\_bin & TMJOB1\\_bin & INCOME\\_bin & PERS\\_H\\_WOE & TMJOB1\\_WOE & INCOME\\_WOE\\\\\n",
       "\\hline\n",
       "\t2190 & 2               & 4               &  48             &  36             & 2               & 0               & 1               &    0            & 1               & 1               & ...             & Car             & Cheque card     & 1               &  1              & 02 <= 4         & 02 <= 144       & 01 <= 0         & -0.3021         &  0.0276         & -0.5885        \\\\\n",
       "\t51 & 3               & 5               & 264             & 336             & 2               & 0               & 1               &    0            & 1               & 1               & ...             & Car             & Cheque card     & 0               & 30              & 03 > 4          & 03 > 144        & 01 <= 0         &  0.0502         & -1.0090         & -0.5885        \\\\\n",
       "\t720 & 0               & 1               & 336             &  54             & 2               & 0               & 0               & 1900            & 0               & 3               & ...             & Without Vehicle & no credit cards & 0               & 30              & 01 <= 1         & 02 <= 144       & 02 <= 2500      &  0.4674         &  0.0276         &  0.3993        \\\\\n",
       "\t730 & 0               & 1               &   9             &  48             & 2               & 0               & 1               &    0            & 1               & 1               & ...             & Car             & Cheque card     & 0               & 30              & 01 <= 1         & 02 <= 144       & 01 <= 0         &  0.4674         &  0.0276         & -0.5885        \\\\\n",
       "\t1244 & 0               & 1               & 288             &  18             & 2               & 0               & 0               & 2600            & 0               & 3               & ...             & Car             & no credit cards & 0               & 30              & 01 <= 1         & 02 <= 144       & 03 > 2500       &  0.4674         &  0.0276         & -0.1463        \\\\\n",
       "\t2712 & 1               & 3               & 144             &  12             & 2               & 0               & 0               & 2100            & 0               & 3               & ...             & Car             & no credit cards & 1               &  1              & 02 <= 4         & 01 <= 15        & 02 <= 2500      & -0.3021         &  0.5643         &  0.3993        \\\\\n",
       "\\end{tabular}\n"
      ],
      "text/markdown": [
       "\n",
       "| <!--/--> | CHILDREN | PERS_H | TMADD | TMJOB1 | TEL | NMBLOAN | FINLOAN | INCOME | EC_CARD | BUREAU | ... | CAR | CARDS | GB | X_freq_ | PERS_H_bin | TMJOB1_bin | INCOME_bin | PERS_H_WOE | TMJOB1_WOE | INCOME_WOE |\n",
       "|---|---|---|---|---|---|---|---|---|---|---|---|---|---|---|---|---|---|---|---|---|---|\n",
       "| 2190 | 2               | 4               |  48             |  36             | 2               | 0               | 1               |    0            | 1               | 1               | ...             | Car             | Cheque card     | 1               |  1              | 02 <= 4         | 02 <= 144       | 01 <= 0         | -0.3021         |  0.0276         | -0.5885         |\n",
       "| 51 | 3               | 5               | 264             | 336             | 2               | 0               | 1               |    0            | 1               | 1               | ...             | Car             | Cheque card     | 0               | 30              | 03 > 4          | 03 > 144        | 01 <= 0         |  0.0502         | -1.0090         | -0.5885         |\n",
       "| 720 | 0               | 1               | 336             |  54             | 2               | 0               | 0               | 1900            | 0               | 3               | ...             | Without Vehicle | no credit cards | 0               | 30              | 01 <= 1         | 02 <= 144       | 02 <= 2500      |  0.4674         |  0.0276         |  0.3993         |\n",
       "| 730 | 0               | 1               |   9             |  48             | 2               | 0               | 1               |    0            | 1               | 1               | ...             | Car             | Cheque card     | 0               | 30              | 01 <= 1         | 02 <= 144       | 01 <= 0         |  0.4674         |  0.0276         | -0.5885         |\n",
       "| 1244 | 0               | 1               | 288             |  18             | 2               | 0               | 0               | 2600            | 0               | 3               | ...             | Car             | no credit cards | 0               | 30              | 01 <= 1         | 02 <= 144       | 03 > 2500       |  0.4674         |  0.0276         | -0.1463         |\n",
       "| 2712 | 1               | 3               | 144             |  12             | 2               | 0               | 0               | 2100            | 0               | 3               | ...             | Car             | no credit cards | 1               |  1              | 02 <= 4         | 01 <= 15        | 02 <= 2500      | -0.3021         |  0.5643         |  0.3993         |\n",
       "\n"
      ],
      "text/plain": [
       "     CHILDREN PERS_H TMADD TMJOB1 TEL NMBLOAN FINLOAN INCOME EC_CARD BUREAU ...\n",
       "2190 2        4       48    36    2   0       1          0   1       1      ...\n",
       "51   3        5      264   336    2   0       1          0   1       1      ...\n",
       "720  0        1      336    54    2   0       0       1900   0       3      ...\n",
       "730  0        1        9    48    2   0       1          0   1       1      ...\n",
       "1244 0        1      288    18    2   0       0       2600   0       3      ...\n",
       "2712 1        3      144    12    2   0       0       2100   0       3      ...\n",
       "     CAR             CARDS           GB X_freq_ PERS_H_bin TMJOB1_bin\n",
       "2190 Car             Cheque card     1   1      02 <= 4    02 <= 144 \n",
       "51   Car             Cheque card     0  30      03 > 4     03 > 144  \n",
       "720  Without Vehicle no credit cards 0  30      01 <= 1    02 <= 144 \n",
       "730  Car             Cheque card     0  30      01 <= 1    02 <= 144 \n",
       "1244 Car             no credit cards 0  30      01 <= 1    02 <= 144 \n",
       "2712 Car             no credit cards 1   1      02 <= 4    01 <= 15  \n",
       "     INCOME_bin PERS_H_WOE TMJOB1_WOE INCOME_WOE\n",
       "2190 01 <= 0    -0.3021     0.0276    -0.5885   \n",
       "51   01 <= 0     0.0502    -1.0090    -0.5885   \n",
       "720  02 <= 2500  0.4674     0.0276     0.3993   \n",
       "730  01 <= 0     0.4674     0.0276    -0.5885   \n",
       "1244 03 > 2500   0.4674     0.0276    -0.1463   \n",
       "2712 02 <= 2500 -0.3021     0.5643     0.3993   "
      ]
     },
     "metadata": {},
     "output_type": "display_data"
    }
   ],
   "source": [
    "head(train)"
   ]
  },
  {
   "cell_type": "code",
   "execution_count": null,
   "metadata": {},
   "outputs": [],
   "source": [
    "# Build Initial Logistic Regression #\n",
    "initial_score <- glm(data = train, bad ~ tot_derog_WOE + \n",
    "                       tot_tr_WOE + \n",
    "                       age_oldest_tr_WOE + \n",
    "                       tot_rev_line_WOE +\n",
    "                       rev_util_WOE +\n",
    "                       bureau_score_WOE +\n",
    "                       down_pyt_WOE +\n",
    "                       ltv_WOE, \n",
    "                     weights = train$weight, family = \"binomial\")\n",
    "\n",
    "summary(initial_score)"
   ]
  }
 ],
 "metadata": {
  "kernelspec": {
   "display_name": "R",
   "language": "R",
   "name": "ir"
  },
  "language_info": {
   "codemirror_mode": "r",
   "file_extension": ".r",
   "mimetype": "text/x-r-source",
   "name": "R",
   "pygments_lexer": "r",
   "version": "3.6.1"
  },
  "toc": {
   "base_numbering": 1,
   "nav_menu": {},
   "number_sections": true,
   "sideBar": true,
   "skip_h1_title": false,
   "title_cell": "Table of Contents",
   "title_sidebar": "Contents",
   "toc_cell": false,
   "toc_position": {},
   "toc_section_display": true,
   "toc_window_display": false
  }
 },
 "nbformat": 4,
 "nbformat_minor": 2
}
