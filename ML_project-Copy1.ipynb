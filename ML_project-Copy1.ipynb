{
 "cells": [
  {
   "cell_type": "markdown",
   "metadata": {},
   "source": [
    "# import packages and files"
   ]
  },
  {
   "cell_type": "code",
   "execution_count": 1,
   "metadata": {},
   "outputs": [],
   "source": [
    "import pandas as pd\n",
    "import numpy as np\n",
    "import seaborn as sns\n",
    "from matplotlib import pyplot"
   ]
  },
  {
   "cell_type": "code",
   "execution_count": 2,
   "metadata": {},
   "outputs": [],
   "source": [
    "train=pd.read_csv('train.csv')"
   ]
  },
  {
   "cell_type": "code",
   "execution_count": 3,
   "metadata": {},
   "outputs": [],
   "source": [
    "valid=pd.read_csv('MLProject_valid.csv')"
   ]
  },
  {
   "cell_type": "code",
   "execution_count": 5,
   "metadata": {},
   "outputs": [],
   "source": [
    "test=pd.read_csv('MLProject_test.csv')"
   ]
  },
  {
   "cell_type": "code",
   "execution_count": 8,
   "metadata": {},
   "outputs": [
    {
     "data": {
      "text/plain": [
       "0"
      ]
     },
     "execution_count": 8,
     "metadata": {},
     "output_type": "execute_result"
    }
   ],
   "source": [
    "sum(test.isnull().sum()), #only the two targets are missing\n",
    "sum(valid.isnull().sum())"
   ]
  },
  {
   "cell_type": "code",
   "execution_count": 1,
   "metadata": {},
   "outputs": [
    {
     "ename": "NameError",
     "evalue": "name 'train' is not defined",
     "output_type": "error",
     "traceback": [
      "\u001b[1;31m---------------------------------------------------------------------------\u001b[0m",
      "\u001b[1;31mNameError\u001b[0m                                 Traceback (most recent call last)",
      "\u001b[1;32m<ipython-input-1-9f9e63eb98fb>\u001b[0m in \u001b[0;36m<module>\u001b[1;34m\u001b[0m\n\u001b[1;32m----> 1\u001b[1;33m \u001b[0mtrain\u001b[0m\u001b[1;33m.\u001b[0m\u001b[0minfo\u001b[0m\u001b[1;33m(\u001b[0m\u001b[1;33m)\u001b[0m\u001b[1;33m,\u001b[0m\u001b[0mvalid\u001b[0m\u001b[1;33m.\u001b[0m\u001b[0minfo\u001b[0m\u001b[1;33m(\u001b[0m\u001b[1;33m)\u001b[0m \u001b[1;31m#all variables are either float or int\u001b[0m\u001b[1;33m\u001b[0m\u001b[1;33m\u001b[0m\u001b[0m\n\u001b[0m",
      "\u001b[1;31mNameError\u001b[0m: name 'train' is not defined"
     ]
    }
   ],
   "source": [
    "train.info(),valid.info() #all variables are either float or int"
   ]
  },
  {
   "cell_type": "code",
   "execution_count": 12,
   "metadata": {},
   "outputs": [
    {
     "data": {
      "text/plain": [
       "Series([], dtype: object)"
      ]
     },
     "execution_count": 12,
     "metadata": {},
     "output_type": "execute_result"
    }
   ],
   "source": [
    "train.dtypes[train.dtypes=='object'] #no objects"
   ]
  },
  {
   "cell_type": "markdown",
   "metadata": {},
   "source": [
    "## dummy code z2"
   ]
  },
  {
   "cell_type": "code",
   "execution_count": 8,
   "metadata": {},
   "outputs": [],
   "source": [
    "z=pd.get_dummies(train['Z2'], prefix='Z')"
   ]
  },
  {
   "cell_type": "code",
   "execution_count": 9,
   "metadata": {},
   "outputs": [],
   "source": [
    "train=train.join(z)"
   ]
  },
  {
   "cell_type": "code",
   "execution_count": 10,
   "metadata": {},
   "outputs": [],
   "source": [
    "del train['Z2']"
   ]
  },
  {
   "cell_type": "markdown",
   "metadata": {},
   "source": [
    "## validation data"
   ]
  },
  {
   "cell_type": "code",
   "execution_count": 11,
   "metadata": {},
   "outputs": [],
   "source": [
    "z=pd.get_dummies(valid['Z2'], prefix='Z')\n",
    "valid=valid.join(z)\n",
    "del valid['Z2']"
   ]
  },
  {
   "cell_type": "code",
   "execution_count": 12,
   "metadata": {},
   "outputs": [
    {
     "data": {
      "text/html": [
       "<div>\n",
       "<style scoped>\n",
       "    .dataframe tbody tr th:only-of-type {\n",
       "        vertical-align: middle;\n",
       "    }\n",
       "\n",
       "    .dataframe tbody tr th {\n",
       "        vertical-align: top;\n",
       "    }\n",
       "\n",
       "    .dataframe thead th {\n",
       "        text-align: right;\n",
       "    }\n",
       "</style>\n",
       "<table border=\"1\" class=\"dataframe\">\n",
       "  <thead>\n",
       "    <tr style=\"text-align: right;\">\n",
       "      <th></th>\n",
       "      <th>A1</th>\n",
       "      <th>B1</th>\n",
       "      <th>C1</th>\n",
       "      <th>D1</th>\n",
       "      <th>E1</th>\n",
       "      <th>F1</th>\n",
       "      <th>G1</th>\n",
       "      <th>H1</th>\n",
       "      <th>I1</th>\n",
       "      <th>J1</th>\n",
       "      <th>...</th>\n",
       "      <th>V6</th>\n",
       "      <th>W6</th>\n",
       "      <th>X6</th>\n",
       "      <th>target1</th>\n",
       "      <th>target2</th>\n",
       "      <th>Z_1</th>\n",
       "      <th>Z_2</th>\n",
       "      <th>Z_3</th>\n",
       "      <th>Z_4</th>\n",
       "      <th>Z_5</th>\n",
       "    </tr>\n",
       "  </thead>\n",
       "  <tbody>\n",
       "    <tr>\n",
       "      <th>0</th>\n",
       "      <td>11759</td>\n",
       "      <td>7.3100</td>\n",
       "      <td>15.93</td>\n",
       "      <td>17.27</td>\n",
       "      <td>0.922409</td>\n",
       "      <td>0.033946</td>\n",
       "      <td>0.024527</td>\n",
       "      <td>-0.015488</td>\n",
       "      <td>98.019802</td>\n",
       "      <td>-24.803338</td>\n",
       "      <td>...</td>\n",
       "      <td>0.1882</td>\n",
       "      <td>0.1868</td>\n",
       "      <td>0.094</td>\n",
       "      <td>1</td>\n",
       "      <td>0</td>\n",
       "      <td>0</td>\n",
       "      <td>0</td>\n",
       "      <td>0</td>\n",
       "      <td>1</td>\n",
       "      <td>0</td>\n",
       "    </tr>\n",
       "    <tr>\n",
       "      <th>1</th>\n",
       "      <td>340972</td>\n",
       "      <td>7.3000</td>\n",
       "      <td>15.93</td>\n",
       "      <td>17.27</td>\n",
       "      <td>0.922409</td>\n",
       "      <td>0.032532</td>\n",
       "      <td>0.020979</td>\n",
       "      <td>-0.015960</td>\n",
       "      <td>96.428571</td>\n",
       "      <td>-22.863123</td>\n",
       "      <td>...</td>\n",
       "      <td>0.1882</td>\n",
       "      <td>0.1868</td>\n",
       "      <td>0.094</td>\n",
       "      <td>1</td>\n",
       "      <td>0</td>\n",
       "      <td>0</td>\n",
       "      <td>0</td>\n",
       "      <td>0</td>\n",
       "      <td>1</td>\n",
       "      <td>0</td>\n",
       "    </tr>\n",
       "    <tr>\n",
       "      <th>2</th>\n",
       "      <td>124449</td>\n",
       "      <td>7.2890</td>\n",
       "      <td>16.18</td>\n",
       "      <td>17.58</td>\n",
       "      <td>0.920364</td>\n",
       "      <td>0.026620</td>\n",
       "      <td>0.020868</td>\n",
       "      <td>-0.015000</td>\n",
       "      <td>79.464286</td>\n",
       "      <td>-32.661392</td>\n",
       "      <td>...</td>\n",
       "      <td>0.1882</td>\n",
       "      <td>0.1868</td>\n",
       "      <td>0.094</td>\n",
       "      <td>1</td>\n",
       "      <td>1</td>\n",
       "      <td>0</td>\n",
       "      <td>0</td>\n",
       "      <td>0</td>\n",
       "      <td>1</td>\n",
       "      <td>0</td>\n",
       "    </tr>\n",
       "    <tr>\n",
       "      <th>3</th>\n",
       "      <td>115759</td>\n",
       "      <td>7.2599</td>\n",
       "      <td>16.17</td>\n",
       "      <td>17.56</td>\n",
       "      <td>0.920843</td>\n",
       "      <td>0.018933</td>\n",
       "      <td>0.018233</td>\n",
       "      <td>-0.018932</td>\n",
       "      <td>-67.857143</td>\n",
       "      <td>38.424656</td>\n",
       "      <td>...</td>\n",
       "      <td>0.1882</td>\n",
       "      <td>0.1868</td>\n",
       "      <td>0.094</td>\n",
       "      <td>1</td>\n",
       "      <td>1</td>\n",
       "      <td>0</td>\n",
       "      <td>0</td>\n",
       "      <td>0</td>\n",
       "      <td>1</td>\n",
       "      <td>0</td>\n",
       "    </tr>\n",
       "    <tr>\n",
       "      <th>4</th>\n",
       "      <td>127702</td>\n",
       "      <td>7.2800</td>\n",
       "      <td>16.18</td>\n",
       "      <td>17.57</td>\n",
       "      <td>0.920888</td>\n",
       "      <td>0.019608</td>\n",
       "      <td>0.015342</td>\n",
       "      <td>-0.013644</td>\n",
       "      <td>-75.784753</td>\n",
       "      <td>36.119851</td>\n",
       "      <td>...</td>\n",
       "      <td>0.1882</td>\n",
       "      <td>0.1868</td>\n",
       "      <td>0.094</td>\n",
       "      <td>1</td>\n",
       "      <td>1</td>\n",
       "      <td>0</td>\n",
       "      <td>0</td>\n",
       "      <td>0</td>\n",
       "      <td>1</td>\n",
       "      <td>0</td>\n",
       "    </tr>\n",
       "  </tbody>\n",
       "</table>\n",
       "<p>5 rows × 154 columns</p>\n",
       "</div>"
      ],
      "text/plain": [
       "       A1      B1     C1     D1        E1        F1        G1        H1  \\\n",
       "0   11759  7.3100  15.93  17.27  0.922409  0.033946  0.024527 -0.015488   \n",
       "1  340972  7.3000  15.93  17.27  0.922409  0.032532  0.020979 -0.015960   \n",
       "2  124449  7.2890  16.18  17.58  0.920364  0.026620  0.020868 -0.015000   \n",
       "3  115759  7.2599  16.17  17.56  0.920843  0.018933  0.018233 -0.018932   \n",
       "4  127702  7.2800  16.18  17.57  0.920888  0.019608  0.015342 -0.013644   \n",
       "\n",
       "          I1         J1  ...      V6      W6     X6  target1  target2  Z_1  \\\n",
       "0  98.019802 -24.803338  ...  0.1882  0.1868  0.094        1        0    0   \n",
       "1  96.428571 -22.863123  ...  0.1882  0.1868  0.094        1        0    0   \n",
       "2  79.464286 -32.661392  ...  0.1882  0.1868  0.094        1        1    0   \n",
       "3 -67.857143  38.424656  ...  0.1882  0.1868  0.094        1        1    0   \n",
       "4 -75.784753  36.119851  ...  0.1882  0.1868  0.094        1        1    0   \n",
       "\n",
       "   Z_2  Z_3  Z_4  Z_5  \n",
       "0    0    0    1    0  \n",
       "1    0    0    1    0  \n",
       "2    0    0    1    0  \n",
       "3    0    0    1    0  \n",
       "4    0    0    1    0  \n",
       "\n",
       "[5 rows x 154 columns]"
      ]
     },
     "execution_count": 12,
     "metadata": {},
     "output_type": "execute_result"
    }
   ],
   "source": [
    "valid.head()"
   ]
  },
  {
   "cell_type": "code",
   "execution_count": null,
   "metadata": {},
   "outputs": [],
   "source": []
  },
  {
   "cell_type": "code",
   "execution_count": 43,
   "metadata": {},
   "outputs": [
    {
     "data": {
      "text/plain": [
       "(count    483087.000000\n",
       " mean          3.030347\n",
       " std           1.419200\n",
       " min           1.000000\n",
       " 25%           2.000000\n",
       " 50%           3.000000\n",
       " 75%           4.000000\n",
       " max           5.000000\n",
       " Name: Z2, dtype: float64,)"
      ]
     },
     "execution_count": 43,
     "metadata": {},
     "output_type": "execute_result"
    }
   ],
   "source": [
    "#inspect the categorical Z2\n",
    "train['Z2'].describe(),\n",
    "#valid['Z2'].describe()\n",
    "#it's float in python"
   ]
  },
  {
   "cell_type": "code",
   "execution_count": 13,
   "metadata": {},
   "outputs": [
    {
     "data": {
      "text/html": [
       "<div>\n",
       "<style scoped>\n",
       "    .dataframe tbody tr th:only-of-type {\n",
       "        vertical-align: middle;\n",
       "    }\n",
       "\n",
       "    .dataframe tbody tr th {\n",
       "        vertical-align: top;\n",
       "    }\n",
       "\n",
       "    .dataframe thead th {\n",
       "        text-align: right;\n",
       "    }\n",
       "</style>\n",
       "<table border=\"1\" class=\"dataframe\">\n",
       "  <thead>\n",
       "    <tr style=\"text-align: right;\">\n",
       "      <th></th>\n",
       "      <th>target1</th>\n",
       "      <th>target2</th>\n",
       "    </tr>\n",
       "  </thead>\n",
       "  <tbody>\n",
       "    <tr>\n",
       "      <th>0</th>\n",
       "      <td>0</td>\n",
       "      <td>0</td>\n",
       "    </tr>\n",
       "    <tr>\n",
       "      <th>1</th>\n",
       "      <td>0</td>\n",
       "      <td>0</td>\n",
       "    </tr>\n",
       "    <tr>\n",
       "      <th>2</th>\n",
       "      <td>0</td>\n",
       "      <td>1</td>\n",
       "    </tr>\n",
       "    <tr>\n",
       "      <th>3</th>\n",
       "      <td>0</td>\n",
       "      <td>0</td>\n",
       "    </tr>\n",
       "    <tr>\n",
       "      <th>4</th>\n",
       "      <td>0</td>\n",
       "      <td>0</td>\n",
       "    </tr>\n",
       "    <tr>\n",
       "      <th>...</th>\n",
       "      <td>...</td>\n",
       "      <td>...</td>\n",
       "    </tr>\n",
       "    <tr>\n",
       "      <th>483082</th>\n",
       "      <td>0</td>\n",
       "      <td>1</td>\n",
       "    </tr>\n",
       "    <tr>\n",
       "      <th>483083</th>\n",
       "      <td>0</td>\n",
       "      <td>0</td>\n",
       "    </tr>\n",
       "    <tr>\n",
       "      <th>483084</th>\n",
       "      <td>0</td>\n",
       "      <td>1</td>\n",
       "    </tr>\n",
       "    <tr>\n",
       "      <th>483085</th>\n",
       "      <td>0</td>\n",
       "      <td>0</td>\n",
       "    </tr>\n",
       "    <tr>\n",
       "      <th>483086</th>\n",
       "      <td>0</td>\n",
       "      <td>0</td>\n",
       "    </tr>\n",
       "  </tbody>\n",
       "</table>\n",
       "<p>483087 rows × 2 columns</p>\n",
       "</div>"
      ],
      "text/plain": [
       "        target1  target2\n",
       "0             0        0\n",
       "1             0        0\n",
       "2             0        1\n",
       "3             0        0\n",
       "4             0        0\n",
       "...         ...      ...\n",
       "483082        0        1\n",
       "483083        0        0\n",
       "483084        0        1\n",
       "483085        0        0\n",
       "483086        0        0\n",
       "\n",
       "[483087 rows x 2 columns]"
      ]
     },
     "execution_count": 13,
     "metadata": {},
     "output_type": "execute_result"
    }
   ],
   "source": [
    "train.loc[:,('target1','target2')]"
   ]
  },
  {
   "cell_type": "markdown",
   "metadata": {},
   "source": [
    "# EDA"
   ]
  },
  {
   "cell_type": "markdown",
   "metadata": {},
   "source": [
    "## checking for outliers (for scaler selection)"
   ]
  },
  {
   "cell_type": "code",
   "execution_count": 9,
   "metadata": {},
   "outputs": [],
   "source": [
    "\n",
    "from scipy.stats import zscore"
   ]
  },
  {
   "cell_type": "code",
   "execution_count": 10,
   "metadata": {},
   "outputs": [],
   "source": [
    "\n",
    "train_zscores=train.apply(zscore) #zscore on each column"
   ]
  },
  {
   "cell_type": "code",
   "execution_count": 22,
   "metadata": {},
   "outputs": [
    {
     "data": {
      "text/plain": [
       "83"
      ]
     },
     "execution_count": 22,
     "metadata": {},
     "output_type": "execute_result"
    }
   ],
   "source": [
    "sum(abs(train_zscores).max()>3) #so 83 variables have potential outliers.\"\" RobustScaler\""
   ]
  },
  {
   "cell_type": "code",
   "execution_count": 26,
   "metadata": {},
   "outputs": [],
   "source": [
    "max_1=pd.DataFrame(train_zscores.max())"
   ]
  },
  {
   "cell_type": "code",
   "execution_count": 33,
   "metadata": {},
   "outputs": [
    {
     "data": {
      "text/html": [
       "<div>\n",
       "<style scoped>\n",
       "    .dataframe tbody tr th:only-of-type {\n",
       "        vertical-align: middle;\n",
       "    }\n",
       "\n",
       "    .dataframe tbody tr th {\n",
       "        vertical-align: top;\n",
       "    }\n",
       "\n",
       "    .dataframe thead th {\n",
       "        text-align: right;\n",
       "    }\n",
       "</style>\n",
       "<table border=\"1\" class=\"dataframe\">\n",
       "  <thead>\n",
       "    <tr style=\"text-align: right;\">\n",
       "      <th></th>\n",
       "      <th>0</th>\n",
       "    </tr>\n",
       "  </thead>\n",
       "  <tbody>\n",
       "    <tr>\n",
       "      <td>A1</td>\n",
       "      <td>35.374666</td>\n",
       "    </tr>\n",
       "    <tr>\n",
       "      <td>B1</td>\n",
       "      <td>5.003706</td>\n",
       "    </tr>\n",
       "    <tr>\n",
       "      <td>C1</td>\n",
       "      <td>9.929467</td>\n",
       "    </tr>\n",
       "    <tr>\n",
       "      <td>D1</td>\n",
       "      <td>284.352291</td>\n",
       "    </tr>\n",
       "    <tr>\n",
       "      <td>E1</td>\n",
       "      <td>9.076999</td>\n",
       "    </tr>\n",
       "    <tr>\n",
       "      <td>...</td>\n",
       "      <td>...</td>\n",
       "    </tr>\n",
       "    <tr>\n",
       "      <td>K6</td>\n",
       "      <td>3.705144</td>\n",
       "    </tr>\n",
       "    <tr>\n",
       "      <td>P6</td>\n",
       "      <td>4.615266</td>\n",
       "    </tr>\n",
       "    <tr>\n",
       "      <td>Q6</td>\n",
       "      <td>3.803054</td>\n",
       "    </tr>\n",
       "    <tr>\n",
       "      <td>R6</td>\n",
       "      <td>6.871571</td>\n",
       "    </tr>\n",
       "    <tr>\n",
       "      <td>S6</td>\n",
       "      <td>5.664477</td>\n",
       "    </tr>\n",
       "  </tbody>\n",
       "</table>\n",
       "<p>83 rows × 1 columns</p>\n",
       "</div>"
      ],
      "text/plain": [
       "             0\n",
       "A1   35.374666\n",
       "B1    5.003706\n",
       "C1    9.929467\n",
       "D1  284.352291\n",
       "E1    9.076999\n",
       "..         ...\n",
       "K6    3.705144\n",
       "P6    4.615266\n",
       "Q6    3.803054\n",
       "R6    6.871571\n",
       "S6    5.664477\n",
       "\n",
       "[83 rows x 1 columns]"
      ]
     },
     "execution_count": 33,
     "metadata": {},
     "output_type": "execute_result"
    }
   ],
   "source": [
    "max_1[abs(max_1.iloc[:, 0])>3] #those are the variables"
   ]
  },
  {
   "cell_type": "markdown",
   "metadata": {},
   "source": [
    "# Prep the data"
   ]
  },
  {
   "cell_type": "markdown",
   "metadata": {},
   "source": [
    "## dropping missing values"
   ]
  },
  {
   "cell_type": "code",
   "execution_count": 14,
   "metadata": {},
   "outputs": [],
   "source": [
    "#dropping missing values\n",
    "train=train.dropna()"
   ]
  },
  {
   "cell_type": "markdown",
   "metadata": {},
   "source": [
    "## save targets to labels"
   ]
  },
  {
   "cell_type": "code",
   "execution_count": 15,
   "metadata": {},
   "outputs": [],
   "source": [
    "# Labels are the values we want to predict\n",
    "labels = train.loc[:,'target1': 'target2']\n",
    "\n"
   ]
  },
  {
   "cell_type": "code",
   "execution_count": 16,
   "metadata": {},
   "outputs": [
    {
     "data": {
      "text/html": [
       "<div>\n",
       "<style scoped>\n",
       "    .dataframe tbody tr th:only-of-type {\n",
       "        vertical-align: middle;\n",
       "    }\n",
       "\n",
       "    .dataframe tbody tr th {\n",
       "        vertical-align: top;\n",
       "    }\n",
       "\n",
       "    .dataframe thead th {\n",
       "        text-align: right;\n",
       "    }\n",
       "</style>\n",
       "<table border=\"1\" class=\"dataframe\">\n",
       "  <thead>\n",
       "    <tr style=\"text-align: right;\">\n",
       "      <th></th>\n",
       "      <th>target1</th>\n",
       "      <th>target2</th>\n",
       "    </tr>\n",
       "  </thead>\n",
       "  <tbody>\n",
       "    <tr>\n",
       "      <th>0</th>\n",
       "      <td>0</td>\n",
       "      <td>0</td>\n",
       "    </tr>\n",
       "    <tr>\n",
       "      <th>1</th>\n",
       "      <td>0</td>\n",
       "      <td>0</td>\n",
       "    </tr>\n",
       "    <tr>\n",
       "      <th>2</th>\n",
       "      <td>0</td>\n",
       "      <td>1</td>\n",
       "    </tr>\n",
       "    <tr>\n",
       "      <th>3</th>\n",
       "      <td>0</td>\n",
       "      <td>0</td>\n",
       "    </tr>\n",
       "    <tr>\n",
       "      <th>4</th>\n",
       "      <td>0</td>\n",
       "      <td>0</td>\n",
       "    </tr>\n",
       "    <tr>\n",
       "      <th>...</th>\n",
       "      <td>...</td>\n",
       "      <td>...</td>\n",
       "    </tr>\n",
       "    <tr>\n",
       "      <th>483082</th>\n",
       "      <td>0</td>\n",
       "      <td>1</td>\n",
       "    </tr>\n",
       "    <tr>\n",
       "      <th>483083</th>\n",
       "      <td>0</td>\n",
       "      <td>0</td>\n",
       "    </tr>\n",
       "    <tr>\n",
       "      <th>483084</th>\n",
       "      <td>0</td>\n",
       "      <td>1</td>\n",
       "    </tr>\n",
       "    <tr>\n",
       "      <th>483085</th>\n",
       "      <td>0</td>\n",
       "      <td>0</td>\n",
       "    </tr>\n",
       "    <tr>\n",
       "      <th>483086</th>\n",
       "      <td>0</td>\n",
       "      <td>0</td>\n",
       "    </tr>\n",
       "  </tbody>\n",
       "</table>\n",
       "<p>482697 rows × 2 columns</p>\n",
       "</div>"
      ],
      "text/plain": [
       "        target1  target2\n",
       "0             0        0\n",
       "1             0        0\n",
       "2             0        1\n",
       "3             0        0\n",
       "4             0        0\n",
       "...         ...      ...\n",
       "483082        0        1\n",
       "483083        0        0\n",
       "483084        0        1\n",
       "483085        0        0\n",
       "483086        0        0\n",
       "\n",
       "[482697 rows x 2 columns]"
      ]
     },
     "execution_count": 16,
     "metadata": {},
     "output_type": "execute_result"
    }
   ],
   "source": [
    "labels"
   ]
  },
  {
   "cell_type": "code",
   "execution_count": 108,
   "metadata": {},
   "outputs": [
    {
     "data": {
      "text/plain": [
       "0.15619960793811466"
      ]
     },
     "execution_count": 108,
     "metadata": {},
     "output_type": "execute_result"
    }
   ],
   "source": [
    "sum(labels['target1'])/len(labels['target1']) # not a rare event but might want to balance the data in models..."
   ]
  },
  {
   "cell_type": "markdown",
   "metadata": {},
   "source": [
    "## Remove target from train"
   ]
  },
  {
   "cell_type": "code",
   "execution_count": 17,
   "metadata": {},
   "outputs": [
    {
     "data": {
      "text/plain": [
       "(482697, 152)"
      ]
     },
     "execution_count": 17,
     "metadata": {},
     "output_type": "execute_result"
    }
   ],
   "source": [
    "#remove target variable from the dataset\n",
    "\n",
    "train= train.drop(['target1', 'target2'], axis = 1)\n",
    "\n",
    "train.shape"
   ]
  },
  {
   "cell_type": "code",
   "execution_count": 18,
   "metadata": {},
   "outputs": [],
   "source": [
    "# Saving column names for later use\n",
    "train_list = list(train.columns)\n",
    "# Convert to numpy array\n",
    "train_list_array = np.array(train_list)"
   ]
  },
  {
   "cell_type": "code",
   "execution_count": 34,
   "metadata": {},
   "outputs": [],
   "source": [
    "# Saving column names for later use\n",
    "valid_list = list(valid.columns)\n",
    "# Convert to numpy array\n",
    "valid_list_array = np.array(valid_list)"
   ]
  },
  {
   "cell_type": "code",
   "execution_count": 35,
   "metadata": {},
   "outputs": [
    {
     "data": {
      "text/plain": [
       "152"
      ]
     },
     "execution_count": 35,
     "metadata": {},
     "output_type": "execute_result"
    }
   ],
   "source": [
    "len(valid_list)"
   ]
  },
  {
   "cell_type": "markdown",
   "metadata": {},
   "source": [
    "## Remove target from valid"
   ]
  },
  {
   "cell_type": "code",
   "execution_count": 20,
   "metadata": {},
   "outputs": [],
   "source": [
    "labels_valid=valid.loc[:,'target1': 'target2']"
   ]
  },
  {
   "cell_type": "code",
   "execution_count": 21,
   "metadata": {},
   "outputs": [
    {
     "data": {
      "text/plain": [
       "(60000, 152)"
      ]
     },
     "execution_count": 21,
     "metadata": {},
     "output_type": "execute_result"
    }
   ],
   "source": [
    "valid= valid.drop(['target1', 'target2'], axis = 1)\n",
    "valid.shape"
   ]
  },
  {
   "cell_type": "code",
   "execution_count": 22,
   "metadata": {},
   "outputs": [],
   "source": [
    "target1=labels.iloc[:,0]\n",
    "target2=labels.iloc[:,1]\n",
    "valid_target1=labels_valid.iloc[:,0]\n",
    "valid_target2=labels_valid.iloc[:,1]"
   ]
  },
  {
   "cell_type": "markdown",
   "metadata": {},
   "source": [
    "# Data Cleaning/Prep"
   ]
  },
  {
   "cell_type": "code",
   "execution_count": 14,
   "metadata": {},
   "outputs": [
    {
     "data": {
      "text/plain": [
       "(482697, 148)"
      ]
     },
     "execution_count": 14,
     "metadata": {},
     "output_type": "execute_result"
    }
   ],
   "source": [
    "train.shape"
   ]
  },
  {
   "cell_type": "code",
   "execution_count": 24,
   "metadata": {},
   "outputs": [
    {
     "data": {
      "text/plain": [
       "390"
      ]
     },
     "execution_count": 24,
     "metadata": {},
     "output_type": "execute_result"
    }
   ],
   "source": [
    "483087-482697 #match"
   ]
  },
  {
   "cell_type": "markdown",
   "metadata": {},
   "source": [
    "## Feature scaling"
   ]
  },
  {
   "cell_type": "code",
   "execution_count": 23,
   "metadata": {},
   "outputs": [],
   "source": [
    "from sklearn.preprocessing import  RobustScaler\n"
   ]
  },
  {
   "cell_type": "code",
   "execution_count": 24,
   "metadata": {},
   "outputs": [],
   "source": [
    "scaler =  RobustScaler() #scale to ensure models are properly trained. \n",
    "scaled_train = scaler.fit_transform(train) #mean=1,sd=1\n",
    "scaled_valid = scaler.fit_transform(valid)\n",
    "  #put back column names\n"
   ]
  },
  {
   "cell_type": "code",
   "execution_count": 32,
   "metadata": {},
   "outputs": [],
   "source": [
    "scaled_train=pd.DataFrame(scaled_train) #from array to dataframe\n",
    "scaled_train.columns=train_list  #put back column names\n"
   ]
  },
  {
   "cell_type": "code",
   "execution_count": 36,
   "metadata": {},
   "outputs": [],
   "source": [
    "scaled_valid=pd.DataFrame(scaled_valid) #from array to dataframe\n",
    "scaled_valid.columns=valid_list"
   ]
  },
  {
   "cell_type": "code",
   "execution_count": 36,
   "metadata": {},
   "outputs": [
    {
     "data": {
      "text/html": [
       "<div>\n",
       "<style scoped>\n",
       "    .dataframe tbody tr th:only-of-type {\n",
       "        vertical-align: middle;\n",
       "    }\n",
       "\n",
       "    .dataframe tbody tr th {\n",
       "        vertical-align: top;\n",
       "    }\n",
       "\n",
       "    .dataframe thead th {\n",
       "        text-align: right;\n",
       "    }\n",
       "</style>\n",
       "<table border=\"1\" class=\"dataframe\">\n",
       "  <thead>\n",
       "    <tr style=\"text-align: right;\">\n",
       "      <th></th>\n",
       "      <th>A1</th>\n",
       "      <th>B1</th>\n",
       "      <th>C1</th>\n",
       "      <th>D1</th>\n",
       "      <th>E1</th>\n",
       "      <th>F1</th>\n",
       "      <th>G1</th>\n",
       "      <th>H1</th>\n",
       "      <th>I1</th>\n",
       "      <th>J1</th>\n",
       "      <th>...</th>\n",
       "      <th>N6</th>\n",
       "      <th>P6</th>\n",
       "      <th>Q6</th>\n",
       "      <th>R6</th>\n",
       "      <th>S6</th>\n",
       "      <th>T6</th>\n",
       "      <th>U6</th>\n",
       "      <th>V6</th>\n",
       "      <th>W6</th>\n",
       "      <th>X6</th>\n",
       "    </tr>\n",
       "  </thead>\n",
       "  <tbody>\n",
       "    <tr>\n",
       "      <td>0</td>\n",
       "      <td>0.341847</td>\n",
       "      <td>-0.672392</td>\n",
       "      <td>-0.242574</td>\n",
       "      <td>-0.311429</td>\n",
       "      <td>-0.032197</td>\n",
       "      <td>1.143799</td>\n",
       "      <td>0.149105</td>\n",
       "      <td>-0.453127</td>\n",
       "      <td>-0.383482</td>\n",
       "      <td>0.145799</td>\n",
       "      <td>...</td>\n",
       "      <td>-0.592965</td>\n",
       "      <td>-0.641634</td>\n",
       "      <td>-0.420792</td>\n",
       "      <td>-0.557823</td>\n",
       "      <td>-0.759398</td>\n",
       "      <td>0.370909</td>\n",
       "      <td>-0.486979</td>\n",
       "      <td>-0.743094</td>\n",
       "      <td>-0.633609</td>\n",
       "      <td>0.174107</td>\n",
       "    </tr>\n",
       "    <tr>\n",
       "      <td>1</td>\n",
       "      <td>1.342706</td>\n",
       "      <td>-0.504132</td>\n",
       "      <td>0.163366</td>\n",
       "      <td>0.017143</td>\n",
       "      <td>0.384614</td>\n",
       "      <td>0.830537</td>\n",
       "      <td>-1.579693</td>\n",
       "      <td>-1.344336</td>\n",
       "      <td>1.008064</td>\n",
       "      <td>-0.632131</td>\n",
       "      <td>...</td>\n",
       "      <td>0.565327</td>\n",
       "      <td>0.396574</td>\n",
       "      <td>0.211221</td>\n",
       "      <td>0.428571</td>\n",
       "      <td>0.273183</td>\n",
       "      <td>0.747273</td>\n",
       "      <td>0.580729</td>\n",
       "      <td>0.513812</td>\n",
       "      <td>0.559229</td>\n",
       "      <td>0.678571</td>\n",
       "    </tr>\n",
       "    <tr>\n",
       "      <td>2</td>\n",
       "      <td>-0.526862</td>\n",
       "      <td>-0.754002</td>\n",
       "      <td>0.138614</td>\n",
       "      <td>0.014286</td>\n",
       "      <td>0.325048</td>\n",
       "      <td>-0.243961</td>\n",
       "      <td>0.014936</td>\n",
       "      <td>0.438117</td>\n",
       "      <td>-0.312467</td>\n",
       "      <td>0.187255</td>\n",
       "      <td>...</td>\n",
       "      <td>-0.007538</td>\n",
       "      <td>-0.148880</td>\n",
       "      <td>-0.013201</td>\n",
       "      <td>-0.190476</td>\n",
       "      <td>-0.050125</td>\n",
       "      <td>0.727273</td>\n",
       "      <td>-0.208333</td>\n",
       "      <td>-0.060773</td>\n",
       "      <td>-0.143251</td>\n",
       "      <td>0.542411</td>\n",
       "    </tr>\n",
       "    <tr>\n",
       "      <td>3</td>\n",
       "      <td>-0.266560</td>\n",
       "      <td>-0.524271</td>\n",
       "      <td>0.579208</td>\n",
       "      <td>0.754286</td>\n",
       "      <td>0.004139</td>\n",
       "      <td>-0.434602</td>\n",
       "      <td>0.684249</td>\n",
       "      <td>-0.555044</td>\n",
       "      <td>0.892334</td>\n",
       "      <td>-0.705060</td>\n",
       "      <td>...</td>\n",
       "      <td>0.454774</td>\n",
       "      <td>0.823452</td>\n",
       "      <td>0.570957</td>\n",
       "      <td>1.569161</td>\n",
       "      <td>1.117794</td>\n",
       "      <td>0.156364</td>\n",
       "      <td>0.333333</td>\n",
       "      <td>0.337017</td>\n",
       "      <td>0.338843</td>\n",
       "      <td>0.089286</td>\n",
       "    </tr>\n",
       "    <tr>\n",
       "      <td>4</td>\n",
       "      <td>-0.503748</td>\n",
       "      <td>-0.755535</td>\n",
       "      <td>0.074257</td>\n",
       "      <td>-0.100000</td>\n",
       "      <td>0.394178</td>\n",
       "      <td>-0.376840</td>\n",
       "      <td>-0.883188</td>\n",
       "      <td>0.380751</td>\n",
       "      <td>0.984271</td>\n",
       "      <td>-0.804356</td>\n",
       "      <td>...</td>\n",
       "      <td>-0.010050</td>\n",
       "      <td>-0.135705</td>\n",
       "      <td>0.090759</td>\n",
       "      <td>-0.086168</td>\n",
       "      <td>-0.050125</td>\n",
       "      <td>-0.220000</td>\n",
       "      <td>-0.429687</td>\n",
       "      <td>0.093923</td>\n",
       "      <td>-0.184573</td>\n",
       "      <td>-0.390625</td>\n",
       "    </tr>\n",
       "  </tbody>\n",
       "</table>\n",
       "<p>5 rows × 148 columns</p>\n",
       "</div>"
      ],
      "text/plain": [
       "         A1        B1        C1        D1        E1        F1        G1  \\\n",
       "0  0.341847 -0.672392 -0.242574 -0.311429 -0.032197  1.143799  0.149105   \n",
       "1  1.342706 -0.504132  0.163366  0.017143  0.384614  0.830537 -1.579693   \n",
       "2 -0.526862 -0.754002  0.138614  0.014286  0.325048 -0.243961  0.014936   \n",
       "3 -0.266560 -0.524271  0.579208  0.754286  0.004139 -0.434602  0.684249   \n",
       "4 -0.503748 -0.755535  0.074257 -0.100000  0.394178 -0.376840 -0.883188   \n",
       "\n",
       "         H1        I1        J1  ...        N6        P6        Q6        R6  \\\n",
       "0 -0.453127 -0.383482  0.145799  ... -0.592965 -0.641634 -0.420792 -0.557823   \n",
       "1 -1.344336  1.008064 -0.632131  ...  0.565327  0.396574  0.211221  0.428571   \n",
       "2  0.438117 -0.312467  0.187255  ... -0.007538 -0.148880 -0.013201 -0.190476   \n",
       "3 -0.555044  0.892334 -0.705060  ...  0.454774  0.823452  0.570957  1.569161   \n",
       "4  0.380751  0.984271 -0.804356  ... -0.010050 -0.135705  0.090759 -0.086168   \n",
       "\n",
       "         S6        T6        U6        V6        W6        X6  \n",
       "0 -0.759398  0.370909 -0.486979 -0.743094 -0.633609  0.174107  \n",
       "1  0.273183  0.747273  0.580729  0.513812  0.559229  0.678571  \n",
       "2 -0.050125  0.727273 -0.208333 -0.060773 -0.143251  0.542411  \n",
       "3  1.117794  0.156364  0.333333  0.337017  0.338843  0.089286  \n",
       "4 -0.050125 -0.220000 -0.429687  0.093923 -0.184573 -0.390625  \n",
       "\n",
       "[5 rows x 148 columns]"
      ]
     },
     "execution_count": 36,
     "metadata": {},
     "output_type": "execute_result"
    }
   ],
   "source": [
    "scaled_train.head()"
   ]
  },
  {
   "cell_type": "code",
   "execution_count": 37,
   "metadata": {},
   "outputs": [
    {
     "data": {
      "text/html": [
       "<div>\n",
       "<style scoped>\n",
       "    .dataframe tbody tr th:only-of-type {\n",
       "        vertical-align: middle;\n",
       "    }\n",
       "\n",
       "    .dataframe tbody tr th {\n",
       "        vertical-align: top;\n",
       "    }\n",
       "\n",
       "    .dataframe thead th {\n",
       "        text-align: right;\n",
       "    }\n",
       "</style>\n",
       "<table border=\"1\" class=\"dataframe\">\n",
       "  <thead>\n",
       "    <tr style=\"text-align: right;\">\n",
       "      <th></th>\n",
       "      <th>A1</th>\n",
       "      <th>B1</th>\n",
       "      <th>C1</th>\n",
       "      <th>D1</th>\n",
       "      <th>E1</th>\n",
       "      <th>F1</th>\n",
       "      <th>G1</th>\n",
       "      <th>H1</th>\n",
       "      <th>I1</th>\n",
       "      <th>J1</th>\n",
       "      <th>...</th>\n",
       "      <th>T6</th>\n",
       "      <th>U6</th>\n",
       "      <th>V6</th>\n",
       "      <th>W6</th>\n",
       "      <th>X6</th>\n",
       "      <th>Z_1</th>\n",
       "      <th>Z_2</th>\n",
       "      <th>Z_3</th>\n",
       "      <th>Z_4</th>\n",
       "      <th>Z_5</th>\n",
       "    </tr>\n",
       "  </thead>\n",
       "  <tbody>\n",
       "    <tr>\n",
       "      <th>0</th>\n",
       "      <td>-0.521765</td>\n",
       "      <td>-1.918624</td>\n",
       "      <td>0.453668</td>\n",
       "      <td>0.533923</td>\n",
       "      <td>0.311420</td>\n",
       "      <td>3.446070</td>\n",
       "      <td>1.066087</td>\n",
       "      <td>-0.047210</td>\n",
       "      <td>1.028073</td>\n",
       "      <td>-0.558668</td>\n",
       "      <td>...</td>\n",
       "      <td>0.154605</td>\n",
       "      <td>0.529319</td>\n",
       "      <td>0.525217</td>\n",
       "      <td>0.555189</td>\n",
       "      <td>0.456075</td>\n",
       "      <td>0.0</td>\n",
       "      <td>0.0</td>\n",
       "      <td>0.0</td>\n",
       "      <td>1.0</td>\n",
       "      <td>0.0</td>\n",
       "    </tr>\n",
       "    <tr>\n",
       "      <th>1</th>\n",
       "      <td>3.619110</td>\n",
       "      <td>-1.919290</td>\n",
       "      <td>0.453668</td>\n",
       "      <td>0.533923</td>\n",
       "      <td>0.311420</td>\n",
       "      <td>3.303102</td>\n",
       "      <td>0.922114</td>\n",
       "      <td>-0.051885</td>\n",
       "      <td>1.011383</td>\n",
       "      <td>-0.539528</td>\n",
       "      <td>...</td>\n",
       "      <td>0.154605</td>\n",
       "      <td>0.529319</td>\n",
       "      <td>0.525217</td>\n",
       "      <td>0.555189</td>\n",
       "      <td>0.456075</td>\n",
       "      <td>0.0</td>\n",
       "      <td>0.0</td>\n",
       "      <td>0.0</td>\n",
       "      <td>1.0</td>\n",
       "      <td>0.0</td>\n",
       "    </tr>\n",
       "    <tr>\n",
       "      <th>2</th>\n",
       "      <td>0.895661</td>\n",
       "      <td>-1.920024</td>\n",
       "      <td>0.501931</td>\n",
       "      <td>0.625369</td>\n",
       "      <td>0.293510</td>\n",
       "      <td>2.705516</td>\n",
       "      <td>0.917623</td>\n",
       "      <td>-0.042376</td>\n",
       "      <td>0.833455</td>\n",
       "      <td>-0.636188</td>\n",
       "      <td>...</td>\n",
       "      <td>0.154605</td>\n",
       "      <td>0.529319</td>\n",
       "      <td>0.525217</td>\n",
       "      <td>0.555189</td>\n",
       "      <td>0.456075</td>\n",
       "      <td>0.0</td>\n",
       "      <td>0.0</td>\n",
       "      <td>0.0</td>\n",
       "      <td>1.0</td>\n",
       "      <td>0.0</td>\n",
       "    </tr>\n",
       "    <tr>\n",
       "      <th>3</th>\n",
       "      <td>0.786358</td>\n",
       "      <td>-1.921965</td>\n",
       "      <td>0.500000</td>\n",
       "      <td>0.619469</td>\n",
       "      <td>0.297704</td>\n",
       "      <td>1.928589</td>\n",
       "      <td>0.810686</td>\n",
       "      <td>-0.081314</td>\n",
       "      <td>-0.711714</td>\n",
       "      <td>0.065074</td>\n",
       "      <td>...</td>\n",
       "      <td>0.154605</td>\n",
       "      <td>0.529319</td>\n",
       "      <td>0.525217</td>\n",
       "      <td>0.555189</td>\n",
       "      <td>0.456075</td>\n",
       "      <td>0.0</td>\n",
       "      <td>0.0</td>\n",
       "      <td>0.0</td>\n",
       "      <td>1.0</td>\n",
       "      <td>0.0</td>\n",
       "    </tr>\n",
       "    <tr>\n",
       "      <th>4</th>\n",
       "      <td>0.936578</td>\n",
       "      <td>-1.920624</td>\n",
       "      <td>0.501931</td>\n",
       "      <td>0.622419</td>\n",
       "      <td>0.298099</td>\n",
       "      <td>1.996767</td>\n",
       "      <td>0.693356</td>\n",
       "      <td>-0.028947</td>\n",
       "      <td>-0.794862</td>\n",
       "      <td>0.042337</td>\n",
       "      <td>...</td>\n",
       "      <td>0.154605</td>\n",
       "      <td>0.529319</td>\n",
       "      <td>0.525217</td>\n",
       "      <td>0.555189</td>\n",
       "      <td>0.456075</td>\n",
       "      <td>0.0</td>\n",
       "      <td>0.0</td>\n",
       "      <td>0.0</td>\n",
       "      <td>1.0</td>\n",
       "      <td>0.0</td>\n",
       "    </tr>\n",
       "  </tbody>\n",
       "</table>\n",
       "<p>5 rows × 152 columns</p>\n",
       "</div>"
      ],
      "text/plain": [
       "         A1        B1        C1        D1        E1        F1        G1  \\\n",
       "0 -0.521765 -1.918624  0.453668  0.533923  0.311420  3.446070  1.066087   \n",
       "1  3.619110 -1.919290  0.453668  0.533923  0.311420  3.303102  0.922114   \n",
       "2  0.895661 -1.920024  0.501931  0.625369  0.293510  2.705516  0.917623   \n",
       "3  0.786358 -1.921965  0.500000  0.619469  0.297704  1.928589  0.810686   \n",
       "4  0.936578 -1.920624  0.501931  0.622419  0.298099  1.996767  0.693356   \n",
       "\n",
       "         H1        I1        J1  ...        T6        U6        V6        W6  \\\n",
       "0 -0.047210  1.028073 -0.558668  ...  0.154605  0.529319  0.525217  0.555189   \n",
       "1 -0.051885  1.011383 -0.539528  ...  0.154605  0.529319  0.525217  0.555189   \n",
       "2 -0.042376  0.833455 -0.636188  ...  0.154605  0.529319  0.525217  0.555189   \n",
       "3 -0.081314 -0.711714  0.065074  ...  0.154605  0.529319  0.525217  0.555189   \n",
       "4 -0.028947 -0.794862  0.042337  ...  0.154605  0.529319  0.525217  0.555189   \n",
       "\n",
       "         X6  Z_1  Z_2  Z_3  Z_4  Z_5  \n",
       "0  0.456075  0.0  0.0  0.0  1.0  0.0  \n",
       "1  0.456075  0.0  0.0  0.0  1.0  0.0  \n",
       "2  0.456075  0.0  0.0  0.0  1.0  0.0  \n",
       "3  0.456075  0.0  0.0  0.0  1.0  0.0  \n",
       "4  0.456075  0.0  0.0  0.0  1.0  0.0  \n",
       "\n",
       "[5 rows x 152 columns]"
      ]
     },
     "execution_count": 37,
     "metadata": {},
     "output_type": "execute_result"
    }
   ],
   "source": [
    "scaled_valid.head()"
   ]
  },
  {
   "cell_type": "markdown",
   "metadata": {},
   "source": [
    "# Establish a baseline model"
   ]
  },
  {
   "cell_type": "code",
   "execution_count": 23,
   "metadata": {},
   "outputs": [],
   "source": [
    "# The baseline model is the logistic regression\n",
    "from sklearn.linear_model import LogisticRegression"
   ]
  },
  {
   "cell_type": "code",
   "execution_count": 46,
   "metadata": {},
   "outputs": [],
   "source": [
    "log_reg = LogisticRegression(solver='lbfgs')\n"
   ]
  },
  {
   "cell_type": "code",
   "execution_count": 37,
   "metadata": {},
   "outputs": [
    {
     "data": {
      "text/plain": [
       "((482697, 148), 482697)"
      ]
     },
     "execution_count": 37,
     "metadata": {},
     "output_type": "execute_result"
    }
   ],
   "source": [
    "scaled_train.shape,len(labels.iloc[:,0])"
   ]
  },
  {
   "cell_type": "markdown",
   "metadata": {},
   "source": [
    "## LR-Target1"
   ]
  },
  {
   "cell_type": "code",
   "execution_count": 22,
   "metadata": {},
   "outputs": [],
   "source": [
    "from sklearn.utils.class_weight import compute_sample_weight\n",
    "\n",
    "sample_weight=compute_sample_weight(class_weight='balanced',y=labels.iloc[:,0])"
   ]
  },
  {
   "cell_type": "code",
   "execution_count": 30,
   "metadata": {},
   "outputs": [],
   "source": [
    "from sklearn.metrics import precision_score\n",
    "\n",
    "# log_reg.fit(scaled_train, labels.iloc[:,0], sample_weight=sample_weight) #use target1\n",
    "# logreg_predictions1 = log_reg.predict(scaled_valid)\n",
    "# log_preci_tar1 = precision_score(labels_valid.iloc[:,0], logreg_predictions1)\n",
    "# log_preci_tar1  #baseline precision on target1\n"
   ]
  },
  {
   "cell_type": "code",
   "execution_count": 42,
   "metadata": {},
   "outputs": [
    {
     "data": {
      "text/plain": [
       "0.5012847250841059"
      ]
     },
     "execution_count": 42,
     "metadata": {},
     "output_type": "execute_result"
    }
   ],
   "source": [
    "#roc?\n",
    "from sklearn.metrics import roc_auc_score\n",
    "roc_auc_score(labels_valid.iloc[:,0], logreg_predictions1)"
   ]
  },
  {
   "cell_type": "code",
   "execution_count": 44,
   "metadata": {},
   "outputs": [
    {
     "data": {
      "text/plain": [
       "array([[22685, 22628],\n",
       "       [ 7315,  7372]], dtype=int64)"
      ]
     },
     "execution_count": 44,
     "metadata": {},
     "output_type": "execute_result"
    }
   ],
   "source": [
    "from sklearn.metrics import confusion_matrix\n",
    "confusion_matrix(labels_valid.iloc[:,0], logreg_predictions1)"
   ]
  },
  {
   "cell_type": "markdown",
   "metadata": {},
   "source": [
    "###  Do not balance the target "
   ]
  },
  {
   "cell_type": "code",
   "execution_count": 43,
   "metadata": {},
   "outputs": [
    {
     "name": "stderr",
     "output_type": "stream",
     "text": [
      "C:\\Users\\Lu\\Anaconda3\\lib\\site-packages\\sklearn\\linear_model\\logistic.py:432: FutureWarning: Default solver will be changed to 'lbfgs' in 0.22. Specify a solver to silence this warning.\n",
      "  FutureWarning)\n"
     ]
    },
    {
     "data": {
      "text/plain": [
       "0.24383333333333335"
      ]
     },
     "execution_count": 43,
     "metadata": {},
     "output_type": "execute_result"
    }
   ],
   "source": [
    "log_reg.fit(scaled_train, labels.iloc[:,0]) #use target1\n",
    "logreg_predictions1_s = log_reg.predict(scaled_valid)\n",
    "precision_score(labels_valid.iloc[:,0], logreg_predictions1_s)\n"
   ]
  },
  {
   "cell_type": "markdown",
   "metadata": {},
   "source": [
    "## LR-target2\n"
   ]
  },
  {
   "cell_type": "code",
   "execution_count": 39,
   "metadata": {},
   "outputs": [
    {
     "name": "stderr",
     "output_type": "stream",
     "text": [
      "C:\\Users\\Lu\\Anaconda3\\lib\\site-packages\\sklearn\\linear_model\\logistic.py:432: FutureWarning: Default solver will be changed to 'lbfgs' in 0.22. Specify a solver to silence this warning.\n",
      "  FutureWarning)\n"
     ]
    },
    {
     "data": {
      "text/plain": [
       "0.2594666666666667"
      ]
     },
     "execution_count": 39,
     "metadata": {},
     "output_type": "execute_result"
    }
   ],
   "source": [
    "log_reg.fit(scaled_train, labels.iloc[:,1], sample_weight=compute_sample_weight(class_weight='balanced',y=labels.iloc[:,0])) #use target1\n",
    "logreg_predictions2 = log_reg.predict(scaled_valid)\n",
    "log_preci_tar2 = precision_score(labels_valid.iloc[:,1], logreg_predictions2)\n",
    "log_preci_tar2"
   ]
  },
  {
   "cell_type": "markdown",
   "metadata": {},
   "source": [
    "# Decision Tree"
   ]
  },
  {
   "cell_type": "code",
   "execution_count": 74,
   "metadata": {},
   "outputs": [
    {
     "data": {
      "text/plain": [
       "DecisionTreeClassifier(class_weight=None, criterion='gini', max_depth=3,\n",
       "                       max_features=None, max_leaf_nodes=None,\n",
       "                       min_impurity_decrease=0.0, min_impurity_split=None,\n",
       "                       min_samples_leaf=1, min_samples_split=2,\n",
       "                       min_weight_fraction_leaf=0.0, presort=False,\n",
       "                       random_state=None, splitter='best')"
      ]
     },
     "execution_count": 74,
     "metadata": {},
     "output_type": "execute_result"
    }
   ],
   "source": [
    "from sklearn.tree import DecisionTreeClassifier\n",
    "tree_reg1 = DecisionTreeClassifier(max_depth=3)\n",
    "tree_reg1.fit(scaled_train, labels.iloc[:,0], sample_weight=sample_weight)"
   ]
  },
  {
   "cell_type": "code",
   "execution_count": 76,
   "metadata": {},
   "outputs": [
    {
     "data": {
      "text/plain": [
       "0.44101085015794533"
      ]
     },
     "execution_count": 76,
     "metadata": {},
     "output_type": "execute_result"
    }
   ],
   "source": [
    "treepredic1= tree_reg1.predict(scaled_valid)\n",
    "precision_score(labels_valid.iloc[:,0], treepredic1)"
   ]
  },
  {
   "cell_type": "code",
   "execution_count": 78,
   "metadata": {},
   "outputs": [
    {
     "data": {
      "text/plain": [
       "0.4429860919222621"
      ]
     },
     "execution_count": 78,
     "metadata": {},
     "output_type": "execute_result"
    }
   ],
   "source": [
    "tree_2 = DecisionTreeClassifier(max_depth=6)\n",
    "tree_2.fit(scaled_train, labels.iloc[:,0], sample_weight=sample_weight)\n",
    "treepredic2= tree_2.predict(scaled_valid)\n",
    "precision_score(labels_valid.iloc[:,0], treepredic2) #slightly better than max_depth=3"
   ]
  },
  {
   "cell_type": "markdown",
   "metadata": {},
   "source": [
    "# KNN"
   ]
  },
  {
   "cell_type": "code",
   "execution_count": 30,
   "metadata": {},
   "outputs": [],
   "source": [
    "from sklearn.neighbors import KNeighborsClassifier\n",
    "from sklearn.model_selection import cross_val_score\n",
    "import matplotlib.pyplot as plt\n",
    "%matplotlib inline"
   ]
  },
  {
   "cell_type": "code",
   "execution_count": 31,
   "metadata": {},
   "outputs": [
    {
     "ename": "TypeError",
     "evalue": "predict() takes 2 positional arguments but 3 were given",
     "output_type": "error",
     "traceback": [
      "\u001b[1;31m---------------------------------------------------------------------------\u001b[0m",
      "\u001b[1;31mTypeError\u001b[0m                                 Traceback (most recent call last)",
      "\u001b[1;32m<ipython-input-31-616883bcba29>\u001b[0m in \u001b[0;36m<module>\u001b[1;34m\u001b[0m\n\u001b[0;32m      6\u001b[0m \u001b[1;33m\u001b[0m\u001b[0m\n\u001b[0;32m      7\u001b[0m \u001b[1;31m# predict the response for new observations\u001b[0m\u001b[1;33m\u001b[0m\u001b[1;33m\u001b[0m\u001b[1;33m\u001b[0m\u001b[0m\n\u001b[1;32m----> 8\u001b[1;33m \u001b[0mkn_model_predict\u001b[0m\u001b[1;33m=\u001b[0m\u001b[0mknn\u001b[0m\u001b[1;33m.\u001b[0m\u001b[0mpredict\u001b[0m\u001b[1;33m(\u001b[0m\u001b[0mscaled_valid\u001b[0m\u001b[1;33m,\u001b[0m \u001b[0mtarget1\u001b[0m\u001b[1;33m)\u001b[0m\u001b[1;33m\u001b[0m\u001b[1;33m\u001b[0m\u001b[0m\n\u001b[0m",
      "\u001b[1;31mTypeError\u001b[0m: predict() takes 2 positional arguments but 3 were given"
     ]
    }
   ],
   "source": [
    "knn = KNeighborsClassifier(n_neighbors=2)\n",
    "\n",
    "\n",
    "# fit the model with data\n",
    "kn_model=knn.fit(scaled_train, target1)\n",
    "\n",
    "# predict the response for new observations\n",
    "kn_model_predict=knn.predict(scaled_valid, target1)"
   ]
  },
  {
   "cell_type": "markdown",
   "metadata": {},
   "source": [
    "# XGboost \n",
    "https://xgboost.readthedocs.io/en/latest/tutorials/index.html"
   ]
  },
  {
   "cell_type": "code",
   "execution_count": 26,
   "metadata": {},
   "outputs": [],
   "source": [
    "#conda install -c anaconda py-xgboost\n",
    "import xgboost as xgb"
   ]
  },
  {
   "cell_type": "markdown",
   "metadata": {},
   "source": [
    "## target 1:plot log_loss on the base model "
   ]
  },
  {
   "cell_type": "code",
   "execution_count": 57,
   "metadata": {
    "scrolled": true
   },
   "outputs": [
    {
     "name": "stdout",
     "output_type": "stream",
     "text": [
      "[0]\tvalidation_0-error:0.298777\tvalidation_0-logloss:0.668828\tvalidation_1-error:0.287733\tvalidation_1-logloss:0.669265\n",
      "Multiple eval metrics have been passed: 'validation_1-logloss' will be used for early stopping.\n",
      "\n",
      "Will train until validation_1-logloss hasn't improved in 5 rounds.\n",
      "[1]\tvalidation_0-error:0.310634\tvalidation_0-logloss:0.648402\tvalidation_1-error:0.290483\tvalidation_1-logloss:0.649488\n",
      "[2]\tvalidation_0-error:0.299469\tvalidation_0-logloss:0.632873\tvalidation_1-error:0.285983\tvalidation_1-logloss:0.634762\n",
      "[3]\tvalidation_0-error:0.291446\tvalidation_0-logloss:0.618749\tvalidation_1-error:0.2783\tvalidation_1-logloss:0.618822\n",
      "[4]\tvalidation_0-error:0.28418\tvalidation_0-logloss:0.60613\tvalidation_1-error:0.278\tvalidation_1-logloss:0.604596\n",
      "[5]\tvalidation_0-error:0.281686\tvalidation_0-logloss:0.59629\tvalidation_1-error:0.27415\tvalidation_1-logloss:0.595676\n",
      "[6]\tvalidation_0-error:0.28341\tvalidation_0-logloss:0.587146\tvalidation_1-error:0.274067\tvalidation_1-logloss:0.588169\n",
      "[7]\tvalidation_0-error:0.283078\tvalidation_0-logloss:0.579733\tvalidation_1-error:0.275233\tvalidation_1-logloss:0.579931\n",
      "[8]\tvalidation_0-error:0.288494\tvalidation_0-logloss:0.572694\tvalidation_1-error:0.278\tvalidation_1-logloss:0.57431\n",
      "[9]\tvalidation_0-error:0.29364\tvalidation_0-logloss:0.566658\tvalidation_1-error:0.283183\tvalidation_1-logloss:0.567467\n",
      "[10]\tvalidation_0-error:0.293505\tvalidation_0-logloss:0.561434\tvalidation_1-error:0.285467\tvalidation_1-logloss:0.562092\n",
      "[11]\tvalidation_0-error:0.28619\tvalidation_0-logloss:0.556519\tvalidation_1-error:0.276583\tvalidation_1-logloss:0.556743\n",
      "[12]\tvalidation_0-error:0.282564\tvalidation_0-logloss:0.552554\tvalidation_1-error:0.27515\tvalidation_1-logloss:0.557557\n",
      "[13]\tvalidation_0-error:0.278554\tvalidation_0-logloss:0.548499\tvalidation_1-error:0.272867\tvalidation_1-logloss:0.554639\n",
      "[14]\tvalidation_0-error:0.279146\tvalidation_0-logloss:0.545215\tvalidation_1-error:0.27625\tvalidation_1-logloss:0.550213\n",
      "[15]\tvalidation_0-error:0.278945\tvalidation_0-logloss:0.542337\tvalidation_1-error:0.275\tvalidation_1-logloss:0.547219\n",
      "[16]\tvalidation_0-error:0.281259\tvalidation_0-logloss:0.53987\tvalidation_1-error:0.273883\tvalidation_1-logloss:0.543984\n",
      "[17]\tvalidation_0-error:0.278924\tvalidation_0-logloss:0.53763\tvalidation_1-error:0.273633\tvalidation_1-logloss:0.542139\n",
      "[18]\tvalidation_0-error:0.278023\tvalidation_0-logloss:0.535219\tvalidation_1-error:0.271667\tvalidation_1-logloss:0.540791\n",
      "[19]\tvalidation_0-error:0.277916\tvalidation_0-logloss:0.533451\tvalidation_1-error:0.27215\tvalidation_1-logloss:0.538072\n",
      "[20]\tvalidation_0-error:0.277027\tvalidation_0-logloss:0.531512\tvalidation_1-error:0.271133\tvalidation_1-logloss:0.536382\n",
      "[21]\tvalidation_0-error:0.276434\tvalidation_0-logloss:0.529872\tvalidation_1-error:0.27175\tvalidation_1-logloss:0.534913\n",
      "[22]\tvalidation_0-error:0.276059\tvalidation_0-logloss:0.528183\tvalidation_1-error:0.2721\tvalidation_1-logloss:0.533958\n",
      "[23]\tvalidation_0-error:0.275581\tvalidation_0-logloss:0.526694\tvalidation_1-error:0.271183\tvalidation_1-logloss:0.533103\n",
      "[24]\tvalidation_0-error:0.275502\tvalidation_0-logloss:0.525328\tvalidation_1-error:0.2716\tvalidation_1-logloss:0.532395\n",
      "[25]\tvalidation_0-error:0.274414\tvalidation_0-logloss:0.524032\tvalidation_1-error:0.271433\tvalidation_1-logloss:0.532044\n",
      "[26]\tvalidation_0-error:0.274624\tvalidation_0-logloss:0.523031\tvalidation_1-error:0.272367\tvalidation_1-logloss:0.532094\n",
      "[27]\tvalidation_0-error:0.274535\tvalidation_0-logloss:0.522038\tvalidation_1-error:0.273017\tvalidation_1-logloss:0.531351\n",
      "[28]\tvalidation_0-error:0.274547\tvalidation_0-logloss:0.521113\tvalidation_1-error:0.274367\tvalidation_1-logloss:0.531718\n",
      "[29]\tvalidation_0-error:0.273751\tvalidation_0-logloss:0.519997\tvalidation_1-error:0.275433\tvalidation_1-logloss:0.531225\n",
      "[30]\tvalidation_0-error:0.273642\tvalidation_0-logloss:0.519286\tvalidation_1-error:0.27435\tvalidation_1-logloss:0.530976\n",
      "[31]\tvalidation_0-error:0.273157\tvalidation_0-logloss:0.518344\tvalidation_1-error:0.27445\tvalidation_1-logloss:0.530194\n",
      "[32]\tvalidation_0-error:0.272513\tvalidation_0-logloss:0.517334\tvalidation_1-error:0.273783\tvalidation_1-logloss:0.529805\n",
      "[33]\tvalidation_0-error:0.272316\tvalidation_0-logloss:0.516571\tvalidation_1-error:0.274367\tvalidation_1-logloss:0.530075\n",
      "[34]\tvalidation_0-error:0.272544\tvalidation_0-logloss:0.515853\tvalidation_1-error:0.2755\tvalidation_1-logloss:0.530473\n",
      "[35]\tvalidation_0-error:0.272336\tvalidation_0-logloss:0.515207\tvalidation_1-error:0.2754\tvalidation_1-logloss:0.530339\n",
      "[36]\tvalidation_0-error:0.271719\tvalidation_0-logloss:0.51459\tvalidation_1-error:0.27565\tvalidation_1-logloss:0.530438\n",
      "[37]\tvalidation_0-error:0.271655\tvalidation_0-logloss:0.51395\tvalidation_1-error:0.274433\tvalidation_1-logloss:0.530513\n",
      "Stopping. Best iteration:\n",
      "[32]\tvalidation_0-error:0.272513\tvalidation_0-logloss:0.517334\tvalidation_1-error:0.273783\tvalidation_1-logloss:0.529805\n",
      "\n"
     ]
    }
   ],
   "source": [
    "model1 = xgb.XGBClassifier()\n",
    "eval_set = [(scaled_train,target1), (scaled_valid, valid_target1)]\n",
    "train_model3=model1.fit(scaled_train, target1,sample_weight=sample_weight, early_stopping_rounds=5, eval_metric=[\"error\", \"logloss\"], eval_set=eval_set, verbose=True)\n",
    "results =model1.evals_result()  #retrieve model details for plots"
   ]
  },
  {
   "cell_type": "code",
   "execution_count": 59,
   "metadata": {},
   "outputs": [
    {
     "data": {
      "image/png": "[encoded data removed]",
      "text/plain": [
       "<Figure size 432x288 with 1 Axes>"
      ]
     },
     "metadata": {
      "needs_background": "light"
     },
     "output_type": "display_data"
    },
    {
     "data": {
      "image/png": "[encoded data removed]",
      "text/plain": [
       "<Figure size 432x288 with 1 Axes>"
      ]
     },
     "metadata": {
      "needs_background": "light"
     },
     "output_type": "display_data"
    }
   ],
   "source": [
    "# retrieve performance metrics\n",
    "\n",
    "epochs = len(results['validation_0']['error'])\n",
    "x_axis = range(0, epochs)\n",
    "# plot log loss\n",
    "fig, ax = pyplot.subplots()\n",
    "ax.plot(x_axis, results['validation_0']['logloss'], label='Train')\n",
    "ax.plot(x_axis, results['validation_1']['logloss'], label='Valid')\n",
    "ax.legend()\n",
    "pyplot.ylabel('Log Loss')\n",
    "pyplot.title('XGBoost Log Loss')\n",
    "pyplot.show()\n",
    "# plot classification error\n",
    "fig, ax = pyplot.subplots()\n",
    "ax.plot(x_axis, results['validation_0']['error'], label='Train')\n",
    "ax.plot(x_axis, results['validation_1']['error'], label='Valid')\n",
    "ax.legend()\n",
    "pyplot.ylabel('Classification Error')\n",
    "pyplot.title('XGBoost Classification Error')\n",
    "pyplot.show()\n",
    "\n",
    "\n",
    "\n",
    "# it looks like there is an opportunity to stop the learning early, perhaps somewhere around epoch 25.\n",
    "# a similar story for classification error, where error appears to go back up at around epoch 25."
   ]
  },
  {
   "cell_type": "code",
   "execution_count": 60,
   "metadata": {},
   "outputs": [
    {
     "data": {
      "text/plain": [
       "0.460793150067598"
      ]
     },
     "execution_count": 60,
     "metadata": {},
     "output_type": "execute_result"
    }
   ],
   "source": [
    "#precision\n",
    "m1_predict=model1.predict(scaled_valid)\n",
    "precision_score(labels_valid.iloc[:,0], m1_predict) #huge improvement "
   ]
  },
  {
   "cell_type": "code",
   "execution_count": 61,
   "metadata": {
    "scrolled": true
   },
   "outputs": [
    {
     "data": {
      "text/plain": [
       "array([[33348, 11965],\n",
       "       [ 4462, 10225]], dtype=int64)"
      ]
     },
     "execution_count": 61,
     "metadata": {},
     "output_type": "execute_result"
    }
   ],
   "source": [
    "#confusion matrix\n",
    "confusion_matrix(valid_target1, m1_predict)"
   ]
  },
  {
   "cell_type": "markdown",
   "metadata": {},
   "source": [
    "## param tuning"
   ]
  },
  {
   "cell_type": "code",
   "execution_count": 64,
   "metadata": {},
   "outputs": [],
   "source": [
    "\n",
    "model2 = xgb.XGBClassifier(\n",
    "                      scale_pos_weight=1,\n",
    "                      learning_rate=0.01,  \n",
    "                      colsample_bytree = 0.4,\n",
    "                      subsample = 0.5,\n",
    "                      objective='binary:logistic', \n",
    "                      n_estimators=30, #get the number from above train_model3\n",
    "                      reg_alpha = 0.3,\n",
    "                      max_depth=4, \n",
    "                      gamma=10) #the larger the gamma the more conservative the model is"
   ]
  },
  {
   "cell_type": "code",
   "execution_count": 66,
   "metadata": {
    "scrolled": true
   },
   "outputs": [
    {
     "name": "stdout",
     "output_type": "stream",
     "text": [
      "[0]\tvalidation_0-error:0.314966\tvalidation_0-logloss:0.689892\tvalidation_1-error:0.305833\tvalidation_1-logloss:0.690582\n",
      "Multiple eval metrics have been passed: 'validation_1-logloss' will be used for early stopping.\n",
      "\n",
      "Will train until validation_1-logloss hasn't improved in 5 rounds.\n",
      "[1]\tvalidation_0-error:0.294236\tvalidation_0-logloss:0.6883\tvalidation_1-error:0.287083\tvalidation_1-logloss:0.687972\n",
      "[2]\tvalidation_0-error:0.289606\tvalidation_0-logloss:0.685749\tvalidation_1-error:0.292267\tvalidation_1-logloss:0.685403\n",
      "[3]\tvalidation_0-error:0.29018\tvalidation_0-logloss:0.682837\tvalidation_1-error:0.299117\tvalidation_1-logloss:0.683198\n",
      "[4]\tvalidation_0-error:0.285525\tvalidation_0-logloss:0.680678\tvalidation_1-error:0.292667\tvalidation_1-logloss:0.680717\n",
      "[5]\tvalidation_0-error:0.287128\tvalidation_0-logloss:0.678599\tvalidation_1-error:0.293833\tvalidation_1-logloss:0.678593\n",
      "[6]\tvalidation_0-error:0.287161\tvalidation_0-logloss:0.675899\tvalidation_1-error:0.293067\tvalidation_1-logloss:0.676018\n",
      "[7]\tvalidation_0-error:0.288415\tvalidation_0-logloss:0.673308\tvalidation_1-error:0.293883\tvalidation_1-logloss:0.673369\n",
      "[8]\tvalidation_0-error:0.290344\tvalidation_0-logloss:0.67093\tvalidation_1-error:0.2945\tvalidation_1-logloss:0.670657\n",
      "[9]\tvalidation_0-error:0.290768\tvalidation_0-logloss:0.668929\tvalidation_1-error:0.291833\tvalidation_1-logloss:0.668116\n",
      "[10]\tvalidation_0-error:0.294624\tvalidation_0-logloss:0.66666\tvalidation_1-error:0.2938\tvalidation_1-logloss:0.66607\n",
      "[11]\tvalidation_0-error:0.295396\tvalidation_0-logloss:0.664292\tvalidation_1-error:0.29215\tvalidation_1-logloss:0.663984\n",
      "[12]\tvalidation_0-error:0.294147\tvalidation_0-logloss:0.661873\tvalidation_1-error:0.290833\tvalidation_1-logloss:0.661727\n",
      "[13]\tvalidation_0-error:0.290874\tvalidation_0-logloss:0.659999\tvalidation_1-error:0.290767\tvalidation_1-logloss:0.65985\n",
      "[14]\tvalidation_0-error:0.289681\tvalidation_0-logloss:0.657744\tvalidation_1-error:0.2902\tvalidation_1-logloss:0.657288\n",
      "[15]\tvalidation_0-error:0.289718\tvalidation_0-logloss:0.656021\tvalidation_1-error:0.291683\tvalidation_1-logloss:0.655459\n",
      "[16]\tvalidation_0-error:0.289846\tvalidation_0-logloss:0.65393\tvalidation_1-error:0.290867\tvalidation_1-logloss:0.653474\n",
      "[17]\tvalidation_0-error:0.28948\tvalidation_0-logloss:0.651758\tvalidation_1-error:0.291367\tvalidation_1-logloss:0.651519\n",
      "[18]\tvalidation_0-error:0.288369\tvalidation_0-logloss:0.650008\tvalidation_1-error:0.290883\tvalidation_1-logloss:0.649378\n",
      "[19]\tvalidation_0-error:0.289548\tvalidation_0-logloss:0.648035\tvalidation_1-error:0.2915\tvalidation_1-logloss:0.647754\n",
      "[20]\tvalidation_0-error:0.288734\tvalidation_0-logloss:0.645915\tvalidation_1-error:0.290383\tvalidation_1-logloss:0.645719\n",
      "[21]\tvalidation_0-error:0.288291\tvalidation_0-logloss:0.643972\tvalidation_1-error:0.2902\tvalidation_1-logloss:0.643613\n",
      "[22]\tvalidation_0-error:0.288347\tvalidation_0-logloss:0.641987\tvalidation_1-error:0.288183\tvalidation_1-logloss:0.641513\n",
      "[23]\tvalidation_0-error:0.288398\tvalidation_0-logloss:0.640347\tvalidation_1-error:0.289033\tvalidation_1-logloss:0.639633\n",
      "[24]\tvalidation_0-error:0.287124\tvalidation_0-logloss:0.63868\tvalidation_1-error:0.2888\tvalidation_1-logloss:0.637795\n",
      "[25]\tvalidation_0-error:0.287288\tvalidation_0-logloss:0.636815\tvalidation_1-error:0.28845\tvalidation_1-logloss:0.635748\n",
      "[26]\tvalidation_0-error:0.28713\tvalidation_0-logloss:0.635355\tvalidation_1-error:0.28905\tvalidation_1-logloss:0.634242\n",
      "[27]\tvalidation_0-error:0.285883\tvalidation_0-logloss:0.633403\tvalidation_1-error:0.287817\tvalidation_1-logloss:0.632231\n",
      "[28]\tvalidation_0-error:0.286855\tvalidation_0-logloss:0.631718\tvalidation_1-error:0.2872\tvalidation_1-logloss:0.630275\n",
      "[29]\tvalidation_0-error:0.286273\tvalidation_0-logloss:0.630122\tvalidation_1-error:0.287\tvalidation_1-logloss:0.628303\n"
     ]
    }
   ],
   "source": [
    "m2=model2.fit(scaled_train, target1,sample_weight=sample_weight, early_stopping_rounds=5, eval_metric=[\"error\", \"logloss\"], \n",
    "              eval_set=eval_set, verbose=True)"
   ]
  },
  {
   "cell_type": "code",
   "execution_count": 67,
   "metadata": {},
   "outputs": [
    {
     "data": {
      "text/plain": [
       "0.4446193537102628"
      ]
     },
     "execution_count": 67,
     "metadata": {},
     "output_type": "execute_result"
    }
   ],
   "source": [
    "#precision\n",
    "m2_predict=model2.predict(scaled_valid)\n",
    "precision_score(valid_target1, m2_predict) #Not as good as m1"
   ]
  },
  {
   "cell_type": "markdown",
   "metadata": {},
   "source": [
    "### GridSearch"
   ]
  },
  {
   "cell_type": "code",
   "execution_count": 39,
   "metadata": {},
   "outputs": [],
   "source": [
    "import warnings\n",
    "warnings.filterwarnings('ignore')\n",
    "import numpy as np\n",
    "import pandas as pd\n",
    "from datetime import datetime\n",
    "from sklearn.model_selection import RandomizedSearchCV, GridSearchCV\n",
    "from sklearn.metrics import roc_auc_score\n",
    "from sklearn.model_selection import StratifiedKFold\n",
    "from xgboost import XGBClassifier"
   ]
  },
  {
   "cell_type": "code",
   "execution_count": 35,
   "metadata": {},
   "outputs": [],
   "source": [
    "def timer(start_time=None):\n",
    "    if not start_time:\n",
    "        start_time = datetime.now()\n",
    "        return start_time\n",
    "    elif start_time:\n",
    "        thour, temp_sec = divmod((datetime.now() - start_time).total_seconds(), 3600)\n",
    "        tmin, tsec = divmod(temp_sec, 60)\n",
    "        print('\\n Time taken: %i hours %i minutes and %s seconds.' % (thour, tmin, round(tsec, 2)))"
   ]
  },
  {
   "cell_type": "code",
   "execution_count": 37,
   "metadata": {},
   "outputs": [],
   "source": [
    "from sklearn.model_selection import GridSearchCV\n",
    "\n",
    "params = {\n",
    "        'min_child_weight': [1, 5, 10],\n",
    "        'gamma': [0.5, 1, 1.5, 2, 5],\n",
    "        'subsample': [0.6, 0.8],\n",
    "        'colsample_bytree': [0.6, 0.8],\n",
    "        'max_depth': [ 4, 5,6]\n",
    "        }\n",
    "\n",
    "xgb_gs = xgb.XGBClassifier(learning_rate=0.02, n_estimators=600, objective='binary:logistic',\n",
    "                    silent=True, nthread=1)\n"
   ]
  },
  {
   "cell_type": "code",
   "execution_count": null,
   "metadata": {},
   "outputs": [
    {
     "name": "stdout",
     "output_type": "stream",
     "text": [
      "Fitting 5 folds for each of 5 candidates, totalling 25 fits\n"
     ]
    },
    {
     "name": "stderr",
     "output_type": "stream",
     "text": [
      "[Parallel(n_jobs=4)]: Using backend LokyBackend with 4 concurrent workers.\n"
     ]
    }
   ],
   "source": [
    "folds = 5\n",
    "param_comb = 5\n",
    "\n",
    "skf = StratifiedKFold(n_splits=folds, shuffle = True, random_state = 42)\n",
    "\n",
    "random_search = RandomizedSearchCV(xgb_gs, param_distributions=params, n_iter=param_comb, scoring='precision', n_jobs=4, cv=skf.split(scaled_train, target1), verbose=3, random_state=1001 )\n",
    "\n",
    "# Here we go\n",
    "start_time = timer(None) # timing starts from this point for \"start_time\" variable\n",
    "random_search.fit(scaled_train, target1)\n",
    "timer(start_time) # timing ends here for \"start_time\" variable"
   ]
  },
  {
   "cell_type": "markdown",
   "metadata": {},
   "source": [
    "## Cross validation"
   ]
  },
  {
   "cell_type": "code",
   "execution_count": null,
   "metadata": {},
   "outputs": [],
   "source": [
    "#scale the original dataset\n",
    "scaler =  RobustScaler() #scale to ensure models are properly trained. \n",
    "scaled_train = scaler.fit_transform(train)"
   ]
  },
  {
   "cell_type": "code",
   "execution_count": 13,
   "metadata": {},
   "outputs": [
    {
     "name": "stderr",
     "output_type": "stream",
     "text": [
      "C:\\ProgramData\\Anaconda3\\lib\\site-packages\\xgboost\\core.py:587: FutureWarning: Series.base is deprecated and will be removed in a future version\n",
      "  if getattr(data, 'base', None) is not None and \\\n",
      "C:\\ProgramData\\Anaconda3\\lib\\site-packages\\xgboost\\core.py:588: FutureWarning: Series.base is deprecated and will be removed in a future version\n",
      "  data.base is not None and isinstance(data, np.ndarray) \\\n"
     ]
    }
   ],
   "source": [
    "# data_dmatrix = xgb.DMatrix(data=train,label=target1) #on non-scaled data\n",
    "# params = {\"objective\":'binary:logistic','colsample_bytree': 0.3,'learning_rate': 0.1,\n",
    "#                 'max_depth': 6, 'alpha': 10}\n",
    "\n",
    "# cv_results = xgb.cv(dtrain=data_dmatrix, params=params, nfold=3,\n",
    "#                     num_boost_round=50,early_stopping_rounds=10,metrics=\"auc\", as_pandas=True, seed=123)"
   ]
  },
  {
   "cell_type": "code",
   "execution_count": 32,
   "metadata": {
    "scrolled": true
   },
   "outputs": [
    {
     "data": {
      "text/plain": [
       "0.8620574466666665"
      ]
     },
     "execution_count": 32,
     "metadata": {},
     "output_type": "execute_result"
    }
   ],
   "source": [
    "cv_results['test-auc-mean'].mean()"
   ]
  },
  {
   "cell_type": "code",
   "execution_count": 27,
   "metadata": {},
   "outputs": [
    {
     "name": "stdout",
     "output_type": "stream",
     "text": [
      "[0]\tvalidation_0-error:0.155464\tvalidation_1-error:0.289767\n",
      "Multiple eval metrics have been passed: 'validation_1-error' will be used for early stopping.\n",
      "\n",
      "Will train until validation_1-error hasn't improved in 5 rounds.\n",
      "[1]\tvalidation_0-error:0.152709\tvalidation_1-error:0.278033\n",
      "[2]\tvalidation_0-error:0.147306\tvalidation_1-error:0.22395\n",
      "[3]\tvalidation_0-error:0.147306\tvalidation_1-error:0.22395\n",
      "[4]\tvalidation_0-error:0.147306\tvalidation_1-error:0.22395\n",
      "[5]\tvalidation_0-error:0.147306\tvalidation_1-error:0.22395\n",
      "[6]\tvalidation_0-error:0.147275\tvalidation_1-error:0.223533\n",
      "[7]\tvalidation_0-error:0.147043\tvalidation_1-error:0.223533\n",
      "[8]\tvalidation_0-error:0.147043\tvalidation_1-error:0.223533\n",
      "[9]\tvalidation_0-error:0.146995\tvalidation_1-error:0.223333\n",
      "[10]\tvalidation_0-error:0.147241\tvalidation_1-error:0.2232\n",
      "[11]\tvalidation_0-error:0.147165\tvalidation_1-error:0.2232\n",
      "[12]\tvalidation_0-error:0.147154\tvalidation_1-error:0.222633\n",
      "[13]\tvalidation_0-error:0.146997\tvalidation_1-error:0.223083\n",
      "[14]\tvalidation_0-error:0.147055\tvalidation_1-error:0.222933\n",
      "[15]\tvalidation_0-error:0.147074\tvalidation_1-error:0.2232\n",
      "[16]\tvalidation_0-error:0.147074\tvalidation_1-error:0.2232\n",
      "[17]\tvalidation_0-error:0.147096\tvalidation_1-error:0.22295\n",
      "Stopping. Best iteration:\n",
      "[12]\tvalidation_0-error:0.147154\tvalidation_1-error:0.222633\n",
      "\n"
     ]
    },
    {
     "data": {
      "text/plain": [
       "XGBClassifier(base_score=0.5, booster='gbtree', colsample_bylevel=1,\n",
       "              colsample_bynode=1, colsample_bytree=1, gamma=0,\n",
       "              learning_rate=0.1, max_delta_step=0, max_depth=3,\n",
       "              min_child_weight=1, missing=None, n_estimators=100, n_jobs=1,\n",
       "              nthread=None, objective='binary:logistic', random_state=0,\n",
       "              reg_alpha=0, reg_lambda=1, scale_pos_weight=1, seed=None,\n",
       "              silent=None, subsample=1, verbosity=1)"
      ]
     },
     "execution_count": 27,
     "metadata": {},
     "output_type": "execute_result"
    }
   ],
   "source": [
    "model_ns = xgb.XGBClassifier()\n",
    "eval_set_ns = [(train,target1), (valid, valid_target1)]\n",
    "model_ns.fit(train,target1, early_stopping_rounds=5, eval_set=eval_set_ns, verbose=True)\n"
   ]
  },
  {
   "cell_type": "code",
   "execution_count": 21,
   "metadata": {},
   "outputs": [
    {
     "data": {
      "text/plain": [
       "0.5676335877862595"
      ]
     },
     "execution_count": 21,
     "metadata": {},
     "output_type": "execute_result"
    }
   ],
   "source": [
    "from sklearn.metrics import precision_score\n",
    "xgb_predict= model_ns.predict(valid)\n",
    "precision_score(valid_target1, xgb_predict) #Best so far\n"
   ]
  },
  {
   "cell_type": "markdown",
   "metadata": {},
   "source": [
    "## CV"
   ]
  },
  {
   "cell_type": "code",
   "execution_count": 34,
   "metadata": {},
   "outputs": [
    {
     "name": "stdout",
     "output_type": "stream",
     "text": [
      "average_precision: 51.07% (0.44%)\n"
     ]
    }
   ],
   "source": [
    "from sklearn.model_selection import KFold\n",
    "from sklearn.model_selection import cross_val_score\n",
    "\n",
    "# CV model\n",
    "model_ns = xgb.XGBClassifier()\n",
    "kfold = KFold(n_splits=10, random_state=7)\n",
    "results = cross_val_score(model_ns, train, target1,  scoring='average_precision', cv=kfold) # on the entire dataset\n",
    "print(\"average_precision: %.2f%% (%.2f%%)\" % (results.mean()*100, results.std()*100))"
   ]
  },
  {
   "cell_type": "code",
   "execution_count": 31,
   "metadata": {},
   "outputs": [
    {
     "data": {
      "text/plain": [
       "0.5676335877862595"
      ]
     },
     "execution_count": 31,
     "metadata": {},
     "output_type": "execute_result"
    }
   ],
   "source": [
    "ns_predict= model_ns.predict(valid)\n",
    "precision_score(valid_target1, ns_predict) #pretty much the same"
   ]
  },
  {
   "cell_type": "code",
   "execution_count": 22,
   "metadata": {},
   "outputs": [],
   "source": [
    "#replicate on scaled data"
   ]
  },
  {
   "cell_type": "code",
   "execution_count": 30,
   "metadata": {},
   "outputs": [
    {
     "name": "stdout",
     "output_type": "stream",
     "text": [
      "[0]\tvalidation_0-error:0.355544\tvalidation_1-error:0.320367\n",
      "Multiple eval metrics have been passed: 'validation_1-error' will be used for early stopping.\n",
      "\n",
      "Will train until validation_1-error hasn't improved in 5 rounds.\n",
      "[1]\tvalidation_0-error:0.353106\tvalidation_1-error:0.319317\n",
      "[2]\tvalidation_0-error:0.353106\tvalidation_1-error:0.319317\n",
      "[3]\tvalidation_0-error:0.353106\tvalidation_1-error:0.319317\n",
      "[4]\tvalidation_0-error:0.353106\tvalidation_1-error:0.319317\n",
      "[5]\tvalidation_0-error:0.353106\tvalidation_1-error:0.319317\n",
      "[6]\tvalidation_0-error:0.156297\tvalidation_1-error:0.244783\n",
      "[7]\tvalidation_0-error:0.239158\tvalidation_1-error:0.27025\n",
      "[8]\tvalidation_0-error:0.156297\tvalidation_1-error:0.244783\n",
      "[9]\tvalidation_0-error:0.229939\tvalidation_1-error:0.27025\n",
      "[10]\tvalidation_0-error:0.226689\tvalidation_1-error:0.27025\n",
      "[11]\tvalidation_0-error:0.226689\tvalidation_1-error:0.27025\n",
      "Stopping. Best iteration:\n",
      "[6]\tvalidation_0-error:0.156297\tvalidation_1-error:0.244783\n",
      "\n"
     ]
    },
    {
     "data": {
      "text/plain": [
       "XGBClassifier(base_score=0.5, booster='gbtree', colsample_bylevel=1,\n",
       "              colsample_bynode=1, colsample_bytree=1, gamma=0,\n",
       "              learning_rate=0.1, max_delta_step=0, max_depth=3,\n",
       "              min_child_weight=1, missing=None, n_estimators=100, n_jobs=1,\n",
       "              nthread=None, objective='binary:logistic', random_state=0,\n",
       "              reg_alpha=0, reg_lambda=1, scale_pos_weight=1, seed=None,\n",
       "              silent=None, subsample=1, verbosity=1)"
      ]
     },
     "execution_count": 30,
     "metadata": {},
     "output_type": "execute_result"
    }
   ],
   "source": [
    "model_sc = xgb.XGBClassifier()\n",
    "eval_set = [(scaled_train,target1), (scaled_valid, valid_target1)]\n",
    "model_sc.fit(train,target1, early_stopping_rounds=5, eval_set=eval_set, verbose=True)\n"
   ]
  },
  {
   "cell_type": "code",
   "execution_count": 28,
   "metadata": {},
   "outputs": [
    {
     "ename": "NameError",
     "evalue": "name 'model_sc' is not defined",
     "output_type": "error",
     "traceback": [
      "\u001b[1;31m---------------------------------------------------------------------------\u001b[0m",
      "\u001b[1;31mNameError\u001b[0m                                 Traceback (most recent call last)",
      "\u001b[1;32m<ipython-input-28-6a42eeadc20a>\u001b[0m in \u001b[0;36m<module>\u001b[1;34m\u001b[0m\n\u001b[1;32m----> 1\u001b[1;33m \u001b[0msc_predict\u001b[0m\u001b[1;33m=\u001b[0m \u001b[0mmodel_sc\u001b[0m\u001b[1;33m.\u001b[0m\u001b[0mpredict\u001b[0m\u001b[1;33m(\u001b[0m\u001b[0mvalid\u001b[0m\u001b[1;33m)\u001b[0m\u001b[1;33m\u001b[0m\u001b[1;33m\u001b[0m\u001b[0m\n\u001b[0m\u001b[0;32m      2\u001b[0m \u001b[0mprecision_score\u001b[0m\u001b[1;33m(\u001b[0m\u001b[0mvalid_target1\u001b[0m\u001b[1;33m,\u001b[0m \u001b[0msc_predict\u001b[0m\u001b[1;33m)\u001b[0m \u001b[1;31m#pretty much the same\u001b[0m\u001b[1;33m\u001b[0m\u001b[1;33m\u001b[0m\u001b[0m\n",
      "\u001b[1;31mNameError\u001b[0m: name 'model_sc' is not defined"
     ]
    }
   ],
   "source": [
    "sc_predict= model_sc.predict(valid)\n",
    "precision_score(valid_target1, sc_predict) #pretty much the same"
   ]
  },
  {
   "cell_type": "markdown",
   "metadata": {},
   "source": [
    "# Feature selection"
   ]
  },
  {
   "cell_type": "code",
   "execution_count": 18,
   "metadata": {},
   "outputs": [],
   "source": [
    "#variaables with low variance"
   ]
  },
  {
   "cell_type": "code",
   "execution_count": 19,
   "metadata": {},
   "outputs": [
    {
     "data": {
      "text/plain": [
       "(482697, 148)"
      ]
     },
     "execution_count": 19,
     "metadata": {},
     "output_type": "execute_result"
    }
   ],
   "source": [
    "train.shape"
   ]
  },
  {
   "cell_type": "code",
   "execution_count": 23,
   "metadata": {},
   "outputs": [],
   "source": [
    "#remove rows that are the same...\n",
    "from sklearn.feature_selection import VarianceThreshold\n",
    "selector = VarianceThreshold()\n",
    "X=selector.fit_transform(train)"
   ]
  },
  {
   "cell_type": "code",
   "execution_count": 24,
   "metadata": {},
   "outputs": [
    {
     "data": {
      "text/plain": [
       "482697"
      ]
     },
     "execution_count": 24,
     "metadata": {},
     "output_type": "execute_result"
    }
   ],
   "source": [
    "len(X) #didn't change anything ..."
   ]
  },
  {
   "cell_type": "code",
   "execution_count": 26,
   "metadata": {},
   "outputs": [],
   "source": [
    "#set threshold to 95%\n",
    "from sklearn.feature_selection import VarianceThreshold\n",
    "threshold_n=0.95\n",
    "sel = VarianceThreshold(threshold=(threshold_n* (1 - threshold_n) ))\n",
    "sel_var=sel.fit_transform(train)\n",
    "X=train[train.columns[sel.get_support(indices=True)]] "
   ]
  },
  {
   "cell_type": "code",
   "execution_count": 27,
   "metadata": {},
   "outputs": [
    {
     "data": {
      "text/plain": [
       "(482697, 113)"
      ]
     },
     "execution_count": 27,
     "metadata": {},
     "output_type": "execute_result"
    }
   ],
   "source": [
    "X.shape #reduced it to 113"
   ]
  }
 ],
 "metadata": {
  "kernelspec": {
   "display_name": "Python 3",
   "language": "python",
   "name": "python3"
  },
  "language_info": {
   "codemirror_mode": {
    "name": "ipython",
    "version": 3
   },
   "file_extension": ".py",
   "mimetype": "text/x-python",
   "name": "python",
   "nbconvert_exporter": "python",
   "pygments_lexer": "ipython3",
   "version": "3.7.3"
  },
  "toc": {
   "base_numbering": 1,
   "nav_menu": {},
   "number_sections": true,
   "sideBar": true,
   "skip_h1_title": false,
   "title_cell": "Table of Contents",
   "title_sidebar": "Contents",
   "toc_cell": false,
   "toc_position": {
    "height": "calc(100% - 180px)",
    "left": "10px",
    "top": "150px",
    "width": "165px"
   },
   "toc_section_display": true,
   "toc_window_display": true
  }
 },
 "nbformat": 4,
 "nbformat_minor": 2
}
